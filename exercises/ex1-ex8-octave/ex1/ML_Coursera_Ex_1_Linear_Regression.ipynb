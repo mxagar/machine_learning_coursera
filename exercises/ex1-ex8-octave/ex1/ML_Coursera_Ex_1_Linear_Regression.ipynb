{
 "cells": [
  {
   "cell_type": "markdown",
   "id": "1d039ece-71a3-403d-90c4-78e2028d5bfc",
   "metadata": {},
   "source": [
    "# Exercise 1: Linear Regression"
   ]
  },
  {
   "cell_type": "markdown",
   "id": "a7e19909-148d-423e-99ed-77a4fe698171",
   "metadata": {},
   "source": [
    "We have two exercises:\n",
    "1. Restaurant franchise trying to decide where to open next. Data: Profits vs. Habitants. (Compulsory).\n",
    "2. House price model. Data size (square feet) & number of bedrooms vs. price (Optional).\n",
    "\n",
    "Exercise files:\n",
    "- `warmUpExercise.m`\n",
    "- `plotData.m`\n",
    "- `computeCost.m`\n",
    "- `gradientDescent.m`\n",
    "- `computeCostMulti.m`\n",
    "- `gradientDescentMulti.m`\n",
    "- `featureNormalize.m`\n",
    "- `normalEqn.m`\n",
    "\n",
    "Data:\n",
    "- `ex1data1.txt`: one variable\n",
    "- `ex1data2.txt`: multiple variable (optional)\n",
    "\n",
    "Exercise guide PDF: `ex1.pdf`\n",
    "\n",
    "Workflow:\n",
    "- Download latest Octave version of exercise from Coursera\n",
    "- Complete code in exercise files following `ex1.pdf`\n",
    "- Whenever an exercise part is finished\n",
    "  - Check it with `ex1` (1st part) or `ex1_multi` (2nd part, optional) in Octave terminal\n",
    "  - Create a submission token on Coursera (exercise submission page, it lasts 30 minutes)\n",
    "  - Execute `submit` in Octave terminal\n",
    "  - Introduce email and token\n",
    "  - Results appear\n",
    "\n",
    "**Overview of exercises and their sections**\n",
    "\n",
    "1. Linear Regression with One Variable - Restaurant Revenue.\n",
    "    - Data Loaing & Plotting\n",
    "    - Formulae and Dimensions of Variables & Parameters\n",
    "    - Cost Function\n",
    "    - Gradient Descent\n",
    "    - Plotting the Cost Function\n",
    "2. Linear Regression with Multiple Variablees - House prices.\n",
    "    - Data Loaing & Plotting\n",
    "    - Feature Normalization\n",
    "    - Gradient Descent\n",
    "    - Prediction\n",
    "    - Different Learning Rates\n",
    "    "
   ]
  },
  {
   "cell_type": "markdown",
   "id": "8a0ba7d7-5fe5-477c-a4a8-04ea5c98fa15",
   "metadata": {},
   "source": [
    "**Setup plotting**"
   ]
  },
  {
   "cell_type": "code",
   "execution_count": 5,
   "id": "b701b55b-347c-45f4-a93c-efb6e33d1e7c",
   "metadata": {},
   "outputs": [],
   "source": [
    "graphics_toolkit (\"gnuplot\");"
   ]
  },
  {
   "cell_type": "code",
   "execution_count": 6,
   "id": "be1a93e0-33c2-48f9-ad36-70d2b6b77580",
   "metadata": {},
   "outputs": [],
   "source": [
    "%plot -b inline:gnuplot"
   ]
  },
  {
   "cell_type": "markdown",
   "id": "66f61e43-f47c-4ead-a5ee-b9f3a4109f64",
   "metadata": {},
   "source": [
    "## 1. Linear Regression with One Variable - Restaurant Revenue"
   ]
  },
  {
   "cell_type": "markdown",
   "id": "1435fd6d-ae3d-447c-8209-50a9b5e5a9b7",
   "metadata": {},
   "source": [
    "### Data Loaing & Plotting"
   ]
  },
  {
   "cell_type": "code",
   "execution_count": 22,
   "id": "56f174e8-83b0-41fc-be78-4023f0a173b4",
   "metadata": {},
   "outputs": [],
   "source": [
    "data = load('ex1data1.txt');       % read comma separated data\n",
    "X = data(:, 1); y = data(:, 2);\n",
    "m = length(y);                     % number of training examples"
   ]
  },
  {
   "cell_type": "code",
   "execution_count": 23,
   "id": "03d52467-24d4-4d06-996e-1a301bc0bc5d",
   "metadata": {},
   "outputs": [
    {
     "data": {
      "image/png": "[encoded data removed]",
      "text/plain": [
       "<IPython.core.display.Image object>"
      ]
     },
     "metadata": {},
     "output_type": "display_data"
    }
   ],
   "source": [
    "plot(X, y, 'rx', 'MarkerSize', 10); % Plot the data\n",
    "ylabel('Profit in $10,000s'); % Set the y−axis label\n",
    "xlabel('Population of City in 10,000s'); % Set the x−axis label"
   ]
  },
  {
   "cell_type": "markdown",
   "id": "644cb304-8c47-42aa-adbe-fc908610f1ab",
   "metadata": {},
   "source": [
    "### Formulae and Dimensions of Variables & Parameters"
   ]
  },
  {
   "cell_type": "markdown",
   "id": "f9c47bda-9b9f-4d03-860a-8ed78bdb4138",
   "metadata": {},
   "source": [
    "$J(\\theta) = \\frac{1}{2m} \\sum_{i=1}^{m} (h(x^{(i)}) - y^{(i)})^2$\n",
    "\n",
    "$h(x^{(i)}) = \\theta_0 x_0 + \\theta_1 x_1 = \\theta_0 + \\theta_1 x$\n",
    "\n",
    "$\\frac{\\partial J(\\theta)}{\\partial \\theta_j} = \\frac{1}{m} \\sum_{i=1}^{m} (h(x^{(i)}) - y^{(i)})x_j^{(i)}$\n",
    "\n",
    "$\\theta_j \\leftarrow \\theta_j - \\alpha \\frac{\\partial J(\\theta)}{\\partial \\theta_j}$"
   ]
  },
  {
   "cell_type": "markdown",
   "id": "d4279735-d4a0-4e01-9c79-a34ca5256819",
   "metadata": {},
   "source": [
    "`m` samples: `1 ... m`\n",
    "\n",
    "`n+1` parameters: `0 ... n`\n",
    "\n",
    "`X: m x 2`, we need to augment it with $x_0 = 1$\n",
    "\n",
    "`theta: 2 x 1`, $\\theta_0$ is the intercept, associated to $x_0 = 1$\n",
    "\n",
    "`y: m x 1`\n",
    "\n",
    "`alpha`\n",
    "\n",
    "`iterations`"
   ]
  },
  {
   "cell_type": "code",
   "execution_count": 34,
   "id": "8f6d216e-b6ba-4f60-bdf3-1d9fba094d9d",
   "metadata": {},
   "outputs": [
    {
     "name": "stdout",
     "output_type": "stream",
     "text": [
      "ans =\n",
      "\n",
      "   97    1\n",
      "\n"
     ]
    }
   ],
   "source": [
    "X = data(:, 1);\n",
    "size(X)"
   ]
  },
  {
   "cell_type": "code",
   "execution_count": 35,
   "id": "128f2bc9-6fba-4a09-90e9-31eb35553fcc",
   "metadata": {},
   "outputs": [
    {
     "name": "stdout",
     "output_type": "stream",
     "text": [
      "ans =\n",
      "\n",
      "   97    1\n",
      "\n"
     ]
    }
   ],
   "source": [
    "size(y)"
   ]
  },
  {
   "cell_type": "code",
   "execution_count": 36,
   "id": "cf3b5a4f-d8d1-4f71-8d9e-342ccf2569b4",
   "metadata": {},
   "outputs": [],
   "source": [
    "% X augmented with x_0 = 1\n",
    "X = data(:, 1);\n",
    "X = [ones(size(X,1),1),X];"
   ]
  },
  {
   "cell_type": "code",
   "execution_count": 37,
   "id": "9e1008f4-9feb-4965-84d8-12c991ca72ab",
   "metadata": {},
   "outputs": [
    {
     "name": "stdout",
     "output_type": "stream",
     "text": [
      "ans =\n",
      "\n",
      "   97    2\n",
      "\n"
     ]
    }
   ],
   "source": [
    "size(X)"
   ]
  },
  {
   "cell_type": "code",
   "execution_count": 40,
   "id": "77b99f14-cd1a-470c-b77e-1c7993fa13e3",
   "metadata": {},
   "outputs": [
    {
     "name": "stdout",
     "output_type": "stream",
     "text": [
      "ans =\n",
      "\n",
      "   1.0000   6.1101\n",
      "\n"
     ]
    }
   ],
   "source": [
    "% First sample: x_0^(1), x_1^(1)\n",
    "X(1,:)"
   ]
  },
  {
   "cell_type": "code",
   "execution_count": 42,
   "id": "d8e71842-2adc-481b-aa3d-eb0761545911",
   "metadata": {},
   "outputs": [
    {
     "name": "stdout",
     "output_type": "stream",
     "text": [
      "theta =\n",
      "\n",
      "   0\n",
      "   0\n",
      "\n"
     ]
    }
   ],
   "source": [
    "theta = zeros(2,1)"
   ]
  },
  {
   "cell_type": "code",
   "execution_count": 43,
   "id": "30cd55c0-691d-4243-8861-dde6b6fe1e09",
   "metadata": {},
   "outputs": [],
   "source": [
    "iterations = 1500;\n",
    "alpha = 0.01;"
   ]
  },
  {
   "cell_type": "markdown",
   "id": "a6845fae-b9ce-4a5e-a921-0b687b11c1c8",
   "metadata": {},
   "source": [
    "### Cost Function"
   ]
  },
  {
   "cell_type": "code",
   "execution_count": 52,
   "id": "1d9b5980-bb29-4d12-b315-dd91debe8303",
   "metadata": {},
   "outputs": [],
   "source": [
    "m = length(y);"
   ]
  },
  {
   "cell_type": "code",
   "execution_count": 53,
   "id": "e254ad3c-70ba-404f-9aff-e866da8b3bf3",
   "metadata": {},
   "outputs": [],
   "source": [
    "p = X*theta; % m x 1"
   ]
  },
  {
   "cell_type": "code",
   "execution_count": 54,
   "id": "1eddc9f0-d739-4b6c-8828-e7008f651e67",
   "metadata": {},
   "outputs": [],
   "source": [
    "e = (p-y).^2; % m x 1 "
   ]
  },
  {
   "cell_type": "code",
   "execution_count": 55,
   "id": "8c0eb4da-074a-41f6-b8ba-17796e2ae61c",
   "metadata": {},
   "outputs": [
    {
     "name": "stdout",
     "output_type": "stream",
     "text": [
      "ans = 6222.1\n"
     ]
    }
   ],
   "source": [
    "sum(e)"
   ]
  },
  {
   "cell_type": "code",
   "execution_count": 56,
   "id": "ca355786-8bf8-483e-bf50-f00ff5a5289a",
   "metadata": {},
   "outputs": [
    {
     "name": "stdout",
     "output_type": "stream",
     "text": [
      "J = 32.073\n"
     ]
    }
   ],
   "source": [
    "J = (0.5/m)*sum(e)"
   ]
  },
  {
   "cell_type": "markdown",
   "id": "1f0b7c3b-f0eb-49b3-9598-a18ac4661989",
   "metadata": {},
   "source": [
    "### Gradient Descent"
   ]
  },
  {
   "cell_type": "code",
   "execution_count": 77,
   "id": "f2994cbb-1a62-42be-a825-ad21d2607777",
   "metadata": {},
   "outputs": [
    {
     "name": "stdout",
     "output_type": "stream",
     "text": [
      "iterations = 1500\n",
      "alpha = 0.010000\n",
      "theta =\n",
      "\n",
      "   0\n",
      "   0\n",
      "\n"
     ]
    }
   ],
   "source": [
    "iterations = 1500\n",
    "alpha = 0.01\n",
    "theta = zeros(2,1)"
   ]
  },
  {
   "cell_type": "code",
   "execution_count": 78,
   "id": "27a0870c-ac9b-4142-814c-3e097652fe04",
   "metadata": {},
   "outputs": [],
   "source": [
    "m = length(y);\n",
    "J_history = zeros(iterations,1);\n",
    "\n",
    "for i = 1:iterations\n",
    "    % Cost derivatives: dJ/dt\n",
    "    p = X*theta; % m x 1\n",
    "    d = (p-y);\n",
    "    dJ_0 = (1.0/m)*d'*X(:,1);\n",
    "    dJ_1 = (1.0/m)*d'*X(:,2);\n",
    "    % Update theta\n",
    "    t0 = theta(1,1) - alpha*dJ_0;\n",
    "    theta(1,1) = t0;\n",
    "    t1 = theta(2,1) - alpha*dJ_1;\n",
    "    theta(2,1) = t1;    \n",
    "    % Compute Cost\n",
    "    p = X*theta; % m x 1\n",
    "    e = (p-y).^2; % m x 1 \n",
    "    J = (0.5/m)*sum(e);\n",
    "    J_history(i) = J;\n",
    "end"
   ]
  },
  {
   "cell_type": "code",
   "execution_count": 80,
   "id": "dafff2a9-3bd8-42f9-bb79-4a7e6f2f3308",
   "metadata": {},
   "outputs": [
    {
     "data": {
      "image/png": "[encoded data removed]",
      "text/plain": [
       "<IPython.core.display.Image object>"
      ]
     },
     "metadata": {},
     "output_type": "display_data"
    }
   ],
   "source": [
    "plot([1:iterations],J_history)"
   ]
  },
  {
   "cell_type": "code",
   "execution_count": 81,
   "id": "f47fb94e-1088-48ce-9082-a812b1f915cf",
   "metadata": {},
   "outputs": [
    {
     "name": "stdout",
     "output_type": "stream",
     "text": [
      "predict1 = 0.4520\n",
      "predict2 = 4.5342\n"
     ]
    }
   ],
   "source": [
    "predict1 = [1, 3.5] * theta\n",
    "predict2 = [1, 7] * theta"
   ]
  },
  {
   "cell_type": "code",
   "execution_count": 95,
   "id": "bccc078b-d1ad-46c6-b919-99162d88fb9d",
   "metadata": {},
   "outputs": [],
   "source": [
    "% Plot scatterplot with regression line\n",
    "x1 = 5:0.1:25;\n",
    "p = theta(1) + x1*theta(2);\n",
    "X = [ones(size(X,1),1),data(:, 1)];\n",
    "y = data(:, 2);"
   ]
  },
  {
   "cell_type": "code",
   "execution_count": 96,
   "id": "6a4d2fce-b691-4fa8-a344-15f47894a03e",
   "metadata": {},
   "outputs": [
    {
     "data": {
      "image/png": "[encoded data removed]",
      "text/plain": [
       "<IPython.core.display.Image object>"
      ]
     },
     "metadata": {},
     "output_type": "display_data"
    }
   ],
   "source": [
    "plot(X(:,2),y(:),'rx')\n",
    "hold on;\n",
    "plot(x1,p,'b')\n",
    "ylabel('Profit in $10,000s');\n",
    "xlabel('Population of City in 10,000s');"
   ]
  },
  {
   "cell_type": "markdown",
   "id": "2976af3c-2358-4f66-87c7-d0939a686e70",
   "metadata": {},
   "source": [
    "### Plotting the Cost Function"
   ]
  },
  {
   "cell_type": "code",
   "execution_count": 126,
   "id": "06593835-2b5f-416e-b937-878d1cb4698e",
   "metadata": {},
   "outputs": [],
   "source": [
    "theta0_vals = linspace(-10,10,100);\n",
    "theta1_vals = linspace(-1,4,100);"
   ]
  },
  {
   "cell_type": "code",
   "execution_count": 127,
   "id": "0e62282d-c9b7-4fcc-ad25-a3904d167e60",
   "metadata": {},
   "outputs": [],
   "source": [
    "X = [ones(size(X,1),1),data(:, 1)];\n",
    "y = data(:, 2);\n",
    "m = length(y);"
   ]
  },
  {
   "cell_type": "code",
   "execution_count": 128,
   "id": "d6f15a3d-7a9a-4794-915c-a456e982b7e5",
   "metadata": {},
   "outputs": [],
   "source": [
    "% initialize J vals to a matrix of 0's\n",
    "J_vals = zeros(length(theta0_vals), length(theta1_vals));\n",
    "% Fill out J vals\n",
    "for i = 1:length(theta0_vals)\n",
    "    for j = 1:length(theta1_vals)\n",
    "        t = [theta0_vals(i); theta1_vals(j)];\n",
    "        % Compute Cost\n",
    "        p = X*t; % m x 1\n",
    "        e = (p-y).^2; % m x 1 \n",
    "        J = (0.5/m)*sum(e);\n",
    "        %J_vals(i,j) = computeCost(x, y, t);\n",
    "        J_vals(i,j) = J;\n",
    "    end\n",
    "end"
   ]
  },
  {
   "cell_type": "code",
   "execution_count": 129,
   "id": "6f166090-0e87-4e1e-b6a4-e7d2abb1eeeb",
   "metadata": {},
   "outputs": [
    {
     "data": {
      "image/png": "[encoded data removed]",
      "text/plain": [
       "<IPython.core.display.Image object>"
      ]
     },
     "metadata": {},
     "output_type": "display_data"
    }
   ],
   "source": [
    "% Because of the way meshgrids work in the surf command, we need to\n",
    "% transpose J_vals before calling surf, or else the axes will be flipped\n",
    "J_vals = J_vals';\n",
    "surf(theta0_vals,theta1_vals,J_vals)\n",
    "xlabel('\\theta_0')\n",
    "ylabel('\\theta_1')"
   ]
  },
  {
   "cell_type": "code",
   "execution_count": 130,
   "id": "f262cac4-64a1-49cc-bc8e-3d2d1121abb1",
   "metadata": {},
   "outputs": [
    {
     "data": {
      "image/png": "[encoded data removed]",
      "text/plain": [
       "<IPython.core.display.Image object>"
      ]
     },
     "metadata": {},
     "output_type": "display_data"
    }
   ],
   "source": [
    "% Plot J_vals as 15 contours spaced logarithmically between 0.01 and 100\n",
    "%contour(theta0_vals,theta1_vals,J_vals,20)\n",
    "contour(theta0_vals,theta1_vals,J_vals,logspace(-2, 3, 20))\n",
    "xlabel('theta_0')\n",
    "ylabel('theta_1')\n",
    "hold on;\n",
    "plot(theta(1), theta(2), 'rx', 'MarkerSize', 10, 'LineWidth', 2);"
   ]
  },
  {
   "cell_type": "markdown",
   "id": "15e5d403-d3dd-4da4-b310-0040848a9ddb",
   "metadata": {},
   "source": [
    "## 2. Linear Regression with Multiple Variablees - House prices"
   ]
  },
  {
   "cell_type": "markdown",
   "id": "62bea995-a8f5-4252-a27c-933f5d0adf7f",
   "metadata": {},
   "source": [
    "### Data Loading and Plotting"
   ]
  },
  {
   "cell_type": "code",
   "execution_count": 164,
   "id": "5fef4e9e-af2c-4245-a60f-c5c34f32d5dc",
   "metadata": {},
   "outputs": [],
   "source": [
    "data = load('ex1data2.txt');\n",
    "X = data(:, 1:2);\n",
    "y = data(:, 3);\n",
    "m = length(y);"
   ]
  },
  {
   "cell_type": "code",
   "execution_count": 165,
   "id": "04427dcd-6c61-4b7d-9306-1a861483e370",
   "metadata": {},
   "outputs": [
    {
     "data": {
      "image/png": "[encoded data removed]",
      "text/plain": [
       "<IPython.core.display.Image object>"
      ]
     },
     "metadata": {},
     "output_type": "display_data"
    }
   ],
   "source": [
    "plot3(X(:,1),X(:,2),y,'rx')"
   ]
  },
  {
   "cell_type": "markdown",
   "id": "420d13a9-7912-4136-80cc-c9374292cba5",
   "metadata": {},
   "source": [
    "### Feature Normalization"
   ]
  },
  {
   "cell_type": "code",
   "execution_count": 183,
   "id": "79cc0027-08f3-432d-ac39-e73d143328ee",
   "metadata": {},
   "outputs": [],
   "source": [
    "y = data(:, 3);\n",
    "m = length(y);\n",
    "X = [ones(m,1),data(:, 1:2)]; % augment with x_0"
   ]
  },
  {
   "cell_type": "code",
   "execution_count": 184,
   "id": "5da763f2-9eee-4fd5-b7ed-552bc4af8a10",
   "metadata": {},
   "outputs": [],
   "source": [
    "mean_x1 = mean(X(:,2)); % Store for later, to undo/apply\n",
    "std_x1 = std(X(:,2)); % Store for later, to undo/apply\n",
    "x1 = (X(:,2)-mean_x1)/std_x1;"
   ]
  },
  {
   "cell_type": "code",
   "execution_count": 185,
   "id": "fb3dcb09-1c06-47bf-8bda-31b86e483534",
   "metadata": {},
   "outputs": [],
   "source": [
    "mean_x2 = mean(X(:,3)); % Store to undo later\n",
    "std_x2 = std(X(:,3));\n",
    "x2 = (X(:,3)-mean_x2)/std_x2;"
   ]
  },
  {
   "cell_type": "code",
   "execution_count": 186,
   "id": "641e70c3-1a1d-4402-83ef-beb470834829",
   "metadata": {},
   "outputs": [
    {
     "data": {
      "image/png": "[encoded data removed]",
      "text/plain": [
       "<IPython.core.display.Image object>"
      ]
     },
     "metadata": {},
     "output_type": "display_data"
    }
   ],
   "source": [
    "plot3(x1,x2,y,'rx')"
   ]
  },
  {
   "cell_type": "markdown",
   "id": "86e3b13a-6965-4ae7-8650-8a20bc52f1ce",
   "metadata": {},
   "source": [
    "#### Vectorial Implementation: Better!"
   ]
  },
  {
   "cell_type": "code",
   "execution_count": 226,
   "id": "d546179b-49ae-4bdf-9c22-5f1f95b90125",
   "metadata": {},
   "outputs": [],
   "source": [
    "X = data(:, 1:2); % Note: no x_0 augmentation yet!\n",
    "y = data(:, 3);\n",
    "m = length(y); % samples\n",
    "n = size(X,2); % features"
   ]
  },
  {
   "cell_type": "code",
   "execution_count": 227,
   "id": "6b7f1b7a-12cc-4d85-8085-f3dc8128e1d8",
   "metadata": {},
   "outputs": [],
   "source": [
    "X_norm = X;\n",
    "% Save them for later, to undo/apply the scaling\n",
    "mu = zeros(1, n);\n",
    "sigma = zeros(1, n);"
   ]
  },
  {
   "cell_type": "code",
   "execution_count": 228,
   "id": "9c33fbed-6c9b-4125-977e-2ba9fc2900c5",
   "metadata": {},
   "outputs": [],
   "source": [
    "for j = 1:n\n",
    "    mu(j) = mean(X(:,j));\n",
    "    sigma(j) = std(X(:,j));\n",
    "    X_norm(:,j) = (X(:,j)-mu(j))/sigma(j);\n",
    "end"
   ]
  },
  {
   "cell_type": "code",
   "execution_count": 229,
   "id": "ae2cd1a9-451c-484e-99b2-ceb047a744d0",
   "metadata": {},
   "outputs": [
    {
     "name": "stdout",
     "output_type": "stream",
     "text": [
      "ans =\n",
      "\n",
      "   47    2\n",
      "\n"
     ]
    }
   ],
   "source": [
    "size(X_norm)"
   ]
  },
  {
   "cell_type": "markdown",
   "id": "4cc12972-24f3-437e-bb25-8415a8304774",
   "metadata": {},
   "source": [
    "### Gradient Descent"
   ]
  },
  {
   "cell_type": "code",
   "execution_count": 230,
   "id": "04c7ec94-f5dc-49cd-a882-110bc2633dd7",
   "metadata": {},
   "outputs": [],
   "source": [
    "% Augment the normalized independent variable X with x_0 = 1 \n",
    "X_norm = [ones(m,1),X_norm];"
   ]
  },
  {
   "cell_type": "code",
   "execution_count": 231,
   "id": "62162da5-5ce0-4930-ae03-464821435ed8",
   "metadata": {},
   "outputs": [
    {
     "name": "stdout",
     "output_type": "stream",
     "text": [
      "ans =\n",
      "\n",
      "   47    3\n",
      "\n"
     ]
    }
   ],
   "source": [
    "size(X_norm)"
   ]
  },
  {
   "cell_type": "code",
   "execution_count": 232,
   "id": "8f70aebb-cf17-45e1-927c-c97df8ced420",
   "metadata": {},
   "outputs": [
    {
     "name": "stdout",
     "output_type": "stream",
     "text": [
      "iterations = 1500\n",
      "alpha = 0.010000\n",
      "theta =\n",
      "\n",
      "   0\n",
      "   0\n",
      "   0\n",
      "\n"
     ]
    }
   ],
   "source": [
    "iterations = 1500\n",
    "alpha = 0.01\n",
    "theta = zeros(n+1,1)"
   ]
  },
  {
   "cell_type": "code",
   "execution_count": 233,
   "id": "e8d99f05-c4dc-4114-bb5f-1c256b1729f7",
   "metadata": {},
   "outputs": [],
   "source": [
    "J_history = zeros(iterations,1);"
   ]
  },
  {
   "cell_type": "code",
   "execution_count": 234,
   "id": "517e41a6-db3c-4b54-800a-8ae7e0a72471",
   "metadata": {},
   "outputs": [],
   "source": [
    "for k = 1:iterations\n",
    "    p = X_norm*theta; % m x 1\n",
    "    d = (p-y);\n",
    "    dJ = zeros(1,n+1); % n features, n+1 parameters\n",
    "    for j = 1:(n+1)\n",
    "        % Cost derivative\n",
    "        dJ(1,j) = (1.0/m)*d'*X_norm(:,j);\n",
    "        % Update theta\n",
    "        theta(j,1) = theta(j,1) - alpha*dJ(1,j);\n",
    "    end\n",
    "    % Compute Cost\n",
    "    p = X_norm*theta; % m x 1\n",
    "    e = (p-y).^2; % m x 1 \n",
    "    J = (0.5/m)*sum(e);\n",
    "    J_history(k) = J;\n",
    "end"
   ]
  },
  {
   "cell_type": "code",
   "execution_count": 235,
   "id": "5493b484-c30c-4383-9f7a-714fbe3dfe14",
   "metadata": {},
   "outputs": [
    {
     "data": {
      "image/png": "[encoded data removed]",
      "text/plain": [
       "<IPython.core.display.Image object>"
      ]
     },
     "metadata": {},
     "output_type": "display_data"
    }
   ],
   "source": [
    "plot([1:iterations],J_history)"
   ]
  },
  {
   "cell_type": "markdown",
   "id": "0409166a-5a2a-4dd7-965d-d46c7991f076",
   "metadata": {},
   "source": [
    "### Prediction"
   ]
  },
  {
   "cell_type": "code",
   "execution_count": 238,
   "id": "99e274c3-30a4-4982-b3e6-899c8d63323e",
   "metadata": {},
   "outputs": [
    {
     "name": "stdout",
     "output_type": "stream",
     "text": [
      "price = 2.9310e+05\n"
     ]
    }
   ],
   "source": [
    "% Estimate the price of a 1650 sq-ft, 3 br house\n",
    "X = [1650, 3];\n",
    "X_norm = [(X(1,1)-mu(1))/sigma(1), (X(1,2)-mu(2))/sigma(2)];\n",
    "price = [1, X_norm]*theta"
   ]
  },
  {
   "cell_type": "markdown",
   "id": "d59bc104-562a-4e76-82f5-476d5a1d890e",
   "metadata": {},
   "source": [
    "### Different Learning Rates"
   ]
  },
  {
   "cell_type": "code",
   "execution_count": 252,
   "id": "e6587239-f3fc-481e-8b23-028a651df520",
   "metadata": {},
   "outputs": [],
   "source": [
    "X = data(:, 1:2); % Note: no x_0 augmentation yet!\n",
    "y = data(:, 3);\n",
    "m = length(y); % samples\n",
    "n = size(X,2); % features"
   ]
  },
  {
   "cell_type": "code",
   "execution_count": 253,
   "id": "8fe01757-dca9-4cc8-bef0-629d40a3382e",
   "metadata": {},
   "outputs": [],
   "source": [
    "X_norm = X;\n",
    "mu = zeros(1, n);\n",
    "sigma = zeros(1, n);"
   ]
  },
  {
   "cell_type": "code",
   "execution_count": 254,
   "id": "1b86cdfb-ef1b-41ad-8926-3cb19716571b",
   "metadata": {},
   "outputs": [],
   "source": [
    "for j = 1:n\n",
    "    mu(j) = mean(X(:,j));\n",
    "    sigma(j) = std(X(:,j));\n",
    "    X_norm(:,j) = (X(:,j)-mu(j))/sigma(j);\n",
    "end"
   ]
  },
  {
   "cell_type": "code",
   "execution_count": 255,
   "id": "d383bc2f-3896-4be3-bc62-72ce93a629bf",
   "metadata": {},
   "outputs": [],
   "source": [
    "X_norm = [ones(m,1),X_norm];"
   ]
  },
  {
   "cell_type": "code",
   "execution_count": 267,
   "id": "1b94abba-2672-4363-a90c-5fb89e0faf3d",
   "metadata": {},
   "outputs": [],
   "source": [
    "% Compute the cost during the gradient descent or different learning rates\n",
    "% Increase alpha by 3x at each step\n",
    "alpha = [0.001, 0.003, 0.01, 0.03, 0.1, 0.3, 1.0];\n",
    "a = length(alpha);\n",
    "num_iters = 100;\n",
    "J_history = zeros(num_iters,a);\n",
    "theta = zeros(n+1, a);\n",
    "for k = 1:a\n",
    "    [t, J] = gradientDescentMulti(X_norm, y, theta(:,k), alpha(1,k), num_iters);\n",
    "    theta(:,k) = t;\n",
    "    J_history(:,k) = J;\n",
    "end"
   ]
  },
  {
   "cell_type": "code",
   "execution_count": 270,
   "id": "bd25ce3a-ad4a-4a93-b96b-09a8e2d0ecd6",
   "metadata": {},
   "outputs": [
    {
     "data": {
      "image/png": "[encoded data removed]",
      "text/plain": [
       "<IPython.core.display.Image object>"
      ]
     },
     "metadata": {},
     "output_type": "display_data"
    }
   ],
   "source": [
    "it = [1:num_iters];\n",
    "plot(it,J_history(:,1))\n",
    "hold on;\n",
    "plot(it,J_history(:,2))\n",
    "plot(it,J_history(:,3))\n",
    "plot(it,J_history(:,4))\n",
    "plot(it,J_history(:,5))\n",
    "plot(it,J_history(:,6))\n",
    "plot(it,J_history(:,7))"
   ]
  },
  {
   "cell_type": "code",
   "execution_count": null,
   "id": "a31fa1f3-e591-4b20-8626-76b38d4aae5d",
   "metadata": {},
   "outputs": [],
   "source": []
  }
 ],
 "metadata": {
  "kernelspec": {
   "display_name": "Octave",
   "language": "octave",
   "name": "octave"
  },
  "language_info": {
   "file_extension": ".m",
   "help_links": [
    {
     "text": "GNU Octave",
     "url": "https://www.gnu.org/software/octave/support.html"
    },
    {
     "text": "Octave Kernel",
     "url": "https://github.com/Calysto/octave_kernel"
    },
    {
     "text": "MetaKernel Magics",
     "url": "https://metakernel.readthedocs.io/en/latest/source/README.html"
    }
   ],
   "mimetype": "text/x-octave",
   "name": "octave",
   "version": "6.3.0"
  }
 },
 "nbformat": 4,
 "nbformat_minor": 5
}
