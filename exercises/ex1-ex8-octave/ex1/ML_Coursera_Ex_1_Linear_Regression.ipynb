{
 "cells": [
  {
   "cell_type": "markdown",
   "id": "1d039ece-71a3-403d-90c4-78e2028d5bfc",
   "metadata": {},
   "source": [
    "# Exercise 1: Linear Regression"
   ]
  },
  {
   "cell_type": "markdown",
   "id": "66f61e43-f47c-4ead-a5ee-b9f3a4109f64",
   "metadata": {},
   "source": [
    "## 1. Linear Regression with One Variable"
   ]
  },
  {
   "cell_type": "code",
   "execution_count": null,
   "id": "56f174e8-83b0-41fc-be78-4023f0a173b4",
   "metadata": {},
   "outputs": [],
   "source": []
  }
 ],
 "metadata": {
  "kernelspec": {
   "display_name": "Octave",
   "language": "octave",
   "name": "octave"
  },
  "language_info": {
   "file_extension": ".m",
   "help_links": [
    {
     "text": "GNU Octave",
     "url": "https://www.gnu.org/software/octave/support.html"
    },
    {
     "text": "Octave Kernel",
     "url": "https://github.com/Calysto/octave_kernel"
    },
    {
     "text": "MetaKernel Magics",
     "url": "https://metakernel.readthedocs.io/en/latest/source/README.html"
    }
   ],
   "mimetype": "text/x-octave",
   "name": "octave",
   "version": "6.3.0"
  }
 },
 "nbformat": 4,
 "nbformat_minor": 5
}
