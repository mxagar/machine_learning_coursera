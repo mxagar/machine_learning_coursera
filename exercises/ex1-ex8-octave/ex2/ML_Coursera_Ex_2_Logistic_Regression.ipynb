{
 "cells": [
  {
   "cell_type": "markdown",
   "id": "db6aa638-b0ef-4fa9-b0fe-c91d6225cf25",
   "metadata": {},
   "source": [
    "# Exercise 2: Logistic Regression"
   ]
  },
  {
   "cell_type": "markdown",
   "id": "94637e00-b58c-4d99-a575-07e809db1b94",
   "metadata": {},
   "source": [
    "There are two execises:\n",
    "\n",
    "1. Exercise 1 - Logistic Regression: Build classification model of student admision based on the score of two exams; we have a dataset of 100 applicants, each one with their 2 scores and the label whether they were admited (y = 1) or not.\n",
    "2. Exercise 2 - Regularized Logistic Regression: Microchips are acccepted or rejected depending on their results of two tests.\n",
    "\n",
    "Files provided by Coursera, located under `../exercises/ex1-ex8-octave/ex2`\n",
    "\n",
    "- `ex2.m` - Octave/MATLAB script that steps you through the exercise\n",
    "- `ex2_reg.m` - Octave/MATLAB script for the later parts of the exercise\n",
    "- `ex2data1.txt` - Training set for the first half of the exercise\n",
    "- `ex2data2.txt` - Training set for the second half of the exercise\n",
    "- `submit.m` - Submission script that sends your solutions to our servers\n",
    "- `mapFeature.m` - Function to generate polynomial features\n",
    "- `plotDecisionBoundary.m` - Function to plot classifier’s decision boundary\n",
    "\n",
    "Files to complete:\n",
    "- `plotData.m` - Function to plot 2D classification data\n",
    "- `sigmoid.m` - Sigmoid Function\n",
    "- `costFunction.m` - Logistic Regression Cost Function\n",
    "- `predict.m` - Logistic Regression Prediction Function\n",
    "- `costFunctionReg.m` - Regularized Logistic Regression Cost\n",
    "\n",
    "Workflow:\n",
    "- Download latest Octave version of exercise from Coursera\n",
    "- Complete code in exercise files following `ex2.pdf`\n",
    "- Whenever an exercise part is finished\n",
    "  - Check it with `ex2` or `ex2_reg` in Octave terminal\n",
    "  - Create a submission token on Coursera (exercise submission page, it lasts 30 minutes)\n",
    "  - Execute `submit` in Octave terminal (**Watch out: I had to modify it to add the path of ex1/lib instead of ex2/lib**)\n",
    "  - Introduce email and token\n",
    "  - Results appear\n",
    "\n",
    "**Overview of contents:**\n",
    "\n",
    "0. Setup: `gnuplot`\n",
    "1. Exercise 1: Logistic Regression\n",
    "    - 1.1 Visualizing the Data: `plotData.m`\n",
    "    - 1.2. Sigmoid Function: `sigmoid.m`\n",
    "    - 1.3. Cost Function and Gradient: `costFunction.m`\n",
    "    - 1.4. Optimization\n",
    "        - 4.1 Gradient Descent: It does not work right away\n",
    "        - 4.2 Advanced Optimization with `fminfunc`\n",
    "        - 4.3 Python Notes: `scipy.optimize`\n",
    "    - 1.5. Prediction: `predict.m`\n",
    "2. Exercise 2: Regularized Logistic Regression\n",
    "    - 2.1 Visualizing the Data\n",
    "    - 2.2 Feature Mapping: Polynomial Logistic Regression\n",
    "    - 2.3 Cost Function and Gradient with Regularization: `costFunctionReg.m`\n",
    "    - 2.4 Plotting the Nonlinear Decision Boundary: `plotDecisionBoundary.m`\n",
    "    - 2.5 Trying Different Regularization Parameters `lambda`\n",
    "    - 2.6 Python Notes: Mapping Features & Plotting Nonlinear Decision Boundaries"
   ]
  },
  {
   "cell_type": "markdown",
   "id": "259439d6-41a5-41af-89d0-55b0af1e1bf1",
   "metadata": {},
   "source": [
    "# 0. Setup: `gnuplot`"
   ]
  },
  {
   "cell_type": "code",
   "execution_count": 70,
   "id": "55593dab-333f-44c3-a89c-4d42ecc6b866",
   "metadata": {},
   "outputs": [],
   "source": [
    "graphics_toolkit (\"gnuplot\");"
   ]
  },
  {
   "cell_type": "code",
   "execution_count": 286,
   "id": "4067961d-3147-4c4e-bc3b-eeb17aa8f742",
   "metadata": {},
   "outputs": [],
   "source": [
    "%plot -b inline:gnuplot"
   ]
  },
  {
   "cell_type": "markdown",
   "id": "fb37087b-93ad-4647-b5ff-a29cfa5623b3",
   "metadata": {},
   "source": [
    "## 1. Exercise 1: Logistic Regression\n",
    "\n",
    "Logistic Regression: Build classification model of student admision based on the score of two exams; we have a dataset of 100 applicants, each one with their 2 scores and the label whether they were admited (y = 1) or not."
   ]
  },
  {
   "cell_type": "markdown",
   "id": "8ec5f99b-9ac6-4160-aa85-f3a9b9967ebf",
   "metadata": {},
   "source": [
    "## 1.1. Visualizing the Data: `plotData.m`"
   ]
  },
  {
   "cell_type": "code",
   "execution_count": 246,
   "id": "e2cb32d5-0718-4edf-a521-c2a46121cc4a",
   "metadata": {},
   "outputs": [],
   "source": [
    "data = load('ex2data1.txt');       % read comma separated data\n",
    "X = data(:, 1:2); y = data(:, 3);"
   ]
  },
  {
   "cell_type": "code",
   "execution_count": 247,
   "id": "fc0c1631-0947-4462-9025-d367f803ccb6",
   "metadata": {},
   "outputs": [
    {
     "name": "stdout",
     "output_type": "stream",
     "text": [
      "ans = -98.970\n"
     ]
    },
    {
     "data": {
      "image/png": "[encoded data removed]",
      "text/plain": [
       "<IPython.core.display.Image object>"
      ]
     },
     "metadata": {},
     "output_type": "display_data"
    }
   ],
   "source": [
    "% Find Indices of Positive and Negative Examples\n",
    "pos = find(y == 1);\n",
    "neg = find(y == 0);\n",
    "% Plot Examples\n",
    "plot(X(pos, 1), X(pos, 2), 'k+','LineWidth', 2, 'MarkerSize', 7);\n",
    "hold on;\n",
    "plot(X(neg, 1), X(neg, 2), 'ko', 'MarkerFaceColor', 'y', 'MarkerSize', 7);\n",
    "xlabel('Score Exam 1'); % Set the x−axis label\n",
    "ylabel('Score Exam 2'); % Set the y−axis label\n",
    "legend('Admitted','Not admitted')"
   ]
  },
  {
   "cell_type": "markdown",
   "id": "57e5f744-3abe-413c-8669-d95ecd53f6f3",
   "metadata": {},
   "source": [
    "#### Function: `plotData()`"
   ]
  },
  {
   "cell_type": "code",
   "execution_count": 289,
   "id": "128b924b-e9c9-4aaf-b816-21ffcf43c90f",
   "metadata": {},
   "outputs": [],
   "source": [
    "function plotData(X, y)\n",
    "    figure; hold on;\n",
    "    pos = find(y == 1);\n",
    "    neg = find(y == 0);\n",
    "    plot(X(pos, 1), X(pos, 2), 'k+','LineWidth', 2, 'MarkerSize', 7);\n",
    "    plot(X(neg, 1), X(neg, 2), 'ko', 'MarkerFaceColor', 'y', 'MarkerSize', 7);\n",
    "    legend('Accepted','Not accepted')\n",
    "    hold off;\n",
    "end"
   ]
  },
  {
   "cell_type": "markdown",
   "id": "90c7ca37-18d7-4118-9591-2a8f02e44050",
   "metadata": {},
   "source": [
    "## 1.2. Sigmoid Function: `sigmoid.m`"
   ]
  },
  {
   "cell_type": "markdown",
   "id": "c8fc55d1-2ff1-4849-ad54-67c92046647e",
   "metadata": {},
   "source": [
    "$$ h_\\theta(x) = g(\\theta^T x)$$\n",
    "\n",
    "$$g(z) = \\frac{1}{1+e^{-z}}$$"
   ]
  },
  {
   "cell_type": "code",
   "execution_count": 85,
   "id": "4471e4a9-9f29-44ca-bd10-d20e2b98fa37",
   "metadata": {},
   "outputs": [],
   "source": [
    "z = zeros(2,2);"
   ]
  },
  {
   "cell_type": "code",
   "execution_count": 86,
   "id": "6fdb2d7b-d20f-4279-a14b-4775adadd721",
   "metadata": {},
   "outputs": [],
   "source": [
    "g = zeros(size(z));"
   ]
  },
  {
   "cell_type": "code",
   "execution_count": 87,
   "id": "2c01477a-6716-4959-9241-03efdf40646c",
   "metadata": {},
   "outputs": [],
   "source": [
    "g = 1.0 ./ (1 .+ exp(-z));"
   ]
  },
  {
   "cell_type": "code",
   "execution_count": 197,
   "id": "8ad1278a-c6a5-41a0-ba6b-288c4b19cf28",
   "metadata": {},
   "outputs": [
    {
     "name": "stdout",
     "output_type": "stream",
     "text": [
      "g =\n",
      "\n",
      "   0.5000   0.5000\n",
      "   0.5000   0.5000\n",
      "\n"
     ]
    }
   ],
   "source": [
    "g"
   ]
  },
  {
   "cell_type": "markdown",
   "id": "1da8aeec-0b67-416a-a137-ced3a0e56b8d",
   "metadata": {},
   "source": [
    "#### Function: `sigmoid()`"
   ]
  },
  {
   "cell_type": "code",
   "execution_count": 198,
   "id": "3d7aa719-d021-4a18-80ac-3c34222c0610",
   "metadata": {},
   "outputs": [],
   "source": [
    "function g = sigmoid(z)\n",
    "    g = zeros(size(z));\n",
    "    g = 1.0 ./ (1 .+ exp(-z));\n",
    "end"
   ]
  },
  {
   "cell_type": "markdown",
   "id": "fa951b40-990a-430d-ae3f-09e8c7def9a7",
   "metadata": {},
   "source": [
    "## 1.3. Cost Function and Gradient: `costFunction.m`"
   ]
  },
  {
   "cell_type": "markdown",
   "id": "bf743679-e316-4fed-8713-e18ba5ed08a5",
   "metadata": {},
   "source": [
    "$$ J(\\theta) = \\frac{1}{m} \\sum_{i=1}^{m} \\left[ -y^{(i)} \\log\\left(h_\\theta\\left( x^{(i)} \\right) \\right) - \\left( 1 - y^{(i)}\\right) \\log \\left( 1 - h_\\theta\\left( x^{(i)} \\right) \\right) \\right]$$\n",
    "\n",
    "$$ \\frac{\\partial J(\\theta)}{\\partial \\theta_j} = \\frac{1}{m} \\sum_{i=1}^m \\left( h_\\theta \\left( x^{(i)} \\right) - y^{(i)} \\right) x_j^{(i)} $$"
   ]
  },
  {
   "cell_type": "code",
   "execution_count": 199,
   "id": "2a467aaa-4340-47c0-9132-8b7af39b6cb6",
   "metadata": {},
   "outputs": [],
   "source": [
    "data = load('ex2data1.txt');\n",
    "X = data(:, 1:2); y = data(:, 3);"
   ]
  },
  {
   "cell_type": "code",
   "execution_count": 200,
   "id": "4abb0984-0717-40a4-9a0e-6c6af81bd076",
   "metadata": {},
   "outputs": [],
   "source": [
    "% Number of samples and features\n",
    "[m, n] = size(X);\n",
    "\n",
    "% Add intercept term to x and X_test\n",
    "% A row of X contains now a sample in the form [1 x1 x2 ... xn]\n",
    "X = [ones(m, 1) X];\n",
    "\n",
    "% Initialize fitting parameters\n",
    "initial_theta = zeros(n + 1, 1);\n",
    "theta = initial_theta;\n",
    "\n",
    "% Compute and display initial cost and gradient\n",
    "% [cost, grad] = costFunction(initial_theta, X, y);"
   ]
  },
  {
   "cell_type": "code",
   "execution_count": 201,
   "id": "abdfe185-6035-408e-847b-0e7a9e287939",
   "metadata": {},
   "outputs": [],
   "source": [
    "h = 1.0 ./ (1 .+ exp(-X*theta)); % X*theta is mx1 -> h = sigmoid(X*theta) is mx1"
   ]
  },
  {
   "cell_type": "code",
   "execution_count": 202,
   "id": "6eef99b1-08f3-4bd3-9352-34784ebe3c33",
   "metadata": {},
   "outputs": [
    {
     "name": "stdout",
     "output_type": "stream",
     "text": [
      "J = 0.6931\n"
     ]
    }
   ],
   "source": [
    "J = (-1.0/m)*(y'*log(h) + (1.-y)'*log(1.-h))"
   ]
  },
  {
   "cell_type": "code",
   "execution_count": 203,
   "id": "29967ef2-f90a-447a-bc73-a7eb1ad4673d",
   "metadata": {},
   "outputs": [],
   "source": [
    "e = (h-y); % m x 1"
   ]
  },
  {
   "cell_type": "code",
   "execution_count": 204,
   "id": "2b3be97a-c270-48f8-9bed-6b4a95926c37",
   "metadata": {},
   "outputs": [
    {
     "name": "stdout",
     "output_type": "stream",
     "text": [
      "gradJ =\n",
      "\n",
      "   -0.1000  -12.0092  -11.2628\n",
      "\n"
     ]
    }
   ],
   "source": [
    "gradJ = (1.0/m)*e'*X % 1 x (n+1)"
   ]
  },
  {
   "cell_type": "code",
   "execution_count": 205,
   "id": "fb318ecd-f7de-4005-aab8-12d8e518aaff",
   "metadata": {},
   "outputs": [
    {
     "name": "stdout",
     "output_type": "stream",
     "text": [
      "ans =\n",
      "\n",
      "   100     3\n",
      "\n"
     ]
    }
   ],
   "source": [
    "size(X)"
   ]
  },
  {
   "cell_type": "markdown",
   "id": "ce1c6fee-193c-4178-81db-fc0ab5b7929e",
   "metadata": {},
   "source": [
    "#### Function: `costFunction()` "
   ]
  },
  {
   "cell_type": "code",
   "execution_count": 212,
   "id": "7a36220c-89a6-4569-9f60-c5388ee11e13",
   "metadata": {},
   "outputs": [],
   "source": [
    "function [J, grad] = costFunction(theta, X, y)\n",
    "    m = length(y); % number of training examples\n",
    "    J = 0;\n",
    "    grad = zeros(size(theta));\n",
    "\n",
    "    %h = 1.0 ./ (1 .+ exp(-X*theta)); % X*theta is mx1 -> h = sigmoid(X*theta) is mx1\n",
    "    h = sigmoid(X*theta); % X*theta is mx1 -> h = sigmoid(X*theta) is mx1\n",
    "    J = (-1.0/m)*(y'*log(h) + (1.-y)'*log(1.-h));\n",
    "    e = (h-y); % m x 1\n",
    "    grad = (1.0/m)*e'*X; % 1 x (n+1)\n",
    "end"
   ]
  },
  {
   "cell_type": "markdown",
   "id": "5849c67e-8c67-4b2c-99f4-f140aed81687",
   "metadata": {},
   "source": [
    "## 1.4. Optimization"
   ]
  },
  {
   "cell_type": "markdown",
   "id": "787421cd-e99b-417e-82b9-8849feeef58e",
   "metadata": {},
   "source": [
    "### 1.4.1 Gradient Descent"
   ]
  },
  {
   "cell_type": "markdown",
   "id": "22eefa50-7669-455e-95b4-e32edbd8b2b5",
   "metadata": {},
   "source": [
    "**Important note: it does not work right away!**"
   ]
  },
  {
   "cell_type": "code",
   "execution_count": 272,
   "id": "381bedc3-7465-439a-aea7-63d3e615b1cd",
   "metadata": {},
   "outputs": [
    {
     "name": "stdout",
     "output_type": "stream",
     "text": [
      "theta =\n",
      "\n",
      "  -6.9117e-03\n",
      "   1.0461e-02\n",
      "   4.9527e-04\n",
      "\n"
     ]
    }
   ],
   "source": [
    "alpha = 0.001;\n",
    "steps = 100;\n",
    "\n",
    "data = load('ex2data1.txt');\n",
    "X = data(:, 1:2); y = data(:, 3);\n",
    "[m, n] = size(X);\n",
    "X = [ones(m, 1) X];\n",
    "\n",
    "theta = zeros(n + 1, 1);\n",
    "\n",
    "J_history = zeros(steps,1);\n",
    "\n",
    "for i = 1:steps\n",
    "    % Compute cost and gradient\n",
    "    [J, gradJ] = costFunction(theta, X, y);\n",
    "    % Save history of cost\n",
    "    J_history(i,1) = J;\n",
    "    % Update theta\n",
    "    theta = theta - alpha*gradJ';\n",
    "end\n",
    "\n",
    "theta"
   ]
  },
  {
   "cell_type": "code",
   "execution_count": 251,
   "id": "964f6d48-06df-4404-8c5a-1252d31d6923",
   "metadata": {},
   "outputs": [
    {
     "name": "stdout",
     "output_type": "stream",
     "text": [
      "ans = 0.6293\n"
     ]
    }
   ],
   "source": [
    "min(min(J_history))"
   ]
  },
  {
   "cell_type": "code",
   "execution_count": 252,
   "id": "fe953921-3436-4937-8441-c3593ceddeb5",
   "metadata": {},
   "outputs": [
    {
     "data": {
      "image/png": "[encoded data removed]",
      "text/plain": [
       "<IPython.core.display.Image object>"
      ]
     },
     "metadata": {},
     "output_type": "display_data"
    }
   ],
   "source": [
    "figure\n",
    "plot([1:steps],J_history)"
   ]
  },
  {
   "cell_type": "markdown",
   "id": "1d5a3927-b02c-446f-a528-1e8170eee175",
   "metadata": {},
   "source": [
    "#### Plot\n",
    "\n",
    "**The result is not correct!**"
   ]
  },
  {
   "cell_type": "code",
   "execution_count": 253,
   "id": "c2c1b9ba-3975-457c-9d8f-28f8d52e91ba",
   "metadata": {},
   "outputs": [],
   "source": [
    "% Boundary : theta^T*X = 0\n",
    "% t0 + t1*x1 + t2*x2 = 0 -> x2 = (-1/t2)*(t0 + t1*x1)\n",
    "x1 = 30:0.1:100;\n",
    "x2 = (-1.0/theta(3))*(theta(1) + theta(2)*x1);"
   ]
  },
  {
   "cell_type": "code",
   "execution_count": 261,
   "id": "df2d4320-cd4d-495c-9ce1-25873f87d37b",
   "metadata": {},
   "outputs": [
    {
     "name": "stdout",
     "output_type": "stream",
     "text": [
      "ans = -98.550\n"
     ]
    },
    {
     "data": {
      "image/png": "[encoded data removed]",
      "text/plain": [
       "<IPython.core.display.Image object>"
      ]
     },
     "metadata": {},
     "output_type": "display_data"
    }
   ],
   "source": [
    "plotData(X(:,2:size(X,2)),y)\n",
    "hold on;\n",
    "plot(x1, x2, 'b-')"
   ]
  },
  {
   "cell_type": "markdown",
   "id": "60a15e0e-339b-4aec-b1e0-bf30d04fea63",
   "metadata": {},
   "source": [
    "### 1.4.2 Advanced Optimization with `fminfunc`"
   ]
  },
  {
   "cell_type": "markdown",
   "id": "947b2869-e0cd-403e-be78-bbbb9a018ca6",
   "metadata": {},
   "source": [
    "**The result is OK -- It works with advanced optimization**"
   ]
  },
  {
   "cell_type": "code",
   "execution_count": 238,
   "id": "ab9ce780-1f1c-430b-a522-02ad46e84544",
   "metadata": {},
   "outputs": [],
   "source": [
    "data = load('ex2data1.txt');\n",
    "X = data(:, 1:2); y = data(:, 3);\n",
    "[m, n] = size(X);\n",
    "X = [ones(m, 1) X];"
   ]
  },
  {
   "cell_type": "code",
   "execution_count": 267,
   "id": "cc8d59e7-f754-4325-a7fe-d7c6f1ee38ac",
   "metadata": {},
   "outputs": [],
   "source": [
    "% Options:\n",
    "% GradObj on: our function returns cost and gradient\n",
    "% MaxIter: maximum iterations\n",
    "% @(t)(costFunction(t, X, y)): function with parameter t -> the value of t for min costFunction will be found\n",
    "% initialTheta: initial value of t\n",
    "options = optimset('GradObj', 'on', 'MaxIter', 400);\n",
    "initial_theta = zeros(3,1);\n",
    "[optTheta, functionVal, exitFlag] = fminunc(@(t)(costFunction(t, X, y)), initial_theta, options);"
   ]
  },
  {
   "cell_type": "code",
   "execution_count": 268,
   "id": "65c06ee4-ec88-4e3b-991d-d0b803d83b30",
   "metadata": {},
   "outputs": [
    {
     "name": "stdout",
     "output_type": "stream",
     "text": [
      "optTheta =\n",
      "\n",
      "  -25.1613\n",
      "    0.2062\n",
      "    0.2015\n",
      "\n"
     ]
    }
   ],
   "source": [
    "optTheta"
   ]
  },
  {
   "cell_type": "code",
   "execution_count": 269,
   "id": "a45f4b1b-4b99-4739-b68d-de767383c076",
   "metadata": {},
   "outputs": [
    {
     "name": "stdout",
     "output_type": "stream",
     "text": [
      "functionVal = 0.2035\n"
     ]
    }
   ],
   "source": [
    "functionVal"
   ]
  },
  {
   "cell_type": "code",
   "execution_count": 270,
   "id": "c32d68a7-3e93-47b3-9d1a-bdfb89aace90",
   "metadata": {},
   "outputs": [],
   "source": [
    "% Boundary : theta^T*X = 0\n",
    "% t0 + t1*x1 + t2*x2 = 0 -> x2 = (-1/t2)*(t0 + t1*x1)\n",
    "x1 = 30:0.1:100;\n",
    "x2 = (-1.0/optTheta(3))*(optTheta(1) + optTheta(2)*x1);"
   ]
  },
  {
   "cell_type": "code",
   "execution_count": 273,
   "id": "f2935e7f-8cc6-4b1a-9cef-fe7b5c236795",
   "metadata": {},
   "outputs": [
    {
     "name": "stdout",
     "output_type": "stream",
     "text": [
      "ans = -98.024\n"
     ]
    },
    {
     "data": {
      "image/png": "[encoded data removed]",
      "text/plain": [
       "<IPython.core.display.Image object>"
      ]
     },
     "metadata": {},
     "output_type": "display_data"
    }
   ],
   "source": [
    "plotData(X(:,2:size(X,2)),y)\n",
    "hold on;\n",
    "plot(x1, x2, 'b-')"
   ]
  },
  {
   "cell_type": "markdown",
   "id": "0a2458a5-0c0a-4cb4-ab2a-81ea52266632",
   "metadata": {},
   "source": [
    "### 1.4.3 Python Notes: `scipy.optimize`\n",
    "\n",
    "It seems that we need to use an advanced optimization method if we want to compute the parameters of logistic regression.\n",
    "\n",
    "In python that can be done with `scipy.optimize`.\n",
    "\n",
    "See the python eercise repository for more information.\n",
    "\n",
    "A brief summary of the code would be the following:\n",
    "\n",
    "```python\n",
    "\n",
    "from scipy import optimize\n",
    "\n",
    "def costFunction(theta, X, y):\n",
    "    m = y.size  # number of training examples\n",
    "    J = 0\n",
    "    grad = np.zeros(theta.shape)\n",
    "    # IMPLEMENTATION ...\n",
    "    return J, grad\n",
    "\n",
    "options= {'maxiter': 400}\n",
    "# Truncated Newton algorithm (TNC) is equivalent to MATLAB's fminunc\n",
    "# See https://stackoverflow.com/questions/18801002/fminunc-alternate-in-numpy\n",
    "# jac=True: Jacobian / Gradient returned\n",
    "res = optimize.minimize(costFunction,\n",
    "                        initial_theta,\n",
    "                        (X, y),\n",
    "                        jac=True,\n",
    "                        method='TNC',\n",
    "                        options=options)\n",
    "cost = res.fun\n",
    "theta = res.x\n",
    "```"
   ]
  },
  {
   "cell_type": "markdown",
   "id": "143fbfcf-a7b4-4b40-8298-6519d210d4d8",
   "metadata": {},
   "source": [
    "## 1.5. Prediction: `predict.m`"
   ]
  },
  {
   "cell_type": "code",
   "execution_count": 274,
   "id": "6ee15c62-9508-48cf-be13-ebf80a9ca7c3",
   "metadata": {},
   "outputs": [],
   "source": [
    "% Student with 45 in exam 1, 85 in exam 2 -> predict whether he/she passes\n",
    "x = [1 45 85];"
   ]
  },
  {
   "cell_type": "code",
   "execution_count": 277,
   "id": "9a02e1a4-dfc5-47f3-bfec-ac09374d8810",
   "metadata": {},
   "outputs": [
    {
     "name": "stdout",
     "output_type": "stream",
     "text": [
      "h = 0.7763\n"
     ]
    }
   ],
   "source": [
    "h = sigmoid(x*optTheta) % if h > 0.5 -> y_hat = 1"
   ]
  },
  {
   "cell_type": "code",
   "execution_count": 278,
   "id": "730b00ac-f0b1-497a-9b1b-4450672799a1",
   "metadata": {},
   "outputs": [
    {
     "name": "stdout",
     "output_type": "stream",
     "text": [
      "Pass!\n"
     ]
    }
   ],
   "source": [
    "if (h > 0.5)\n",
    "    disp('Pass!')\n",
    "else\n",
    "    disp('Not passed!')\n",
    "end"
   ]
  },
  {
   "cell_type": "code",
   "execution_count": 281,
   "id": "2415fc54-9309-4879-8c02-f189ae2f0fce",
   "metadata": {},
   "outputs": [],
   "source": [
    "p = sigmoid(X*optTheta);"
   ]
  },
  {
   "cell_type": "code",
   "execution_count": 284,
   "id": "0ecb7099-0c3d-400a-9814-afae058f56a8",
   "metadata": {},
   "outputs": [],
   "source": [
    "y_hat = p >= 0.5;"
   ]
  },
  {
   "cell_type": "code",
   "execution_count": 285,
   "id": "462ddb4b-3cd4-47b0-9876-119531299a1b",
   "metadata": {},
   "outputs": [
    {
     "name": "stdout",
     "output_type": "stream",
     "text": [
      "ans = 0.8900\n"
     ]
    }
   ],
   "source": [
    "% Accuracy of training\n",
    "mean(y == y_hat)"
   ]
  },
  {
   "cell_type": "markdown",
   "id": "3cd2bcfa-e01d-4552-8d83-d83b2da02b1b",
   "metadata": {},
   "source": [
    "## Exercise 2: Regularized Logistic Regression\n",
    "\n",
    "Regularized Logistic Regression: Microchips are acccepted or rejected depending on their results of two tests.\n",
    "\n",
    "The decision boundary is not linear anymore!"
   ]
  },
  {
   "cell_type": "markdown",
   "id": "6c645e0c-127e-4836-ba3d-564a66e5ae7e",
   "metadata": {},
   "source": [
    "## 2.1 Visualizing the Data"
   ]
  },
  {
   "cell_type": "code",
   "execution_count": 287,
   "id": "e74618bc-125e-4397-83f0-809c884f58a8",
   "metadata": {},
   "outputs": [],
   "source": [
    "data = load('ex2data2.txt');\n",
    "X = data(:, 1:2); y = data(:, 3);"
   ]
  },
  {
   "cell_type": "code",
   "execution_count": 290,
   "id": "213f4229-b393-4639-8e38-f6e64085a4ee",
   "metadata": {},
   "outputs": [
    {
     "name": "stdout",
     "output_type": "stream",
     "text": [
      "ans = -98.828\n"
     ]
    },
    {
     "data": {
      "image/png": "[encoded data removed]",
      "text/plain": [
       "<IPython.core.display.Image object>"
      ]
     },
     "metadata": {},
     "output_type": "display_data"
    }
   ],
   "source": [
    "plotData(X,y)"
   ]
  },
  {
   "cell_type": "markdown",
   "id": "f4bf73a1-d485-493d-bd76-d8c2db2443cf",
   "metadata": {},
   "source": [
    "## 2.2 Feature Mapping: Polynomial Logistic Regression"
   ]
  },
  {
   "cell_type": "code",
   "execution_count": 296,
   "id": "588eae2a-9bbf-4442-bf10-6e031202cbc4",
   "metadata": {},
   "outputs": [],
   "source": [
    "% Util file from the exercise kit\n",
    "% [X1, X2] transformed into a 28-dimensional feature array!\n",
    "% This allows for non-linear decision boundaries\n",
    "% but overfitting risk arises!\n",
    "function out = mapFeature(X1, X2)\n",
    "    % MAPFEATURE Feature mapping function to polynomial features\n",
    "    %\n",
    "    %   MAPFEATURE(X1, X2) maps the two input features\n",
    "    %   to quadratic features used in the regularization exercise.\n",
    "    %\n",
    "    %   Returns a new feature array with more features, comprising of \n",
    "    %   X1, X2, X1.^2, X1*X2, X2.^2, X1.^3, ... , X1*X2.^5, X2.^6\n",
    "    %\n",
    "    %   Inputs X1, X2 must be the same size\n",
    "    %\n",
    "    degree = 6;\n",
    "    out = ones(size(X1(:,1)));\n",
    "    for i = 1:degree\n",
    "        for j = 0:i\n",
    "            out(:, end+1) = (X1.^(i-j)).*(X2.^j);\n",
    "        end\n",
    "    end\n",
    "end"
   ]
  },
  {
   "cell_type": "markdown",
   "id": "83feac48-8760-40fb-8379-34bffcca2fb4",
   "metadata": {},
   "source": [
    "## 2.3 Cost Function and Gradient with Regularization: `costFunctionReg.m`"
   ]
  },
  {
   "cell_type": "markdown",
   "id": "d1ca2964-3986-492a-915d-2bde4790f930",
   "metadata": {},
   "source": [
    "Formulae for the cost function and its gradient. Note that $\\theta_0$ is not used for regularization:\n",
    "\n",
    "$$ J(\\theta) = \\frac{1}{m} \\sum_{i=1}^m \\left[ -y^{(i)}\\log \\left( h_\\theta \\left(x^{(i)} \\right) \\right) - \\left( 1 - y^{(i)} \\right) \\log \\left( 1 - h_\\theta \\left( x^{(i)} \\right) \\right) \\right] + \\frac{\\lambda}{2m} \\sum_{j=1}^n \\theta_j^2 $$\n",
    "\n",
    "$$ \\frac{\\partial J(\\theta)}{\\partial \\theta_0} = \\frac{1}{m} \\sum_{i=1}^m \\left( h_\\theta \\left(x^{(i)}\\right) - y^{(i)} \\right) x_j^{(i)} \\qquad \\text{for } j =0 $$\n",
    "\n",
    "$$ \\frac{\\partial J(\\theta)}{\\partial \\theta_j} = \\left( \\frac{1}{m} \\sum_{i=1}^m \\left( h_\\theta \\left(x^{(i)}\\right) - y^{(i)} \\right) x_j^{(i)} \\right) + \\frac{\\lambda}{m}\\theta_j \\qquad \\text{for } j \\ge 1 $$"
   ]
  },
  {
   "cell_type": "code",
   "execution_count": 306,
   "id": "fb2eb5a6-ae05-4d06-99f1-04790b045a6e",
   "metadata": {},
   "outputs": [],
   "source": [
    "function [J, grad] = costFunctionReg(theta, X, y, lambda)\n",
    "    m = length(y); % number of training examples\n",
    "    n = length(theta) - 1;\n",
    "    J = 0;\n",
    "    grad = zeros(size(theta));\n",
    "\n",
    "    %h = 1.0 ./ (1 .+ exp(-X*theta)); % X*theta is mx1 -> h = sigmoid(X*theta) is mx1\n",
    "    h = sigmoid(X*theta); % X*theta is mx1 -> h = sigmoid(X*theta) is mx1\n",
    "    J = (-1.0/m)*(y'*log(h) + (1.-y)'*log(1.-h));\n",
    "    e = (h-y); % m x 1\n",
    "    grad = (1.0/m)*e'*X; % 1 x (n+1)\n",
    "    \n",
    "    % Regularization terms\n",
    "    % Cost    \n",
    "    % theta'*theta, but without theta_0\n",
    "    J = J + (0.5*lambda/m)*theta(2:(n+1))'*theta(2:(n+1));\n",
    "    % Gradient\n",
    "    t = (lambda/m)*theta'; % 1 x (n+1)\n",
    "    t(1) = 0; % remove theta_0\n",
    "    grad = grad + t;\n",
    "end"
   ]
  },
  {
   "cell_type": "code",
   "execution_count": 314,
   "id": "56e5821d-12f7-47d5-93b0-2dd7841eb69d",
   "metadata": {},
   "outputs": [],
   "source": [
    "data = load('ex2data2.txt');\n",
    "X = data(:, 1:2); y = data(:, 3);\n",
    "\n",
    "X = mapFeature(X(:,1), X(:,2));\n",
    "\n",
    "% Initialize fitting parameters\n",
    "initial_theta = zeros(size(X, 2), 1);\n",
    "\n",
    "% Set regularization parameter lambda to 1\n",
    "lambda = 1;\n",
    "\n",
    "% Compute and display initial cost and gradient for regularized logistic\n",
    "% regression\n",
    "[cost, grad] = costFunctionReg(initial_theta, X, y, lambda);"
   ]
  },
  {
   "cell_type": "code",
   "execution_count": 315,
   "id": "b0398e77-718d-44da-89b0-13e5d99b7bc6",
   "metadata": {},
   "outputs": [
    {
     "name": "stdout",
     "output_type": "stream",
     "text": [
      "cost = 0.6931\n"
     ]
    }
   ],
   "source": [
    "cost"
   ]
  },
  {
   "cell_type": "markdown",
   "id": "151fc9d8-6c99-4543-9e2a-3aef2fd9ad46",
   "metadata": {},
   "source": [
    "## 2.4 Plotting the Nonlinear Decision Boundary: `plotDecisionBoundary.m`"
   ]
  },
  {
   "cell_type": "code",
   "execution_count": 310,
   "id": "459af543-851a-4e84-bf73-b9f23a1a2b3c",
   "metadata": {},
   "outputs": [],
   "source": [
    "% This a utility function provided in the course\n",
    "% It is interesting to have it since curvy contours are ploted\n",
    "% if nonlinear decision boundaries are created,\n",
    "% i.e., when we have more than two features.\n",
    "\n",
    "\n",
    "function plotDecisionBoundary(theta, X, y)\n",
    "%PLOTDECISIONBOUNDARY Plots the data points X and y into a new figure with\n",
    "%the decision boundary defined by theta\n",
    "%   PLOTDECISIONBOUNDARY(theta, X,y) plots the data points with + for the \n",
    "%   positive examples and o for the negative examples. X is assumed to be \n",
    "%   a either \n",
    "%   1) Mx3 matrix, where the first column is an all-ones column for the \n",
    "%      intercept.\n",
    "%   2) MxN, N>3 matrix, where the first column is all-ones\n",
    "\n",
    "% Plot Data\n",
    "plotData(X(:,2:3), y);\n",
    "hold on\n",
    "\n",
    "if size(X, 2) <= 3\n",
    "    % Only need 2 points to define a line, so choose two endpoints\n",
    "    plot_x = [min(X(:,2))-2,  max(X(:,2))+2];\n",
    "\n",
    "    % Calculate the decision boundary line\n",
    "    plot_y = (-1./theta(3)).*(theta(2).*plot_x + theta(1));\n",
    "\n",
    "    % Plot, and adjust axes for better viewing\n",
    "    plot(plot_x, plot_y)\n",
    "    \n",
    "    % Legend, specific for the exercise\n",
    "    legend('Admitted', 'Not admitted', 'Decision Boundary')\n",
    "    axis([30, 100, 30, 100])\n",
    "else\n",
    "    % Here is the grid range\n",
    "    u = linspace(-1, 1.5, 50);\n",
    "    v = linspace(-1, 1.5, 50);\n",
    "\n",
    "    z = zeros(length(u), length(v));\n",
    "    % Evaluate z = theta*x over the grid\n",
    "    for i = 1:length(u)\n",
    "        for j = 1:length(v)\n",
    "            z(i,j) = mapFeature(u(i), v(j))*theta;\n",
    "        end\n",
    "    end\n",
    "    z = z'; % important to transpose z before calling contour\n",
    "\n",
    "    % Plot z = 0\n",
    "    % Notice you need to specify the range [0, 0]\n",
    "    contour(u, v, z, [0, 0], 'LineWidth', 2)\n",
    "end\n",
    "hold off\n",
    "\n",
    "end\n"
   ]
  },
  {
   "cell_type": "markdown",
   "id": "08b82bcd-af23-458f-8ac7-38bfc37cfcc4",
   "metadata": {},
   "source": [
    "### Optimize & Plot"
   ]
  },
  {
   "cell_type": "code",
   "execution_count": 318,
   "id": "4484da49-4f16-4574-8b7f-2b6613c4dcbf",
   "metadata": {},
   "outputs": [],
   "source": [
    "data = load('ex2data2.txt');\n",
    "X = data(:, 1:2); y = data(:, 3);\n",
    "\n",
    "X = mapFeature(X(:,1), X(:,2));\n",
    "\n",
    "% Initialize fitting parameters\n",
    "initial_theta = zeros(size(X, 2), 1);\n",
    "\n",
    "% Set regularization parameter lambda to 1 (you should vary this)\n",
    "lambda = 1;\n",
    "\n",
    "% Set Options\n",
    "options = optimset('GradObj', 'on', 'MaxIter', 400);\n",
    "\n",
    "% Optimize\n",
    "[theta, J, exit_flag] = fminunc(@(t)(costFunctionReg(t, X, y, lambda)), initial_theta, options);"
   ]
  },
  {
   "cell_type": "code",
   "execution_count": 319,
   "id": "832dcbe2-51b2-4fa0-a3a2-f1cf6a67d91d",
   "metadata": {},
   "outputs": [
    {
     "name": "stdout",
     "output_type": "stream",
     "text": [
      "ans = -98.659\n"
     ]
    },
    {
     "data": {
      "image/png": "[encoded data removed]",
      "text/plain": [
       "<IPython.core.display.Image object>"
      ]
     },
     "metadata": {},
     "output_type": "display_data"
    }
   ],
   "source": [
    "plotDecisionBoundary(theta, X, y)"
   ]
  },
  {
   "cell_type": "markdown",
   "id": "ab274e79-f16a-4588-94b5-45af94cc2f64",
   "metadata": {},
   "source": [
    "## 2.5 Trying Different Regularization Parameters `lambda`"
   ]
  },
  {
   "cell_type": "markdown",
   "id": "ec6f6d2d-c2fa-4462-a442-8a6145f39166",
   "metadata": {},
   "source": [
    "Optimally `1 - alpha*lambda/m --> 0.99`.\n",
    "However, since we are using an advanced optimization method, we have no `alpha`."
   ]
  },
  {
   "cell_type": "code",
   "execution_count": 320,
   "id": "45e83207-5292-4755-b6af-79a3194163fe",
   "metadata": {},
   "outputs": [],
   "source": [
    "data = load('ex2data2.txt');\n",
    "X = data(:, 1:2); y = data(:, 3);\n",
    "X = mapFeature(X(:,1), X(:,2));\n",
    "% Initialize fitting parameters\n",
    "initial_theta = zeros(size(X, 2), 1);\n",
    "% Set Options\n",
    "options = optimset('GradObj', 'on', 'MaxIter', 400);"
   ]
  },
  {
   "cell_type": "code",
   "execution_count": 322,
   "id": "a742eb0a-013b-433b-93ce-28ae2f67e259",
   "metadata": {},
   "outputs": [],
   "source": [
    "% No regularization: Overfittig\n",
    "lambda = 0;\n",
    "% Optimize\n",
    "[theta, J, exit_flag] = fminunc(@(t)(costFunctionReg(t, X, y, lambda)), initial_theta, options);"
   ]
  },
  {
   "cell_type": "code",
   "execution_count": 323,
   "id": "30bc2caa-f51b-489c-a45e-23a3cd3d34a0",
   "metadata": {},
   "outputs": [
    {
     "name": "stdout",
     "output_type": "stream",
     "text": [
      "ans = -98.283\n"
     ]
    },
    {
     "data": {
      "image/png": "[encoded data removed]",
      "text/plain": [
       "<IPython.core.display.Image object>"
      ]
     },
     "metadata": {},
     "output_type": "display_data"
    }
   ],
   "source": [
    "plotDecisionBoundary(theta, X, y)"
   ]
  },
  {
   "cell_type": "code",
   "execution_count": 326,
   "id": "a7a3bead-f77a-401a-a505-1ad69d456ba2",
   "metadata": {},
   "outputs": [],
   "source": [
    "% Too much regularization: Underfittig\n",
    "lambda = 100;\n",
    "% Optimize\n",
    "[theta, J, exit_flag] = fminunc(@(t)(costFunctionReg(t, X, y, lambda)), initial_theta, options);"
   ]
  },
  {
   "cell_type": "code",
   "execution_count": 327,
   "id": "d7e0e3d1-fdbc-48b2-86bc-4fbb71d1091e",
   "metadata": {},
   "outputs": [
    {
     "name": "stdout",
     "output_type": "stream",
     "text": [
      "ans = -98.518\n"
     ]
    },
    {
     "data": {
      "image/png": "[encoded data removed]",
      "text/plain": [
       "<IPython.core.display.Image object>"
      ]
     },
     "metadata": {},
     "output_type": "display_data"
    }
   ],
   "source": [
    "plotDecisionBoundary(theta, X, y)"
   ]
  },
  {
   "cell_type": "markdown",
   "id": "24302e1a-031e-418c-96aa-17433055ccde",
   "metadata": {},
   "source": [
    "## 2.6 Python Notes: Mapping Features & Plotting Nonlinear Decision Boundaries"
   ]
  },
  {
   "cell_type": "markdown",
   "id": "100b0eff-1884-4ecd-a84a-1d5c611539df",
   "metadata": {},
   "source": [
    "The following is the translation of the above functions `mapFeature()` and `plotDecisionBoundary()` to python.\n",
    "The code is from [ml-coursera-python-assignments](https://github.com/mxagar/ml-coursera-python-assignments), forked from dibgerge's repository on Github."
   ]
  },
  {
   "cell_type": "markdown",
   "id": "3093794c-e147-46e3-a00a-bf00e04a91fc",
   "metadata": {},
   "source": [
    "```python\n",
    "import numpy as np\n",
    "from matplotlib import pyplot\n",
    "\n",
    "def mapFeature(X1, X2, degree=6):\n",
    "    \"\"\"\n",
    "    Maps the two input features to quadratic features used in the regularization exercise.\n",
    "\n",
    "    Returns a new feature array with more features, comprising of\n",
    "    X1, X2, X1.^2, X2.^2, X1*X2, X1*X2.^2, etc..\n",
    "\n",
    "    Parameters\n",
    "    ----------\n",
    "    X1 : array_like\n",
    "        A vector of shape (m, 1), containing one feature for all examples.\n",
    "\n",
    "    X2 : array_like\n",
    "        A vector of shape (m, 1), containing a second feature for all examples.\n",
    "        Inputs X1, X2 must be the same size.\n",
    "\n",
    "    degree: int, optional\n",
    "        The polynomial degree.\n",
    "\n",
    "    Returns\n",
    "    -------\n",
    "    : array_like\n",
    "        A matrix of of m rows, and columns depend on the degree of polynomial.\n",
    "    \"\"\"\n",
    "    if X1.ndim > 0:\n",
    "        out = [np.ones(X1.shape[0])]\n",
    "    else:\n",
    "        out = [np.ones(1)]\n",
    "\n",
    "    for i in range(1, degree + 1):\n",
    "        for j in range(i + 1):\n",
    "            out.append((X1 ** (i - j)) * (X2 ** j))\n",
    "\n",
    "    if X1.ndim > 0:\n",
    "        return np.stack(out, axis=1)\n",
    "    else:\n",
    "        return np.array(out)\n",
    "\n",
    "\n",
    "def plotDecisionBoundary(plotData, theta, X, y):\n",
    "    \"\"\"\n",
    "    Plots the data points X and y into a new figure with the decision boundary defined by theta.\n",
    "    Plots the data points with * for the positive examples and o for  the negative examples.\n",
    "\n",
    "    Parameters\n",
    "    ----------\n",
    "    plotData : func\n",
    "        A function reference for plotting the X, y data.\n",
    "\n",
    "    theta : array_like\n",
    "        Parameters for logistic regression. A vector of shape (n+1, ).\n",
    "\n",
    "    X : array_like\n",
    "        The input dataset. X is assumed to be  a either:\n",
    "            1) Mx3 matrix, where the first column is an all ones column for the intercept.\n",
    "            2) MxN, N>3 matrix, where the first column is all ones.\n",
    "\n",
    "    y : array_like\n",
    "        Vector of data labels of shape (m, ).\n",
    "    \"\"\"\n",
    "    # make sure theta is a numpy array\n",
    "    theta = np.array(theta)\n",
    "\n",
    "    # Plot Data (remember first column in X is the intercept)\n",
    "    plotData(X[:, 1:3], y)\n",
    "\n",
    "    if X.shape[1] <= 3:\n",
    "        # Only need 2 points to define a line, so choose two endpoints\n",
    "        plot_x = np.array([np.min(X[:, 1]) - 2, np.max(X[:, 1]) + 2])\n",
    "\n",
    "        # Calculate the decision boundary line\n",
    "        plot_y = (-1. / theta[2]) * (theta[1] * plot_x + theta[0])\n",
    "\n",
    "        # Plot, and adjust axes for better viewing\n",
    "        pyplot.plot(plot_x, plot_y)\n",
    "\n",
    "        # Legend, specific for the exercise\n",
    "        pyplot.legend(['Admitted', 'Not admitted', 'Decision Boundary'])\n",
    "        pyplot.xlim([30, 100])\n",
    "        pyplot.ylim([30, 100])\n",
    "    else:\n",
    "        # Here is the grid range\n",
    "        u = np.linspace(-1, 1.5, 50)\n",
    "        v = np.linspace(-1, 1.5, 50)\n",
    "\n",
    "        z = np.zeros((u.size, v.size))\n",
    "        # Evaluate z = theta*x over the grid\n",
    "        for i, ui in enumerate(u):\n",
    "            for j, vj in enumerate(v):\n",
    "                z[i, j] = np.dot(mapFeature(ui, vj), theta)\n",
    "\n",
    "        z = z.T  # important to transpose z before calling contour\n",
    "        # print(z)\n",
    "\n",
    "        # Plot z = 0\n",
    "        pyplot.contour(u, v, z, levels=[0], linewidths=2, colors='g')\n",
    "        pyplot.contourf(u, v, z, levels=[np.min(z), 0, np.max(z)], cmap='Greens', alpha=0.4)\n",
    "\n",
    "```"
   ]
  },
  {
   "cell_type": "code",
   "execution_count": null,
   "id": "b3b55ebc-2e01-4bed-9efc-d93b17662be0",
   "metadata": {},
   "outputs": [],
   "source": []
  }
 ],
 "metadata": {
  "kernelspec": {
   "display_name": "Octave",
   "language": "octave",
   "name": "octave"
  },
  "language_info": {
   "file_extension": ".m",
   "help_links": [
    {
     "text": "GNU Octave",
     "url": "https://www.gnu.org/software/octave/support.html"
    },
    {
     "text": "Octave Kernel",
     "url": "https://github.com/Calysto/octave_kernel"
    },
    {
     "text": "MetaKernel Magics",
     "url": "https://metakernel.readthedocs.io/en/latest/source/README.html"
    }
   ],
   "mimetype": "text/x-octave",
   "name": "octave",
   "version": "6.3.0"
  }
 },
 "nbformat": 4,
 "nbformat_minor": 5
}
