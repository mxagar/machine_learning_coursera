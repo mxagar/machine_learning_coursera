{
 "cells": [
  {
   "cell_type": "markdown",
   "id": "71fed8fb-2659-4b3d-bc38-b631843fe586",
   "metadata": {},
   "source": [
    "# Exercise 3: Multi-Class Classification and Neural Networks"
   ]
  },
  {
   "cell_type": "markdown",
   "id": "a2f2be33-a87f-4625-84b0-5dd0955930fc",
   "metadata": {},
   "source": [
    "Hand-written digits recognition with (part 1) multi-class logistic regression and (part 2) neural networks.\n",
    "\n",
    "Files provided by Coursera, located under `../exercises/ex1-ex8-octave/ex3`\n",
    "\n",
    "- `ex3.m` - Octave/MATLAB script that steps you through part 1\n",
    "- `ex3_nn.m` - Octave/MATLAB script that steps you through part 2\n",
    "- `ex3data1.mat` - Training set of hand-written digits\n",
    "- `ex3weights.mat` - Initial weights for the neural network exercise\n",
    "- `submit.m` - Submission script that sends your solutions to our servers\n",
    "- `displayData.m` - Function to help visualize the dataset\n",
    "- `fmincg.m` - Function minimization routine (similar to `fminunc`)\n",
    "- `sigmoid.m` - Sigmoid function\n",
    "\n",
    "Files to complete:\n",
    "\n",
    "- `lrCostFunction.m` - Logistic regression cost function\n",
    "- `oneVsAll.m` - Train a one-vs-all multi-class classifier\n",
    "- `predictOneVsAll.m` - Predict using a one-vs-all multi-class classifier\n",
    "- `predict.m` - Neural network prediction function\n",
    "\n",
    "Workflow:\n",
    "\n",
    "- Download latest Octave version of exercise from Coursera\n",
    "- Complete code in exercise files following `ex3.pdf`\n",
    "- Whenever an exercise part is finished\n",
    "  - Check it with `ex3` or `ex3_nn` in Octave terminal\n",
    "  - Create a submission token on Coursera (exercise submission page, it lasts 30 minutes)\n",
    "  - Execute `submit` in Octave terminal\n",
    "  - Introduce email and token\n",
    "  - Results appear\n",
    "\n",
    "**Overview of contents:**\n",
    "\n",
    "0. Setup: `gnuplot`\n",
    "1. Part 1: Multi-Class Logistic Regression"
   ]
  },
  {
   "cell_type": "markdown",
   "id": "5bc61c1e-b8a2-4c59-853b-1580087652f5",
   "metadata": {},
   "source": [
    "## 0. Setup: `gnuplot`"
   ]
  },
  {
   "cell_type": "code",
   "execution_count": 1,
   "id": "0dd1eae8-9473-4194-9f90-b66df867ec75",
   "metadata": {},
   "outputs": [],
   "source": [
    "graphics_toolkit (\"gnuplot\");"
   ]
  },
  {
   "cell_type": "code",
   "execution_count": 2,
   "id": "90652c90-1a46-4fdf-97c0-e59f2dc0ee1b",
   "metadata": {},
   "outputs": [],
   "source": [
    "%plot -b inline:gnuplot"
   ]
  },
  {
   "cell_type": "markdown",
   "id": "54b04749-6d8c-4fd8-82db-836dcb392a3a",
   "metadata": {},
   "source": [
    "## 1. Part 1: Multi-Class Logistic Regression"
   ]
  },
  {
   "cell_type": "code",
   "execution_count": null,
   "id": "dd1b88ac-04ee-425f-ae29-a581ac2601bd",
   "metadata": {},
   "outputs": [],
   "source": []
  }
 ],
 "metadata": {
  "kernelspec": {
   "display_name": "Octave",
   "language": "octave",
   "name": "octave"
  },
  "language_info": {
   "file_extension": ".m",
   "help_links": [
    {
     "text": "GNU Octave",
     "url": "https://www.gnu.org/software/octave/support.html"
    },
    {
     "text": "Octave Kernel",
     "url": "https://github.com/Calysto/octave_kernel"
    },
    {
     "text": "MetaKernel Magics",
     "url": "https://metakernel.readthedocs.io/en/latest/source/README.html"
    }
   ],
   "mimetype": "text/x-octave",
   "name": "octave",
   "version": "6.3.0"
  }
 },
 "nbformat": 4,
 "nbformat_minor": 5
}
