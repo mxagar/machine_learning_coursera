{
 "cells": [
  {
   "cell_type": "markdown",
   "id": "71fed8fb-2659-4b3d-bc38-b631843fe586",
   "metadata": {},
   "source": [
    "# Exercise 3: Multi-Class Classification and Neural Networks"
   ]
  },
  {
   "cell_type": "markdown",
   "id": "a2f2be33-a87f-4625-84b0-5dd0955930fc",
   "metadata": {},
   "source": [
    "Hand-written digits recognition with (part 1) multi-class logistic regression and (part 2) neural networks. The digits are a subset of the [MNIST dataset](http://yann.lecun.com/exdb/mnist/) by Yann LeCun. This exercise focuses on the logictic regression model for multi-class classification and on the feedforward pass of the neural network for the same dataset.\n",
    "\n",
    "Files provided by Coursera, located under `../exercises/ex1-ex8-octave/ex3`\n",
    "\n",
    "- `ex3.m` - Octave/MATLAB script that steps you through part 1\n",
    "- `ex3_nn.m` - Octave/MATLAB script that steps you through part 2\n",
    "- `ex3data1.mat` - Training set of hand-written digits\n",
    "- `ex3weights.mat` - Initial weights for the neural network exercise\n",
    "- `submit.m` - Submission script that sends your solutions to our servers\n",
    "- `displayData.m` - Function to help visualize the dataset\n",
    "- `fmincg.m` - Function minimization routine (similar to `fminunc`)\n",
    "- `sigmoid.m` - Sigmoid function\n",
    "\n",
    "Files to complete:\n",
    "\n",
    "- `lrCostFunction.m` - Logistic regression cost function\n",
    "- `oneVsAll.m` - Train a one-vs-all multi-class classifier\n",
    "- `predictOneVsAll.m` - Predict using a one-vs-all multi-class classifier\n",
    "- `predict.m` - Neural network prediction function\n",
    "\n",
    "Workflow:\n",
    "\n",
    "- Download latest Octave version of exercise from Coursera\n",
    "- Complete code in exercise files following `ex3.pdf`\n",
    "- Whenever an exercise part is finished\n",
    "  - Check it with `ex3` or `ex3_nn` in Octave terminal\n",
    "  - Create a submission token on Coursera (exercise submission page, it lasts 30 minutes)\n",
    "  - Execute `submit` in Octave terminal\n",
    "  - Introduce email and token\n",
    "  - Results appear\n",
    "\n",
    "**Overview of contents:**\n",
    "\n",
    "0. Setup: `gnuplot`\n",
    "1. Part 1: Multi-Class Logistic Regression\n",
    "    - 1.1 Dataset Loading & Visualization\n",
    "    - 1.2 Vectorized Logistic Regression: `lrCostFunction.m`\n",
    "    - 1.3 Regularized & Vectorized Logistic Regression: `lrCostFunction.m`\n",
    "    - 1.4 One-vs-All Classification: `oneVsAll.m`\n",
    "    - 1.5 One-vs-All Prediction: `predictOneVsAll.m`\n",
    "2. Part 2: Neural Networks\n",
    "    - 2.1 Loading the Data: Pre-Trained Weights2.1 Loading the Data: Pre-Trained Weights\n",
    "    - 2.2 Feedforward Propagation and Prediction: `predict.m`2.2 Feedforward Propagation and Prediction: `predict.m`\n"
   ]
  },
  {
   "cell_type": "markdown",
   "id": "5bc61c1e-b8a2-4c59-853b-1580087652f5",
   "metadata": {},
   "source": [
    "## 0. Setup: `gnuplot`"
   ]
  },
  {
   "cell_type": "code",
   "execution_count": 1,
   "id": "0dd1eae8-9473-4194-9f90-b66df867ec75",
   "metadata": {},
   "outputs": [],
   "source": [
    "graphics_toolkit (\"gnuplot\");"
   ]
  },
  {
   "cell_type": "code",
   "execution_count": 2,
   "id": "90652c90-1a46-4fdf-97c0-e59f2dc0ee1b",
   "metadata": {},
   "outputs": [],
   "source": [
    "%plot -b inline:gnuplot"
   ]
  },
  {
   "cell_type": "markdown",
   "id": "54b04749-6d8c-4fd8-82db-836dcb392a3a",
   "metadata": {},
   "source": [
    "## 1. Part 1: Multi-Class Logistic Regression"
   ]
  },
  {
   "cell_type": "markdown",
   "id": "94be3b87-2c37-440a-a772-0978b20e34c2",
   "metadata": {},
   "source": [
    "### 1.1 Dataset Loading & Visualization"
   ]
  },
  {
   "cell_type": "code",
   "execution_count": 3,
   "id": "dd1b88ac-04ee-425f-ae29-a581ac2601bd",
   "metadata": {},
   "outputs": [],
   "source": [
    "% Load saved matrices from file\n",
    "load('ex3data1.mat');\n",
    "% The matrices X and y will now be in your Octave environment"
   ]
  },
  {
   "cell_type": "code",
   "execution_count": 7,
   "id": "d8d3543d-6f33-4d07-9928-2c4e51893be1",
   "metadata": {},
   "outputs": [
    {
     "name": "stdout",
     "output_type": "stream",
     "text": [
      "Variables visible from the current scope:\n",
      "\n",
      "X    ans  y\n",
      "\n"
     ]
    }
   ],
   "source": [
    "% Show variables in workspace\n",
    "who"
   ]
  },
  {
   "cell_type": "code",
   "execution_count": 9,
   "id": "81c82620-9bb9-48ed-b905-5e1edffb3447",
   "metadata": {},
   "outputs": [
    {
     "name": "stdout",
     "output_type": "stream",
     "text": [
      "ans =\n",
      "\n",
      "   5000    400\n",
      "\n"
     ]
    }
   ],
   "source": [
    "% X: 5000 examples of unrolled 20x20 pixel images containing hand-written digits\n",
    "% pixels contain grayscale intensities\n",
    "size(X)"
   ]
  },
  {
   "cell_type": "code",
   "execution_count": 21,
   "id": "5b2ac113-5a60-45cd-aa16-b004844a4658",
   "metadata": {},
   "outputs": [
    {
     "name": "stdout",
     "output_type": "stream",
     "text": [
      "ans =\n",
      "\n",
      "   5000      1\n",
      "\n"
     ]
    }
   ],
   "source": [
    "% y: true label for each example: 1-9, 10:0 (label 10 means digit 0)\n",
    "size(y)"
   ]
  },
  {
   "cell_type": "code",
   "execution_count": 32,
   "id": "7478556b-798e-43fd-9001-20b36c266b9a",
   "metadata": {},
   "outputs": [
    {
     "name": "stdout",
     "output_type": "stream",
     "text": [
      "   1.047483  -0.057515\n",
      "   10    1\n"
     ]
    }
   ],
   "source": [
    "% Check min and max values\n",
    "disp([max(X(1,:)),min(X(1,:))])\n",
    "disp([max(y(:)),min(y(:))])"
   ]
  },
  {
   "cell_type": "code",
   "execution_count": 43,
   "id": "d037aa6e-36dd-4d5f-9710-1557a1afd3eb",
   "metadata": {},
   "outputs": [],
   "source": [
    "% Randomly select 100 data points to display\n",
    "m = size(X, 1);\n",
    "rand_indices = randperm(m);\n",
    "num = 10; % num^2 images are visualized in a tiled canvas\n",
    "sel = X(rand_indices(1:num^2), :);"
   ]
  },
  {
   "cell_type": "code",
   "execution_count": 44,
   "id": "0dc20874-3439-4bff-991c-b9d8a1451ef0",
   "metadata": {},
   "outputs": [
    {
     "data": {
      "image/png": "[encoded data removed]",
      "text/plain": [
       "<IPython.core.display.Image object>"
      ]
     },
     "metadata": {},
     "output_type": "display_data"
    }
   ],
   "source": [
    "% Function provided in the course\n",
    "% See how sel is created\n",
    "% Otherwise, the numer of tiles in the image width can be passed as param (see function)\n",
    "displayData(sel);"
   ]
  },
  {
   "cell_type": "markdown",
   "id": "85a3d47a-8c5a-4207-abbc-158bfd15cc7e",
   "metadata": {},
   "source": [
    "### 1.2 Vectorized Logistic Regression: `lrCostFunction.m`"
   ]
  },
  {
   "cell_type": "markdown",
   "id": "0d94d724-80d6-4b57-8b70-05ca54c99d26",
   "metadata": {},
   "source": [
    "We need to build 10 separate logistic regression classifiers (each class against the rest).\n",
    "First, the cost function and its gradient need to be defined in a function.\n",
    "The main equations to be implemented are the following:"
   ]
  },
  {
   "cell_type": "markdown",
   "id": "cf83582b-b2bb-4751-94dc-c1d34a9632f5",
   "metadata": {},
   "source": [
    "**Cost:**\n",
    "\n",
    "$$ J(\\theta) = \\frac{1}{m} \\sum_{i=1}^m \\left[ -y^{(i)} \\log \\left( h_\\theta\\left( x^{(i)} \\right) \\right) - \\left(1 - y^{(i)} \\right) \\log \\left(1 - h_\\theta \\left( x^{(i)} \\right) \\right) \\right] $$"
   ]
  },
  {
   "cell_type": "markdown",
   "id": "3fbe08fb-44b0-45bc-83f4-ba413d5810dd",
   "metadata": {},
   "source": [
    "$$h_\\theta(x^{(i)}) = g(\\theta^T x^{(i)})$$ $$g(z) = \\frac{1}{1+e^{-z}}$$"
   ]
  },
  {
   "cell_type": "markdown",
   "id": "4971a468-b59e-45b4-8188-bb169bcc4e39",
   "metadata": {},
   "source": [
    "**Cost, vectorized:**\n",
    "\n",
    "$$h(X) = [h(x^{(1)}), ..., h(x^{(m)}]^{T} = [g(\\theta^{T}x^{(1)}), ..., g(\\theta^{T}x^{(m)})]^{T} \\in \\mathbf{R}^{m \\times 1}$$\n",
    "\n",
    "$$h(X) = g(X \\theta)$$"
   ]
  },
  {
   "cell_type": "markdown",
   "id": "04a5b11a-edc7-4f04-a0b3-2cbd71d11abe",
   "metadata": {},
   "source": [
    "**Gradient, vectorized:**\n",
    "\n",
    "$$\\frac{\\partial J }{\\partial \\theta_j} = \\frac{1}{m} \\sum_{i=1}^m \\left( \\left( h_\\theta\\left(x^{(i)}\\right) - y^{(i)} \\right)x_j^{(i)} \\right) $$"
   ]
  },
  {
   "cell_type": "markdown",
   "id": "05acd74a-0b06-4b89-a83a-f682f10d9e06",
   "metadata": {},
   "source": [
    "$$\n",
    "\\begin{align*}\n",
    "\\begin{bmatrix} \n",
    "\\frac{\\partial J}{\\partial \\theta_0} \\\\\n",
    "\\frac{\\partial J}{\\partial \\theta_1} \\\\\n",
    "\\frac{\\partial J}{\\partial \\theta_2} \\\\\n",
    "\\vdots \\\\\n",
    "\\frac{\\partial J}{\\partial \\theta_n}\n",
    "\\end{bmatrix} = &\n",
    "\\frac{1}{m} \\begin{bmatrix}\n",
    "\\sum_{i=1}^m \\left( \\left(h_\\theta\\left(x^{(i)}\\right) - y^{(i)} \\right)x_0^{(i)}\\right) \\\\\n",
    "\\sum_{i=1}^m \\left( \\left(h_\\theta\\left(x^{(i)}\\right) - y^{(i)} \\right)x_1^{(i)}\\right) \\\\\n",
    "\\sum_{i=1}^m \\left( \\left(h_\\theta\\left(x^{(i)}\\right) - y^{(i)} \\right)x_2^{(i)}\\right) \\\\\n",
    "\\vdots \\\\\n",
    "\\sum_{i=1}^m \\left( \\left(h_\\theta\\left(x^{(i)}\\right) - y^{(i)} \\right)x_n^{(i)}\\right) \\\\\n",
    "\\end{bmatrix} \\\\\n",
    "= & \\frac{1}{m} \\sum_{i=1}^m \\left( \\left(h_\\theta\\left(x^{(i)}\\right) - y^{(i)} \\right)x^{(i)}\\right) \\\\\n",
    "= & \\frac{1}{m} X^T \\left( h_\\theta(X) - Y\\right)\n",
    "\\end{align*}$$\n",
    "\n",
    "$$h(X), Y \\in \\mathbf{R}^{m \\times 1}, X^T \\in \\mathbf{R}^{n \\times m}$$"
   ]
  },
  {
   "cell_type": "code",
   "execution_count": 50,
   "id": "d04a3e34-4c5f-41b7-b2c5-b1355819f86f",
   "metadata": {},
   "outputs": [],
   "source": [
    "function g = sig(z)\n",
    "    g = 1.0 ./ (1.0 + exp(-z));\n",
    "end"
   ]
  },
  {
   "cell_type": "code",
   "execution_count": 51,
   "id": "2ca4a80d-de26-4a90-bd09-4d2f303e39a8",
   "metadata": {},
   "outputs": [],
   "source": [
    "% X -> must be extended with bias x_0 = 1\n",
    "% y -> one class vs. rest: this must be arranged\n",
    "function [J, grad] = costFunction(theta, X, y, lambda)\n",
    "    % Number of training examples\n",
    "    m = length(y); \n",
    "    % Initialize return variables\n",
    "    J = 0;\n",
    "    grad = zeros(size(theta));\n",
    "    % sigmoid(z): g = 1.0 ./ (1.0 + exp(-z));\n",
    "    z = X*theta; % (m x n) x (n x 1) -> (m x 1)\n",
    "    h = sig(z); % m x 1\n",
    "    J = (-1.0/m)*(y'*log(h) + (1.-y)'*log(1.-h));\n",
    "    e = (h-y); % m x 1\n",
    "    grad = (1.0/m)*X'*e; % (n x m) x (m x 1) -> (n x 1)\n",
    "end"
   ]
  },
  {
   "cell_type": "markdown",
   "id": "efb99ee6-a146-4f41-a9fb-ab37540cd83a",
   "metadata": {},
   "source": [
    "### 1.3 Regularized & Vectorized Logistic Regression: `lrCostFunction.m`"
   ]
  },
  {
   "cell_type": "markdown",
   "id": "37ced9ff-94e1-4b6e-bf5f-1b59ed52d989",
   "metadata": {},
   "source": [
    "$$ J(\\theta) = \\frac{1}{m} \\sum_{i=1}^m \\left[ -y^{(i)} \\log \\left(h_\\theta\\left(x^{(i)} \\right)\\right) - \\left( 1 - y^{(i)} \\right) \\log\\left(1 - h_\\theta \\left(x^{(i)} \\right) \\right) \\right] + \\frac{\\lambda}{2m} \\sum_{j=1}^n \\theta_j^2 $$\n",
    "\n"
   ]
  },
  {
   "cell_type": "markdown",
   "id": "d2de6159-0782-4e85-b682-7a58b3bb7d8b",
   "metadata": {},
   "source": [
    "$$\n",
    "\\begin{align*}\n",
    "& \\frac{\\partial J(\\theta)}{\\partial \\theta_0} = \\frac{1}{m} \\sum_{i=1}^m \\left( h_\\theta\\left( x^{(i)} \\right) - y^{(i)} \\right) x_j^{(i)}  & \\text{for } j = 0 \\\\\n",
    "& \\frac{\\partial J(\\theta)}{\\partial \\theta_j} = \\left( \\frac{1}{m} \\sum_{i=1}^m \\left( h_\\theta\\left( x^{(i)} \\right) - y^{(i)} \\right) x_j^{(i)} \\right) + \\frac{\\lambda}{m} \\theta_j & \\text{for } j  \\ge 1\n",
    "\\end{align*}\n",
    "$$\n",
    "\n"
   ]
  },
  {
   "cell_type": "code",
   "execution_count": 55,
   "id": "9a24c9db-0d9f-4f3f-a7b3-bd20e39ebf1b",
   "metadata": {},
   "outputs": [],
   "source": [
    "% X (m x (n+1)) -> must be extended with bias x_0 = 1\n",
    "% y (m x 1) -> one class vs. rest: this must be arranged\n",
    "function [J, grad] = costFunctionReg(theta, X, y, lambda)\n",
    "    % Number of training examples\n",
    "    m = length(y); \n",
    "    % Number features\n",
    "    n = size(X,2);     \n",
    "    % Initialize return variables\n",
    "    J = 0;\n",
    "    grad = zeros(size(theta));\n",
    "    % sigmoid(z): g = 1.0 ./ (1.0 + exp(-z));\n",
    "    z = X*theta; % (m x n) x (n x 1) -> (m x 1)\n",
    "    h = sig(z); % m x 1\n",
    "    J = (-1.0/m)*(y'*log(h) + (1.-y)'*log(1.-h));\n",
    "    % Cost Regularization\n",
    "    J = J + (0.5*lambda/m)*theta(2:n)'*theta(2:n)\n",
    "    % Gradient\n",
    "    e = (h-y); % m x 1\n",
    "    grad = (1.0/m)*X'*e; % (n x m) x (m x 1) -> (n x 1)\n",
    "    % Gradient Regularization\n",
    "    reg = (lambda/m)*theta;\n",
    "    reg(1) = 0;\n",
    "    grad = grad + reg;\n",
    "end"
   ]
  },
  {
   "cell_type": "markdown",
   "id": "9c8b3e49-5b26-47c2-9a36-5e515cddc662",
   "metadata": {},
   "source": [
    "### 1.4 One-vs-All Classification: `oneVsAll.m`"
   ]
  },
  {
   "cell_type": "code",
   "execution_count": 83,
   "id": "2ad2459a-7bf0-4763-b0ec-099a34bfc7d0",
   "metadata": {},
   "outputs": [],
   "source": [
    "% A custom optimization function (provided) is used\n",
    "% Basically one model (i.e., a set of params theta) is fitted for each class: one vs. all\n",
    "function [all_theta] = fitAll(X, y, num_labels, lambda)\n",
    "    %   [all_theta] = fitAll(X, y, num_labels, lambda) trains num_labels\n",
    "    %   logistic regression classifiers and returns each of these classifiers\n",
    "    %   in a matrix all_theta, where the i-th row of all_theta corresponds \n",
    "    %   to the classifier for label i\n",
    "\n",
    "    % Sizes\n",
    "    m = size(X, 1);\n",
    "    n = size(X, 2);\n",
    "\n",
    "    % Initialization of the return variables\n",
    "    all_theta = zeros(num_labels, n + 1);\n",
    "\n",
    "    % Add ones to the X data matrix: bias\n",
    "    X = [ones(m, 1) X];\n",
    "\n",
    "    % Hints & notes:\n",
    "    % - theta(:) column vector.\n",
    "    % - y == c: vector of 1's and 0's that tell you\n",
    "    % - use fmincg to optimize the cost in a for loop\n",
    "    %\n",
    "    % Example code for fmincg:\n",
    "    %\n",
    "    %     % Set Initial theta\n",
    "    %     initial_theta = zeros(n + 1, 1);\n",
    "    %     % Set options for fminunc\n",
    "    %     options = optimset('GradObj', 'on', 'MaxIter', 50);\n",
    "    %     % Run fmincg to obtain the optimal theta\n",
    "    %     % This function will return theta and the cost \n",
    "    %     [theta, J, iterations] = fmincg(@(t)(costFunctionReg(t, X, (y == c), lambda)), initial_theta, options);\n",
    "\n",
    "    initial_theta = zeros(n + 1, 1);\n",
    "    options = optimset('GradObj', 'on', 'MaxIter', 50);\n",
    "    \n",
    "    for c = 1:num_labels\n",
    "        %[theta, J, iterations] = fmincg(@(t)(lrCostFunction(t, X, (y == c), lambda)), initial_theta, options);\n",
    "        [theta, J, iterations] = fmincg(@(t)(costFunctionReg(t, X, (y == c), lambda)), initial_theta, options);\n",
    "        %[theta, J, exit_flag] = fminunc(@(t)(costFunctionReg(t, X, y, lambda)), initial_theta, options); = fminunc(@(t)(costFunctionReg(t, X, y, lambda)), initial_theta, options);        all_theta(c,:) = theta(:)';\n",
    "        all_theta(c,:) = theta(:)';\n",
    "    end\n",
    "\n",
    "end"
   ]
  },
  {
   "cell_type": "code",
   "execution_count": 79,
   "id": "74d043cc-39d4-4190-86bd-93373a764f6b",
   "metadata": {},
   "outputs": [],
   "source": [
    "num_labels = 10;\n",
    "lambda = 0.1;"
   ]
  },
  {
   "cell_type": "code",
   "execution_count": null,
   "id": "c9965251-10ad-48bf-b0c1-e783e4b4cec5",
   "metadata": {},
   "outputs": [],
   "source": [
    "[all_theta] = fitAll(X, y, num_labels, lambda);"
   ]
  },
  {
   "cell_type": "code",
   "execution_count": 81,
   "id": "96eae3f9-cdb5-4dcb-872a-319ec4340bd0",
   "metadata": {},
   "outputs": [
    {
     "name": "stdout",
     "output_type": "stream",
     "text": [
      "ans =\n",
      "\n",
      "    10   401\n",
      "\n"
     ]
    }
   ],
   "source": [
    "size(all_theta)"
   ]
  },
  {
   "cell_type": "code",
   "execution_count": 82,
   "id": "1400c456-cc57-4b28-af4d-ba283c567d29",
   "metadata": {},
   "outputs": [
    {
     "name": "stdout",
     "output_type": "stream",
     "text": [
      "ans =\n",
      "\n",
      " Columns 1 through 8:\n",
      "\n",
      "  -3.4761        0        0   0.0001  -0.0009  -0.0010   0.0017  -0.0200\n",
      "\n",
      " Columns 9 and 10:\n",
      "\n",
      "  -0.0017   0.0007\n",
      "\n"
     ]
    }
   ],
   "source": [
    "all_theta(1,1:10)"
   ]
  },
  {
   "cell_type": "markdown",
   "id": "72ff0c35-22da-4f1e-99a5-57da12f7ff6a",
   "metadata": {},
   "source": [
    "### 1.5 One-vs-All Prediction: `predictOneVsAll.m`"
   ]
  },
  {
   "cell_type": "code",
   "execution_count": 162,
   "id": "92f5162f-b99a-42f5-905d-585ed107a209",
   "metadata": {},
   "outputs": [],
   "source": [
    "function p = inferOneVsAll(all_theta, X)\n",
    "    % Sizes\n",
    "    m = size(X, 1); % X: m x n = examples x pixels/features\n",
    "    num_labels = size(all_theta, 1); % all_theta: k x (n+1) = classes x (pixels/features + 1)\n",
    "    % Initalize return variables\n",
    "    p = zeros(size(X, 1), 1); % m x \n",
    "    % Add ones to the X data matrix: bias\n",
    "    X = [ones(m, 1) X]; % m x (n+1)\n",
    "    % Apply model\n",
    "    P = X*all_theta'; % (m x (n+1)) x ((n+1) x k) -> m x k\n",
    "    P = sig(P);\n",
    "    [v, p] = max(P,[],2); % maximum column-value (v) and column-index (p) for each row\n",
    "end"
   ]
  },
  {
   "cell_type": "code",
   "execution_count": 163,
   "id": "b6fe738f-c59c-45ac-b230-63ee110ccbcc",
   "metadata": {},
   "outputs": [],
   "source": [
    "p = inferOneVsAll(all_theta, X);"
   ]
  },
  {
   "cell_type": "code",
   "execution_count": 164,
   "id": "aadb7efd-ab96-466c-a98a-266d6b6b5b43",
   "metadata": {},
   "outputs": [
    {
     "name": "stdout",
     "output_type": "stream",
     "text": [
      "ans = 0.9510\n"
     ]
    }
   ],
   "source": [
    "% Accuracy\n",
    "a = y == p;\n",
    "sum(a)/length(a)"
   ]
  },
  {
   "cell_type": "markdown",
   "id": "cbc48765-d05c-4b65-a304-cd04dc7aa57d",
   "metadata": {},
   "source": [
    "## 2. Part 2: Neural Networks"
   ]
  },
  {
   "cell_type": "markdown",
   "id": "c91c31eb-782f-4760-855a-6fb2be59ef96",
   "metadata": {},
   "source": [
    "### 2.1 Loading the Data: Pre-Trained Weights"
   ]
  },
  {
   "cell_type": "code",
   "execution_count": 120,
   "id": "a393a656-d7a5-4936-9ba1-efb94a96fe0a",
   "metadata": {},
   "outputs": [],
   "source": [
    "% Load saved matrices from file\n",
    "load('ex3weights.mat');"
   ]
  },
  {
   "cell_type": "code",
   "execution_count": 121,
   "id": "8695d44d-eabb-49d6-860c-b6d675f03660",
   "metadata": {},
   "outputs": [
    {
     "name": "stdout",
     "output_type": "stream",
     "text": [
      "Variables visible from the current scope:\n",
      "\n",
      "A              Xp             initial_theta  num_labels     x\n",
      "I              a              iterations     options        y\n",
      "J              all_theta      lambda         p\n",
      "Theta1         ans            m              rand_indices\n",
      "Theta2         c              n              sel\n",
      "X              i              num            theta\n",
      "\n"
     ]
    }
   ],
   "source": [
    "who"
   ]
  },
  {
   "cell_type": "code",
   "execution_count": 122,
   "id": "d0aecdd6-5209-41ea-bef6-08752b2f2e1c",
   "metadata": {},
   "outputs": [],
   "source": [
    "% The matrices Theta1 and Theta2 will now be in your Octave environment\n",
    "% Theta1 has size 25 x 401\n",
    "% Theta2 has size 10 x 26"
   ]
  },
  {
   "cell_type": "code",
   "execution_count": 126,
   "id": "b63e5892-f283-4f21-9b99-d22e93a92be4",
   "metadata": {},
   "outputs": [
    {
     "name": "stdout",
     "output_type": "stream",
     "text": [
      "ans =\n",
      "\n",
      "    25   401\n",
      "\n"
     ]
    }
   ],
   "source": [
    "size(Theta1) # layer 1 -> layer 2"
   ]
  },
  {
   "cell_type": "code",
   "execution_count": 127,
   "id": "24fba562-ba99-49f7-a688-363687472967",
   "metadata": {},
   "outputs": [
    {
     "name": "stdout",
     "output_type": "stream",
     "text": [
      "ans =\n",
      "\n",
      "   10   26\n",
      "\n"
     ]
    }
   ],
   "source": [
    "size(Theta2) # layer 2 -> layer 3"
   ]
  },
  {
   "cell_type": "markdown",
   "id": "269c4b44-1101-4a17-bda8-678b4667979b",
   "metadata": {},
   "source": [
    "### 2.2 Feedforward Propagation and Prediction: `predict.m`"
   ]
  },
  {
   "cell_type": "code",
   "execution_count": 155,
   "id": "9d75ac06-7e24-4860-88d7-10f1a2410cb9",
   "metadata": {},
   "outputs": [],
   "source": [
    "function p = infer(Theta1, Theta2, X)\n",
    "    % Sizes\n",
    "    m = size(X, 1);\n",
    "    num_labels = size(Theta2, 1);\n",
    "    % Initialize return variable: predictions\n",
    "    p = zeros(size(X, 1), 1);\n",
    "    % Layer 1\n",
    "    a1 = [ones(size(X,1),1), X]; % 5000 x 401\n",
    "    % Layer 1 -> Layer 2\n",
    "    z2 = a1*Theta1'; % (5000 x 401) x (401 x 25) -> (5000 x 25)\n",
    "    a2 = sig(z2);\n",
    "    a2 = [ones(size(a2,1),1), a2]; % bias -> (5000 x 26)\n",
    "    % Layer 2 -> Layer 3\n",
    "    z3 = a2*Theta2'; % (5000 x 26) x (26 x 10) -> (5000 x 10)\n",
    "    a3 = sig(z3);\n",
    "    % Select class\n",
    "    [v, p] = max(a3,[],2); % maximum column-value (v) and column-index (p) for each row\n",
    "end"
   ]
  },
  {
   "cell_type": "code",
   "execution_count": 157,
   "id": "a6b261aa-7a51-4caa-a2d4-8c2ba6d925a7",
   "metadata": {},
   "outputs": [],
   "source": [
    "p = infer(Theta1, Theta2, X);"
   ]
  },
  {
   "cell_type": "code",
   "execution_count": 159,
   "id": "b96ca3a2-cd72-4127-82c7-5567bebd7a2d",
   "metadata": {},
   "outputs": [
    {
     "name": "stdout",
     "output_type": "stream",
     "text": [
      "ans = 0.9752\n"
     ]
    }
   ],
   "source": [
    "% Accuracy\n",
    "a = y == p;\n",
    "sum(a)/length(a)"
   ]
  },
  {
   "cell_type": "code",
   "execution_count": null,
   "id": "b6fdb233-97fc-4cdf-86ab-0be3333cd61d",
   "metadata": {},
   "outputs": [],
   "source": []
  }
 ],
 "metadata": {
  "kernelspec": {
   "display_name": "Octave",
   "language": "octave",
   "name": "octave"
  },
  "language_info": {
   "file_extension": ".m",
   "help_links": [
    {
     "text": "GNU Octave",
     "url": "https://www.gnu.org/software/octave/support.html"
    },
    {
     "text": "Octave Kernel",
     "url": "https://github.com/Calysto/octave_kernel"
    },
    {
     "text": "MetaKernel Magics",
     "url": "https://metakernel.readthedocs.io/en/latest/source/README.html"
    }
   ],
   "mimetype": "text/x-octave",
   "name": "octave",
   "version": "6.3.0"
  }
 },
 "nbformat": 4,
 "nbformat_minor": 5
}
