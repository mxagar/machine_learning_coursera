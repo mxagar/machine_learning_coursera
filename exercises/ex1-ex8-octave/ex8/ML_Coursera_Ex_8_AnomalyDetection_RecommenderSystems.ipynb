{
 "cells": [
  {
   "cell_type": "markdown",
   "id": "849a720b-5299-41dc-ab62-062e67ece9db",
   "metadata": {},
   "source": [
    "# Exercise 8: Anomaly Detection and Recommender Systems"
   ]
  },
  {
   "cell_type": "markdown",
   "id": "bf2eeed1-fc9d-46df-84c9-f717716e2afb",
   "metadata": {},
   "source": [
    "In this exercise, has two major parts:\n",
    "1. Anomaly detection to detect failing servers on a network.\n",
    "2. Recommender system based on collaborative filtering to predict a movie ratings.\n",
    "\n",
    "Files provided by Coursera, located under `../exercises/ex1-ex8-octave/ex8`\n",
    "\n",
    "- `ex8.m` - Octave/MATLAB script for first part of exercise\n",
    "- `ex8_cofi.m` - Octave/MATLAB script for second part of exercise\n",
    "- `ex8data1.mat` - First example Dataset for anomaly detection\n",
    "- `ex8data2.mat` - Second example Dataset for anomaly detection\n",
    "- `ex8_movies.mat` - Movie Review Dataset\n",
    "- `ex8_movieParams.mat` - Parameters provided for debugging\n",
    "- `multivariateGaussian.m` - Computes the probability density function for a Gaussian distribution\n",
    "- `visualizeFit.m` - 2D plot of a Gaussian distribution and a dataset\n",
    "- `checkCostFunction.m` - Gradient checking for collaborative filtering\n",
    "- `computeNumericalGradient.m` - Numerically compute gradients\n",
    "- `fmincg.m` - Function minimization routine (similar to fminunc)\n",
    "- `loadMovieList.m` - Loads the list of movies into a cell-array\n",
    "- `movie_ids.txt` - List of movies\n",
    "- `normalizeRatings.m` - Mean normalization for collaborative filtering\n",
    "- `submit.m` - Submission script that sends your solutions to our servers\n",
    "\n",
    "Files to complete:\n",
    "\n",
    "- `estimateGaussian.m` - Estimate the parameters of a Gaussian ditribution with a diagonal covariance matrix\n",
    "- `selectThreshold.m` - Find a threshold for anomaly detection\n",
    "- `cofiCostFunc.m` - Implement the cost function for collaborative filtering\n",
    "\n",
    "Workflow:\n",
    "\n",
    "- Download latest Octave version of exercise from Coursera\n",
    "- Complete code in exercise files following `ex8.pdf`\n",
    "- Whenever an exercise part is finished\n",
    "  - Check it with `ex8` and `ex8_cofi` in Octave terminal\n",
    "  - Create a submission token on Coursera (exercise submission page, it lasts 30 minutes)\n",
    "  - Execute `submit` in Octave terminal\n",
    "  - Introduce email and token\n",
    "  - Results appear\n",
    "\n",
    "**Overview of contents:**\n",
    "\n",
    "0. Setup: `gnuplot`\n",
    "1. Dataset Loading & Visualization\n",
    "2. Anomaly Detection - `ex8.m`"
   ]
  },
  {
   "cell_type": "markdown",
   "id": "aae64be5-2cab-4c42-a37d-4c3d83e10e3e",
   "metadata": {},
   "source": [
    "## 0. Setup: `gnuplot`"
   ]
  },
  {
   "cell_type": "code",
   "execution_count": 5,
   "id": "552c67be-a10e-4803-9b76-46ae43358365",
   "metadata": {},
   "outputs": [],
   "source": [
    "graphics_toolkit (\"gnuplot\");"
   ]
  },
  {
   "cell_type": "code",
   "execution_count": 6,
   "id": "0314f51c-37c8-41b0-9f62-63005e89cd24",
   "metadata": {},
   "outputs": [],
   "source": [
    "%plot -b inline:gnuplot"
   ]
  },
  {
   "cell_type": "markdown",
   "id": "fde64955-0a34-46f9-ab91-8a831737da93",
   "metadata": {},
   "source": [
    "## 1. Dataset Loading & Visualization"
   ]
  },
  {
   "cell_type": "code",
   "execution_count": 10,
   "id": "8dea48c5-c9f2-48b3-ae4a-d864d97c4f86",
   "metadata": {},
   "outputs": [],
   "source": [
    "% Load the dataset\n",
    "clear all;\n",
    "load('ex8data1.mat');"
   ]
  },
  {
   "cell_type": "code",
   "execution_count": 13,
   "id": "159f590e-3104-4ff6-8126-52bb65596b0c",
   "metadata": {},
   "outputs": [
    {
     "name": "stdout",
     "output_type": "stream",
     "text": [
      "Variables visible from the current scope:\n",
      "\n",
      "X     Xval  yval\n",
      "\n"
     ]
    }
   ],
   "source": [
    "who"
   ]
  },
  {
   "cell_type": "code",
   "execution_count": 15,
   "id": "76d7ae73-1451-4ed0-9b0f-929f68c4c48d",
   "metadata": {},
   "outputs": [
    {
     "name": "stdout",
     "output_type": "stream",
     "text": [
      "ans =\n",
      "\n",
      "   307     2\n",
      "\n"
     ]
    }
   ],
   "source": [
    "% Features: throughput (MB/s), latency (ms)\n",
    "% m = 307 exammples\n",
    "size(X)"
   ]
  },
  {
   "cell_type": "code",
   "execution_count": 16,
   "id": "f86af102-80bd-48d8-9518-9c312cae9a06",
   "metadata": {},
   "outputs": [
    {
     "data": {
      "image/png": "[encoded data removed]",
      "text/plain": [
       "<IPython.core.display.Image object>"
      ]
     },
     "metadata": {},
     "output_type": "display_data"
    }
   ],
   "source": [
    "% Visualize the example dataset\n",
    "plot(X(:, 1), X(:, 2), 'bx');\n",
    "axis([0 30 0 30]);\n",
    "xlabel('Latency (ms)');\n",
    "ylabel('Throughput (mb/s)');"
   ]
  },
  {
   "cell_type": "markdown",
   "id": "62d9e861-5048-4519-8cea-d65f56ede43a",
   "metadata": {},
   "source": [
    "## 2. Anomaly Detection - `ex8.m`"
   ]
  },
  {
   "cell_type": "markdown",
   "id": "13c68370-8c63-4d50-bbba-8c9a007f0246",
   "metadata": {},
   "source": [
    "### 2.1 Gaussian Distribution: Parameters - `estimateGaussian.m`"
   ]
  },
  {
   "cell_type": "markdown",
   "id": "225767e9-01e8-4e13-9764-9422b085775b",
   "metadata": {},
   "source": [
    "$$\\{x^{(1)}, \\dots, x^{(j)}, \\dots, x^{(m)} \\}, \\,\\,\\, x^{(j)} \\in \\mathbb{R}^n, \\,\\,\\, j = 1 \\dots m$$\n",
    "\n",
    "$$x^{(j)} = [x^{(j)}_1, \\dots, x^{(j)}_i, \\dots, x^{(j)}_n]^T, \\,\\,\\, i = 1 \\dots n$$\n",
    "\n",
    "$$\\mu_i, \\,\\,\\, \\sigma_i^2$$"
   ]
  },
  {
   "cell_type": "markdown",
   "id": "08f67342-7a42-4993-8404-574a4b5f24b0",
   "metadata": {},
   "source": [
    "$$ \\mu_i = \\frac{1}{m} \\sum_{j=1}^m x_i^{(j)}$$\n",
    "\n",
    "$$ \\sigma_i^2 = \\frac{1}{m} \\sum_{j=1}^m \\left( x_i^{(j)} - \\mu_i \\right)^2.$$"
   ]
  },
  {
   "cell_type": "markdown",
   "id": "313d4f50-c111-43da-8f5f-2faa7756535c",
   "metadata": {},
   "source": [
    "$$ p\\left( x; \\mu, \\sigma^2 \\right) = \\frac{1}{\\sqrt{2\\pi\\sigma^2}} e^{-\\frac{\\left(x-\\mu\\right)^2}{2\\sigma^2}},$$"
   ]
  },
  {
   "cell_type": "code",
   "execution_count": 24,
   "id": "68b49464-1507-4323-9ce3-8cb474c05bdb",
   "metadata": {},
   "outputs": [],
   "source": [
    "function [mu sigma2] = estimateGaussian_(X)\n",
    "    % [mu sigma2] = estimateGaussian(X), \n",
    "    % The input X is the dataset with each n-dimensional data point in one row\n",
    "    % The output is an n-dimensional vector mu, the mean of the data set\n",
    "    % and the variances sigma^2, an n x 1 vector\n",
    "\n",
    "    % Useful variables\n",
    "    [m, n] = size(X);\n",
    "\n",
    "    % You should return these values correctly\n",
    "    mu = zeros(n, 1);\n",
    "    sigma2 = zeros(n, 1);\n",
    "\n",
    "    mu = mean(X)';\n",
    "    sigma2 = var(X,1)'; % normalize using (m-1) instead of m\n",
    "end"
   ]
  },
  {
   "cell_type": "code",
   "execution_count": 25,
   "id": "5e68296c-5450-47d0-a10d-fe400733ac7f",
   "metadata": {},
   "outputs": [],
   "source": [
    "%  Estimate my and sigma2\n",
    "[mu sigma2] = estimateGaussian_(X);"
   ]
  },
  {
   "cell_type": "code",
   "execution_count": 26,
   "id": "18dc5690-e9b2-41fc-b1f6-addf0a6f702c",
   "metadata": {},
   "outputs": [
    {
     "name": "stdout",
     "output_type": "stream",
     "text": [
      "mu =\n",
      "\n",
      "   14.112\n",
      "   14.998\n",
      "\n"
     ]
    }
   ],
   "source": [
    "mu"
   ]
  },
  {
   "cell_type": "code",
   "execution_count": 27,
   "id": "dda81b89-5e11-437c-bcf9-f3c953bff6d3",
   "metadata": {},
   "outputs": [
    {
     "name": "stdout",
     "output_type": "stream",
     "text": [
      "sigma2 =\n",
      "\n",
      "   1.8326\n",
      "   1.7097\n",
      "\n"
     ]
    }
   ],
   "source": [
    "sigma2"
   ]
  },
  {
   "cell_type": "code",
   "execution_count": 28,
   "id": "1eef5a64-776f-4361-9d8c-69a7982890d6",
   "metadata": {},
   "outputs": [
    {
     "data": {
      "image/png": "[encoded data removed]",
      "text/plain": [
       "<IPython.core.display.Image object>"
      ]
     },
     "metadata": {},
     "output_type": "display_data"
    }
   ],
   "source": [
    "%  Visualize the fit\n",
    "visualizeFit(X,  mu, sigma2);\n",
    "xlabel('Latency (ms)');\n",
    "ylabel('Throughput (mb/s)');"
   ]
  },
  {
   "cell_type": "markdown",
   "id": "9ecea507-ac86-42bb-8026-b4d6f0af5320",
   "metadata": {},
   "source": [
    "### 2.2 Selecting the Threshold `epsilon` - `selectThreshold.m`"
   ]
  },
  {
   "cell_type": "code",
   "execution_count": 49,
   "id": "7aca273d-0f80-44c6-9e2d-379e585bba31",
   "metadata": {},
   "outputs": [],
   "source": [
    "function [bestEpsilon bestF1] = selectThreshold_(yval, pval)\n",
    "    % [bestEpsilon bestF1] = SELECTTHRESHOLD(yval, pval) finds the best\n",
    "    % threshold to use for selecting outliers based on the results from a\n",
    "    % validation set (pval) and the ground truth (yval).\n",
    "\n",
    "    bestEpsilon = 0;\n",
    "    bestF1 = 0;\n",
    "    F1 = 0;\n",
    "\n",
    "    stepsize = (max(pval) - min(pval)) / 1000;\n",
    "    for epsilon = min(pval):stepsize:max(pval)\n",
    "    \n",
    "        cvPredictions = (pval < epsilon); % 1 if anomaly: p < epsilon!\n",
    "\n",
    "        tp = sum((cvPredictions == yval) & (yval == 1));\n",
    "        tn = sum((cvPredictions == yval) & (yval == 0));\n",
    "        fp = sum((cvPredictions != yval) & (yval == 0));\n",
    "        fn = sum((cvPredictions != yval) & (yval == 1));\n",
    "\n",
    "        precision = tp / (tp + fp);\n",
    "        recall = tp / (tp + fn);\n",
    "        F1 = 2*precision*recall / (precision+recall);\n",
    "\n",
    "        if F1 > bestF1\n",
    "           bestF1 = F1;\n",
    "           bestEpsilon = epsilon;\n",
    "        end\n",
    "    end\n",
    "\n",
    "end"
   ]
  },
  {
   "cell_type": "code",
   "execution_count": 54,
   "id": "99f4bf8d-5646-402e-89f6-2e3e85f8aa7e",
   "metadata": {},
   "outputs": [],
   "source": [
    "% Provided in the course\n",
    "% Since sigma2 is a vector, Sigma is constructed as a diagonal matrix\n",
    "% thus, the multivariate Gaussian is equivalent to the univariate!\n",
    "% For more info, look in the code :)\n",
    "pval = multivariateGaussian(Xval, mu, sigma2);"
   ]
  },
  {
   "cell_type": "code",
   "execution_count": 55,
   "id": "92d1327d-d1ed-4cd3-8b6d-37e375b07da0",
   "metadata": {},
   "outputs": [
    {
     "name": "stdout",
     "output_type": "stream",
     "text": [
      "epsilon = 8.9909e-05\n",
      "F1 = 0.8750\n"
     ]
    }
   ],
   "source": [
    "[epsilon F1] = selectThreshold_(yval, pval)"
   ]
  },
  {
   "cell_type": "code",
   "execution_count": null,
   "id": "77e72607-cf09-4778-a4af-29fdb16085d4",
   "metadata": {},
   "outputs": [],
   "source": []
  }
 ],
 "metadata": {
  "kernelspec": {
   "display_name": "Octave",
   "language": "octave",
   "name": "octave"
  },
  "language_info": {
   "file_extension": ".m",
   "help_links": [
    {
     "text": "GNU Octave",
     "url": "https://www.gnu.org/software/octave/support.html"
    },
    {
     "text": "Octave Kernel",
     "url": "https://github.com/Calysto/octave_kernel"
    },
    {
     "text": "MetaKernel Magics",
     "url": "https://metakernel.readthedocs.io/en/latest/source/README.html"
    }
   ],
   "mimetype": "text/x-octave",
   "name": "octave",
   "version": "6.3.0"
  }
 },
 "nbformat": 4,
 "nbformat_minor": 5
}
