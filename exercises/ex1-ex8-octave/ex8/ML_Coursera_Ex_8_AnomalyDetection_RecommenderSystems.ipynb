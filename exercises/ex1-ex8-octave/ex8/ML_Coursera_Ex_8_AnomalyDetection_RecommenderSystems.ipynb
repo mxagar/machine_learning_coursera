{
 "cells": [
  {
   "cell_type": "markdown",
   "id": "849a720b-5299-41dc-ab62-062e67ece9db",
   "metadata": {},
   "source": [
    "# Exercise 8: Anomaly Detection and Recommender Systems"
   ]
  },
  {
   "cell_type": "markdown",
   "id": "bf2eeed1-fc9d-46df-84c9-f717716e2afb",
   "metadata": {},
   "source": [
    "In this exercise, has two major parts:\n",
    "1. Anomaly detection to detect failing servers on a network.\n",
    "2. Recommender system based on collaborative filtering to predict a movie ratings.\n",
    "\n",
    "Files provided by Coursera, located under `../exercises/ex1-ex8-octave/ex8`\n",
    "\n",
    "- `ex8.m` - Octave/MATLAB script for first part of exercise\n",
    "- `ex8_cofi.m` - Octave/MATLAB script for second part of exercise\n",
    "- `ex8data1.mat` - First example Dataset for anomaly detection\n",
    "- `ex8data2.mat` - Second example Dataset for anomaly detection\n",
    "- `ex8_movies.mat` - Movie Review Dataset\n",
    "- `ex8_movieParams.mat` - Parameters provided for debugging\n",
    "- `multivariateGaussian.m` - Computes the probability density function for a Gaussian distribution\n",
    "- `visualizeFit.m` - 2D plot of a Gaussian distribution and a dataset\n",
    "- `checkCostFunction.m` - Gradient checking for collaborative filtering\n",
    "- `computeNumericalGradient.m` - Numerically compute gradients\n",
    "- `fmincg.m` - Function minimization routine (similar to fminunc)\n",
    "- `loadMovieList.m` - Loads the list of movies into a cell-array\n",
    "- `movie_ids.txt` - List of movies\n",
    "- `normalizeRatings.m` - Mean normalization for collaborative filtering\n",
    "- `submit.m` - Submission script that sends your solutions to our servers\n",
    "\n",
    "Files to complete:\n",
    "\n",
    "- `estimateGaussian.m` - Estimate the parameters of a Gaussian ditribution with a diagonal covariance matrix\n",
    "- `selectThreshold.m` - Find a threshold for anomaly detection\n",
    "- `cofiCostFunc.m` - Implement the cost function for collaborative filtering\n",
    "\n",
    "Workflow:\n",
    "\n",
    "- Download latest Octave version of exercise from Coursera\n",
    "- Complete code in exercise files following `ex8.pdf`\n",
    "- Whenever an exercise part is finished\n",
    "  - Check it with `ex8` and `ex8_cofi` in Octave terminal\n",
    "  - Create a submission token on Coursera (exercise submission page, it lasts 30 minutes)\n",
    "  - Execute `submit` in Octave terminal\n",
    "  - Introduce email and token\n",
    "  - Results appear\n",
    "\n",
    "**Overview of contents:**\n",
    "\n",
    "0. Setup: `gnuplot`\n",
    "1. Dataset Loading & Visualization\n",
    "2. Anomaly Detection - `ex8.m`"
   ]
  },
  {
   "cell_type": "markdown",
   "id": "aae64be5-2cab-4c42-a37d-4c3d83e10e3e",
   "metadata": {},
   "source": [
    "## 0. Setup: `gnuplot`"
   ]
  },
  {
   "cell_type": "code",
   "execution_count": 1,
   "id": "552c67be-a10e-4803-9b76-46ae43358365",
   "metadata": {},
   "outputs": [],
   "source": [
    "graphics_toolkit (\"gnuplot\");"
   ]
  },
  {
   "cell_type": "code",
   "execution_count": 2,
   "id": "0314f51c-37c8-41b0-9f62-63005e89cd24",
   "metadata": {},
   "outputs": [],
   "source": [
    "%plot -b inline:gnuplot"
   ]
  },
  {
   "cell_type": "markdown",
   "id": "fde64955-0a34-46f9-ab91-8a831737da93",
   "metadata": {},
   "source": [
    "## 1. Dataset Loading & Visualization"
   ]
  },
  {
   "cell_type": "code",
   "execution_count": null,
   "id": "8dea48c5-c9f2-48b3-ae4a-d864d97c4f86",
   "metadata": {},
   "outputs": [],
   "source": []
  }
 ],
 "metadata": {
  "kernelspec": {
   "display_name": "Octave",
   "language": "octave",
   "name": "octave"
  },
  "language_info": {
   "file_extension": ".m",
   "help_links": [
    {
     "text": "GNU Octave",
     "url": "https://www.gnu.org/software/octave/support.html"
    },
    {
     "text": "Octave Kernel",
     "url": "https://github.com/Calysto/octave_kernel"
    },
    {
     "text": "MetaKernel Magics",
     "url": "https://metakernel.readthedocs.io/en/latest/source/README.html"
    }
   ],
   "mimetype": "text/x-octave",
   "name": "octave",
   "version": "6.3.0"
  }
 },
 "nbformat": 4,
 "nbformat_minor": 5
}
