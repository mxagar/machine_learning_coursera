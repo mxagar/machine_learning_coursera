{
 "cells": [
  {
   "cell_type": "markdown",
   "id": "849a720b-5299-41dc-ab62-062e67ece9db",
   "metadata": {},
   "source": [
    "# Exercise 8: Anomaly Detection and Recommender Systems"
   ]
  },
  {
   "cell_type": "markdown",
   "id": "bf2eeed1-fc9d-46df-84c9-f717716e2afb",
   "metadata": {},
   "source": [
    "In this exercise, has two major parts:\n",
    "1. Anomaly detection to detect failing servers on a network.\n",
    "2. Recommender system based on collaborative filtering to predict a movie ratings.\n",
    "\n",
    "Files provided by Coursera, located under `../exercises/ex1-ex8-octave/ex8`\n",
    "\n",
    "- `ex8.m` - Octave/MATLAB script for first part of exercise\n",
    "- `ex8_cofi.m` - Octave/MATLAB script for second part of exercise\n",
    "- `ex8data1.mat` - First example Dataset for anomaly detection\n",
    "- `ex8data2.mat` - Second example Dataset for anomaly detection\n",
    "- `ex8_movies.mat` - Movie Review Dataset\n",
    "- `ex8_movieParams.mat` - Parameters provided for debugging\n",
    "- `multivariateGaussian.m` - Computes the probability density function for a Gaussian distribution\n",
    "- `visualizeFit.m` - 2D plot of a Gaussian distribution and a dataset\n",
    "- `checkCostFunction.m` - Gradient checking for collaborative filtering\n",
    "- `computeNumericalGradient.m` - Numerically compute gradients\n",
    "- `fmincg.m` - Function minimization routine (similar to fminunc)\n",
    "- `loadMovieList.m` - Loads the list of movies into a cell-array\n",
    "- `movie_ids.txt` - List of movies\n",
    "- `normalizeRatings.m` - Mean normalization for collaborative filtering\n",
    "- `submit.m` - Submission script that sends your solutions to our servers\n",
    "\n",
    "Files to complete:\n",
    "\n",
    "- `estimateGaussian.m` - Estimate the parameters of a Gaussian ditribution with a diagonal covariance matrix\n",
    "- `selectThreshold.m` - Find a threshold for anomaly detection\n",
    "- `cofiCostFunc.m` - Implement the cost function for collaborative filtering\n",
    "\n",
    "Workflow:\n",
    "\n",
    "- Download latest Octave version of exercise from Coursera\n",
    "- Complete code in exercise files following `ex8.pdf`\n",
    "- Whenever an exercise part is finished\n",
    "  - Check it with `ex8` and `ex8_cofi` in Octave terminal\n",
    "  - Create a submission token on Coursera (exercise submission page, it lasts 30 minutes)\n",
    "  - Execute `submit` in Octave terminal\n",
    "  - Introduce email and token\n",
    "  - Results appear\n",
    "\n",
    "**Overview of contents:**\n",
    "\n",
    "0. Setup: `gnuplot`\n",
    "1. Dataset Loading & Visualization\n",
    "2. Anomaly Detection - `ex8.m`\n",
    "    - 2.1 Gaussian Distribution: Parameters - `estimateGaussian.m`\n",
    "    - 2.2 Selecting the Threshold `epsilon` - `selectThreshold.m`\n",
    "3. Recommender Systems - `ex8_cofi.m`\n",
    "   - 3.1 Collaborative Filtering - `cofiCostFunc.m`\n",
    "     - 3.1.1 Cost Function without Regularization\n",
    "     - 3.1.2 Cost Function Gradient without Regularization\n",
    "     - 3.1.3 Cost Function with Regularization\n",
    "     - 3.1.4 Cost Function Gradient with Regularization\n",
    "   - 3.2 Train and Test the Model (Ungraded, Taken from `ex_cofi.m`)\n",
    "     - Set Ratings\n",
    "     - Load Data & Optimize Model Parameters\n",
    "     - Estimate Ratings with Model"
   ]
  },
  {
   "cell_type": "markdown",
   "id": "aae64be5-2cab-4c42-a37d-4c3d83e10e3e",
   "metadata": {},
   "source": [
    "## 0. Setup: `gnuplot`"
   ]
  },
  {
   "cell_type": "code",
   "execution_count": 5,
   "id": "552c67be-a10e-4803-9b76-46ae43358365",
   "metadata": {},
   "outputs": [],
   "source": [
    "graphics_toolkit (\"gnuplot\");"
   ]
  },
  {
   "cell_type": "code",
   "execution_count": 6,
   "id": "0314f51c-37c8-41b0-9f62-63005e89cd24",
   "metadata": {},
   "outputs": [],
   "source": [
    "%plot -b inline:gnuplot"
   ]
  },
  {
   "cell_type": "markdown",
   "id": "fde64955-0a34-46f9-ab91-8a831737da93",
   "metadata": {},
   "source": [
    "## 1. Dataset Loading & Visualization"
   ]
  },
  {
   "cell_type": "code",
   "execution_count": 10,
   "id": "8dea48c5-c9f2-48b3-ae4a-d864d97c4f86",
   "metadata": {},
   "outputs": [],
   "source": [
    "% Load the dataset\n",
    "clear all;\n",
    "load('ex8data1.mat');"
   ]
  },
  {
   "cell_type": "code",
   "execution_count": 13,
   "id": "159f590e-3104-4ff6-8126-52bb65596b0c",
   "metadata": {},
   "outputs": [
    {
     "name": "stdout",
     "output_type": "stream",
     "text": [
      "Variables visible from the current scope:\n",
      "\n",
      "X     Xval  yval\n",
      "\n"
     ]
    }
   ],
   "source": [
    "who"
   ]
  },
  {
   "cell_type": "code",
   "execution_count": 15,
   "id": "76d7ae73-1451-4ed0-9b0f-929f68c4c48d",
   "metadata": {},
   "outputs": [
    {
     "name": "stdout",
     "output_type": "stream",
     "text": [
      "ans =\n",
      "\n",
      "   307     2\n",
      "\n"
     ]
    }
   ],
   "source": [
    "% Features: throughput (MB/s), latency (ms)\n",
    "% m = 307 exammples\n",
    "size(X)"
   ]
  },
  {
   "cell_type": "code",
   "execution_count": 16,
   "id": "f86af102-80bd-48d8-9518-9c312cae9a06",
   "metadata": {},
   "outputs": [
    {
     "data": {
      "image/png": "[encoded data removed]",
      "text/plain": [
       "<IPython.core.display.Image object>"
      ]
     },
     "metadata": {},
     "output_type": "display_data"
    }
   ],
   "source": [
    "% Visualize the example dataset\n",
    "plot(X(:, 1), X(:, 2), 'bx');\n",
    "axis([0 30 0 30]);\n",
    "xlabel('Latency (ms)');\n",
    "ylabel('Throughput (mb/s)');"
   ]
  },
  {
   "cell_type": "markdown",
   "id": "62d9e861-5048-4519-8cea-d65f56ede43a",
   "metadata": {},
   "source": [
    "## 2. Anomaly Detection - `ex8.m`"
   ]
  },
  {
   "cell_type": "markdown",
   "id": "13c68370-8c63-4d50-bbba-8c9a007f0246",
   "metadata": {},
   "source": [
    "### 2.1 Gaussian Distribution: Parameters - `estimateGaussian.m`"
   ]
  },
  {
   "cell_type": "markdown",
   "id": "225767e9-01e8-4e13-9764-9422b085775b",
   "metadata": {},
   "source": [
    "$$\\{x^{(1)}, \\dots, x^{(j)}, \\dots, x^{(m)} \\}, \\,\\,\\, x^{(j)} \\in \\mathbb{R}^n, \\,\\,\\, j = 1 \\dots m$$\n",
    "\n",
    "$$x^{(j)} = [x^{(j)}_1, \\dots, x^{(j)}_i, \\dots, x^{(j)}_n]^T, \\,\\,\\, i = 1 \\dots n$$\n",
    "\n",
    "$$\\mu_i, \\,\\,\\, \\sigma_i^2$$"
   ]
  },
  {
   "cell_type": "markdown",
   "id": "08f67342-7a42-4993-8404-574a4b5f24b0",
   "metadata": {},
   "source": [
    "$$ \\mu_i = \\frac{1}{m} \\sum_{j=1}^m x_i^{(j)}$$\n",
    "\n",
    "$$ \\sigma_i^2 = \\frac{1}{m} \\sum_{j=1}^m \\left( x_i^{(j)} - \\mu_i \\right)^2.$$"
   ]
  },
  {
   "cell_type": "markdown",
   "id": "313d4f50-c111-43da-8f5f-2faa7756535c",
   "metadata": {},
   "source": [
    "$$ p\\left( x; \\mu, \\sigma^2 \\right) = \\frac{1}{\\sqrt{2\\pi\\sigma^2}} e^{-\\frac{\\left(x-\\mu\\right)^2}{2\\sigma^2}},$$"
   ]
  },
  {
   "cell_type": "code",
   "execution_count": 24,
   "id": "68b49464-1507-4323-9ce3-8cb474c05bdb",
   "metadata": {},
   "outputs": [],
   "source": [
    "function [mu sigma2] = estimateGaussian_(X)\n",
    "    % [mu sigma2] = estimateGaussian(X), \n",
    "    % The input X is the dataset with each n-dimensional data point in one row\n",
    "    % The output is an n-dimensional vector mu, the mean of the data set\n",
    "    % and the variances sigma^2, an n x 1 vector\n",
    "\n",
    "    % Useful variables\n",
    "    [m, n] = size(X);\n",
    "\n",
    "    % You should return these values correctly\n",
    "    mu = zeros(n, 1);\n",
    "    sigma2 = zeros(n, 1);\n",
    "\n",
    "    mu = mean(X)';\n",
    "    sigma2 = var(X,1)'; % normalize using (m-1) instead of m\n",
    "end"
   ]
  },
  {
   "cell_type": "code",
   "execution_count": 25,
   "id": "5e68296c-5450-47d0-a10d-fe400733ac7f",
   "metadata": {},
   "outputs": [],
   "source": [
    "%  Estimate my and sigma2\n",
    "[mu sigma2] = estimateGaussian_(X);"
   ]
  },
  {
   "cell_type": "code",
   "execution_count": 26,
   "id": "18dc5690-e9b2-41fc-b1f6-addf0a6f702c",
   "metadata": {},
   "outputs": [
    {
     "name": "stdout",
     "output_type": "stream",
     "text": [
      "mu =\n",
      "\n",
      "   14.112\n",
      "   14.998\n",
      "\n"
     ]
    }
   ],
   "source": [
    "mu"
   ]
  },
  {
   "cell_type": "code",
   "execution_count": 27,
   "id": "dda81b89-5e11-437c-bcf9-f3c953bff6d3",
   "metadata": {},
   "outputs": [
    {
     "name": "stdout",
     "output_type": "stream",
     "text": [
      "sigma2 =\n",
      "\n",
      "   1.8326\n",
      "   1.7097\n",
      "\n"
     ]
    }
   ],
   "source": [
    "sigma2"
   ]
  },
  {
   "cell_type": "code",
   "execution_count": 28,
   "id": "1eef5a64-776f-4361-9d8c-69a7982890d6",
   "metadata": {},
   "outputs": [
    {
     "data": {
      "image/png": "[encoded data removed]",
      "text/plain": [
       "<IPython.core.display.Image object>"
      ]
     },
     "metadata": {},
     "output_type": "display_data"
    }
   ],
   "source": [
    "%  Visualize the fit\n",
    "visualizeFit(X,  mu, sigma2);\n",
    "xlabel('Latency (ms)');\n",
    "ylabel('Throughput (mb/s)');"
   ]
  },
  {
   "cell_type": "markdown",
   "id": "9ecea507-ac86-42bb-8026-b4d6f0af5320",
   "metadata": {},
   "source": [
    "### 2.2 Selecting the Threshold `epsilon` - `selectThreshold.m`"
   ]
  },
  {
   "cell_type": "code",
   "execution_count": 49,
   "id": "7aca273d-0f80-44c6-9e2d-379e585bba31",
   "metadata": {},
   "outputs": [],
   "source": [
    "function [bestEpsilon bestF1] = selectThreshold_(yval, pval)\n",
    "    % [bestEpsilon bestF1] = SELECTTHRESHOLD(yval, pval) finds the best\n",
    "    % threshold to use for selecting outliers based on the results from a\n",
    "    % validation set (pval) and the ground truth (yval).\n",
    "\n",
    "    bestEpsilon = 0;\n",
    "    bestF1 = 0;\n",
    "    F1 = 0;\n",
    "\n",
    "    stepsize = (max(pval) - min(pval)) / 1000;\n",
    "    for epsilon = min(pval):stepsize:max(pval)\n",
    "    \n",
    "        cvPredictions = (pval < epsilon); % 1 if anomaly: p < epsilon!\n",
    "\n",
    "        tp = sum((cvPredictions == yval) & (yval == 1));\n",
    "        tn = sum((cvPredictions == yval) & (yval == 0));\n",
    "        fp = sum((cvPredictions != yval) & (yval == 0));\n",
    "        fn = sum((cvPredictions != yval) & (yval == 1));\n",
    "\n",
    "        precision = tp / (tp + fp);\n",
    "        recall = tp / (tp + fn);\n",
    "        F1 = 2*precision*recall / (precision+recall);\n",
    "\n",
    "        if F1 > bestF1\n",
    "           bestF1 = F1;\n",
    "           bestEpsilon = epsilon;\n",
    "        end\n",
    "    end\n",
    "\n",
    "end"
   ]
  },
  {
   "cell_type": "code",
   "execution_count": 54,
   "id": "99f4bf8d-5646-402e-89f6-2e3e85f8aa7e",
   "metadata": {},
   "outputs": [],
   "source": [
    "% Provided in the course\n",
    "% Since sigma2 is a vector, Sigma is constructed as a diagonal matrix\n",
    "% thus, the multivariate Gaussian is equivalent to the univariate!\n",
    "% For more info, look in the code :)\n",
    "pval = multivariateGaussian(Xval, mu, sigma2);"
   ]
  },
  {
   "cell_type": "code",
   "execution_count": 58,
   "id": "92d1327d-d1ed-4cd3-8b6d-37e375b07da0",
   "metadata": {},
   "outputs": [
    {
     "name": "stdout",
     "output_type": "stream",
     "text": [
      "epsilon = 8.9909e-05\n",
      "F1 = 0.8750\n"
     ]
    }
   ],
   "source": [
    "[epsilon F1] = selectThreshold_(yval, pval)"
   ]
  },
  {
   "cell_type": "code",
   "execution_count": 59,
   "id": "a4a818e1-1e9b-4beb-b82a-b6c742ebcb42",
   "metadata": {},
   "outputs": [],
   "source": [
    "% Compute the model (again)\n",
    "[mu sigma2] = estimateGaussian(X);\n",
    "p = multivariateGaussian(X, mu, sigma2);"
   ]
  },
  {
   "cell_type": "code",
   "execution_count": 84,
   "id": "849ed2f8-d2a0-4a93-a8fe-4b87b9800bfa",
   "metadata": {},
   "outputs": [],
   "source": [
    "% Find the outliers in the training set and plot the\n",
    "outliers = find(p < epsilon);\n",
    "%outliers = find(p < 1.5e-2);"
   ]
  },
  {
   "cell_type": "code",
   "execution_count": 85,
   "id": "4bed45a5-a67d-4766-aa2d-6b83ded46089",
   "metadata": {},
   "outputs": [
    {
     "name": "stdout",
     "output_type": "stream",
     "text": [
      "ans = 6\n"
     ]
    }
   ],
   "source": [
    "% Outliers found\n",
    "length(outliers)"
   ]
  },
  {
   "cell_type": "code",
   "execution_count": 86,
   "id": "77e72607-cf09-4778-a4af-29fdb16085d4",
   "metadata": {},
   "outputs": [
    {
     "data": {
      "image/png": "[encoded data removed]",
      "text/plain": [
       "<IPython.core.display.Image object>"
      ]
     },
     "metadata": {},
     "output_type": "display_data"
    }
   ],
   "source": [
    "% Plot the ooutliers\n",
    "visualizeFit(X,  mu, sigma2);\n",
    "xlabel('Latency (ms)');\n",
    "ylabel('Throughput (mb/s)');\n",
    "hold on;\n",
    "plot(X(outliers, 1), X(outliers, 2), 'ro', 'LineWidth', 2, 'MarkerSize', 10);\n",
    "hold off;"
   ]
  },
  {
   "cell_type": "markdown",
   "id": "5e7e6f1f-3b4d-43b6-88ca-1de228a4c501",
   "metadata": {},
   "source": [
    "## 3. Recommender Systems - `ex8_cofi.m`"
   ]
  },
  {
   "cell_type": "markdown",
   "id": "24f07194-5d69-4418-b49f-894c96db3a46",
   "metadata": {},
   "source": [
    "Dataset: [MovieLens 100k Dataset](https://grouplens.org/datasets/movielens/)."
   ]
  },
  {
   "cell_type": "code",
   "execution_count": 87,
   "id": "fd7b92a9-3a8f-4b6f-8155-aa7ccda3ec4c",
   "metadata": {},
   "outputs": [],
   "source": [
    "% Load data\n",
    "clear all;\n",
    "load ('ex8_movies.mat');"
   ]
  },
  {
   "cell_type": "code",
   "execution_count": 88,
   "id": "cbfccf1b-1e7a-4eaf-9f65-2c8ce30445f6",
   "metadata": {},
   "outputs": [
    {
     "name": "stdout",
     "output_type": "stream",
     "text": [
      "Variables visible from the current scope:\n",
      "\n",
      "R  Y\n",
      "\n"
     ]
    }
   ],
   "source": [
    "who"
   ]
  },
  {
   "cell_type": "code",
   "execution_count": 90,
   "id": "bcaa1c0b-5e2a-43ff-875e-cdcb44962083",
   "metadata": {},
   "outputs": [
    {
     "name": "stdout",
     "output_type": "stream",
     "text": [
      "ans =\n",
      "\n",
      "   1682    943\n",
      "\n",
      "ans =\n",
      "\n",
      "   1682    943\n",
      "\n"
     ]
    }
   ],
   "source": [
    "% Y is a 1682x943 matrix: ratings (1-5) of 1682 movies on 943 users\n",
    "size(Y)\n",
    "% R is a 1682x943 matrix: R(i,j) = 1 iff user j gave a rating to movie i\n",
    "size(R)"
   ]
  },
  {
   "cell_type": "code",
   "execution_count": 93,
   "id": "5565dd08-320f-42c2-b6f2-08fef2add92d",
   "metadata": {},
   "outputs": [
    {
     "name": "stdout",
     "output_type": "stream",
     "text": [
      "ans = 3.8783\n"
     ]
    }
   ],
   "source": [
    "% Average rating of the first movie\n",
    "mean(Y(1, R(1, :)))"
   ]
  },
  {
   "cell_type": "code",
   "execution_count": 94,
   "id": "49f54358-eefe-4455-8675-3300ecafb4fe",
   "metadata": {},
   "outputs": [
    {
     "data": {
      "image/png": "[encoded data removed]",
      "text/plain": [
       "<IPython.core.display.Image object>"
      ]
     },
     "metadata": {},
     "output_type": "display_data"
    }
   ],
   "source": [
    "% We can \"visualize\" the ratings matrix by plotting it with imagesc\n",
    "imagesc(Y);\n",
    "ylabel('Movies');\n",
    "xlabel('Users');"
   ]
  },
  {
   "cell_type": "code",
   "execution_count": 128,
   "id": "b306bbfc-3a3b-4ef5-bb73-64ad5da2c998",
   "metadata": {},
   "outputs": [],
   "source": [
    "% We factorize Y to X and Theta:\n",
    "% X: movie features: num_movies x n\n",
    "% Theta: user weights for movie features: num_users x n\n",
    "% Y: num_movies x num_users: ratings\n",
    "% R: num_movies x num_users: R(i,j) = 1 if there is a rating in Y, 0 otherwise\n",
    "% n: number of features -> chosen to be 100\n",
    "% i: movie counter: 1:num_movies\n",
    "% j: user counter: 1:num_users"
   ]
  },
  {
   "cell_type": "markdown",
   "id": "6b5136d3-6d2d-4d47-a40a-1e968fa3c6cf",
   "metadata": {},
   "source": [
    "$$ \\text{X} = \n",
    "\\begin{bmatrix}\n",
    "- \\left(x^{(1)}\\right)^T - \\\\\n",
    "- \\left(x^{(2)}\\right)^T - \\\\\n",
    "\\vdots \\\\\n",
    "- \\left(x^{(n_m)}\\right)^T - \\\\\n",
    "\\end{bmatrix}, \\quad\n",
    "\\text{Theta} = \n",
    "\\begin{bmatrix}\n",
    "- \\left(\\theta^{(1)}\\right)^T - \\\\\n",
    "- \\left(\\theta^{(2)}\\right)^T - \\\\\n",
    "\\vdots \\\\\n",
    "- \\left(\\theta^{(n_u)}\\right)^T - \\\\\n",
    "\\end{bmatrix}.\n",
    "$$"
   ]
  },
  {
   "cell_type": "markdown",
   "id": "521f358c-6c74-4472-8f87-ae9d98a165a1",
   "metadata": {},
   "source": [
    "### 3.1 Collaborative Filtering - `cofiCostFunc.m`"
   ]
  },
  {
   "cell_type": "markdown",
   "id": "23536dc6-eb9a-484a-9139-002692306078",
   "metadata": {},
   "source": [
    "#### 3.1.1 Cost Function without Regularization"
   ]
  },
  {
   "cell_type": "markdown",
   "id": "812bad03-af9a-4ffb-84a0-dc56a26b5546",
   "metadata": {},
   "source": [
    "$$\n",
    "J(x^{(1)}, \\dots, x^{(n_m)}, \\theta^{(1)}, \\dots,\\theta^{(n_u)}) = \\frac{1}{2} \\sum_{(i,j):r(i,j)=1} \\left( \\left(\\theta^{(j)}\\right)^T x^{(i)} - y^{(i,j)} \\right)^2\n",
    "$$"
   ]
  },
  {
   "cell_type": "code",
   "execution_count": 130,
   "id": "d8101481-aeb9-4e70-9318-39b23ddeae47",
   "metadata": {},
   "outputs": [],
   "source": [
    "function [J, grad] = cofiCostFunc_(params, Y, R, num_users, num_movies, ...\n",
    "                                   num_features, lambda)\n",
    "    % [J, grad] = COFICOSTFUNC(params, Y, R, num_users, num_movies, ...\n",
    "    % num_features, lambda) returns the cost and gradient for the\n",
    "    % collaborative filtering problem.\n",
    "\n",
    "    % Unfold the U and W matrices from params\n",
    "    X = reshape(params(1:num_movies*num_features), num_movies, num_features);\n",
    "    Theta = reshape(params(num_movies*num_features+1:end), num_users, num_features);\n",
    "\n",
    "    % You need to return the following values correctly\n",
    "    J = 0;\n",
    "    X_grad = zeros(size(X));\n",
    "    Theta_grad = zeros(size(Theta));\n",
    "\n",
    "    % We factorize Y to X and Theta:\n",
    "    % X: movie features: num_movies x n\n",
    "    % Theta: user weights for movie features: num_users x n\n",
    "    % Y: num_movies x num_users: ratings\n",
    "    % R: num_movies x num_users: R(i,j) = 1 if there is a rating in Y, 0 otherwise\n",
    "    % n: number of features -> chosen to be 100\n",
    "    % i: movie counter: 1:num_movies\n",
    "    % j: user counter: 1:num_users\n",
    "    \n",
    "    Y_hat = X*Theta';\n",
    "    % Option 1\n",
    "    %D = Y_hat(R==1) - Y(R==1);\n",
    "    %J = (1.0/2.0) * D'*D;\n",
    "    % Option 2\n",
    "    D = Y_hat.*R - Y.*R;\n",
    "    J = (1.0/2.0) * sum(sum(D.*D));\n",
    "    \n",
    "    % X_grad: num_movies x n: dJ/dX, all elements of X\n",
    "    % Theta_grad: num_users x n: dJ/dTheta, all elements of Theta\n",
    "    \n",
    "    % Pack the results: unroll!\n",
    "    grad = [X_grad(:); Theta_grad(:)];\n",
    "\n",
    "end"
   ]
  },
  {
   "cell_type": "code",
   "execution_count": 131,
   "id": "9f3229f6-bf60-4449-a631-22f4a21f0075",
   "metadata": {},
   "outputs": [],
   "source": [
    "% Load pre-trained weights (X, Theta, num_users, num_movies, num_features)\n",
    "load ('ex8_movieParams.mat');"
   ]
  },
  {
   "cell_type": "code",
   "execution_count": 132,
   "id": "c30d586c-bc98-4ada-8aee-90012c9331fc",
   "metadata": {},
   "outputs": [],
   "source": [
    "% Reduce the data set size so that this runs faster\n",
    "num_users = 4; num_movies = 5; num_features = 3;\n",
    "X = X(1:num_movies, 1:num_features);\n",
    "Theta = Theta(1:num_users, 1:num_features);\n",
    "Y = Y(1:num_movies, 1:num_users);\n",
    "R = R(1:num_movies, 1:num_users);"
   ]
  },
  {
   "cell_type": "code",
   "execution_count": 133,
   "id": "1f526e4e-76cc-4a16-9eeb-6d7d3eaa1906",
   "metadata": {},
   "outputs": [
    {
     "name": "stdout",
     "output_type": "stream",
     "text": [
      "J = 22.225\n"
     ]
    }
   ],
   "source": [
    "% Evaluate cost function\n",
    "J = cofiCostFunc_([X(:) ; Theta(:)], Y, R, num_users, num_movies, num_features, 0)"
   ]
  },
  {
   "cell_type": "markdown",
   "id": "833679a0-79ee-47e3-ad2c-82c1ce3edc72",
   "metadata": {},
   "source": [
    "#### 3.1.2 Cost Function Gradient without Regularization"
   ]
  },
  {
   "cell_type": "markdown",
   "id": "26e68c78-7256-4395-a9d7-91e65fc9196d",
   "metadata": {},
   "source": [
    "$$ \\frac{\\partial J}{\\partial x_k^{(i)}} = \\sum_{j:r(i,j)=1} \\left( \\left(\\theta^{(j)}\\right)^T x^{(i)} - y^{(i,j)} \\right) \\theta_k^{(j)} $$\n",
    "\n",
    "$$ \\frac{\\partial J}{\\partial \\theta_k^{(j)}} = \\sum_{i:r(i,j)=1} \\left( \\left(\\theta^{(j)}\\right)^T x^{(i)}- y^{(i,j)} \\right) x_k^{(i)} $$\n",
    "\n",
    "Note that:\n",
    "- $k = 1 \\dots n$ (features)\n",
    "- $x_k^{(i)}$: row $i$ and column $k$, i.e., movie $i$ and feature $k$\n",
    "- $\\theta_k^{(j)}$: row $j$ and column $k$, i.e., user $j$ and feature $k$\n",
    "- $j:r(i,j)=1$: over all $j$ values where $r(i,j)=1$\n",
    "\n",
    "See the notes on the gradient computation in the exercise guide and in the following file:\n",
    "\n",
    "`../../../07_Anomaly_Recommender/RecommenderSystems_Notes.pdf`"
   ]
  },
  {
   "cell_type": "code",
   "execution_count": 138,
   "id": "1240f9f0-e861-4b2f-949f-c4534097dd33",
   "metadata": {},
   "outputs": [],
   "source": [
    "function [J, grad] = cofiCostFunc_(params, Y, R, num_users, num_movies, ...\n",
    "                                   num_features, lambda)\n",
    "    % [J, grad] = COFICOSTFUNC(params, Y, R, num_users, num_movies, ...\n",
    "    % num_features, lambda) returns the cost and gradient for the\n",
    "    % collaborative filtering problem.\n",
    "\n",
    "    % Unfold the U and W matrices from params\n",
    "    X = reshape(params(1:num_movies*num_features), num_movies, num_features);\n",
    "    Theta = reshape(params(num_movies*num_features+1:end), num_users, num_features);\n",
    "\n",
    "    % You need to return the following values correctly\n",
    "    J = 0;\n",
    "    X_grad = zeros(size(X));\n",
    "    Theta_grad = zeros(size(Theta));\n",
    "\n",
    "    % We factorize Y to X and Theta:\n",
    "    % X: movie features: num_movies x n\n",
    "    % Theta: user weights for movie features: num_users x n\n",
    "    % Y: num_movies x num_users: ratings\n",
    "    % R: num_movies x num_users: R(i,j) = 1 if there is a rating in Y, 0 otherwise\n",
    "    % n: number of features -> chosen to be 100\n",
    "    % i: movie counter: 1:num_movies\n",
    "    % j: user counter: 1:num_users\n",
    "\n",
    "    Y_hat = X*Theta';\n",
    "    % Option 1\n",
    "    %D = Y_hat(R==1) - Y(R==1);\n",
    "    %J = (1.0/2.0) * D'*D;\n",
    "    % Option 2\n",
    "    D = Y_hat.*R - Y.*R;\n",
    "    J = (1.0/2.0) * sum(sum(D.*D));\n",
    "\n",
    "    % X_grad: num_movies x n: dJ/dX, all elements of X\n",
    "    % Theta_grad: num_users x n: dJ/dTheta, all elements of Theta\n",
    "    \n",
    "    % Notes on notation:\n",
    "    % k = 1:n (features), num_features\n",
    "    % x_k^{(i)}: row i and column k, i.e., movie i and feature k\n",
    "    % theta_k^{(j)}: row j and column k, i.e., user j and feature k\n",
    "    % j:r(i,j)=1: over all j values where r(i,j)=1\n",
    "    \n",
    "    # Gradients: dJ/dX, dJ/dTheta\n",
    "    for i=1:num_movies\n",
    "        idx = find(R(i,:)==1); % users that have rated movie i\n",
    "        Theta_tmp = Theta(idx,:); % |idx:users-i| x n\n",
    "        Y_tmp = Y(i,idx); % 1 x |idx:users-i|\n",
    "        % (1 x n) x (n x |idx:users-i|) x (|idx:users-i| x n) = 1 x n\n",
    "        X_grad(i,:) = (X(i,:)*Theta_tmp'-Y_tmp)*Theta_tmp;\n",
    "    end\n",
    "\n",
    "    for j=1:num_users\n",
    "        idx = find(R(:,j)==1); % movies that user j has rated\n",
    "        X_tmp = X(idx,:); % |idx:movies-j| x n\n",
    "        Y_tmp = Y(idx,j); % |idx:movies-j| x 1\n",
    "        % (|idx:movies-j| x n) x (n x 1) = |idx:movies-j| x 1 -> 1 x |idx:movies-j|\n",
    "        Theta_grad(j,:) = (X_tmp*Theta(j,:)'-Y_tmp)'*X_tmp;\n",
    "    end\n",
    "\n",
    "    % Pack the results: unroll!\n",
    "    grad = [X_grad(:); Theta_grad(:)];\n",
    "\n",
    "end"
   ]
  },
  {
   "cell_type": "code",
   "execution_count": 137,
   "id": "cc20278b-5711-4d2a-b0e5-09777d80bbdf",
   "metadata": {},
   "outputs": [
    {
     "name": "stdout",
     "output_type": "stream",
     "text": [
      "   9.8753e+00   9.8753e+00\n",
      "   6.4936e-01   6.4936e-01\n",
      "  -2.7941e+00  -2.7941e+00\n",
      "  -5.6604e-01  -5.6604e-01\n",
      "   5.7252e+00   5.7252e+00\n",
      "  -7.6492e+00  -7.6492e+00\n",
      "   3.3833e+00   3.3833e+00\n",
      "   9.9022e-01   9.9022e-01\n",
      "  -8.1562e-01  -8.1562e-01\n",
      "   3.5537e+00   3.5537e+00\n",
      "  -3.2401e+00  -3.2401e+00\n",
      "  -3.2753e-01  -3.2753e-01\n",
      "   6.4555e-01   6.4555e-01\n",
      "   8.1364e+00   8.1364e+00\n",
      "  -3.2778e-02  -3.2778e-02\n",
      "  -1.1391e+01  -1.1391e+01\n",
      "   3.1345e+00   3.1345e+00\n",
      "  -4.4051e+00  -4.4051e+00\n",
      "   5.0451e+00   5.0451e+00\n",
      "   2.4509e-01   2.4509e-01\n",
      "  -7.6408e+00  -7.6408e+00\n",
      "   2.0207e+00   2.0207e+00\n",
      "   9.7992e+00   9.7992e+00\n",
      "  -8.5741e-01  -8.5741e-01\n",
      "   2.8312e-01   2.8312e-01\n",
      "  -1.3509e+01  -1.3509e+01\n",
      "   3.3984e+00   3.3984e+00\n",
      "The above two columns you get should be very similar.\n",
      "(Left-Your Numerical Gradient, Right-Analytical Gradient)\n",
      "\n",
      "If your cost function implementation is correct, then \n",
      "the relative difference will be small (less than 1e-9). \n",
      "\n",
      "Relative Difference: 1.28068e-12\n"
     ]
    }
   ],
   "source": [
    "% File provided in the exercise: check the cost function\n",
    "checkCostFunction"
   ]
  },
  {
   "cell_type": "markdown",
   "id": "313d56b0-9f88-49e4-88b4-0ec884e35a1f",
   "metadata": {},
   "source": [
    "#### 3.1.3 Cost Function with Regularization"
   ]
  },
  {
   "cell_type": "markdown",
   "id": "381a0073-724d-4a58-bbb3-1647168ee286",
   "metadata": {},
   "source": [
    "$$ J(x^{(1)}, \\dots, x^{(n_m)}, \\theta^{(1)}, \\dots, \\theta^{(n_u)}) = \\frac{1}{2} \\sum_{(i,j):r(i,j)=1} \\left( \\left( \\theta^{(j)} \\right)^T x^{(i)} - y^{(i,j)} \\right)^2 + \\left( \\frac{\\lambda}{2} \\sum_{j=1}^{n_u} \\sum_{k=1}^{n} \\left( \\theta_k^{(j)} \\right)^2  \\right) + \\left( \\frac{\\lambda}{2} \\sum_{i=1}^{n_m} \\sum_{k=1}^n \\left(x_k^{(i)} \\right)^2 \\right) $$"
   ]
  },
  {
   "cell_type": "code",
   "execution_count": 141,
   "id": "ac490977-509e-402d-be55-3d1b6539ee8f",
   "metadata": {},
   "outputs": [],
   "source": [
    "function [J, grad] = cofiCostFunc_(params, Y, R, num_users, num_movies, ...\n",
    "                                   num_features, lambda)\n",
    "    % [J, grad] = COFICOSTFUNC(params, Y, R, num_users, num_movies, ...\n",
    "    % num_features, lambda) returns the cost and gradient for the\n",
    "    % collaborative filtering problem.\n",
    "\n",
    "    % Unfold the U and W matrices from params\n",
    "    X = reshape(params(1:num_movies*num_features), num_movies, num_features);\n",
    "    Theta = reshape(params(num_movies*num_features+1:end), num_users, num_features);\n",
    "\n",
    "    % You need to return the following values correctly\n",
    "    J = 0;\n",
    "    X_grad = zeros(size(X));\n",
    "    Theta_grad = zeros(size(Theta));\n",
    "\n",
    "    % We factorize Y to X and Theta:\n",
    "    % X: movie features: num_movies x n\n",
    "    % Theta: user weights for movie features: num_users x n\n",
    "    % Y: num_movies x num_users: ratings\n",
    "    % R: num_movies x num_users: R(i,j) = 1 if there is a rating in Y, 0 otherwise\n",
    "    % n: number of features -> chosen to be 100\n",
    "    % i: movie counter: 1:num_movies\n",
    "    % j: user counter: 1:num_users\n",
    "\n",
    "    Y_hat = X*Theta';\n",
    "    % Option 1\n",
    "    %D = Y_hat(R==1) - Y(R==1);\n",
    "    %J = (1.0/2.0) * D'*D;\n",
    "    % Option 2\n",
    "    D = Y_hat.*R - Y.*R;\n",
    "    J = (1.0/2.0) * sum(sum(D.*D));\n",
    "\n",
    "    % X_grad: num_movies x n: dJ/dX, all elements of X\n",
    "    % Theta_grad: num_users x n: dJ/dTheta, all elements of Theta\n",
    "    \n",
    "    % Notes on notation:\n",
    "    % k = 1:n (features), num_features\n",
    "    % x_k^{(i)}: row i and column k, i.e., movie i and feature k\n",
    "    % theta_k^{(j)}: row j and column k, i.e., user j and feature k\n",
    "    % j:r(i,j)=1: over all j values where r(i,j)=1\n",
    "    \n",
    "    # Gradients: dJ/dX, dJ/dTheta\n",
    "    for i=1:num_movies\n",
    "        idx = find(R(i,:)==1); % users that have rated movie i\n",
    "        Theta_tmp = Theta(idx,:); % |idx:users-i| x n\n",
    "        Y_tmp = Y(i,idx); % 1 x |idx:users-i|\n",
    "        % (1 x n) x (n x |idx:users-i|) x (|idx:users-i| x n) = 1 x n\n",
    "        X_grad(i,:) = (X(i,:)*Theta_tmp'-Y_tmp)*Theta_tmp;\n",
    "    end\n",
    "\n",
    "    for j=1:num_users\n",
    "        idx = find(R(:,j)==1); % movies that user j has rated\n",
    "        X_tmp = X(idx,:); % |idx:movies-j| x n\n",
    "        Y_tmp = Y(idx,j); % |idx:movies-j| x 1\n",
    "        % (|idx:movies-j| x n) x (n x 1) = |idx:movies-j| x 1 -> 1 x |idx:movies-j|\n",
    "        Theta_grad(j,:) = (X_tmp*Theta(j,:)'-Y_tmp)'*X_tmp;\n",
    "    end\n",
    "    \n",
    "    % Cost Regularization\n",
    "    X_reg = 0.5*lambda*sum(sum(X.*X));\n",
    "    Theta_reg = 0.5*lambda*sum(sum(Theta.*Theta));\n",
    "    J = J + X_reg + Theta_reg;\n",
    "\n",
    "    % Pack the results: unroll!\n",
    "    grad = [X_grad(:); Theta_grad(:)];\n",
    "\n",
    "end"
   ]
  },
  {
   "cell_type": "markdown",
   "id": "981e3a3f-af94-46ba-a4e8-793a1ca9fb05",
   "metadata": {},
   "source": [
    "#### 3.1.4 Cost Function Gradient with Regularization"
   ]
  },
  {
   "cell_type": "markdown",
   "id": "2e4361e5-3263-4753-a7f0-5b4925dce374",
   "metadata": {},
   "source": [
    "$$ \\frac{\\partial J}{\\partial x_k^{(i)}} = \\sum_{j:r(i,j)=1} \\left( \\left(\\theta^{(j)}\\right)^T x^{(i)} - y^{(i,j)} \\right) \\theta_k^{(j)} + \\lambda x_k^{(i)} $$\n",
    "\n",
    "$$ \\frac{\\partial J}{\\partial \\theta_k^{(j)}} = \\sum_{i:r(i,j)=1} \\left( \\left(\\theta^{(j)}\\right)^T x^{(i)}- y^{(i,j)} \\right) x_k^{(i)} + \\lambda \\theta_k^{(j)} $$"
   ]
  },
  {
   "cell_type": "code",
   "execution_count": 143,
   "id": "10fe0abe-f180-4df9-94d9-e1b78b9b21cc",
   "metadata": {},
   "outputs": [],
   "source": [
    "function [J, grad] = cofiCostFunc_(params, Y, R, num_users, num_movies, ...\n",
    "                                   num_features, lambda)\n",
    "    % [J, grad] = COFICOSTFUNC(params, Y, R, num_users, num_movies, ...\n",
    "    % num_features, lambda) returns the cost and gradient for the\n",
    "    % collaborative filtering problem.\n",
    "\n",
    "    % Unfold the U and W matrices from params\n",
    "    X = reshape(params(1:num_movies*num_features), num_movies, num_features);\n",
    "    Theta = reshape(params(num_movies*num_features+1:end), num_users, num_features);\n",
    "\n",
    "    % You need to return the following values correctly\n",
    "    J = 0;\n",
    "    X_grad = zeros(size(X));\n",
    "    Theta_grad = zeros(size(Theta));\n",
    "\n",
    "    % We factorize Y to X and Theta:\n",
    "    % X: movie features: num_movies x n\n",
    "    % Theta: user weights for movie features: num_users x n\n",
    "    % Y: num_movies x num_users: ratings\n",
    "    % R: num_movies x num_users: R(i,j) = 1 if there is a rating in Y, 0 otherwise\n",
    "    % n: number of features -> chosen to be 100\n",
    "    % i: movie counter: 1:num_movies\n",
    "    % j: user counter: 1:num_users\n",
    "\n",
    "    Y_hat = X*Theta';\n",
    "    % Option 1\n",
    "    %D = Y_hat(R==1) - Y(R==1);\n",
    "    %J = (1.0/2.0) * D'*D;\n",
    "    % Option 2\n",
    "    D = Y_hat.*R - Y.*R;\n",
    "    J = (1.0/2.0) * sum(sum(D.*D));\n",
    "\n",
    "    % X_grad: num_movies x n: dJ/dX, all elements of X\n",
    "    % Theta_grad: num_users x n: dJ/dTheta, all elements of Theta\n",
    "    \n",
    "    % Notes on notation:\n",
    "    % k = 1:n (features), num_features\n",
    "    % x_k^{(i)}: row i and column k, i.e., movie i and feature k\n",
    "    % theta_k^{(j)}: row j and column k, i.e., user j and feature k\n",
    "    % j:r(i,j)=1: over all j values where r(i,j)=1\n",
    "    \n",
    "    # Gradients: dJ/dX, dJ/dTheta\n",
    "    for i=1:num_movies\n",
    "        idx = find(R(i,:)==1); % users that have rated movie i\n",
    "        Theta_tmp = Theta(idx,:); % |idx:users-i| x n\n",
    "        Y_tmp = Y(i,idx); % 1 x |idx:users-i|\n",
    "        % (1 x n) x (n x |idx:users-i|) x (|idx:users-i| x n) = 1 x n\n",
    "        X_grad(i,:) = (X(i,:)*Theta_tmp'-Y_tmp)*Theta_tmp;\n",
    "    end\n",
    "\n",
    "    for j=1:num_users\n",
    "        idx = find(R(:,j)==1); % movies that user j has rated\n",
    "        X_tmp = X(idx,:); % |idx:movies-j| x n\n",
    "        Y_tmp = Y(idx,j); % |idx:movies-j| x 1\n",
    "        % (|idx:movies-j| x n) x (n x 1) = |idx:movies-j| x 1 -> 1 x |idx:movies-j|\n",
    "        Theta_grad(j,:) = (X_tmp*Theta(j,:)'-Y_tmp)'*X_tmp;\n",
    "    end\n",
    "    \n",
    "    % Cost Regularization\n",
    "    X_reg = 0.5*lambda*sum(sum(X.*X));\n",
    "    Theta_reg = 0.5*lambda*sum(sum(Theta.*Theta));\n",
    "    J = J + X_reg + Theta_reg;\n",
    "\n",
    "    % Gradient: Regularization Terms\n",
    "    % We could insert these in the loops above, \n",
    "    % but I leave them here for clarity\n",
    "    % and to keep the chronology of additions\n",
    "    for i=1:num_movies\n",
    "        X_grad(i,:) = X_grad(i,:) + lambda*X(i,:);\n",
    "    end\n",
    "    for j=1:num_users\n",
    "        Theta_grad(j,:) = Theta_grad(j,:) + lambda*Theta(j,:);\n",
    "    end\n",
    "\n",
    "    % Pack the results: unroll!\n",
    "    grad = [X_grad(:); Theta_grad(:)];\n",
    "\n",
    "end"
   ]
  },
  {
   "cell_type": "markdown",
   "id": "94489011-c05e-42aa-a55a-234c14347633",
   "metadata": {},
   "source": [
    "### 3.2 Train and Test the Model (Ungraded, Taken from `ex_cofi.m`)"
   ]
  },
  {
   "cell_type": "markdown",
   "id": "a60aedd8-773d-4d2c-b6bb-82fb7b6f66b0",
   "metadata": {},
   "source": [
    "See `movie_ids.txt`"
   ]
  },
  {
   "cell_type": "markdown",
   "id": "1608fc58-d2a5-472f-9f73-e3f981dec07f",
   "metadata": {},
   "source": [
    "#### Set Ratings"
   ]
  },
  {
   "cell_type": "code",
   "execution_count": 148,
   "id": "e040a928-e9ed-467c-ae7f-4ec931396a05",
   "metadata": {},
   "outputs": [],
   "source": [
    "%  Initialize my ratings\n",
    "my_ratings = zeros(1682, 1);\n",
    "\n",
    "% Check the file movie_idx.txt for id of each movie in our dataset\n",
    "% For example, Toy Story (1995) has ID 1, so to rate it \"4\", you can set\n",
    "my_ratings(1) = 4;\n",
    "\n",
    "% Or suppose did not enjoy Silence of the Lambs (1991), you can set\n",
    "my_ratings(98) = 2;\n",
    "\n",
    "% We have selected a few movies we liked / did not like and the ratings we\n",
    "% gave are as follows:\n",
    "my_ratings(7) = 3;\n",
    "my_ratings(12)= 5;\n",
    "my_ratings(54) = 4;\n",
    "my_ratings(64)= 5;\n",
    "my_ratings(66)= 3;\n",
    "my_ratings(69) = 5;\n",
    "my_ratings(183) = 4;\n",
    "my_ratings(226) = 5;\n",
    "my_ratings(355)= 5;"
   ]
  },
  {
   "cell_type": "markdown",
   "id": "2c608d77-1004-4a08-9ed2-aa2233dd39ed",
   "metadata": {},
   "source": [
    "#### Load Data & Optimize Model Parameters"
   ]
  },
  {
   "cell_type": "code",
   "execution_count": 150,
   "id": "fdc14abb-b653-4e35-8543-74dc73f736af",
   "metadata": {},
   "outputs": [
    {
     "name": "stdout",
     "output_type": "stream",
     "text": [
      "Iteration   100 | Cost: 3.895229e+04\n"
     ]
    }
   ],
   "source": [
    "% Load data\n",
    "% Y is a 1682x943 matrix, containing ratings (1-5) of 1682 movies by 943 users\n",
    "% R is a 1682x943 matrix, where R(i,j) = 1 if and only if user j gave a rating to movie i\n",
    "load('ex8_movies.mat');\n",
    "\n",
    "% Add our own ratings to the data matrix\n",
    "Y = [my_ratings Y];\n",
    "R = [(my_ratings ~= 0) R];\n",
    "\n",
    "% Normalize Ratings\n",
    "[Ynorm, Ymean] = normalizeRatings(Y, R);\n",
    "\n",
    "% Useful Values\n",
    "num_users = size(Y, 2);\n",
    "num_movies = size(Y, 1);\n",
    "num_features = 10;\n",
    "\n",
    "% Set Initial Parameters (Theta, X)\n",
    "X = randn(num_movies, num_features);\n",
    "Theta = randn(num_users, num_features);\n",
    "\n",
    "initial_parameters = [X(:); Theta(:)];\n",
    "\n",
    "% Set options for fmincg\n",
    "options = optimset('GradObj', 'on', 'MaxIter', 100);\n",
    "\n",
    "% Set Regularization\n",
    "lambda = 10;\n",
    "theta = fmincg (@(t)(cofiCostFunc(t, Ynorm, R, num_users, num_movies, ...\n",
    "                                num_features, lambda)), ...\n",
    "                initial_parameters, options);\n",
    "\n",
    "% Unfold the returned theta back into U and W\n",
    "X = reshape(theta(1:num_movies*num_features), num_movies, num_features);\n",
    "Theta = reshape(theta(num_movies*num_features+1:end), ...\n",
    "                num_users, num_features);"
   ]
  },
  {
   "cell_type": "markdown",
   "id": "50e2768e-75c7-4a20-9a54-0d3fa0d3df8d",
   "metadata": {},
   "source": [
    "#### Estimate Ratings with Model"
   ]
  },
  {
   "cell_type": "code",
   "execution_count": 147,
   "id": "4a7fbbdb-f76e-48e1-8085-cf86f5e92161",
   "metadata": {},
   "outputs": [
    {
     "name": "stdout",
     "output_type": "stream",
     "text": [
      "\n",
      "Top recommendations for you:\n",
      "Predicting rating 5.0 for movie Marlene Dietrich: Shadow and Light (1996)\n",
      "Predicting rating 5.0 for movie Prefontaine (1997)\n",
      "Predicting rating 5.0 for movie Star Kid (1997)\n",
      "Predicting rating 5.0 for movie Aiqing wansui (1994)\n",
      "Predicting rating 5.0 for movie Great Day in Harlem, A (1994)\n",
      "Predicting rating 5.0 for movie Entertaining Angels: The Dorothy Day Story (1996)\n",
      "Predicting rating 5.0 for movie Santa with Muscles (1996)\n",
      "Predicting rating 5.0 for movie Saint of Fort Washington, The (1993)\n",
      "Predicting rating 5.0 for movie Someone Else's America (1995)\n",
      "Predicting rating 5.0 for movie They Made Me a Criminal (1939)\n",
      "\n",
      "\n",
      "Original ratings provided:\n",
      "Rated 4 for Toy Story (1995)\n",
      "Rated 3 for Twelve Monkeys (1995)\n",
      "Rated 5 for Usual Suspects, The (1995)\n",
      "Rated 4 for Outbreak (1995)\n",
      "Rated 5 for Shawshank Redemption, The (1994)\n",
      "Rated 3 for While You Were Sleeping (1995)\n",
      "Rated 5 for Forrest Gump (1994)\n",
      "Rated 2 for Silence of the Lambs, The (1991)\n",
      "Rated 4 for Alien (1979)\n",
      "Rated 5 for Die Hard 2 (1990)\n",
      "Rated 5 for Sphere (1998)\n"
     ]
    }
   ],
   "source": [
    "p = X * Theta';\n",
    "my_predictions = p(:,1) + Ymean;\n",
    "\n",
    "movieList = loadMovieList();\n",
    "\n",
    "[r, ix] = sort(my_predictions, 'descend');\n",
    "fprintf('\\nTop recommendations for you:\\n');\n",
    "for i=1:10\n",
    "    j = ix(i);\n",
    "    fprintf('Predicting rating %.1f for movie %s\\n', my_predictions(j), ...\n",
    "            movieList{j});\n",
    "end\n",
    "\n",
    "fprintf('\\n\\nOriginal ratings provided:\\n');\n",
    "for i = 1:length(my_ratings)\n",
    "    if my_ratings(i) > 0 \n",
    "        fprintf('Rated %d for %s\\n', my_ratings(i), ...\n",
    "                 movieList{i});\n",
    "    end\n",
    "end"
   ]
  },
  {
   "cell_type": "code",
   "execution_count": null,
   "id": "0ee983fe-2196-4ed4-8db9-75b1d896941c",
   "metadata": {},
   "outputs": [],
   "source": []
  }
 ],
 "metadata": {
  "kernelspec": {
   "display_name": "Octave",
   "language": "octave",
   "name": "octave"
  },
  "language_info": {
   "file_extension": ".m",
   "help_links": [
    {
     "text": "GNU Octave",
     "url": "https://www.gnu.org/software/octave/support.html"
    },
    {
     "text": "Octave Kernel",
     "url": "https://github.com/Calysto/octave_kernel"
    },
    {
     "text": "MetaKernel Magics",
     "url": "https://metakernel.readthedocs.io/en/latest/source/README.html"
    }
   ],
   "mimetype": "text/x-octave",
   "name": "octave",
   "version": "6.3.0"
  }
 },
 "nbformat": 4,
 "nbformat_minor": 5
}
