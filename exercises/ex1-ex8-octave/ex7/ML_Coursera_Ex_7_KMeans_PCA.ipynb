{
 "cells": [
  {
   "cell_type": "markdown",
   "id": "6533c332-347f-4c69-93b5-52b065c839fd",
   "metadata": {},
   "source": [
    "# Exercise 7: K-means Clustering and Principal Component Analysis"
   ]
  },
  {
   "cell_type": "markdown",
   "id": "098eeb20-6b18-428a-98f1-07037324d84f",
   "metadata": {},
   "source": [
    "In this exercise, has two major parts:\n",
    "1. K-Means clustering used to compress an image.\n",
    "2. Principal Component Analysis (PCA) to find low-dimensional representations of images.\n",
    "\n",
    "Files provided by Coursera, located under `../exercises/ex1-ex8-octave/ex7`\n",
    "\n",
    "- `ex7.m` - Octave/MATLAB script for the first exercise on K-means\n",
    "- `ex7_pca.m` - Octave/MATLAB script for the second exercise on PCA\n",
    "- `ex7data1.mat` - Example Dataset for PCA\n",
    "- `ex7data2.mat` - Example Dataset for K-means\n",
    "- `ex7faces.ma` - Faces Dataset\n",
    "- `bird_small.png` - Example Image\n",
    "- `displayData.` - Displays 2D data stored in a matrix\n",
    "- `drawLine.m` - Draws a line over an exsiting figure\n",
    "- `plotDataPoints.m` - Initialization for K-means centroids\n",
    "- `plotProgresskMeans.` - Plots each step of K-means as it proceeds\n",
    "- `runkMeans.m` - Runs the K-means algorithm\n",
    "- `submit.m` - Submission script that sends your solutions to our servers\n",
    "\n",
    "Files to complete:\n",
    "\n",
    "- `pca.m` - Perform principal component analysis\n",
    "- `projectData.m` - Projects a data set into a lower dimensional space\n",
    "- `recoverData.m` - Recovers the original data from the projection \n",
    "- `findClosestCentroids.m` - Findclosestcentroids(usedin K-means)\n",
    "- `computeCentroids.m` - Compute centroid means (used in K-means)\n",
    "- `kMeansInitCentroids.m` - Initialization for K-means centroids\n",
    "\n",
    "Workflow:\n",
    "\n",
    "- Download latest Octave version of exercise from Coursera\n",
    "- Complete code in exercise files following `ex7.pdf`\n",
    "- Whenever an exercise part is finished\n",
    "  - Check it with `ex7` and `ex7_spam` in Octave terminal\n",
    "  - Create a submission token on Coursera (exercise submission page, it lasts 30 minutes)\n",
    "  - Execute `submit` in Octave terminal\n",
    "  - Introduce email and token\n",
    "  - Results appear\n",
    "\n",
    "**Overview of contents:**\n",
    "\n",
    "0. Setup: `gnuplot`\n",
    "1. Dataset Loading & Visualization\n",
    "2. K-Means Clustering\n",
    "3. Principal Component Analysis (PCA)"
   ]
  },
  {
   "cell_type": "markdown",
   "id": "eeedc897-f3b1-41a4-9cce-9022b747b855",
   "metadata": {},
   "source": [
    "## 0. Setup: `gnuplot`"
   ]
  },
  {
   "cell_type": "code",
   "execution_count": 1,
   "id": "5b9ec002-a791-4ca0-aa77-b67795da869a",
   "metadata": {},
   "outputs": [],
   "source": [
    "graphics_toolkit (\"gnuplot\");"
   ]
  },
  {
   "cell_type": "code",
   "execution_count": 2,
   "id": "0ddaef62-c876-4903-ba91-9ede7364d713",
   "metadata": {},
   "outputs": [],
   "source": [
    "%plot -b inline:gnuplot"
   ]
  },
  {
   "cell_type": "markdown",
   "id": "56caf3a7-ccc5-4cf8-ac2b-5c54f5176016",
   "metadata": {},
   "source": [
    "## 1. Dataset Loading & Visualization"
   ]
  },
  {
   "cell_type": "code",
   "execution_count": null,
   "id": "d991f046-4389-4fdc-b2cd-161e4ef7102e",
   "metadata": {},
   "outputs": [],
   "source": []
  }
 ],
 "metadata": {
  "kernelspec": {
   "display_name": "Octave",
   "language": "octave",
   "name": "octave"
  },
  "language_info": {
   "file_extension": ".m",
   "help_links": [
    {
     "text": "GNU Octave",
     "url": "https://www.gnu.org/software/octave/support.html"
    },
    {
     "text": "Octave Kernel",
     "url": "https://github.com/Calysto/octave_kernel"
    },
    {
     "text": "MetaKernel Magics",
     "url": "https://metakernel.readthedocs.io/en/latest/source/README.html"
    }
   ],
   "mimetype": "text/x-octave",
   "name": "octave",
   "version": "6.3.0"
  }
 },
 "nbformat": 4,
 "nbformat_minor": 5
}
