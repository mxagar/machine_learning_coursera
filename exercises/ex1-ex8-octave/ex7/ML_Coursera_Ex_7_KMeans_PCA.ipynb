{
 "cells": [
  {
   "cell_type": "markdown",
   "id": "6533c332-347f-4c69-93b5-52b065c839fd",
   "metadata": {},
   "source": [
    "# Exercise 7: K-means Clustering and Principal Component Analysis"
   ]
  },
  {
   "cell_type": "markdown",
   "id": "098eeb20-6b18-428a-98f1-07037324d84f",
   "metadata": {},
   "source": [
    "In this exercise, has two major parts:\n",
    "1. K-Means clustering used to compress an image.\n",
    "2. Principal Component Analysis (PCA) to find low-dimensional representations of images.\n",
    "\n",
    "Files provided by Coursera, located under `../exercises/ex1-ex8-octave/ex7`\n",
    "\n",
    "- `ex7.m` - Octave/MATLAB script for the first exercise on K-means\n",
    "- `ex7_pca.m` - Octave/MATLAB script for the second exercise on PCA\n",
    "- `ex7data1.mat` - Example Dataset for PCA\n",
    "- `ex7data2.mat` - Example Dataset for K-means\n",
    "- `ex7faces.ma` - Faces Dataset\n",
    "- `bird_small.png` - Example Image\n",
    "- `displayData.` - Displays 2D data stored in a matrix\n",
    "- `drawLine.m` - Draws a line over an exsiting figure\n",
    "- `plotDataPoints.m` - Initialization for K-means centroids\n",
    "- `plotProgresskMeans.` - Plots each step of K-means as it proceeds\n",
    "- `runkMeans.m` - Runs the K-means algorithm\n",
    "- `submit.m` - Submission script that sends your solutions to our servers\n",
    "\n",
    "Files to complete:\n",
    "\n",
    "- `pca.m` - Perform principal component analysis\n",
    "- `projectData.m` - Projects a data set into a lower dimensional space\n",
    "- `recoverData.m` - Recovers the original data from the projection \n",
    "- `findClosestCentroids.m` - Findclosestcentroids(usedin K-means)\n",
    "- `computeCentroids.m` - Compute centroid means (used in K-means)\n",
    "- `kMeansInitCentroids.m` - Initialization for K-means centroids\n",
    "\n",
    "Workflow:\n",
    "\n",
    "- Download latest Octave version of exercise from Coursera\n",
    "- Complete code in exercise files following `ex7.pdf`\n",
    "- Whenever an exercise part is finished\n",
    "  - Check it with `ex7` and `ex7_spam` in Octave terminal\n",
    "  - Create a submission token on Coursera (exercise submission page, it lasts 30 minutes)\n",
    "  - Execute `submit` in Octave terminal\n",
    "  - Introduce email and token\n",
    "  - Results appear\n",
    "\n",
    "**Overview of contents:**\n",
    "\n",
    "0. Setup: `gnuplot`\n",
    "1. Dataset Loading & Visualization\n",
    "2. K-Means Clustering\n",
    "3. Principal Component Analysis (PCA)"
   ]
  },
  {
   "cell_type": "markdown",
   "id": "eeedc897-f3b1-41a4-9cce-9022b747b855",
   "metadata": {},
   "source": [
    "## 0. Setup: `gnuplot`"
   ]
  },
  {
   "cell_type": "code",
   "execution_count": 8,
   "id": "5b9ec002-a791-4ca0-aa77-b67795da869a",
   "metadata": {},
   "outputs": [],
   "source": [
    "graphics_toolkit (\"gnuplot\");"
   ]
  },
  {
   "cell_type": "code",
   "execution_count": 9,
   "id": "0ddaef62-c876-4903-ba91-9ede7364d713",
   "metadata": {},
   "outputs": [],
   "source": [
    "%plot -b inline:gnuplot"
   ]
  },
  {
   "cell_type": "markdown",
   "id": "56caf3a7-ccc5-4cf8-ac2b-5c54f5176016",
   "metadata": {},
   "source": [
    "## 1. Dataset Loading & Visualization"
   ]
  },
  {
   "cell_type": "code",
   "execution_count": 10,
   "id": "d991f046-4389-4fdc-b2cd-161e4ef7102e",
   "metadata": {},
   "outputs": [],
   "source": [
    "% Load an example dataset that we will be using\n",
    "load('ex7data2.mat');"
   ]
  },
  {
   "cell_type": "code",
   "execution_count": 11,
   "id": "91c557b6-6129-42c1-a750-66ece49dff50",
   "metadata": {},
   "outputs": [
    {
     "name": "stdout",
     "output_type": "stream",
     "text": [
      "Variables visible from the current scope:\n",
      "\n",
      "X    ans\n",
      "\n"
     ]
    }
   ],
   "source": [
    "who"
   ]
  },
  {
   "cell_type": "code",
   "execution_count": 12,
   "id": "628462c1-8dde-4e67-a1d4-fcf5c495d2fa",
   "metadata": {},
   "outputs": [
    {
     "name": "stdout",
     "output_type": "stream",
     "text": [
      "ans =\n",
      "\n",
      "   300     2\n",
      "\n"
     ]
    }
   ],
   "source": [
    "size(X)"
   ]
  },
  {
   "cell_type": "code",
   "execution_count": 14,
   "id": "ae40cd95-564b-44e6-8f84-675578aca818",
   "metadata": {},
   "outputs": [
    {
     "data": {
      "image/png": "[encoded data removed]",
      "text/plain": [
       "<IPython.core.display.Image object>"
      ]
     },
     "metadata": {},
     "output_type": "display_data"
    }
   ],
   "source": [
    "plot(X(:,1), X(:,2), 'rx', 'MarkerSize', 10);"
   ]
  },
  {
   "cell_type": "markdown",
   "id": "92ff06db-2981-4b61-9d1a-81c6dbaafbb6",
   "metadata": {},
   "source": [
    "## 3. K-Means Clustering"
   ]
  },
  {
   "cell_type": "markdown",
   "id": "e31e0328-8b85-4cec-a62e-cf59f46d604d",
   "metadata": {},
   "source": [
    "### 3.1 Implementing K-Means - `findClosestCentroids.m`, `computeCentroids.m`"
   ]
  },
  {
   "cell_type": "code",
   "execution_count": 65,
   "id": "4e8a50f8-a3d0-4628-a608-089233a2968c",
   "metadata": {},
   "outputs": [],
   "source": [
    "function idx = findClosestCentroids_(X, centroids)\n",
    "    % X: m x n; m: examples\n",
    "    % centroids: K x n\n",
    "    % idx: m x 1\n",
    "    \n",
    "    % Number of examples\n",
    "    m = size(X,1);\n",
    "\n",
    "    % Set K: number of centroids\n",
    "    K = size(centroids, 1);\n",
    "\n",
    "    % You need to return the following variables correctly.\n",
    "    idx = zeros(size(X,1), 1);\n",
    "\n",
    "    % Squared distances from centroid to each example (loop)\n",
    "    dist2 = zeros(1,K);\n",
    "    \n",
    "    % Loop through all examples, all centroids\n",
    "    for i = 1:m\n",
    "        for k = 1:K\n",
    "            d = X(i,:) - centroids(k,:);\n",
    "            dist2(1,k) = d*d';\n",
    "        end\n",
    "        [v, ind] = min(dist2);\n",
    "        idx(i,1) = ind;\n",
    "    end\n",
    "end"
   ]
  },
  {
   "cell_type": "code",
   "execution_count": 66,
   "id": "be582736-009e-4180-be07-c583e441c1e9",
   "metadata": {},
   "outputs": [],
   "source": [
    "K = 3; % 3 Centroids\n",
    "initial_centroids = [3 3; 6 2; 8 5];\n",
    "idx = findClosestCentroids_(X, initial_centroids);"
   ]
  },
  {
   "cell_type": "code",
   "execution_count": 68,
   "id": "bbc9aba0-adc4-4023-889a-642b788097db",
   "metadata": {},
   "outputs": [
    {
     "name": "stdout",
     "output_type": "stream",
     "text": [
      "ans =\n",
      "\n",
      "   1\n",
      "   3\n",
      "   2\n",
      "\n"
     ]
    }
   ],
   "source": [
    "idx(1:3)"
   ]
  },
  {
   "cell_type": "code",
   "execution_count": 86,
   "id": "4e1d977e-a99f-4b03-930d-6da70010f794",
   "metadata": {},
   "outputs": [],
   "source": [
    "function centroids = computeCentroids_(X, idx, K)\n",
    "\n",
    "    % Useful variables\n",
    "    [m n] = size(X);\n",
    "\n",
    "    % You need to return the following variables correctly.\n",
    "    centroids = zeros(K, n);\n",
    "\n",
    "    for k = 1:K\n",
    "        indices = find(idx == k);\n",
    "        centroids(k,:) = mean(X(indices,:));\n",
    "    end\n",
    "\n",
    "end\n",
    "\n"
   ]
  },
  {
   "cell_type": "code",
   "execution_count": 87,
   "id": "56a183d7-6690-48d9-bee1-c61b4b82178b",
   "metadata": {},
   "outputs": [],
   "source": [
    "centroids = computeCentroids_(X, idx, K);"
   ]
  },
  {
   "cell_type": "code",
   "execution_count": 88,
   "id": "54677ac3-11ce-40a7-9d06-691bc532af8a",
   "metadata": {},
   "outputs": [
    {
     "name": "stdout",
     "output_type": "stream",
     "text": [
      "centroids =\n",
      "\n",
      "   2.4283   3.1579\n",
      "   5.8135   2.6337\n",
      "   7.1194   3.6167\n",
      "\n"
     ]
    }
   ],
   "source": [
    "centroids"
   ]
  },
  {
   "cell_type": "code",
   "execution_count": null,
   "id": "b8b3b3c1-d373-4df2-94be-0505583ab846",
   "metadata": {},
   "outputs": [],
   "source": []
  }
 ],
 "metadata": {
  "kernelspec": {
   "display_name": "Octave",
   "language": "octave",
   "name": "octave"
  },
  "language_info": {
   "file_extension": ".m",
   "help_links": [
    {
     "text": "GNU Octave",
     "url": "https://www.gnu.org/software/octave/support.html"
    },
    {
     "text": "Octave Kernel",
     "url": "https://github.com/Calysto/octave_kernel"
    },
    {
     "text": "MetaKernel Magics",
     "url": "https://metakernel.readthedocs.io/en/latest/source/README.html"
    }
   ],
   "mimetype": "text/x-octave",
   "name": "octave",
   "version": "6.3.0"
  }
 },
 "nbformat": 4,
 "nbformat_minor": 5
}
