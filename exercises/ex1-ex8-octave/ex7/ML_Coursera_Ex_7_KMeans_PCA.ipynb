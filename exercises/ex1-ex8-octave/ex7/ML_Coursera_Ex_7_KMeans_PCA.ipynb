{
 "cells": [
  {
   "cell_type": "markdown",
   "id": "6533c332-347f-4c69-93b5-52b065c839fd",
   "metadata": {},
   "source": [
    "# Exercise 7: K-means Clustering and Principal Component Analysis"
   ]
  },
  {
   "cell_type": "markdown",
   "id": "098eeb20-6b18-428a-98f1-07037324d84f",
   "metadata": {},
   "source": [
    "In this exercise, has two major parts:\n",
    "1. K-Means clustering used to compress an image.\n",
    "2. Principal Component Analysis (PCA) to find low-dimensional representations of images.\n",
    "\n",
    "Files provided by Coursera, located under `../exercises/ex1-ex8-octave/ex7`\n",
    "\n",
    "- `ex7.m` - Octave/MATLAB script for the first exercise on K-means\n",
    "- `ex7_pca.m` - Octave/MATLAB script for the second exercise on PCA\n",
    "- `ex7data1.mat` - Example Dataset for PCA\n",
    "- `ex7data2.mat` - Example Dataset for K-means\n",
    "- `ex7faces.ma` - Faces Dataset\n",
    "- `bird_small.png` - Example Image\n",
    "- `displayData.` - Displays 2D data stored in a matrix\n",
    "- `drawLine.m` - Draws a line over an exsiting figure\n",
    "- `plotDataPoints.m` - Initialization for K-means centroids\n",
    "- `plotProgresskMeans.` - Plots each step of K-means as it proceeds\n",
    "- `runkMeans.m` - Runs the K-means algorithm\n",
    "- `submit.m` - Submission script that sends your solutions to our servers\n",
    "\n",
    "Files to complete:\n",
    "\n",
    "- `pca.m` - Perform principal component analysis\n",
    "- `projectData.m` - Projects a data set into a lower dimensional space\n",
    "- `recoverData.m` - Recovers the original data from the projection \n",
    "- `findClosestCentroids.m` - Findclosestcentroids(usedin K-means)\n",
    "- `computeCentroids.m` - Compute centroid means (used in K-means)\n",
    "- `kMeansInitCentroids.m` - Initialization for K-means centroids\n",
    "\n",
    "Workflow:\n",
    "\n",
    "- Download latest Octave version of exercise from Coursera\n",
    "- Complete code in exercise files following `ex7.pdf`\n",
    "- Whenever an exercise part is finished\n",
    "  - Check it with `ex7` and `ex7_spam` in Octave terminal\n",
    "  - Create a submission token on Coursera (exercise submission page, it lasts 30 minutes)\n",
    "  - Execute `submit` in Octave terminal\n",
    "  - Introduce email and token\n",
    "  - Results appear\n",
    "\n",
    "**Overview of contents:**\n",
    "\n",
    "0. Setup: `gnuplot`\n",
    "1. Dataset Loading & Visualization\n",
    "2. K-Means Clustering - `ex7.m`\n",
    "    - 2.1 Implementing K-Means - `findClosestCentroids.m`, `computeCentroids.m`\n",
    "        - 2.1.1 Simplified Algorithm Function\n",
    "    - 2.2 Random Initialization - `kMeansInitCentroids.m`\n",
    "    - 2.3 Image Compression with K-Means\n",
    "3. Principal Component Analysis (PCA) - `ex7_pca.m`"
   ]
  },
  {
   "cell_type": "markdown",
   "id": "eeedc897-f3b1-41a4-9cce-9022b747b855",
   "metadata": {},
   "source": [
    "## 0. Setup: `gnuplot`"
   ]
  },
  {
   "cell_type": "code",
   "execution_count": 8,
   "id": "5b9ec002-a791-4ca0-aa77-b67795da869a",
   "metadata": {},
   "outputs": [],
   "source": [
    "graphics_toolkit (\"gnuplot\");"
   ]
  },
  {
   "cell_type": "code",
   "execution_count": 9,
   "id": "0ddaef62-c876-4903-ba91-9ede7364d713",
   "metadata": {},
   "outputs": [],
   "source": [
    "%plot -b inline:gnuplot"
   ]
  },
  {
   "cell_type": "markdown",
   "id": "56caf3a7-ccc5-4cf8-ac2b-5c54f5176016",
   "metadata": {},
   "source": [
    "## 1. Dataset Loading & Visualization"
   ]
  },
  {
   "cell_type": "code",
   "execution_count": 10,
   "id": "d991f046-4389-4fdc-b2cd-161e4ef7102e",
   "metadata": {},
   "outputs": [],
   "source": [
    "% Load an example dataset that we will be using\n",
    "load('ex7data2.mat');"
   ]
  },
  {
   "cell_type": "code",
   "execution_count": 11,
   "id": "91c557b6-6129-42c1-a750-66ece49dff50",
   "metadata": {},
   "outputs": [
    {
     "name": "stdout",
     "output_type": "stream",
     "text": [
      "Variables visible from the current scope:\n",
      "\n",
      "X    ans\n",
      "\n"
     ]
    }
   ],
   "source": [
    "who"
   ]
  },
  {
   "cell_type": "code",
   "execution_count": 12,
   "id": "628462c1-8dde-4e67-a1d4-fcf5c495d2fa",
   "metadata": {},
   "outputs": [
    {
     "name": "stdout",
     "output_type": "stream",
     "text": [
      "ans =\n",
      "\n",
      "   300     2\n",
      "\n"
     ]
    }
   ],
   "source": [
    "size(X)"
   ]
  },
  {
   "cell_type": "code",
   "execution_count": 14,
   "id": "ae40cd95-564b-44e6-8f84-675578aca818",
   "metadata": {},
   "outputs": [
    {
     "data": {
      "image/png": "[encoded data removed]",
      "text/plain": [
       "<IPython.core.display.Image object>"
      ]
     },
     "metadata": {},
     "output_type": "display_data"
    }
   ],
   "source": [
    "plot(X(:,1), X(:,2), 'rx', 'MarkerSize', 10);"
   ]
  },
  {
   "cell_type": "markdown",
   "id": "92ff06db-2981-4b61-9d1a-81c6dbaafbb6",
   "metadata": {},
   "source": [
    "## 2. K-Means Clustering - `ex7.m`"
   ]
  },
  {
   "cell_type": "markdown",
   "id": "e31e0328-8b85-4cec-a62e-cf59f46d604d",
   "metadata": {},
   "source": [
    "### 2.1 Implementing K-Means - `findClosestCentroids.m`, `computeCentroids.m`"
   ]
  },
  {
   "cell_type": "code",
   "execution_count": 65,
   "id": "4e8a50f8-a3d0-4628-a608-089233a2968c",
   "metadata": {},
   "outputs": [],
   "source": [
    "function idx = findClosestCentroids_(X, centroids)\n",
    "    % X: m x n; m: examples\n",
    "    % centroids: K x n\n",
    "    % idx: m x 1\n",
    "    \n",
    "    % Number of examples\n",
    "    m = size(X,1);\n",
    "\n",
    "    % Set K: number of centroids\n",
    "    K = size(centroids, 1);\n",
    "\n",
    "    % You need to return the following variables correctly.\n",
    "    idx = zeros(size(X,1), 1);\n",
    "\n",
    "    % Squared distances from centroid to each example (loop)\n",
    "    dist2 = zeros(1,K);\n",
    "    \n",
    "    % Loop through all examples, all centroids\n",
    "    for i = 1:m\n",
    "        for k = 1:K\n",
    "            d = X(i,:) - centroids(k,:);\n",
    "            dist2(1,k) = d*d';\n",
    "        end\n",
    "        [v, ind] = min(dist2);\n",
    "        idx(i,1) = ind;\n",
    "    end\n",
    "end"
   ]
  },
  {
   "cell_type": "code",
   "execution_count": 66,
   "id": "be582736-009e-4180-be07-c583e441c1e9",
   "metadata": {},
   "outputs": [],
   "source": [
    "K = 3; % 3 Centroids\n",
    "initial_centroids = [3 3; 6 2; 8 5];\n",
    "idx = findClosestCentroids_(X, initial_centroids);"
   ]
  },
  {
   "cell_type": "code",
   "execution_count": 68,
   "id": "bbc9aba0-adc4-4023-889a-642b788097db",
   "metadata": {},
   "outputs": [
    {
     "name": "stdout",
     "output_type": "stream",
     "text": [
      "ans =\n",
      "\n",
      "   1\n",
      "   3\n",
      "   2\n",
      "\n"
     ]
    }
   ],
   "source": [
    "idx(1:3)"
   ]
  },
  {
   "cell_type": "code",
   "execution_count": 94,
   "id": "4e1d977e-a99f-4b03-930d-6da70010f794",
   "metadata": {},
   "outputs": [],
   "source": [
    "function centroids = computeCentroids_(X, idx, K)\n",
    "\n",
    "    % Useful variables\n",
    "    [m n] = size(X);\n",
    "\n",
    "    % You need to return the following variables correctly.\n",
    "    centroids = zeros(K, n);\n",
    "\n",
    "    for k = 1:K\n",
    "        indices = find(idx == k);\n",
    "        centroids(k,:) = mean(X(indices,:));\n",
    "    end\n",
    "\n",
    "end"
   ]
  },
  {
   "cell_type": "code",
   "execution_count": 87,
   "id": "56a183d7-6690-48d9-bee1-c61b4b82178b",
   "metadata": {},
   "outputs": [],
   "source": [
    "centroids = computeCentroids_(X, idx, K);"
   ]
  },
  {
   "cell_type": "code",
   "execution_count": 93,
   "id": "54677ac3-11ce-40a7-9d06-691bc532af8a",
   "metadata": {},
   "outputs": [
    {
     "name": "stdout",
     "output_type": "stream",
     "text": [
      "centroids =\n",
      "\n",
      "   1.9540   5.0256\n",
      "   3.0437   1.0154\n",
      "   6.0337   3.0005\n",
      "\n"
     ]
    }
   ],
   "source": [
    "centroids"
   ]
  },
  {
   "cell_type": "markdown",
   "id": "1c16b6ee-84fe-43b8-ad45-321792495690",
   "metadata": {},
   "source": [
    "#### 2.1.1 Simplified Algorithm Function"
   ]
  },
  {
   "cell_type": "markdown",
   "id": "3ff2da97-0d02-45e1-9cfe-4e453ac611e1",
   "metadata": {},
   "source": [
    "The original function is in `runkMeans.m` and plots the progress of the algorithm: dataset points are visualized in group colors and the centroids are moved progressively leaving a trail. It is executed from `ex7.m`."
   ]
  },
  {
   "cell_type": "code",
   "execution_count": 98,
   "id": "b8b3b3c1-d373-4df2-94be-0505583ab846",
   "metadata": {},
   "outputs": [],
   "source": [
    "function [centroids, idx] = runkMeans_(X, initial_centroids, max_iters)\n",
    "\n",
    "    % Initialize values\n",
    "    [m n] = size(X);\n",
    "    K = size(initial_centroids, 1);\n",
    "    centroids = initial_centroids;\n",
    "    previous_centroids = centroids;\n",
    "    idx = zeros(m, 1);\n",
    "\n",
    "    % Run K-Means\n",
    "    for i=1:max_iters\n",
    "\n",
    "        % For each example in X, assign it to the closest centroid\n",
    "        idx = findClosestCentroids_(X, centroids);\n",
    "\n",
    "        % Given the memberships, compute new centroids\n",
    "        centroids = computeCentroids_(X, idx, K);\n",
    "    end\n",
    "\n",
    "end"
   ]
  },
  {
   "cell_type": "code",
   "execution_count": 99,
   "id": "7899c2e7-3764-4f97-8f7e-8ef77cfbd07b",
   "metadata": {},
   "outputs": [],
   "source": [
    "% Load an example dataset\n",
    "load('ex7data2.mat');\n",
    "% Settings for running K-Means\n",
    "K = 3;\n",
    "max_iters = 10;\n",
    "% Initial centroids - they should be random examples\n",
    "initial_centroids = [3 3; 6 2; 8 5];\n",
    "% Run K-Means algorithm\n",
    "[centroids, idx] = runkMeans_(X, initial_centroids, max_iters);"
   ]
  },
  {
   "cell_type": "code",
   "execution_count": 100,
   "id": "63629e4e-443d-41f1-9145-6b84e05c482d",
   "metadata": {},
   "outputs": [
    {
     "name": "stdout",
     "output_type": "stream",
     "text": [
      "centroids =\n",
      "\n",
      "   1.9540   5.0256\n",
      "   3.0437   1.0154\n",
      "   6.0337   3.0005\n",
      "\n"
     ]
    }
   ],
   "source": [
    "centroids"
   ]
  },
  {
   "cell_type": "markdown",
   "id": "152d2745-76a4-46b8-b705-5cfe6f7e88bd",
   "metadata": {},
   "source": [
    "### 2.2 Random Initialization - `kMeansInitCentroids.m`"
   ]
  },
  {
   "cell_type": "code",
   "execution_count": 105,
   "id": "0ad84eef-0b8a-42ad-85b8-eca8abd26688",
   "metadata": {},
   "outputs": [],
   "source": [
    "function centroids = kMeansInitCentroids_(X, K)\n",
    "    centroids = zeros(K, size(X, 2));\n",
    "    % Randomly reorder the indices of examples\n",
    "    randidx = randperm(size(X, 1));\n",
    "    % Take the first K examples as centroids\n",
    "    centroids = X(randidx(1:K), :);\n",
    "end"
   ]
  },
  {
   "cell_type": "code",
   "execution_count": 106,
   "id": "4047ed55-6cdf-47fd-9bdf-2a285690a1ba",
   "metadata": {},
   "outputs": [
    {
     "name": "stdout",
     "output_type": "stream",
     "text": [
      "centroids =\n",
      "\n",
      "   2.3978   1.2472\n",
      "   2.1270   0.9567\n",
      "   4.3047   1.1073\n",
      "\n"
     ]
    }
   ],
   "source": [
    "centroids = kMeansInitCentroids_(X, 3)"
   ]
  },
  {
   "cell_type": "markdown",
   "id": "8b32be7f-257b-4381-8039-b8e7f9f626c2",
   "metadata": {},
   "source": [
    "### 2.3 Image Compression with K-Means"
   ]
  },
  {
   "cell_type": "markdown",
   "id": "0bb91548-6ed0-44d8-b26a-1480c9a267ab",
   "metadata": {},
   "source": [
    "There is nothing to be implemented in this section, just go through the code called in `ex7.m`. A simplified version of the code is below:"
   ]
  },
  {
   "cell_type": "code",
   "execution_count": 108,
   "id": "df0d24ec-3fea-41ad-b9ed-4d5d75dff13e",
   "metadata": {},
   "outputs": [],
   "source": [
    "%  Load an image of a bird\n",
    "A = double(imread('bird_small.png'));\n",
    "A = A / 255; % Divide by 255 so that all values are in the range 0 - 1\n",
    "% Size of the image\n",
    "img_size = size(A);"
   ]
  },
  {
   "cell_type": "code",
   "execution_count": 109,
   "id": "b08476dc-8fe5-463b-811e-b2c74a789c98",
   "metadata": {},
   "outputs": [],
   "source": [
    "% Reshape the image into an Nx3 matrix where N = number of pixels.\n",
    "% Each row will contain the Red, Green and Blue pixel values\n",
    "% This gives us our dataset matrix X that we will use K-Means on.\n",
    "X = reshape(A, img_size(1) * img_size(2), 3);"
   ]
  },
  {
   "cell_type": "code",
   "execution_count": 110,
   "id": "9d72e0c0-3680-44a9-b88f-b9e14109731f",
   "metadata": {},
   "outputs": [],
   "source": [
    "% Run your K-Means algorithm on this data\n",
    "% You should try different values of K and max_iters here\n",
    "K = 16; \n",
    "max_iters = 10;"
   ]
  },
  {
   "cell_type": "code",
   "execution_count": 111,
   "id": "749b3219-0ed4-4937-979b-8571a5164fdc",
   "metadata": {},
   "outputs": [
    {
     "name": "stdout",
     "output_type": "stream",
     "text": [
      "K-Means iteration 1/10...\n",
      "K-Means iteration 2/10...\n",
      "K-Means iteration 3/10...\n",
      "K-Means iteration 4/10...\n",
      "K-Means iteration 5/10...\n",
      "K-Means iteration 6/10...\n",
      "K-Means iteration 7/10...\n",
      "K-Means iteration 8/10...\n",
      "K-Means iteration 9/10...\n",
      "K-Means iteration 10/10...\n"
     ]
    }
   ],
   "source": [
    "% When using K-Means, initialize the centroids randomly. \n",
    "initial_centroids = kMeansInitCentroids(X, K);\n",
    "\n",
    "% Run K-Means\n",
    "[centroids, idx] = runkMeans(X, initial_centroids, max_iters);"
   ]
  },
  {
   "cell_type": "code",
   "execution_count": 118,
   "id": "13975a3d-20c2-4944-a43a-8f03b5960d0f",
   "metadata": {},
   "outputs": [],
   "source": [
    "% After k-means finished, get the final cenroids for each pixel\n",
    "% Find closest cluster members\n",
    "idx = findClosestCentroids(X, centroids);"
   ]
  },
  {
   "cell_type": "code",
   "execution_count": 119,
   "id": "88a43391-9717-4c25-befd-7ba2342f2baf",
   "metadata": {},
   "outputs": [],
   "source": [
    "% Compress\n",
    "X_compressed = centroids(idx,:);"
   ]
  },
  {
   "cell_type": "code",
   "execution_count": 120,
   "id": "63a22e79-5533-4901-aa2b-46ba3cf2c0c2",
   "metadata": {},
   "outputs": [],
   "source": [
    "% Reshape the recovered image into proper dimensions\n",
    "X_compressed = reshape(X_compressed, img_size(1), img_size(2), 3);"
   ]
  },
  {
   "cell_type": "code",
   "execution_count": 121,
   "id": "a4169bc1-65fc-4524-846b-63b65c11792c",
   "metadata": {},
   "outputs": [
    {
     "data": {
      "image/png": "[encoded data removed]",
      "text/plain": [
       "<IPython.core.display.Image object>"
      ]
     },
     "metadata": {},
     "output_type": "display_data"
    }
   ],
   "source": [
    "% Display the original image \n",
    "subplot(1, 2, 1);\n",
    "imagesc(A); \n",
    "title('Original');\n",
    "% Display compressed image side by side\n",
    "subplot(1, 2, 2);\n",
    "imagesc(X_compressed)\n",
    "title(sprintf('Compressed, with %d colors.', K));"
   ]
  },
  {
   "cell_type": "markdown",
   "id": "e30375c6-f9d1-4a1b-8fc9-2182b469bceb",
   "metadata": {},
   "source": [
    "## 3. Principal Component Analysis (PCA)"
   ]
  },
  {
   "cell_type": "code",
   "execution_count": 124,
   "id": "8762d269-bbac-4804-9ad7-a5c17f89dade",
   "metadata": {},
   "outputs": [],
   "source": [
    "% The following command loads the dataset.\n",
    "clear; close all;\n",
    "load ('ex7data1.mat');"
   ]
  },
  {
   "cell_type": "code",
   "execution_count": 127,
   "id": "b2fff74a-0633-40a9-b4d6-9983b32562a3",
   "metadata": {},
   "outputs": [
    {
     "name": "stdout",
     "output_type": "stream",
     "text": [
      "Variables visible from the current scope:\n",
      "\n",
      "X\n",
      "\n"
     ]
    }
   ],
   "source": [
    "who"
   ]
  },
  {
   "cell_type": "code",
   "execution_count": 128,
   "id": "4a887475-e877-4502-acc8-c08f8d1c1862",
   "metadata": {},
   "outputs": [
    {
     "name": "stdout",
     "output_type": "stream",
     "text": [
      "ans =\n",
      "\n",
      "   50    2\n",
      "\n"
     ]
    }
   ],
   "source": [
    "size(X)"
   ]
  },
  {
   "cell_type": "code",
   "execution_count": 126,
   "id": "a959a29d-703d-4857-b0f9-6d312d9003ed",
   "metadata": {},
   "outputs": [
    {
     "data": {
      "image/png": "[encoded data removed]",
      "text/plain": [
       "<IPython.core.display.Image object>"
      ]
     },
     "metadata": {},
     "output_type": "display_data"
    }
   ],
   "source": [
    "% Visualize the example dataset\n",
    "plot(X(:, 1), X(:, 2), 'bo');\n",
    "axis([0.5 6.5 2 8]); axis square;"
   ]
  },
  {
   "cell_type": "markdown",
   "id": "7c3c3279-2b42-4cd9-a022-2dc14229985f",
   "metadata": {},
   "source": [
    "### 3.1 Implementing PCA - `pca.m`"
   ]
  },
  {
   "cell_type": "code",
   "execution_count": 129,
   "id": "7ad4588d-e2e5-4a7c-81d5-f8cf32c1bd15",
   "metadata": {},
   "outputs": [],
   "source": [
    "function [U, S] = pca_(X)\n",
    "    % PCA Run principal component analysis on the dataset X\n",
    "    % [U, S, X] = pca(X) computes eigenvectors of the covariance matrix of X\n",
    "    % Returns the eigenvectors U, the eigenvalues (on diagonal) in S\n",
    "\n",
    "    % Useful values\n",
    "    [m, n] = size(X);\n",
    "\n",
    "    % You need to return the following variables correctly.\n",
    "    U = zeros(n);\n",
    "    S = zeros(n);\n",
    "\n",
    "    % Covariance matrix\n",
    "    Sigma = (1/m) * X' * X;\n",
    "\n",
    "    % Singular Value Decomposition:\n",
    "    % Eigenvectors: U (columns)\n",
    "    % EIgenvalues: S (diagonal)\n",
    "    [U, S, V] = svd(Sigma);\n",
    "end"
   ]
  },
  {
   "cell_type": "code",
   "execution_count": 130,
   "id": "97fa9351-0d49-46e0-ae71-cdaf31450083",
   "metadata": {},
   "outputs": [],
   "source": [
    "%  Before running PCA, it is important to first normalize X\n",
    "[X_norm, mu, sigma] = featureNormalize(X);\n",
    "\n",
    "%  Run PCA\n",
    "[U, S] = pca_(X_norm);"
   ]
  },
  {
   "cell_type": "code",
   "execution_count": 131,
   "id": "be2753e9-427e-4ea1-b7cd-096caac46bcd",
   "metadata": {},
   "outputs": [
    {
     "name": "stdout",
     "output_type": "stream",
     "text": [
      "U =\n",
      "\n",
      "  -0.7071  -0.7071\n",
      "  -0.7071   0.7071\n",
      "\n"
     ]
    }
   ],
   "source": [
    "U"
   ]
  },
  {
   "cell_type": "code",
   "execution_count": 132,
   "id": "f4891813-3d4f-4b0b-8056-0e0a0c25cd18",
   "metadata": {},
   "outputs": [
    {
     "name": "stdout",
     "output_type": "stream",
     "text": [
      "S =\n",
      "\n",
      "Diagonal Matrix\n",
      "\n",
      "   1.7008        0\n",
      "        0   0.2592\n",
      "\n"
     ]
    }
   ],
   "source": [
    "S"
   ]
  },
  {
   "cell_type": "markdown",
   "id": "ee27066b-9204-45ce-b217-0fbcaebb9163",
   "metadata": {},
   "source": [
    "### 3.2 Dimensionality Reduction with PCA - `projectData.m`, `recoverData.m`"
   ]
  },
  {
   "cell_type": "code",
   "execution_count": 135,
   "id": "bfd3aea7-f835-46d5-94fb-4bac0dead43e",
   "metadata": {},
   "outputs": [],
   "source": [
    "function Z = projectData_(X, U, K)\n",
    "\n",
    "    % You need to return the following variables correctly.\n",
    "    Z = zeros(size(X, 1), K);\n",
    "\n",
    "    % Take first K columns / eigenvectors\n",
    "    U_reduced = U(:,1:K);\n",
    "\n",
    "    % Project the X examples to the reduced space of K <= n features\n",
    "    % In order to figure out the order and whether transpose or not\n",
    "    % draw the matrices and think of what we want to get\n",
    "    Z = U_reduced' * X';\n",
    "    Z = Z';\n",
    "\n",
    "end"
   ]
  },
  {
   "cell_type": "code",
   "execution_count": 136,
   "id": "0515cf60-0047-49f0-9bcd-551d0d15484e",
   "metadata": {},
   "outputs": [],
   "source": [
    "%  Project the data onto K = 1 dimension\n",
    "K = 1;\n",
    "Z = projectData_(X_norm, U, K);"
   ]
  },
  {
   "cell_type": "code",
   "execution_count": 138,
   "id": "37af97cd-b89e-4403-a148-578edf59ee3f",
   "metadata": {},
   "outputs": [
    {
     "name": "stdout",
     "output_type": "stream",
     "text": [
      "ans =\n",
      "\n",
      "   1.4813\n",
      "  -0.9129\n",
      "   1.2121\n",
      "   1.6273\n",
      "   1.2604\n",
      "\n"
     ]
    }
   ],
   "source": [
    "Z(1:5)"
   ]
  },
  {
   "cell_type": "code",
   "execution_count": null,
   "id": "d26a4e77-245f-4dd9-8aec-1e6dd52e6863",
   "metadata": {},
   "outputs": [],
   "source": [
    "function X_rec = recoverData_(Z, U, K)\n",
    "%RECOVERDATA Recovers an approximation of the original data when using the \n",
    "%projected data\n",
    "%   X_rec = RECOVERDATA(Z, U, K) recovers an approximation the \n",
    "%   original data that has been reduced to K dimensions. It returns the\n",
    "%   approximate reconstruction in X_rec.\n",
    "%\n",
    "\n",
    "% You need to return the following variables correctly.\n",
    "X_rec = zeros(size(Z, 1), size(U, 1));\n",
    "\n",
    "% ====================== YOUR CODE HERE ======================\n",
    "% Instructions: Compute the approximation of the data by projecting back\n",
    "%               onto the original space using the top K eigenvectors in U.\n",
    "%\n",
    "%               For the i-th example Z(i,:), the (approximate)\n",
    "%               recovered data for dimension j is given as follows:\n",
    "%                    v = Z(i, :)';\n",
    "%                    recovered_j = v' * U(j, 1:K)';\n",
    "%\n",
    "%               Notice that U(j, 1:K) is a row vector.\n",
    "%               \n",
    "\n",
    "\n",
    "\n",
    "% =============================================================\n",
    "\n",
    "end\n"
   ]
  }
 ],
 "metadata": {
  "kernelspec": {
   "display_name": "Octave",
   "language": "octave",
   "name": "octave"
  },
  "language_info": {
   "file_extension": ".m",
   "help_links": [
    {
     "text": "GNU Octave",
     "url": "https://www.gnu.org/software/octave/support.html"
    },
    {
     "text": "Octave Kernel",
     "url": "https://github.com/Calysto/octave_kernel"
    },
    {
     "text": "MetaKernel Magics",
     "url": "https://metakernel.readthedocs.io/en/latest/source/README.html"
    }
   ],
   "mimetype": "text/x-octave",
   "name": "octave",
   "version": "6.3.0"
  }
 },
 "nbformat": 4,
 "nbformat_minor": 5
}
