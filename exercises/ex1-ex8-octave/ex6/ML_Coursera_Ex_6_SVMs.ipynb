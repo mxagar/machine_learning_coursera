{
 "cells": [
  {
   "cell_type": "markdown",
   "id": "fd421217-197e-49c5-b723-208a41d4d3df",
   "metadata": {},
   "source": [
    "# Exercise 6: Support Vector Machines (SVMs)"
   ]
  },
  {
   "cell_type": "markdown",
   "id": "0d94a840-7176-4726-9b7e-d47ed73be31f",
   "metadata": {},
   "source": [
    "In this exercise, the Support Vector Machine (SVM) model is implemented. It has two major parts:\n",
    "1. SVM model implemenation\n",
    "2. Email Spam Classifier implementation\n",
    "\n",
    "Files provided by Coursera, located under `../exercises/ex1-ex8-octave/ex6`\n",
    "\n",
    "- `ex6.m` - Octave/MATLAB script that steps you through the exercise\n",
    "- `ex6data1.mat` - Example Dataset 1\n",
    "- `ex6data2.mat` - Example Dataset 2\n",
    "- `ex6data3.mat` - Example Dataset 3\n",
    "- `svmTrain.m` - SVM training function\n",
    "- `svmPredict.m` - SVM prediction function \n",
    "- `plotData.m` - Plot 2D data\n",
    "- `visualizeBoundaryLinear.m` - Plot linear boundary \n",
    "- `visualizeBoundary.m` - Plot non-linear boundary\n",
    "- `linearKernel.m` - Linear kernel for SVM\n",
    "- `ex6_spam.m` - Octave/MATLAB script for the second half of the exercise\n",
    "- `spamTrain.mat` - Spam training set\n",
    "- `spamTest.mat` - Spam test set\n",
    "- `emailSample1.txt` - Sample email 1\n",
    "- `emailSample2.txt` - Sample email 2\n",
    "- `spamSample1.txt` - Sample spam 1\n",
    "- `spamSample2.txt` - Sample spam 2\n",
    "- `vocab.txt` - Vocabulary list\n",
    "- `getVocabList.m` - Load vocabulary list\n",
    "- `porterStemmer.m` - Stemming function\n",
    "- `readFile.m` - Reads a file into a character string\n",
    "- `submit.m` - Submission script that sends your solutions to our servers\n",
    "\n",
    "Files to complete:\n",
    "\n",
    "- `gaussianKernel.m` - Gaussian kernel for SVM\n",
    "- `dataset3Params.m` - Parameters to use for Dataset 3\n",
    "- `processEmail.m` - Email preprocessing\n",
    "- `emailFeatures.m` - Feature extraction from emails\n",
    "\n",
    "Workflow:\n",
    "\n",
    "- Download latest Octave version of exercise from Coursera\n",
    "- Complete code in exercise files following `ex6.pdf`\n",
    "- Whenever an exercise part is finished\n",
    "  - Check it with `ex6` and `ex6_spam` in Octave terminal\n",
    "  - Create a submission token on Coursera (exercise submission page, it lasts 30 minutes)\n",
    "  - Execute `submit` in Octave terminal\n",
    "  - Introduce email and token\n",
    "  - Results appear\n",
    "\n",
    "**Overview of contents:**\n",
    "\n",
    "0. Setup: `gnuplot`\n",
    "1. Dataset Loading & Visualization"
   ]
  },
  {
   "cell_type": "markdown",
   "id": "ea493f87-b1a4-4882-8d1f-e9ec05ddda3f",
   "metadata": {},
   "source": [
    "## 0. Setup: `gnuplot`"
   ]
  },
  {
   "cell_type": "code",
   "execution_count": 9,
   "id": "06fbec3f-63a5-4799-8577-dafdd2caa511",
   "metadata": {},
   "outputs": [],
   "source": [
    "graphics_toolkit (\"gnuplot\");"
   ]
  },
  {
   "cell_type": "code",
   "execution_count": 10,
   "id": "a9141711-d433-4c58-87cc-8e8c884fe6c4",
   "metadata": {},
   "outputs": [],
   "source": [
    "%plot -b inline:gnuplot"
   ]
  },
  {
   "cell_type": "markdown",
   "id": "050b8cd1-0ecd-472d-bc81-0bd185b8cd6a",
   "metadata": {},
   "source": [
    "## 1. Dataset Loading & Visualization"
   ]
  },
  {
   "cell_type": "code",
   "execution_count": 11,
   "id": "12f94920-b802-4fc1-b07a-75abc312776d",
   "metadata": {},
   "outputs": [],
   "source": [
    "% Load from ex6data1: \n",
    "% You will have X, y in your environment\n",
    "load('ex6data1.mat');"
   ]
  },
  {
   "cell_type": "code",
   "execution_count": 12,
   "id": "0a2a5648-5843-4b01-a4cd-bdf0d9661e6e",
   "metadata": {},
   "outputs": [
    {
     "name": "stdout",
     "output_type": "stream",
     "text": [
      "Variables visible from the current scope:\n",
      "\n",
      "X    ans  y\n",
      "\n"
     ]
    }
   ],
   "source": [
    "who"
   ]
  },
  {
   "cell_type": "code",
   "execution_count": 13,
   "id": "cfdfd16b-8680-4102-8b81-46def7042a21",
   "metadata": {},
   "outputs": [
    {
     "name": "stdout",
     "output_type": "stream",
     "text": [
      "ans =\n",
      "\n",
      "   51    2\n",
      "\n"
     ]
    }
   ],
   "source": [
    "size(X)"
   ]
  },
  {
   "cell_type": "code",
   "execution_count": 14,
   "id": "a493fa26-720e-497e-ac75-4ba2463ebf57",
   "metadata": {},
   "outputs": [
    {
     "name": "stdout",
     "output_type": "stream",
     "text": [
      "ans =\n",
      "\n",
      "   51    1\n",
      "\n"
     ]
    }
   ],
   "source": [
    "size(y)"
   ]
  },
  {
   "cell_type": "code",
   "execution_count": 15,
   "id": "3dd99421-a73e-40b3-9e31-d0e2eda2db58",
   "metadata": {},
   "outputs": [],
   "source": [
    "function plotData_(X, y)\n",
    "    pos = find(y == 1); neg = find(y == 0);\n",
    "    plot(X(pos, 1), X(pos, 2), 'k+','LineWidth', 1, 'MarkerSize', 7)\n",
    "    hold on;\n",
    "    plot(X(neg, 1), X(neg, 2), 'ko', 'MarkerFaceColor', 'y', 'MarkerSize', 7)\n",
    "    hold off;\n",
    "end"
   ]
  },
  {
   "cell_type": "code",
   "execution_count": 16,
   "id": "2869572f-9878-45d3-a2e3-c93c49865766",
   "metadata": {},
   "outputs": [
    {
     "data": {
      "image/png": "[encoded data removed]",
      "text/plain": [
       "<IPython.core.display.Image object>"
      ]
     },
     "metadata": {},
     "output_type": "display_data"
    }
   ],
   "source": [
    "plotData_(X, y)"
   ]
  },
  {
   "cell_type": "code",
   "execution_count": null,
   "id": "ed999c2d-9577-41ff-ba8d-d4d7fa03c9b8",
   "metadata": {},
   "outputs": [],
   "source": []
  }
 ],
 "metadata": {
  "kernelspec": {
   "display_name": "Octave",
   "language": "octave",
   "name": "octave"
  },
  "language_info": {
   "file_extension": ".m",
   "help_links": [
    {
     "text": "GNU Octave",
     "url": "https://www.gnu.org/software/octave/support.html"
    },
    {
     "text": "Octave Kernel",
     "url": "https://github.com/Calysto/octave_kernel"
    },
    {
     "text": "MetaKernel Magics",
     "url": "https://metakernel.readthedocs.io/en/latest/source/README.html"
    }
   ],
   "mimetype": "text/x-octave",
   "name": "octave",
   "version": "6.3.0"
  }
 },
 "nbformat": 4,
 "nbformat_minor": 5
}
