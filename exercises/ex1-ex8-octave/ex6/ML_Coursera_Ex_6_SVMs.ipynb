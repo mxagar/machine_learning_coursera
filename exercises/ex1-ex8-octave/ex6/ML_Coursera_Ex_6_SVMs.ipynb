{
 "cells": [
  {
   "cell_type": "markdown",
   "id": "fd421217-197e-49c5-b723-208a41d4d3df",
   "metadata": {},
   "source": [
    "# Exercise 6: Support Vector Machines (SVMs)"
   ]
  },
  {
   "cell_type": "markdown",
   "id": "0d94a840-7176-4726-9b7e-d47ed73be31f",
   "metadata": {},
   "source": [
    "In this exercise, the Support Vector Machine (SVM) model is implemented. It has two major parts:\n",
    "1. SVM model implemenation\n",
    "2. Email Spam Classifier implementation\n",
    "\n",
    "Files provided by Coursera, located under `../exercises/ex1-ex8-octave/ex6`\n",
    "\n",
    "- `ex6.m` - Octave/MATLAB script that steps you through the exercise\n",
    "- `ex6data1.mat` - Example Dataset 1\n",
    "- `ex6data2.mat` - Example Dataset 2\n",
    "- `ex6data3.mat` - Example Dataset 3\n",
    "- `svmTrain.m` - SVM training function\n",
    "- `svmPredict.m` - SVM prediction function \n",
    "- `plotData.m` - Plot 2D data\n",
    "- `visualizeBoundaryLinear.m` - Plot linear boundary \n",
    "- `visualizeBoundary.m` - Plot non-linear boundary\n",
    "- `linearKernel.m` - Linear kernel for SVM\n",
    "- `ex6_spam.m` - Octave/MATLAB script for the second half of the exercise\n",
    "- `spamTrain.mat` - Spam training set\n",
    "- `spamTest.mat` - Spam test set\n",
    "- `emailSample1.txt` - Sample email 1\n",
    "- `emailSample2.txt` - Sample email 2\n",
    "- `spamSample1.txt` - Sample spam 1\n",
    "- `spamSample2.txt` - Sample spam 2\n",
    "- `vocab.txt` - Vocabulary list\n",
    "- `getVocabList.m` - Load vocabulary list\n",
    "- `porterStemmer.m` - Stemming function\n",
    "- `readFile.m` - Reads a file into a character string\n",
    "- `submit.m` - Submission script that sends your solutions to our servers\n",
    "\n",
    "Files to complete:\n",
    "\n",
    "- `gaussianKernel.m` - Gaussian kernel for SVM\n",
    "- `dataset3Params.m` - Parameters to use for Dataset 3\n",
    "- `processEmail.m` - Email preprocessing\n",
    "- `emailFeatures.m` - Feature extraction from emails\n",
    "\n",
    "Workflow:\n",
    "\n",
    "- Download latest Octave version of exercise from Coursera\n",
    "- Complete code in exercise files following `ex6.pdf`\n",
    "- Whenever an exercise part is finished\n",
    "  - Check it with `ex6` and `ex6_spam` in Octave terminal\n",
    "  - Create a submission token on Coursera (exercise submission page, it lasts 30 minutes)\n",
    "  - Execute `submit` in Octave terminal\n",
    "  - Introduce email and token\n",
    "  - Results appear\n",
    "\n",
    "**Overview of contents:**\n",
    "\n",
    "0. Setup: `gnuplot`\n",
    "1. Dataset Loading & Visualization\n",
    "2. SVM Model Implementation - `ex6.m`\n",
    "    - 2.1 The Effect of the `C` Regularization Factor\n",
    "    - 2.2 SVM with Gaussian Kernels - `gaussianKernel.m`\n",
    "    - 2.3 Plotting Datasets with Nonlinear Boundaries\n",
    "    - 2.4 Search of Optimum `C` and `sigma` Parameters with the Cross-Validation Set - `dataset3Params.m`\n",
    "3. Spam Classification (Emails) - `ex6_spam.m`"
   ]
  },
  {
   "cell_type": "markdown",
   "id": "ea493f87-b1a4-4882-8d1f-e9ec05ddda3f",
   "metadata": {},
   "source": [
    "## 0. Setup: `gnuplot`"
   ]
  },
  {
   "cell_type": "code",
   "execution_count": 17,
   "id": "06fbec3f-63a5-4799-8577-dafdd2caa511",
   "metadata": {},
   "outputs": [],
   "source": [
    "graphics_toolkit (\"gnuplot\");"
   ]
  },
  {
   "cell_type": "code",
   "execution_count": 18,
   "id": "a9141711-d433-4c58-87cc-8e8c884fe6c4",
   "metadata": {},
   "outputs": [],
   "source": [
    "%plot -b inline:gnuplot"
   ]
  },
  {
   "cell_type": "markdown",
   "id": "050b8cd1-0ecd-472d-bc81-0bd185b8cd6a",
   "metadata": {},
   "source": [
    "## 1. Dataset Loading & Visualization"
   ]
  },
  {
   "cell_type": "code",
   "execution_count": 19,
   "id": "12f94920-b802-4fc1-b07a-75abc312776d",
   "metadata": {},
   "outputs": [],
   "source": [
    "% Load from ex6data1: \n",
    "% You will have X, y in your environment\n",
    "load('ex6data1.mat');"
   ]
  },
  {
   "cell_type": "code",
   "execution_count": 20,
   "id": "0a2a5648-5843-4b01-a4cd-bdf0d9661e6e",
   "metadata": {},
   "outputs": [
    {
     "name": "stdout",
     "output_type": "stream",
     "text": [
      "Variables visible from the current scope:\n",
      "\n",
      "X    ans  y\n",
      "\n"
     ]
    }
   ],
   "source": [
    "who"
   ]
  },
  {
   "cell_type": "code",
   "execution_count": 21,
   "id": "cfdfd16b-8680-4102-8b81-46def7042a21",
   "metadata": {},
   "outputs": [
    {
     "name": "stdout",
     "output_type": "stream",
     "text": [
      "ans =\n",
      "\n",
      "   51    2\n",
      "\n"
     ]
    }
   ],
   "source": [
    "size(X)"
   ]
  },
  {
   "cell_type": "code",
   "execution_count": 22,
   "id": "a493fa26-720e-497e-ac75-4ba2463ebf57",
   "metadata": {},
   "outputs": [
    {
     "name": "stdout",
     "output_type": "stream",
     "text": [
      "ans =\n",
      "\n",
      "   51    1\n",
      "\n"
     ]
    }
   ],
   "source": [
    "size(y)"
   ]
  },
  {
   "cell_type": "code",
   "execution_count": 30,
   "id": "3dd99421-a73e-40b3-9e31-d0e2eda2db58",
   "metadata": {},
   "outputs": [],
   "source": [
    "% Plotting function from ex6.m\n",
    "function plotData_(X, y)\n",
    "    pos = find(y == 1); neg = find(y == 0);\n",
    "    plot(X(pos, 1), X(pos, 2), 'k+','LineWidth', 1, 'MarkerSize', 7)\n",
    "    hold on;\n",
    "    plot(X(neg, 1), X(neg, 2), 'ko', 'MarkerFaceColor', 'y', 'MarkerSize', 7)\n",
    "    hold off;\n",
    "end"
   ]
  },
  {
   "cell_type": "code",
   "execution_count": 31,
   "id": "2869572f-9878-45d3-a2e3-c93c49865766",
   "metadata": {},
   "outputs": [
    {
     "data": {
      "image/png": "[encoded data removed]",
      "text/plain": [
       "<IPython.core.display.Image object>"
      ]
     },
     "metadata": {},
     "output_type": "display_data"
    }
   ],
   "source": [
    "plotData_(X, y)"
   ]
  },
  {
   "cell_type": "markdown",
   "id": "68ed0db7-8dc3-4fc7-976e-94f72e64750f",
   "metadata": {},
   "source": [
    "## 2. SVM Model Implementation - `ex6.m`"
   ]
  },
  {
   "cell_type": "markdown",
   "id": "49cfaaee-f734-4d55-9a50-0ed84fb009cc",
   "metadata": {},
   "source": [
    "### 2.1 The Effect of the `C` Regularization Factor"
   ]
  },
  {
   "cell_type": "markdown",
   "id": "d70c1be3-f764-475f-b1d9-815b31ef8d87",
   "metadata": {},
   "source": [
    "Note that for training functions provided in the exercise material are used:\n",
    "- `svmTrain.m` (not really optimized, but implemented for compatibility)\n",
    "- `visualizeBoundaryLinear.m`"
   ]
  },
  {
   "cell_type": "code",
   "execution_count": 32,
   "id": "ed999c2d-9577-41ff-ba8d-d4d7fa03c9b8",
   "metadata": {},
   "outputs": [
    {
     "name": "stdout",
     "output_type": "stream",
     "text": []
    },
    {
     "name": "stdout",
     "output_type": "stream",
     "text": [
      "\n",
      "Training ......................................................................\n",
      "...............................................................................\n",
      "...............................................................................\n",
      "...............................................................................\n",
      "...............................................................................\n",
      "...............................................................................\n",
      "...............................................................................\n",
      "...............................................................................\n",
      "...............................................................................\n",
      "...............................................................................\n",
      "...............................................................................\n",
      "....................................................................... Done! \n",
      "\n"
     ]
    },
    {
     "data": {
      "image/png": "[encoded data removed]",
      "text/plain": [
       "<IPython.core.display.Image object>"
      ]
     },
     "metadata": {},
     "output_type": "display_data"
    }
   ],
   "source": [
    "% Try different C values\n",
    "% Larger C values fit more or all the data points / examples\n",
    "% but they seem to be accomoddating to the noise (i.e., less natural)\n",
    "C = 100;\n",
    "model = svmTrain(X, y, C, @linearKernel, 1e-3, 20);\n",
    "visualizeBoundaryLinear(X, y, model);"
   ]
  },
  {
   "cell_type": "markdown",
   "id": "c627f3f8-a542-41f8-941e-862cb69651ee",
   "metadata": {},
   "source": [
    "### 2.2 SVM with Gaussian Kernels - `gaussianKernel.m`"
   ]
  },
  {
   "cell_type": "markdown",
   "id": "b83f6dfc-a88a-4472-a383-4da1b597f908",
   "metadata": {},
   "source": [
    "$$ K_{\\text{gaussian}} \\left( x^{(i)}, x^{(j)} \\right) = \\exp \\left( - \\frac{\\left\\lvert\\left\\lvert x^{(i)} - x^{(j)}\\right\\lvert\\right\\lvert^2}{2\\sigma^2} \\right) = \\exp \\left( -\\frac{\\sum_{k=1}^n \\left( x_k^{(i)} - x_k^{(j)}\\right)^2}{2\\sigma^2} \\right)$$"
   ]
  },
  {
   "cell_type": "code",
   "execution_count": 36,
   "id": "5e8593e4-6a91-47a5-8c02-ac2458135c5a",
   "metadata": {},
   "outputs": [],
   "source": [
    "% Gaussian Kernel = Radial Basis Function (RBF)\n",
    "function sim = gaussianKernel_(x1, x2, sigma)\n",
    "    % Ensure that x1 and x2 are column vectors\n",
    "    x1 = x1(:); x2 = x2(:);\n",
    "    % Initialize\n",
    "    sim = 0;\n",
    "    % Distance between variable (x1) and landmark (x2)\n",
    "    d = x1 - x2;\n",
    "    % Gaussian\n",
    "    sim = exp(-(d'*d)/(2*sigma*sigma));\n",
    "end"
   ]
  },
  {
   "cell_type": "code",
   "execution_count": 37,
   "id": "eafa4b64-f87f-43f0-adc4-07c680d0e390",
   "metadata": {},
   "outputs": [],
   "source": [
    "x1 = [1 2 1];\n",
    "x2 = [0 4 -1];\n",
    "sigma = 2;\n",
    "sim = gaussianKernel_(x1, x2, sigma);"
   ]
  },
  {
   "cell_type": "code",
   "execution_count": 38,
   "id": "7d886107-7a3b-4525-8b0e-0b3b2c0f83a1",
   "metadata": {},
   "outputs": [
    {
     "name": "stdout",
     "output_type": "stream",
     "text": [
      "sim = 0.3247\n"
     ]
    }
   ],
   "source": [
    "sim"
   ]
  },
  {
   "cell_type": "markdown",
   "id": "99b50ded-0aea-482f-b7e7-0d9d9172db87",
   "metadata": {},
   "source": [
    "### 2.3 Plotting Datasets with Nonlinear Boundaries"
   ]
  },
  {
   "cell_type": "code",
   "execution_count": 39,
   "id": "db93a331-04d6-449a-96d3-a3148e072301",
   "metadata": {},
   "outputs": [],
   "source": [
    "% You will have X, y in your environment\n",
    "load('ex6data2.mat');"
   ]
  },
  {
   "cell_type": "code",
   "execution_count": 40,
   "id": "c234008d-570e-4826-b7c4-06601fd54bdd",
   "metadata": {},
   "outputs": [
    {
     "data": {
      "image/png": "[encoded data removed]",
      "text/plain": [
       "<IPython.core.display.Image object>"
      ]
     },
     "metadata": {},
     "output_type": "display_data"
    }
   ],
   "source": [
    "% Plot training data\n",
    "plotData(X, y);"
   ]
  },
  {
   "cell_type": "code",
   "execution_count": 41,
   "id": "f4adca20-12c2-449a-88e0-89da6b0839e2",
   "metadata": {},
   "outputs": [],
   "source": [
    "% SVM Parameters\n",
    "C = 1;\n",
    "sigma = 0.1;"
   ]
  },
  {
   "cell_type": "code",
   "execution_count": 42,
   "id": "3db817cf-e3fb-4898-92ef-7b64b374d1ad",
   "metadata": {},
   "outputs": [
    {
     "name": "stdout",
     "output_type": "stream",
     "text": []
    },
    {
     "name": "stdout",
     "output_type": "stream",
     "text": [
      "\n",
      "Training ......................................................................\n",
      "...............................................................................\n",
      "...............................................................................\n",
      "...............................................................................\n",
      "...............................................................................\n",
      "...............................................................................\n",
      ".............................................................. Done! \n",
      "\n"
     ]
    }
   ],
   "source": [
    "% We set the tolerance and max_passes lower here so that the code will run\n",
    "% faster. However, in practice, you will want to run the training to\n",
    "% convergence.\n",
    "model= svmTrain(X, y, C, @(x1, x2) gaussianKernel(x1, x2, sigma)); "
   ]
  },
  {
   "cell_type": "code",
   "execution_count": 43,
   "id": "a6431ff1-405a-4352-92b7-78db5cdf2639",
   "metadata": {},
   "outputs": [
    {
     "data": {
      "image/png": "[encoded data removed]",
      "text/plain": [
       "<IPython.core.display.Image object>"
      ]
     },
     "metadata": {},
     "output_type": "display_data"
    }
   ],
   "source": [
    "visualizeBoundary(X, y, model);"
   ]
  },
  {
   "cell_type": "code",
   "execution_count": 44,
   "id": "f617b963-1bf4-477d-970d-6c4d524ad390",
   "metadata": {},
   "outputs": [],
   "source": [
    "% Load from ex6data3: \n",
    "% You will have X, y in your environment\n",
    "load('ex6data3.mat');"
   ]
  },
  {
   "cell_type": "code",
   "execution_count": 45,
   "id": "25e35157-ba63-48aa-88f2-d03ef9eb6f12",
   "metadata": {},
   "outputs": [
    {
     "data": {
      "image/png": "[encoded data removed]",
      "text/plain": [
       "<IPython.core.display.Image object>"
      ]
     },
     "metadata": {},
     "output_type": "display_data"
    }
   ],
   "source": [
    "% Plot training data\n",
    "plotData(X, y);"
   ]
  },
  {
   "cell_type": "markdown",
   "id": "aecad61f-2e8e-434c-b47d-7aef8f28bc68",
   "metadata": {},
   "source": [
    "### 2.4 Search of Optimum `C` and `sigma` Parameters with the Cross-Validation Set - `dataset3Params.m`"
   ]
  },
  {
   "cell_type": "code",
   "execution_count": 49,
   "id": "1a44252f-1589-4be1-864b-67a7ae913bf1",
   "metadata": {},
   "outputs": [],
   "source": [
    "clear all;\n",
    "load('ex6data3.mat');"
   ]
  },
  {
   "cell_type": "code",
   "execution_count": 50,
   "id": "65672882-45b6-4299-8832-1dbcec0942cc",
   "metadata": {},
   "outputs": [
    {
     "name": "stdout",
     "output_type": "stream",
     "text": [
      "Variables visible from the current scope:\n",
      "\n",
      "X     Xval  y     yval\n",
      "\n"
     ]
    }
   ],
   "source": [
    "who"
   ]
  },
  {
   "cell_type": "code",
   "execution_count": 81,
   "id": "9a32264d-3325-46ea-a341-eb26e1022c10",
   "metadata": {},
   "outputs": [],
   "source": [
    "function [C, sigma] = dataset3Params_(X, y, Xval, yval)\n",
    "    % [C, sigma] = DATASET3PARAMS(X, y, Xval, yval) returns the optimal choice of C and \n",
    "    % sigma based on a cross-validation set.\n",
    "\n",
    "    % Initialize return variables\n",
    "    C = 0.01;\n",
    "    sigma = 0.01;\n",
    "\n",
    "    % Possible C & sigma values\n",
    "    C_pool = [0.01, 0.03, 0.1, 0.3, 1, 3, 10, 30];\n",
    "    sigma_pool = [0.01, 0.03, 0.1, 0.3, 1, 3, 10, 30];\n",
    "    % Accuracy for each C-sigma combination\n",
    "    accuracy = zeros(1,size(C_pool,2)*size(sigma_pool,2));\n",
    "    max_accuracy = 0;\n",
    "    count = 1;\n",
    "    for i = 1:size(C_pool,2)\n",
    "        for j = 1:size(sigma_pool,2)\n",
    "            % Choose params\n",
    "            c = C_pool(i);\n",
    "            s = sigma_pool(j);\n",
    "            % Train with training set\n",
    "            model = svmTrain(X, y, c, @(x1, x2) gaussianKernel(x1, x2, s));\n",
    "            % Cross-Validation: accuracy?\n",
    "            pred = svmPredict(model, Xval);\n",
    "            acc = mean(double(pred == yval));\n",
    "            accuracy(1,count) = acc;\n",
    "            % Choose if best pair (best accuracy so far)\n",
    "            if acc > max_accuracy\n",
    "                max_accuracy = acc;\n",
    "                C = c;\n",
    "                sigma = s;\n",
    "            end\n",
    "            % Increase C-sigma combination counter\n",
    "            count = count + 1;\n",
    "        end\n",
    "    end\n",
    "end"
   ]
  },
  {
   "cell_type": "code",
   "execution_count": null,
   "id": "6a9d117e-cdb4-4e06-bce4-52b9df91b711",
   "metadata": {},
   "outputs": [],
   "source": [
    "[C, sigma] = dataset3Params(X, y, Xval, yval);"
   ]
  },
  {
   "cell_type": "code",
   "execution_count": 79,
   "id": "cf32b5df-76ab-4848-ad8f-2a8041ee72f3",
   "metadata": {},
   "outputs": [
    {
     "name": "stdout",
     "output_type": "stream",
     "text": [
      "C = 1\n"
     ]
    }
   ],
   "source": [
    "C"
   ]
  },
  {
   "cell_type": "code",
   "execution_count": 80,
   "id": "831b5825-46dd-4c11-88a9-ebf5e89dff37",
   "metadata": {},
   "outputs": [
    {
     "name": "stdout",
     "output_type": "stream",
     "text": [
      "sigma = 0.1000\n"
     ]
    }
   ],
   "source": [
    "sigma"
   ]
  },
  {
   "cell_type": "markdown",
   "id": "e65b1b09-f0aa-4897-a204-807a633ddf5f",
   "metadata": {},
   "source": [
    "## 3. Spam Classification (Emails) - `ex6_spam.m`"
   ]
  },
  {
   "cell_type": "markdown",
   "id": "40e4b600-9816-46bd-84f0-3378f7fb015d",
   "metadata": {},
   "source": [
    "Dataset downloaded from the [SpamAssassin Public Corpus](https://spamassassin.apache.org/old/publiccorpus/). Onely email body texts analyzed.\n",
    "\n",
    "Email texts are first pre-processed using `processEmail.m`, which performs the following modifications:\n",
    "- convert to lower-case\n",
    "- remove HTML tags\n",
    "- replace URLs by \"httpaddr\"\n",
    "- replace email addresses by \"emailaddr\"\n",
    "- replace numvers by \"number\"\n",
    "- raplace dollar signs by \"dollar\"\n",
    "- stemming: words are reduced to their stemmed form using the Porter algoithm, implemented in `porterStemmer.m`\n",
    "- remove non-words (e.g., punctuation), and trim white spaces (e.g., tabs) to a single white space\n"
   ]
  },
  {
   "cell_type": "markdown",
   "id": "ae094de2-392c-4b7c-9dfd-6df1553e52c2",
   "metadata": {},
   "source": [
    "### 3.1 Mapping Words to Vocabulary Items/Ids - `processEmail.m`"
   ]
  },
  {
   "cell_type": "markdown",
   "id": "f013665a-512e-41a4-87f8-189e5d2e24a1",
   "metadata": {},
   "source": [
    "The words of the pre-processed text need to be converted to vocabulary ids from a fixed vocabulary consisting of 1899 words and defined in `vocab.txt`."
   ]
  },
  {
   "cell_type": "code",
   "execution_count": 89,
   "id": "df14211b-74c3-42f3-b4e5-640ecacacac9",
   "metadata": {},
   "outputs": [],
   "source": [
    "function word_indices = processEmail_(email_contents)\n",
    "    %PROCESSEMAIL preprocesses a the body of an email and\n",
    "    %returns a list of word_indices: list of indices associated to the words\n",
    "\n",
    "    % Load Vocabulary\n",
    "    vocabList = getVocabList();\n",
    "\n",
    "    % Init return value\n",
    "    word_indices = [];\n",
    "\n",
    "    % ========================== Preprocess Email ===========================\n",
    "\n",
    "    % Find the Headers ( \\n\\n and remove )\n",
    "    % Uncomment the following lines if you are working with raw emails with the\n",
    "    % full headers\n",
    "\n",
    "    % hdrstart = strfind(email_contents, ([char(10) char(10)]));\n",
    "    % email_contents = email_contents(hdrstart(1):end);\n",
    "\n",
    "    % Lower case\n",
    "    email_contents = lower(email_contents);\n",
    "\n",
    "    % Strip all HTML\n",
    "    % Looks for any expression that starts with < and ends with > and replace\n",
    "    % and does not have any < or > in the tag it with a space\n",
    "    email_contents = regexprep(email_contents, '<[^<>]+>', ' ');\n",
    "\n",
    "    % Handle Numbers\n",
    "    % Look for one or more characters between 0-9\n",
    "    email_contents = regexprep(email_contents, '[0-9]+', 'number');\n",
    "\n",
    "    % Handle URLS\n",
    "    % Look for strings starting with http:// or https://\n",
    "    email_contents = regexprep(email_contents, ...\n",
    "                               '(http|https)://[^\\s]*', 'httpaddr');\n",
    "\n",
    "    % Handle Email Addresses\n",
    "    % Look for strings with @ in the middle\n",
    "    email_contents = regexprep(email_contents, '[^\\s]+@[^\\s]+', 'emailaddr');\n",
    "\n",
    "    % Handle $ sign\n",
    "    email_contents = regexprep(email_contents, '[$]+', 'dollar');\n",
    "\n",
    "\n",
    "    % ========================== Tokenize Email ===========================\n",
    "\n",
    "    % Output the email to screen as well\n",
    "    fprintf('\\n==== Processed Email ====\\n\\n');\n",
    "\n",
    "    % Process file\n",
    "    l = 0;\n",
    "\n",
    "    while ~isempty(email_contents)\n",
    "\n",
    "        % Tokenize and also get rid of any punctuation\n",
    "        [str, email_contents] = ...\n",
    "           strtok(email_contents, ...\n",
    "                  [' @$/#.-:&*+=[]?!(){},''\">_<;%' char(10) char(13)]);\n",
    "\n",
    "        % Remove any non alphanumeric characters\n",
    "        str = regexprep(str, '[^a-zA-Z0-9]', '');\n",
    "\n",
    "        % Stem the word \n",
    "        % (the porterStemmer sometimes has issues, so we use a try catch block)\n",
    "        try str = porterStemmer(strtrim(str)); \n",
    "        catch str = ''; continue;\n",
    "        end;\n",
    "\n",
    "        % Skip the word if it is too short\n",
    "        if length(str) < 1\n",
    "           continue;\n",
    "        end\n",
    "\n",
    "        % Look up the word in the dictionary and add to word_indices if\n",
    "        % found\n",
    "        all_words = length(vocabList);\n",
    "        for w = 1:all_words\n",
    "            if (strcmp(vocabList{w},str))\n",
    "                word_indices = [word_indices ; w];\n",
    "                break;\n",
    "            end\n",
    "        end\n",
    "\n",
    "        % Print to screen, ensuring that the output lines are not too long\n",
    "        if (l + length(str) + 1) > 78\n",
    "            fprintf('\\n');\n",
    "            l = 0;\n",
    "        end\n",
    "        fprintf('%s ', str);\n",
    "        l = l + length(str) + 1;\n",
    "\n",
    "    end\n",
    "\n",
    "    % Print footer\n",
    "    fprintf('\\n\\n=========================\\n');\n",
    "\n",
    "end\n"
   ]
  },
  {
   "cell_type": "code",
   "execution_count": 91,
   "id": "3dc9bc74-87d9-41cf-80ae-59a2d4b85992",
   "metadata": {},
   "outputs": [
    {
     "name": "stdout",
     "output_type": "stream",
     "text": []
    },
    {
     "name": "stdout",
     "output_type": "stream",
     "text": [
      "\n",
      "==== Processed Email ====\n",
      "\n",
      "anyon know how much it cost to host a web portal well it depend on how mani \n",
      "visitor you re expect thi can be anywher from less than number buck a month \n",
      "to a coupl of dollarnumb you should checkout httpaddr or perhap amazon ecnumb \n",
      "if your run someth big to unsubscrib yourself from thi mail list send an \n",
      "email to emailaddr \n",
      "\n",
      "=========================\n",
      "Word Indices: \n",
      " 86 916 794 1077 883 370 1699 790 1822 1831 883 431 1171 794 1002 1893 1364 592 1676 238 162 89 688 945 1663 1120 1062 1699 375 1162 479 1893 1510 799 1182 1237 810 1895 1440 1547 181 1699 1758 1896 688 1676 992 961 1477 71 530 1699 531\n",
      "\n"
     ]
    }
   ],
   "source": [
    "% Extract Features\n",
    "file_contents = readFile('emailSample1.txt');\n",
    "word_indices  = processEmail_(file_contents);\n",
    "% Print Stats\n",
    "fprintf('Word Indices: \\n');\n",
    "fprintf(' %d', word_indices);\n",
    "fprintf('\\n\\n');"
   ]
  },
  {
   "cell_type": "markdown",
   "id": "2c1e4540-10ee-468c-8c38-ed7c071dce72",
   "metadata": {},
   "source": [
    "### 3.2 Extracting Features from Emails - `emailFeatures.m`"
   ]
  },
  {
   "cell_type": "markdown",
   "id": "28775d95-3fee-4008-aa55-9296e36d9479",
   "metadata": {},
   "source": [
    "We convert each email consisting of item/token ids to a vector of length 1899 (vocabulary size) with values $x_i = {0,1}$, depending whether the $i$-th token is in the email body or not:\n",
    "\n",
    "$$ x = \\begin{bmatrix} \n",
    "0 & \\dots & 1 & 0 & \\dots & 1 & 0 & \\dots & 0 \n",
    "\\end{bmatrix}^T \\in \\mathbb{R}^n\n",
    "$$\n",
    "\n",
    "In other words, the email is converted to the variable $x$."
   ]
  },
  {
   "cell_type": "code",
   "execution_count": 93,
   "id": "7393dd3f-4842-4047-aa6b-46073376afe9",
   "metadata": {},
   "outputs": [],
   "source": [
    "function x = emailFeatures_(word_indices)\n",
    "    % x = EMAILFEATURES(word_indices) takes in a word_indices vector and \n",
    "    % produces a feature vector from the word indices. \n",
    "\n",
    "    % Total number of words in the dictionary\n",
    "    n = 1899;\n",
    "\n",
    "    % You need to return the following variables correctly.\n",
    "    x = zeros(n, 1);\n",
    "\n",
    "    for w = 1:length(word_indices)\n",
    "        x(word_indices(w)) = 1;\n",
    "    end\n",
    "end\n"
   ]
  },
  {
   "cell_type": "code",
   "execution_count": 94,
   "id": "c52d9f22-b24f-46f9-a215-a8ad305a43c7",
   "metadata": {},
   "outputs": [
    {
     "name": "stdout",
     "output_type": "stream",
     "text": []
    },
    {
     "name": "stdout",
     "output_type": "stream",
     "text": [
      "\n",
      "==== Processed Email ====\n",
      "\n",
      "anyon know how much it cost to host a web portal well it depend on how mani \n",
      "visitor you re expect thi can be anywher from less than number buck a month \n",
      "to a coupl of dollarnumb you should checkout httpaddr or perhap amazon ecnumb \n",
      "if your run someth big to unsubscrib yourself from thi mail list send an \n",
      "email to emailaddr \n",
      "\n",
      "=========================\n"
     ]
    }
   ],
   "source": [
    "file_contents = readFile('emailSample1.txt');\n",
    "word_indices  = processEmail_(file_contents);"
   ]
  },
  {
   "cell_type": "code",
   "execution_count": 96,
   "id": "7a67fe76-9340-437f-9956-4a37b2cca62b",
   "metadata": {},
   "outputs": [],
   "source": [
    "x = emailFeatures_(word_indices);"
   ]
  },
  {
   "cell_type": "code",
   "execution_count": 97,
   "id": "25ced9ee-f9db-427b-aa32-ad1edd4eacff",
   "metadata": {},
   "outputs": [
    {
     "name": "stdout",
     "output_type": "stream",
     "text": [
      "ans = 45\n"
     ]
    }
   ],
   "source": [
    "sum(x)"
   ]
  },
  {
   "cell_type": "markdown",
   "id": "54301f82-e7d2-448e-8d76-7237dc3a4721",
   "metadata": {},
   "source": [
    "### 3.3 Training SVM for Spam Classification"
   ]
  },
  {
   "cell_type": "code",
   "execution_count": 98,
   "id": "0653c803-3dba-4477-a105-93c98c2d9f49",
   "metadata": {},
   "outputs": [
    {
     "name": "stdout",
     "output_type": "stream",
     "text": [
      "\n",
      "Training Linear SVM (Spam Classification)\n",
      "(this may take 1 to 2 minutes) ...\n",
      "\n",
      "Training ......................................................................\n",
      "...............................................................................\n",
      "...............................................................................\n",
      "................................................................ Done! \n",
      "\n",
      "Training Accuracy: 99.825000\n"
     ]
    }
   ],
   "source": [
    "% Load the Spam Email dataset: Already pre-processing and featurized email texts\n",
    "% You will have X, y in your environment\n",
    "load('spamTrain.mat');\n",
    "% Train\n",
    "fprintf('\\nTraining Linear SVM (Spam Classification)\\n')\n",
    "fprintf('(this may take 1 to 2 minutes) ...\\n')\n",
    "C = 0.1;\n",
    "model = svmTrain(X, y, C, @linearKernel);\n",
    "% Predict\n",
    "p = svmPredict(model, X);\n",
    "fprintf('Training Accuracy: %f\\n', mean(double(p == y)) * 100);"
   ]
  },
  {
   "cell_type": "markdown",
   "id": "a303cad4-77fc-47e1-8a6c-e5002bab3960",
   "metadata": {},
   "source": [
    "### 3.4 Top Predictors for Spam"
   ]
  },
  {
   "cell_type": "code",
   "execution_count": 99,
   "id": "47d7634f-8607-4b8c-b432-fb416fe42870",
   "metadata": {},
   "outputs": [
    {
     "name": "stdout",
     "output_type": "stream",
     "text": [
      "\n",
      "Top predictors of spam: \n",
      " our             (0.501088) \n",
      " click           (0.467674) \n",
      " remov           (0.422617) \n",
      " guarante        (0.390185) \n",
      " visit           (0.371804) \n",
      " basenumb        (0.346652) \n",
      " dollar          (0.328735) \n",
      " will            (0.266225) \n",
      " price           (0.264474) \n",
      " most            (0.257209) \n",
      " pleas           (0.257162) \n",
      " lo              (0.254425) \n",
      " nbsp            (0.252375) \n",
      " ga              (0.244415) \n",
      " se              (0.240228) \n"
     ]
    }
   ],
   "source": [
    "% Since we have a SVM with alinear kernel\n",
    "% we can have a look at the largest most positive parameter values,\n",
    "% which will be the top predictors for spam!!\n",
    "% So: Sort the weights and obtain the vocabulary list\n",
    "[weight, idx] = sort(model.w, 'descend');\n",
    "vocabList = getVocabList();\n",
    "% Look up in vocabulary\n",
    "fprintf('\\nTop predictors of spam: \\n');\n",
    "for i = 1:15\n",
    "    fprintf(' %-15s (%f) \\n', vocabList{idx(i)}, weight(i));\n",
    "end"
   ]
  },
  {
   "cell_type": "code",
   "execution_count": null,
   "id": "09034bcd-d848-4d80-b54c-c54098c5a762",
   "metadata": {},
   "outputs": [],
   "source": []
  }
 ],
 "metadata": {
  "kernelspec": {
   "display_name": "Octave",
   "language": "octave",
   "name": "octave"
  },
  "language_info": {
   "file_extension": ".m",
   "help_links": [
    {
     "text": "GNU Octave",
     "url": "https://www.gnu.org/software/octave/support.html"
    },
    {
     "text": "Octave Kernel",
     "url": "https://github.com/Calysto/octave_kernel"
    },
    {
     "text": "MetaKernel Magics",
     "url": "https://metakernel.readthedocs.io/en/latest/source/README.html"
    }
   ],
   "mimetype": "text/x-octave",
   "name": "octave",
   "version": "6.3.0"
  }
 },
 "nbformat": 4,
 "nbformat_minor": 5
}
