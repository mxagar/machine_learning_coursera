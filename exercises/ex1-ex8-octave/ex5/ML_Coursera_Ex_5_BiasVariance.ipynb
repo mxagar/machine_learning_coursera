{
 "cells": [
  {
   "cell_type": "markdown",
   "id": "612f78fe-4e2c-42dd-b88d-9e7360010285",
   "metadata": {},
   "source": [
    "# Exercise 5: Regularized Linear Regression and Bias vs. Variance"
   ]
  },
  {
   "cell_type": "markdown",
   "id": "9117b43d-517c-4322-b572-3305bd1c16d0",
   "metadata": {},
   "source": [
    "In this exercise, regularized linear regression is implemented to study models with different bias-variance properties.\n",
    "\n",
    "Files provided by Coursera, located under `../exercises/ex1-ex8-octave/ex5`\n",
    "\n",
    "- `ex5.m` - Octave/MATLAB script that steps you through the exercise\n",
    "- `ex5data1.mat` - Dataset\n",
    "- `submit.m` - Submission script that sends your solutions to our servers\n",
    "- `featureNormalize.m` - Feature normalization function\n",
    "- `fmincg.m` - Function minimization routine (similar to `fminunc`)\n",
    "- `plotFit.m` - Plot a polynomial fit\n",
    "- `trainLinearReg.m` - Trains linear regression using your cost function\n",
    "\n",
    "Files to complete:\n",
    "\n",
    "- `linearRegCostFunction.m` - Regularized linear regression cost function\n",
    "- `learningCurve.m` - Generates a learning curve\n",
    "- `polyFeatures.m` - Maps data into polynomial feature space\n",
    "- `validationCurve.m` - Generates a cross validation curve\n",
    "\n",
    "Workflow:\n",
    "\n",
    "- Download latest Octave version of exercise from Coursera\n",
    "- Complete code in exercise files following `ex5.pdf`\n",
    "- Whenever an exercise part is finished\n",
    "  - Check it with `ex5` in Octave terminal\n",
    "  - Create a submission token on Coursera (exercise submission page, it lasts 30 minutes)\n",
    "  - Execute `submit` in Octave terminal\n",
    "  - Introduce email and token\n",
    "  - Results appear\n",
    "\n",
    "**Overview of contents:**\n",
    "\n",
    "0. Setup: `gnuplot`\n",
    "1. Dataset Loading & Visualization\n"
   ]
  },
  {
   "cell_type": "markdown",
   "id": "1c828cd9-34d4-4c00-a6a9-d389abec868a",
   "metadata": {},
   "source": [
    "## 0. Setup: `gnuplot`"
   ]
  },
  {
   "cell_type": "code",
   "execution_count": 1,
   "id": "8dc16d43-bb64-42a1-928d-f885de2dd053",
   "metadata": {},
   "outputs": [],
   "source": [
    "graphics_toolkit (\"gnuplot\");"
   ]
  },
  {
   "cell_type": "code",
   "execution_count": 2,
   "id": "92ec2d42-176b-4283-82c2-cdedfbe804cb",
   "metadata": {},
   "outputs": [],
   "source": [
    "%plot -b inline:gnuplot"
   ]
  },
  {
   "cell_type": "markdown",
   "id": "f6d883e3-51f8-4df2-9624-92d66db896cd",
   "metadata": {},
   "source": [
    "## 1. Dataset Loading & Visualization"
   ]
  },
  {
   "cell_type": "code",
   "execution_count": 5,
   "id": "6960824e-bbee-464f-8f44-03cf84ef29aa",
   "metadata": {},
   "outputs": [],
   "source": [
    "% Load saved matrices from file\n",
    "load('ex5data1.mat');"
   ]
  },
  {
   "cell_type": "code",
   "execution_count": 6,
   "id": "dd7b45fd-6481-41e5-97a4-d1c586c7de8d",
   "metadata": {},
   "outputs": [
    {
     "name": "stdout",
     "output_type": "stream",
     "text": [
      "Variables visible from the current scope:\n",
      "\n",
      "X      Xtest  Xval   ans    y      ytest  yval\n",
      "\n"
     ]
    }
   ],
   "source": [
    "who"
   ]
  },
  {
   "cell_type": "code",
   "execution_count": null,
   "id": "c9b827a0-0761-4b5d-b716-f95e31045705",
   "metadata": {},
   "outputs": [],
   "source": []
  }
 ],
 "metadata": {
  "kernelspec": {
   "display_name": "Octave",
   "language": "octave",
   "name": "octave"
  },
  "language_info": {
   "file_extension": ".m",
   "help_links": [
    {
     "text": "GNU Octave",
     "url": "https://www.gnu.org/software/octave/support.html"
    },
    {
     "text": "Octave Kernel",
     "url": "https://github.com/Calysto/octave_kernel"
    },
    {
     "text": "MetaKernel Magics",
     "url": "https://metakernel.readthedocs.io/en/latest/source/README.html"
    }
   ],
   "mimetype": "text/x-octave",
   "name": "octave",
   "version": "6.3.0"
  }
 },
 "nbformat": 4,
 "nbformat_minor": 5
}
