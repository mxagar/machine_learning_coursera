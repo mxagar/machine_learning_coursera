{
 "cells": [
  {
   "cell_type": "markdown",
   "id": "612f78fe-4e2c-42dd-b88d-9e7360010285",
   "metadata": {},
   "source": [
    "# Exercise 5: Regularized Linear Regression and Bias vs. Variance"
   ]
  },
  {
   "cell_type": "markdown",
   "id": "9117b43d-517c-4322-b572-3305bd1c16d0",
   "metadata": {},
   "source": [
    "In this exercise, regularized linear regression is implemented to study models with different bias-variance properties.\n",
    "\n",
    "Files provided by Coursera, located under `../exercises/ex1-ex8-octave/ex5`\n",
    "\n",
    "- `ex5.m` - Octave/MATLAB script that steps you through the exercise\n",
    "- `ex5data1.mat` - Dataset\n",
    "- `submit.m` - Submission script that sends your solutions to our servers\n",
    "- `featureNormalize.m` - Feature normalization function\n",
    "- `fmincg.m` - Function minimization routine (similar to `fminunc`)\n",
    "- `plotFit.m` - Plot a polynomial fit\n",
    "- `trainLinearReg.m` - Trains linear regression using your cost function\n",
    "\n",
    "Files to complete:\n",
    "\n",
    "- `linearRegCostFunction.m` - Regularized linear regression cost function\n",
    "- `learningCurve.m` - Generates a learning curve\n",
    "- `polyFeatures.m` - Maps data into polynomial feature space\n",
    "- `validationCurve.m` - Generates a cross validation curve\n",
    "\n",
    "Workflow:\n",
    "\n",
    "- Download latest Octave version of exercise from Coursera\n",
    "- Complete code in exercise files following `ex5.pdf`\n",
    "- Whenever an exercise part is finished\n",
    "  - Check it with `ex5` in Octave terminal\n",
    "  - Create a submission token on Coursera (exercise submission page, it lasts 30 minutes)\n",
    "  - Execute `submit` in Octave terminal\n",
    "  - Introduce email and token\n",
    "  - Results appear\n",
    "\n",
    "**Overview of contents:**\n",
    "\n",
    "0. Setup: `gnuplot`\n",
    "1. Dataset Loading & Visualization\n"
   ]
  },
  {
   "cell_type": "markdown",
   "id": "1c828cd9-34d4-4c00-a6a9-d389abec868a",
   "metadata": {},
   "source": [
    "## 0. Setup: `gnuplot`"
   ]
  },
  {
   "cell_type": "code",
   "execution_count": 14,
   "id": "8dc16d43-bb64-42a1-928d-f885de2dd053",
   "metadata": {},
   "outputs": [],
   "source": [
    "graphics_toolkit (\"gnuplot\");"
   ]
  },
  {
   "cell_type": "code",
   "execution_count": 15,
   "id": "92ec2d42-176b-4283-82c2-cdedfbe804cb",
   "metadata": {},
   "outputs": [],
   "source": [
    "%plot -b inline:gnuplot"
   ]
  },
  {
   "cell_type": "markdown",
   "id": "f6d883e3-51f8-4df2-9624-92d66db896cd",
   "metadata": {},
   "source": [
    "## 1. Dataset Loading & Visualization"
   ]
  },
  {
   "cell_type": "code",
   "execution_count": 16,
   "id": "6960824e-bbee-464f-8f44-03cf84ef29aa",
   "metadata": {},
   "outputs": [],
   "source": [
    "% Load saved matrices from file\n",
    "load('ex5data1.mat');"
   ]
  },
  {
   "cell_type": "code",
   "execution_count": 22,
   "id": "dd7b45fd-6481-41e5-97a4-d1c586c7de8d",
   "metadata": {},
   "outputs": [
    {
     "name": "stdout",
     "output_type": "stream",
     "text": [
      "Variables visible from the current scope:\n",
      "\n",
      "X      Xtest  Xval   ans    m      y      ytest  yval\n",
      "\n"
     ]
    }
   ],
   "source": [
    "who"
   ]
  },
  {
   "cell_type": "code",
   "execution_count": 24,
   "id": "99113e61-f3e2-43d9-a441-b57b5ce3f751",
   "metadata": {},
   "outputs": [
    {
     "name": "stdout",
     "output_type": "stream",
     "text": [
      "ans =\n",
      "\n",
      "   12    1\n",
      "\n"
     ]
    }
   ],
   "source": [
    "size(X)"
   ]
  },
  {
   "cell_type": "code",
   "execution_count": 26,
   "id": "915695e2-011b-477e-9cba-866d56b676f2",
   "metadata": {},
   "outputs": [
    {
     "name": "stdout",
     "output_type": "stream",
     "text": [
      "ans =\n",
      "\n",
      "   12    1\n",
      "\n"
     ]
    }
   ],
   "source": [
    "size(y)"
   ]
  },
  {
   "cell_type": "code",
   "execution_count": 18,
   "id": "e36306d3-4f08-44c7-99f4-906e5c89ea69",
   "metadata": {},
   "outputs": [],
   "source": [
    "m = size(X,1);"
   ]
  },
  {
   "cell_type": "code",
   "execution_count": 35,
   "id": "c9b827a0-0761-4b5d-b716-f95e31045705",
   "metadata": {},
   "outputs": [
    {
     "name": "stdout",
     "output_type": "stream",
     "text": [
      "ans = -31.462\n"
     ]
    },
    {
     "data": {
      "image/png": "[encoded data removed]",
      "text/plain": [
       "<IPython.core.display.Image object>"
      ]
     },
     "metadata": {},
     "output_type": "display_data"
    }
   ],
   "source": [
    "plot(X, y, 'rx', 'MarkerSize', 10, 'LineWidth', 5);\n",
    "hold on;\n",
    "plot(Xval, yval, 'gx', 'MarkerSize', 7, 'LineWidth', 1.5);\n",
    "plot(Xtest, ytest, 'bx', 'MarkerSize', 7, 'LineWidth', 1.5);\n",
    "legend('Train', 'Cross-Validation', 'Test','location','northwest')\n",
    "xlabel('Change in water level (x)');\n",
    "ylabel('Water flowing out of the dam (y)');"
   ]
  },
  {
   "cell_type": "markdown",
   "id": "5ced09c7-6e83-48ad-897b-acdd65d2eed7",
   "metadata": {},
   "source": [
    "## 2. Regularized Linear Regression"
   ]
  },
  {
   "cell_type": "markdown",
   "id": "74389ca9-3c27-4ea4-9113-e1ff7420287d",
   "metadata": {},
   "source": [
    "### 2.1 Regularized Linear Regression: Cost Function & Gradient -- `linearRegCostFunction.m`"
   ]
  },
  {
   "cell_type": "markdown",
   "id": "a52ce9e8-ec6a-4a6e-8743-bae444cfd9fe",
   "metadata": {},
   "source": [
    "Cost function:\n",
    "\n",
    "$$ J(\\theta) = \\frac{1}{2m} \\left( \\sum_{i=1}^m \\left( h_\\theta\\left( x^{(i)} \\right) - y^{(i)} \\right)^2 \\right) + \\frac{\\lambda}{2m} \\left( \\sum_{j=1}^n \\theta_j^2 \\right)$$\n",
    "\n",
    "Gradient:\n",
    "\n",
    "$$\n",
    "\\begin{align}\n",
    "& \\frac{\\partial J(\\theta)}{\\partial \\theta_0} = \\frac{1}{m} \\sum_{i=1}^m \\left( h_\\theta \\left(x^{(i)} \\right) - y^{(i)} \\right) x_j^{(i)} & \\qquad \\text{for } j = 0 \\\\\n",
    "& \\frac{\\partial J(\\theta)}{\\partial \\theta_j} = \\left( \\frac{1}{m} \\sum_{i=1}^m \\left( h_\\theta \\left( x^{(i)} \\right) - y^{(i)} \\right) x_j^{(i)} \\right) + \\frac{\\lambda}{m} \\theta_j & \\qquad \\text{for } j \\ge 1\n",
    "\\end{align}\n",
    "$$\n",
    "\n"
   ]
  },
  {
   "cell_type": "code",
   "execution_count": 49,
   "id": "6549e7ef-c821-4e2c-9b07-da4e8e4941e9",
   "metadata": {},
   "outputs": [],
   "source": [
    "function [J, grad] = costFunction(X, y, theta, lambda)\n",
    "    % Number of training examples\n",
    "    m = length(y); \n",
    "    % Init return variables\n",
    "    J = 0;\n",
    "    grad = zeros(size(theta));\n",
    "    \n",
    "    % Cost (without regularization)\n",
    "    h = X*theta; % (m x (n+1)) x ((n+1) x 1) -> m x 1\n",
    "    e = (h - y); % m x 1\n",
    "    J = (0.5/m) * (e'*e);\n",
    "    % Regularization term\n",
    "    t = theta(2:end,:); % n x 1\n",
    "    J = J + ((0.5*lambda/m) * (t'*t));\n",
    "    \n",
    "    % Gradient (without regularization)\n",
    "    grad = (1/m) * (e'*X); % (1 x m) x (m x (n+1)) -> 1 x (n+1)\n",
    "    % Regularization term\n",
    "    r = (lambda/m) * theta(2:end,1); % n x 1\n",
    "    grad = grad' + [0; r];\n",
    "    \n",
    "    % Column vector\n",
    "    grad = grad(:);\n",
    "end\n"
   ]
  },
  {
   "cell_type": "code",
   "execution_count": 50,
   "id": "f9d3a86e-99c7-4068-8024-04e6a4de56ec",
   "metadata": {
    "tags": []
   },
   "outputs": [],
   "source": [
    "theta = ones(size(X,2)+1,1); % (n+1) x 1\n",
    "Xp = [ones(size(X,1),1), X]; % m x (n+1)\n",
    "lambda = 1;"
   ]
  },
  {
   "cell_type": "code",
   "execution_count": 51,
   "id": "e0ae343d-5b18-45f2-9cfc-ac8a08408a71",
   "metadata": {},
   "outputs": [],
   "source": [
    "[J, grad] = costFunction(Xp, y, theta, lambda);"
   ]
  },
  {
   "cell_type": "code",
   "execution_count": 52,
   "id": "d3a25de8-1b45-4e2c-8431-d9f3d5655b7c",
   "metadata": {},
   "outputs": [
    {
     "name": "stdout",
     "output_type": "stream",
     "text": [
      "J = 303.99\n"
     ]
    }
   ],
   "source": [
    "J"
   ]
  },
  {
   "cell_type": "code",
   "execution_count": 53,
   "id": "35a46094-df7d-4e9a-98af-8338829ee45e",
   "metadata": {},
   "outputs": [
    {
     "name": "stdout",
     "output_type": "stream",
     "text": [
      "grad =\n",
      "\n",
      "   -15.303\n",
      "   598.251\n",
      "\n"
     ]
    }
   ],
   "source": [
    "grad"
   ]
  },
  {
   "cell_type": "markdown",
   "id": "663bd141-b275-4d97-b744-9d88b994da7c",
   "metadata": {},
   "source": [
    "### 2.2 Train and Plot Fitted Line -- `trainLinearReg.m`"
   ]
  },
  {
   "cell_type": "code",
   "execution_count": 54,
   "id": "a3c89103-6e64-4e30-b37b-4086ccd223ea",
   "metadata": {},
   "outputs": [],
   "source": [
    "function [theta] = train(X, y, lambda)\n",
    "    initial_theta = zeros(size(X, 2), 1); \n",
    "    % Create \"short hand\" for the cost function to be minimized\n",
    "    costFunction = @(t) linearRegCostFunction(X, y, t, lambda);\n",
    "    % Now, costFunction is a function that takes in only one argument\n",
    "    options = optimset('MaxIter', 200, 'GradObj', 'on');\n",
    "    % Minimize using fmincg\n",
    "    theta = fmincg(costFunction, initial_theta, options);\n",
    "end"
   ]
  },
  {
   "cell_type": "code",
   "execution_count": 55,
   "id": "4a514489-cf9f-438f-a2dd-f6558be9e34f",
   "metadata": {},
   "outputs": [
    {
     "name": "stdout",
     "output_type": "stream",
     "text": [
      "Iteration     3 | Cost: 2.237391e+01\n"
     ]
    }
   ],
   "source": [
    "lambda = 0;\n",
    "[theta] = trainLinearReg([ones(m, 1) X], y, lambda);"
   ]
  },
  {
   "cell_type": "code",
   "execution_count": 62,
   "id": "73a17a96-3696-4342-a80c-953ccb72b5d2",
   "metadata": {},
   "outputs": [
    {
     "data": {
      "image/png": "[encoded data removed]",
      "text/plain": [
       "<IPython.core.display.Image object>"
      ]
     },
     "metadata": {},
     "output_type": "display_data"
    }
   ],
   "source": [
    "plot(X, y, 'rx', 'MarkerSize', 10, 'LineWidth', 1.5);\n",
    "xlabel('Change in water level (x)');\n",
    "ylabel('Water flowing out of the dam (y)');\n",
    "hold on;\n",
    "x = linspace(min(X(:)),max(X(:)),50)';\n",
    "plot(x, [ones(size(x,1), 1) x]*theta, '--', 'LineWidth', 2)\n",
    "hold off;"
   ]
  },
  {
   "cell_type": "markdown",
   "id": "26e6df3a-0066-4ab8-b859-88dcdee4e219",
   "metadata": {},
   "source": [
    "## 3. Bias-Variace"
   ]
  },
  {
   "cell_type": "markdown",
   "id": "50a86402-c1ea-43f3-9e3a-390414ac8e1b",
   "metadata": {},
   "source": [
    "### 3.1 Learning Curves"
   ]
  },
  {
   "cell_type": "code",
   "execution_count": null,
   "id": "826f19b6-06d5-45a2-bf55-0e8096b7db2a",
   "metadata": {},
   "outputs": [],
   "source": []
  }
 ],
 "metadata": {
  "kernelspec": {
   "display_name": "Octave",
   "language": "octave",
   "name": "octave"
  },
  "language_info": {
   "file_extension": ".m",
   "help_links": [
    {
     "text": "GNU Octave",
     "url": "https://www.gnu.org/software/octave/support.html"
    },
    {
     "text": "Octave Kernel",
     "url": "https://github.com/Calysto/octave_kernel"
    },
    {
     "text": "MetaKernel Magics",
     "url": "https://metakernel.readthedocs.io/en/latest/source/README.html"
    }
   ],
   "mimetype": "text/x-octave",
   "name": "octave",
   "version": "6.3.0"
  }
 },
 "nbformat": 4,
 "nbformat_minor": 5
}
