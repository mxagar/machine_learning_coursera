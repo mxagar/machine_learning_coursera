{
 "cells": [
  {
   "cell_type": "markdown",
   "id": "612f78fe-4e2c-42dd-b88d-9e7360010285",
   "metadata": {},
   "source": [
    "# Exercise 5: Regularized Linear Regression and Bias vs. Variance"
   ]
  },
  {
   "cell_type": "markdown",
   "id": "9117b43d-517c-4322-b572-3305bd1c16d0",
   "metadata": {},
   "source": [
    "In this exercise, regularized linear regression is implemented to study models with different bias-variance properties.\n",
    "\n",
    "Files provided by Coursera, located under `../exercises/ex1-ex8-octave/ex5`\n",
    "\n",
    "- `ex5.m` - Octave/MATLAB script that steps you through the exercise\n",
    "- `ex5data1.mat` - Dataset\n",
    "- `submit.m` - Submission script that sends your solutions to our servers\n",
    "- `featureNormalize.m` - Feature normalization function\n",
    "- `fmincg.m` - Function minimization routine (similar to `fminunc`)\n",
    "- `plotFit.m` - Plot a polynomial fit\n",
    "- `trainLinearReg.m` - Trains linear regression using your cost function\n",
    "\n",
    "Files to complete:\n",
    "\n",
    "- `linearRegCostFunction.m` - Regularized linear regression cost function\n",
    "- `learningCurve.m` - Generates a learning curve\n",
    "- `polyFeatures.m` - Maps data into polynomial feature space\n",
    "- `validationCurve.m` - Generates a cross validation curve\n",
    "\n",
    "Workflow:\n",
    "\n",
    "- Download latest Octave version of exercise from Coursera\n",
    "- Complete code in exercise files following `ex5.pdf`\n",
    "- Whenever an exercise part is finished\n",
    "  - Check it with `ex5` in Octave terminal\n",
    "  - Create a submission token on Coursera (exercise submission page, it lasts 30 minutes)\n",
    "  - Execute `submit` in Octave terminal\n",
    "  - Introduce email and token\n",
    "  - Results appear\n",
    "\n",
    "**Overview of contents:**\n",
    "\n",
    "0. Setup: `gnuplot`\n",
    "1. Dataset Loading & Visualization\n"
   ]
  },
  {
   "cell_type": "markdown",
   "id": "1c828cd9-34d4-4c00-a6a9-d389abec868a",
   "metadata": {},
   "source": [
    "## 0. Setup: `gnuplot`"
   ]
  },
  {
   "cell_type": "code",
   "execution_count": 93,
   "id": "8dc16d43-bb64-42a1-928d-f885de2dd053",
   "metadata": {},
   "outputs": [],
   "source": [
    "graphics_toolkit (\"gnuplot\");"
   ]
  },
  {
   "cell_type": "code",
   "execution_count": 94,
   "id": "92ec2d42-176b-4283-82c2-cdedfbe804cb",
   "metadata": {},
   "outputs": [],
   "source": [
    "%plot -b inline:gnuplot"
   ]
  },
  {
   "cell_type": "markdown",
   "id": "f6d883e3-51f8-4df2-9624-92d66db896cd",
   "metadata": {},
   "source": [
    "## 1. Dataset Loading & Visualization"
   ]
  },
  {
   "cell_type": "code",
   "execution_count": 95,
   "id": "6960824e-bbee-464f-8f44-03cf84ef29aa",
   "metadata": {},
   "outputs": [],
   "source": [
    "% Load saved matrices from file\n",
    "load('ex5data1.mat');"
   ]
  },
  {
   "cell_type": "code",
   "execution_count": 96,
   "id": "dd7b45fd-6481-41e5-97a4-d1c586c7de8d",
   "metadata": {},
   "outputs": [
    {
     "name": "stdout",
     "output_type": "stream",
     "text": [
      "Variables visible from the current scope:\n",
      "\n",
      "J            X_poly_test  Xval         grad         p            y\n",
      "X            X_poly_val   ans          lambda       sigma        ytest\n",
      "X_norm       Xp           error_train  m            theta        yval\n",
      "X_poly       Xtest        error_val    mu           x\n",
      "\n"
     ]
    }
   ],
   "source": [
    "who"
   ]
  },
  {
   "cell_type": "code",
   "execution_count": 97,
   "id": "99113e61-f3e2-43d9-a441-b57b5ce3f751",
   "metadata": {},
   "outputs": [
    {
     "name": "stdout",
     "output_type": "stream",
     "text": [
      "ans =\n",
      "\n",
      "   12    1\n",
      "\n"
     ]
    }
   ],
   "source": [
    "size(X)"
   ]
  },
  {
   "cell_type": "code",
   "execution_count": 98,
   "id": "915695e2-011b-477e-9cba-866d56b676f2",
   "metadata": {},
   "outputs": [
    {
     "name": "stdout",
     "output_type": "stream",
     "text": [
      "ans =\n",
      "\n",
      "   12    1\n",
      "\n"
     ]
    }
   ],
   "source": [
    "size(y)"
   ]
  },
  {
   "cell_type": "code",
   "execution_count": 99,
   "id": "e36306d3-4f08-44c7-99f4-906e5c89ea69",
   "metadata": {},
   "outputs": [],
   "source": [
    "m = size(X,1);"
   ]
  },
  {
   "cell_type": "code",
   "execution_count": 100,
   "id": "c9b827a0-0761-4b5d-b716-f95e31045705",
   "metadata": {},
   "outputs": [
    {
     "name": "stdout",
     "output_type": "stream",
     "text": [
      "ans = -52.828\n"
     ]
    },
    {
     "data": {
      "image/png": "[encoded data removed]",
      "text/plain": [
       "<IPython.core.display.Image object>"
      ]
     },
     "metadata": {},
     "output_type": "display_data"
    }
   ],
   "source": [
    "plot(X, y, 'rx', 'MarkerSize', 10, 'LineWidth', 5);\n",
    "hold on;\n",
    "plot(Xval, yval, 'gx', 'MarkerSize', 7, 'LineWidth', 1.5);\n",
    "plot(Xtest, ytest, 'bx', 'MarkerSize', 7, 'LineWidth', 1.5);\n",
    "legend('Train', 'Cross-Validation', 'Test','location','northwest')\n",
    "xlabel('Change in water level (x)');\n",
    "ylabel('Water flowing out of the dam (y)');"
   ]
  },
  {
   "cell_type": "markdown",
   "id": "5ced09c7-6e83-48ad-897b-acdd65d2eed7",
   "metadata": {},
   "source": [
    "## 2. Regularized Linear Regression"
   ]
  },
  {
   "cell_type": "markdown",
   "id": "74389ca9-3c27-4ea4-9113-e1ff7420287d",
   "metadata": {},
   "source": [
    "### 2.1 Regularized Linear Regression: Cost Function & Gradient -- `linearRegCostFunction.m`"
   ]
  },
  {
   "cell_type": "markdown",
   "id": "a52ce9e8-ec6a-4a6e-8743-bae444cfd9fe",
   "metadata": {},
   "source": [
    "Cost function:\n",
    "\n",
    "$$ J(\\theta) = \\frac{1}{2m} \\left( \\sum_{i=1}^m \\left( h_\\theta\\left( x^{(i)} \\right) - y^{(i)} \\right)^2 \\right) + \\frac{\\lambda}{2m} \\left( \\sum_{j=1}^n \\theta_j^2 \\right)$$\n",
    "\n",
    "Gradient:\n",
    "\n",
    "$$\n",
    "\\begin{align}\n",
    "& \\frac{\\partial J(\\theta)}{\\partial \\theta_0} = \\frac{1}{m} \\sum_{i=1}^m \\left( h_\\theta \\left(x^{(i)} \\right) - y^{(i)} \\right) x_j^{(i)} & \\qquad \\text{for } j = 0 \\\\\n",
    "& \\frac{\\partial J(\\theta)}{\\partial \\theta_j} = \\left( \\frac{1}{m} \\sum_{i=1}^m \\left( h_\\theta \\left( x^{(i)} \\right) - y^{(i)} \\right) x_j^{(i)} \\right) + \\frac{\\lambda}{m} \\theta_j & \\qquad \\text{for } j \\ge 1\n",
    "\\end{align}\n",
    "$$\n",
    "\n"
   ]
  },
  {
   "cell_type": "code",
   "execution_count": 101,
   "id": "6549e7ef-c821-4e2c-9b07-da4e8e4941e9",
   "metadata": {},
   "outputs": [],
   "source": [
    "function [J, grad] = linearRegCostFunction_(X, y, theta, lambda)\n",
    "    % Number of training examples\n",
    "    m = length(y); \n",
    "    % Init return variables\n",
    "    J = 0;\n",
    "    grad = zeros(size(theta));\n",
    "    \n",
    "    % Cost (without regularization)\n",
    "    h = X*theta; % (m x (n+1)) x ((n+1) x 1) -> m x 1\n",
    "    e = (h - y); % m x 1\n",
    "    J = (0.5/m) * (e'*e);\n",
    "    % Regularization term\n",
    "    t = theta(2:end,:); % n x 1\n",
    "    J = J + ((0.5*lambda/m) * (t'*t));\n",
    "    \n",
    "    % Gradient (without regularization)\n",
    "    grad = (1/m) * (e'*X); % (1 x m) x (m x (n+1)) -> 1 x (n+1)\n",
    "    % Regularization term\n",
    "    r = (lambda/m) * theta(2:end,1); % n x 1\n",
    "    grad = grad' + [0; r];\n",
    "    \n",
    "    % Column vector\n",
    "    grad = grad(:);\n",
    "end\n"
   ]
  },
  {
   "cell_type": "code",
   "execution_count": 102,
   "id": "f9d3a86e-99c7-4068-8024-04e6a4de56ec",
   "metadata": {
    "tags": []
   },
   "outputs": [],
   "source": [
    "theta = ones(size(X,2)+1,1); % (n+1) x 1\n",
    "Xp = [ones(size(X,1),1), X]; % m x (n+1)\n",
    "lambda = 1;"
   ]
  },
  {
   "cell_type": "code",
   "execution_count": 103,
   "id": "e0ae343d-5b18-45f2-9cfc-ac8a08408a71",
   "metadata": {},
   "outputs": [],
   "source": [
    "[J, grad] = linearRegCostFunction_(Xp, y, theta, lambda);"
   ]
  },
  {
   "cell_type": "code",
   "execution_count": 104,
   "id": "d3a25de8-1b45-4e2c-8431-d9f3d5655b7c",
   "metadata": {},
   "outputs": [
    {
     "name": "stdout",
     "output_type": "stream",
     "text": [
      "J = 303.99\n"
     ]
    }
   ],
   "source": [
    "J"
   ]
  },
  {
   "cell_type": "code",
   "execution_count": 105,
   "id": "35a46094-df7d-4e9a-98af-8338829ee45e",
   "metadata": {},
   "outputs": [
    {
     "name": "stdout",
     "output_type": "stream",
     "text": [
      "grad =\n",
      "\n",
      "   -15.303\n",
      "   598.251\n",
      "\n"
     ]
    }
   ],
   "source": [
    "grad"
   ]
  },
  {
   "cell_type": "markdown",
   "id": "663bd141-b275-4d97-b744-9d88b994da7c",
   "metadata": {},
   "source": [
    "### 2.2 Train and Plot Fitted Line -- `trainLinearReg.m`"
   ]
  },
  {
   "cell_type": "code",
   "execution_count": 106,
   "id": "a3c89103-6e64-4e30-b37b-4086ccd223ea",
   "metadata": {},
   "outputs": [],
   "source": [
    "function [theta] = trainLinearReg_(X, y, lambda)\n",
    "    initial_theta = zeros(size(X, 2), 1); \n",
    "    % Create \"short hand\" for the cost function to be minimized\n",
    "    costFunction = @(t) linearRegCostFunction(X, y, t, lambda);\n",
    "    % Now, costFunction is a function that takes in only one argument\n",
    "    options = optimset('MaxIter', 200, 'GradObj', 'on');\n",
    "    % Minimize using fmincg\n",
    "    theta = fmincg(costFunction, initial_theta, options);\n",
    "end"
   ]
  },
  {
   "cell_type": "code",
   "execution_count": 107,
   "id": "4a514489-cf9f-438f-a2dd-f6558be9e34f",
   "metadata": {},
   "outputs": [],
   "source": [
    "lambda = 0;\n",
    "[theta] = trainLinearReg_([ones(m, 1) X], y, lambda);"
   ]
  },
  {
   "cell_type": "code",
   "execution_count": 108,
   "id": "73a17a96-3696-4342-a80c-953ccb72b5d2",
   "metadata": {},
   "outputs": [
    {
     "data": {
      "image/png": "[encoded data removed]",
      "text/plain": [
       "<IPython.core.display.Image object>"
      ]
     },
     "metadata": {},
     "output_type": "display_data"
    }
   ],
   "source": [
    "plot(X, y, 'rx', 'MarkerSize', 10, 'LineWidth', 1.5);\n",
    "xlabel('Change in water level (x)');\n",
    "ylabel('Water flowing out of the dam (y)');\n",
    "hold on;\n",
    "x = linspace(min(X(:)),max(X(:)),50)';\n",
    "plot(x, [ones(size(x,1), 1) x]*theta, '--', 'LineWidth', 2)\n",
    "hold off;"
   ]
  },
  {
   "cell_type": "markdown",
   "id": "26e6df3a-0066-4ab8-b859-88dcdee4e219",
   "metadata": {},
   "source": [
    "## 3. Bias-Variace"
   ]
  },
  {
   "cell_type": "markdown",
   "id": "50a86402-c1ea-43f3-9e3a-390414ac8e1b",
   "metadata": {},
   "source": [
    "### 3.1 Learning Curves -- `learningCurve.m`"
   ]
  },
  {
   "cell_type": "markdown",
   "id": "7e4c3e8d-d13a-4c15-93f2-2106f37b12da",
   "metadata": {},
   "source": [
    "Recall that for the computation of the learning curves the model parameters are fitted to an increasing number of examples: each step more examples. The obtained `theta` is fitted using regularization, i.e., our complete model. However, we compute the evaluation errors `J_train`, `J_cv` **without** regularization, because we want to know the error of the predicted values with respect to the ground truth data. The regularization term from teh cost makes sense only for the gradient computation, not for the real prediction error computation!\n",
    "\n",
    "$$ J_{\\text{train}} = \\frac{1}{2m} \\left[ \\sum_{i=1}^m \\left(h_\\theta \\left( x^{(i)} \\right) - y^{(i)} \\right)^2 \\right] $$"
   ]
  },
  {
   "cell_type": "code",
   "execution_count": 109,
   "id": "826f19b6-06d5-45a2-bf55-0e8096b7db2a",
   "metadata": {},
   "outputs": [],
   "source": [
    "function [error_train, error_val] = learningCurve_(X, y, Xval, yval, lambda)\n",
    "    % Number of training examples\n",
    "    % Also number of errors computed\n",
    "    % X(1), X(1:2), X(1:3), ..., X(1:m): m errors with increasing number of examples used\n",
    "    m = size(X, 1);\n",
    "\n",
    "    % Init retun variables\n",
    "    % error_train(i) must be computed using the theta obtained after training with i examples\n",
    "    % error_val(i) must be obtained using the same theta by evaluating THE COMPLETE CV SPLIT!\n",
    "    error_train = zeros(m, 1); % J_train\n",
    "    error_val   = zeros(m, 1); % J_cv\n",
    "\n",
    "    for k = 1:m\n",
    "        % Fit theta with k examples WITH regularization\n",
    "        [theta] = trainLinearReg([ones(k, 1) X(1:k,:)], y(1:k), lambda);\n",
    "        % Compute J_train, without regularization, because we want the real error\n",
    "        [J_train, grad] = linearRegCostFunction([ones(k, 1) X(1:k,:)], y(1:k), theta, 0);\n",
    "        % Compute J_cv with entire CV split, because we want the real error\n",
    "        [J_cv, grad] = linearRegCostFunction([ones(size(Xval,1), 1) Xval], yval, theta, 0);\n",
    "        % Store the errors/costs\n",
    "        error_train(k) = J_train;\n",
    "        error_val(k) = J_cv;\n",
    "    end\n",
    "end\n"
   ]
  },
  {
   "cell_type": "code",
   "execution_count": 110,
   "id": "f34c4bb9-9b12-4e0d-a039-b40560db3a02",
   "metadata": {},
   "outputs": [],
   "source": [
    "lambda = 0;\n",
    "[error_train, error_val] = learningCurve_(X, y, Xval, yval, lambda);"
   ]
  },
  {
   "cell_type": "code",
   "execution_count": 111,
   "id": "0b5fb19a-4cc6-444c-8216-88331b9b905f",
   "metadata": {},
   "outputs": [
    {
     "name": "stdout",
     "output_type": "stream",
     "text": [
      "ans = -53.739\n"
     ]
    },
    {
     "data": {
      "image/png": "[encoded data removed]",
      "text/plain": [
       "<IPython.core.display.Image object>"
      ]
     },
     "metadata": {},
     "output_type": "display_data"
    }
   ],
   "source": [
    "plot(1:m, error_train, 1:m, error_val);\n",
    "title('Learning curve for linear regression')\n",
    "legend('Train', 'Cross Validation')\n",
    "xlabel('Number of training examples')\n",
    "ylabel('Error')\n",
    "axis([0 13 0 150])"
   ]
  },
  {
   "cell_type": "markdown",
   "id": "b2f7be30-865d-4080-a7c8-647d0e4d1224",
   "metadata": {},
   "source": [
    "## 4. Polynomial Regression"
   ]
  },
  {
   "cell_type": "markdown",
   "id": "99bd9925-813c-4bf8-9d07-84f1888ee530",
   "metadata": {},
   "source": [
    "### 4.1 Polynomial Model -- `polyFeatures.m`"
   ]
  },
  {
   "cell_type": "markdown",
   "id": "672a33ea-d2e1-4e78-9f32-1e1114851b42",
   "metadata": {},
   "source": [
    "$$\n",
    "\\begin{align}\n",
    "h_\\theta(x)  &= \\theta_0 + \\theta_1 \\times (\\text{waterLevel}) + \\theta_2 \\times (\\text{waterLevel})^2 + \\cdots + \\theta_p \\times (\\text{waterLevel})^p \\\\\n",
    "& = \\theta_0 + \\theta_1 x_1 + \\theta_2 x_2 + \\cdots + \\theta_p x_p\n",
    "\\end{align}\n",
    "$$"
   ]
  },
  {
   "cell_type": "code",
   "execution_count": 112,
   "id": "5fe66891-bffa-4c17-bd0c-dedfc63aa7a0",
   "metadata": {},
   "outputs": [],
   "source": [
    "function [X_poly] = polyFeatures_(X, p)\n",
    "    X_poly = zeros(numel(X), p);\n",
    "    for i = 1:p\n",
    "        X_poly(:,i) = X.^i;\n",
    "    end\n",
    "end"
   ]
  },
  {
   "cell_type": "code",
   "execution_count": 113,
   "id": "9aecb01a-eceb-44de-aafe-55f3ca3a9c87",
   "metadata": {},
   "outputs": [
    {
     "name": "stdout",
     "output_type": "stream",
     "text": [
      "X_poly =\n",
      "\n",
      "  -1.5937e+01   2.5398e+02  -4.0476e+03\n",
      "  -2.9153e+01   8.4990e+02  -2.4777e+04\n",
      "   3.6190e+01   1.3097e+03   4.7397e+04\n",
      "   3.7492e+01   1.4057e+03   5.2701e+04\n",
      "  -4.8059e+01   2.3097e+03  -1.1100e+05\n",
      "  -8.9415e+00   7.9950e+01  -7.1487e+02\n",
      "   1.5308e+01   2.3433e+02   3.5871e+03\n",
      "  -3.4706e+01   1.2045e+03  -4.1805e+04\n",
      "   1.3892e+00   1.9297e+00   2.6807e+00\n",
      "  -4.4384e+01   1.9699e+03  -8.7432e+04\n",
      "   7.0135e+00   4.9189e+01   3.4499e+02\n",
      "   2.2763e+01   5.1814e+02   1.1794e+04\n",
      "\n"
     ]
    }
   ],
   "source": [
    "[X_poly] = polyFeatures(X, 3)"
   ]
  },
  {
   "cell_type": "markdown",
   "id": "470f3e31-6a37-4c45-b2de-b2bc0263449f",
   "metadata": {},
   "source": [
    "### 4.2 Learning Polynomial Regression"
   ]
  },
  {
   "cell_type": "markdown",
   "id": "5ebd26a0-6de5-41df-ab99-e1ca07b0fba3",
   "metadata": {},
   "source": [
    "Normalization is required."
   ]
  },
  {
   "cell_type": "code",
   "execution_count": 114,
   "id": "523f3d95-1177-4bd3-a2f2-6c08afe35142",
   "metadata": {},
   "outputs": [],
   "source": [
    "function [X_norm] = applyNormalization(X, mu, sigma)\n",
    "    X_norm = zeros(size(X));\n",
    "    for i = 1:size(X,2)\n",
    "        X_norm(:,i) = (X(:,i).-mu(1,i))./sigma(1,i);\n",
    "    end\n",
    "end"
   ]
  },
  {
   "cell_type": "code",
   "execution_count": 115,
   "id": "cbb188b1-359d-4179-b2c4-278728b0e30a",
   "metadata": {},
   "outputs": [],
   "source": [
    "function [X_norm, mu, sigma] = featureNormalize_(X)\n",
    "    mu = mean(X);\n",
    "    sigma = std(X);\n",
    "    %X_norm = bsxfun(@minus, X, mu);\n",
    "    %X_norm = bsxfun(@rdivide, X_norm, sigma);\n",
    "    X_norm = applyNormalization(X, mu, sigma);\n",
    "end"
   ]
  },
  {
   "cell_type": "code",
   "execution_count": 116,
   "id": "7563ed5f-bb41-4391-a13b-626a6dffcf99",
   "metadata": {},
   "outputs": [
    {
     "name": "stdout",
     "output_type": "stream",
     "text": [
      "X_norm =\n",
      "\n",
      "  -3.6214e-01  -7.5509e-01   1.8223e-01\n",
      "  -8.0320e-01   1.2583e-03  -2.4794e-01\n",
      "   1.3775e+00   5.8483e-01   1.2498e+00\n",
      "   1.4209e+00   7.0665e-01   1.3598e+00\n",
      "  -1.4341e+00   1.8540e+00  -2.0372e+00\n",
      "  -1.2869e-01  -9.7597e-01   2.5139e-01\n",
      "   6.8058e-01  -7.8003e-01   3.4066e-01\n",
      "  -9.8853e-01   4.5136e-01  -6.0128e-01\n",
      "   2.1608e-01  -1.0750e+00   2.6628e-01\n",
      "  -1.3115e+00   1.4228e+00  -1.5481e+00\n",
      "   4.0378e-01  -1.0150e+00   2.7338e-01\n",
      "   9.2938e-01  -4.1981e-01   5.1097e-01\n",
      "\n",
      "mu =\n",
      "\n",
      "  -5.0854e+00   8.4890e+02  -1.2829e+04\n",
      "\n",
      "sigma =\n",
      "\n",
      "   2.9964e+01   7.8789e+02   4.8190e+04\n",
      "\n"
     ]
    }
   ],
   "source": [
    "[X_norm, mu, sigma] = featureNormalize_(X_poly)"
   ]
  },
  {
   "cell_type": "markdown",
   "id": "a8aeaf4d-f4b0-490b-ad0b-ff479de391d3",
   "metadata": {},
   "source": [
    "### Normalize, Learn/Train, & Plot Fitting Curve"
   ]
  },
  {
   "cell_type": "code",
   "execution_count": 117,
   "id": "ecc5ec74-5d08-407c-bb7b-21947cf00b05",
   "metadata": {},
   "outputs": [],
   "source": [
    "p = 8;\n",
    "X_poly = polyFeatures(X, p);\n",
    "[X_poly, mu, sigma] = featureNormalize(X_poly);\n",
    "X_poly = [ones(m, 1), X_poly];\n",
    "% Map X_poly_test and normalize (using mu and sigma)\n",
    "X_poly_test = polyFeatures(Xtest, p);\n",
    "X_poly_test = applyNormalization(X_poly_test, mu, sigma);\n",
    "X_poly_test = [ones(size(X_poly_test, 1), 1), X_poly_test];\n",
    "% Map X_poly_val and normalize (using mu and sigma)\n",
    "X_poly_val = polyFeatures(Xval, p);\n",
    "X_poly_val = applyNormalization(X_poly_val, mu, sigma);\n",
    "X_poly_val = [ones(size(X_poly_val, 1), 1), X_poly_val];"
   ]
  },
  {
   "cell_type": "code",
   "execution_count": 118,
   "id": "8a94f83f-7a02-4791-b8e6-12a76113e381",
   "metadata": {},
   "outputs": [],
   "source": [
    "lambda = 0;\n",
    "[theta] = trainLinearReg(X_poly, y, lambda);"
   ]
  },
  {
   "cell_type": "code",
   "execution_count": 121,
   "id": "564e8a7a-cfa4-45c8-9d53-675cc7331d01",
   "metadata": {},
   "outputs": [
    {
     "data": {
      "image/png": "[encoded data removed]",
      "text/plain": [
       "<IPython.core.display.Image object>"
      ]
     },
     "metadata": {},
     "output_type": "display_data"
    }
   ],
   "source": [
    "figure(1);\n",
    "plot(X, y, 'rx', 'MarkerSize', 10, 'LineWidth', 1.5);\n",
    "plotFit(min(X), max(X), mu, sigma, theta, p);\n",
    "xlabel('Change in water level (x)');\n",
    "ylabel('Water flowing out of the dam (y)');\n",
    "title (sprintf('Polynomial Regression Fit (lambda = %f)', lambda));"
   ]
  },
  {
   "cell_type": "code",
   "execution_count": null,
   "id": "9f5da2b0-7dcb-4571-b374-ee4f372a3701",
   "metadata": {},
   "outputs": [],
   "source": []
  }
 ],
 "metadata": {
  "kernelspec": {
   "display_name": "Octave",
   "language": "octave",
   "name": "octave"
  },
  "language_info": {
   "file_extension": ".m",
   "help_links": [
    {
     "text": "GNU Octave",
     "url": "https://www.gnu.org/software/octave/support.html"
    },
    {
     "text": "Octave Kernel",
     "url": "https://github.com/Calysto/octave_kernel"
    },
    {
     "text": "MetaKernel Magics",
     "url": "https://metakernel.readthedocs.io/en/latest/source/README.html"
    }
   ],
   "mimetype": "text/x-octave",
   "name": "octave",
   "version": "6.3.0"
  }
 },
 "nbformat": 4,
 "nbformat_minor": 5
}
