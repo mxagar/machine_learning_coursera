{
 "cells": [
  {
   "cell_type": "markdown",
   "id": "0815080d-02c0-46d5-9dd9-792cd8dabfef",
   "metadata": {},
   "source": [
    "# Exercise 4: Neural Networks Learning"
   ]
  },
  {
   "cell_type": "markdown",
   "id": "c49bf597-e654-40bf-9239-14518f2c0903",
   "metadata": {},
   "source": [
    "Hand-written digits recognition with (part 1) multi-class logistic regression and (part 2) neural networks. The digits are a subset of the [MNIST dataset](http://yann.lecun.com/exdb/mnist/) by Yann LeCun.\n",
    "\n",
    "Files provided by Coursera, located under `../exercises/ex1-ex8-octave/ex4`\n",
    "\n",
    "- `ex4.m` - Octave/MATLAB script that steps you through the exercise\n",
    "- `ex4data1.mat` - Training set of hand-written digits\n",
    "- `ex4weights.mat` - Initial weights for the neural network\n",
    "- `submit.m` - Submission script that sends your solutions to our servers\n",
    "- `displayData.m` - Function to help visualize the dataset\n",
    "- `fmincg.m` - Function minimization routine (similar to `fminunc`)\n",
    "- `sigmoid.m` - Sigmoid function\n",
    "- `computeNumericalGradient.m` - Numerically compute gradients\n",
    "- `checkNNGradients.m` - Function to help check your gradients\n",
    "- `debugInitializeWeights.m` - Function for initializing weights\n",
    "- `predict.m` - Neural network prediction function\n",
    "\n",
    "\n",
    "Files to complete:\n",
    "\n",
    "- `sigmoidGradient.m` - Compute the gradient of the sigmoid function\n",
    "- `randInitializeWeights.m` - Randomly initialize weights\n",
    "- `nnCostFunction.m` - Neural network cost function\n",
    "- `predict.m` - Neural network prediction function\n",
    "\n",
    "Workflow:\n",
    "\n",
    "- Download latest Octave version of exercise from Coursera\n",
    "- Complete code in exercise files following `ex4.pdf`\n",
    "- Whenever an exercise part is finished\n",
    "  - Check it with `ex4` in Octave terminal\n",
    "  - Create a submission token on Coursera (exercise submission page, it lasts 30 minutes)\n",
    "  - Execute `submit` in Octave terminal\n",
    "  - Introduce email and token\n",
    "  - Results appear\n",
    "\n",
    "**Overview of contents:**\n",
    "\n",
    "0. Setup: `gnuplot`\n",
    "1. A\n",
    "\n"
   ]
  },
  {
   "cell_type": "code",
   "execution_count": null,
   "id": "c9cfa752-7c0c-42fa-aba0-dfa1eceab2f7",
   "metadata": {},
   "outputs": [],
   "source": []
  }
 ],
 "metadata": {
  "kernelspec": {
   "display_name": "Octave",
   "language": "octave",
   "name": "octave"
  },
  "language_info": {
   "file_extension": ".m",
   "help_links": [
    {
     "text": "GNU Octave",
     "url": "https://www.gnu.org/software/octave/support.html"
    },
    {
     "text": "Octave Kernel",
     "url": "https://github.com/Calysto/octave_kernel"
    },
    {
     "text": "MetaKernel Magics",
     "url": "https://metakernel.readthedocs.io/en/latest/source/README.html"
    }
   ],
   "mimetype": "text/x-octave",
   "name": "octave",
   "version": "6.3.0"
  }
 },
 "nbformat": 4,
 "nbformat_minor": 5
}
