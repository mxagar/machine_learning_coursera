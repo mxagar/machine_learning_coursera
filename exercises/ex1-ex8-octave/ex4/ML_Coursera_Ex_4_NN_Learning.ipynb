{
 "cells": [
  {
   "cell_type": "markdown",
   "id": "0815080d-02c0-46d5-9dd9-792cd8dabfef",
   "metadata": {},
   "source": [
    "# Exercise 4: Neural Networks Learning"
   ]
  },
  {
   "cell_type": "markdown",
   "id": "c49bf597-e654-40bf-9239-14518f2c0903",
   "metadata": {},
   "source": [
    "Hand-written digits recognition with neural networks, focussing on the backpropagation algorithm for gradient computation and learning. The digits are a subset of the [MNIST dataset](http://yann.lecun.com/exdb/mnist/) by Yann LeCun.\n",
    "\n",
    "Files provided by Coursera, located under `../exercises/ex1-ex8-octave/ex4`\n",
    "\n",
    "- `ex4.m` - Octave/MATLAB script that steps you through the exercise\n",
    "- `ex4data1.mat` - Training set of hand-written digits\n",
    "- `ex4weights.mat` - Initial weights for the neural network\n",
    "- `submit.m` - Submission script that sends your solutions to our servers\n",
    "- `displayData.m` - Function to help visualize the dataset\n",
    "- `fmincg.m` - Function minimization routine (similar to `fminunc`)\n",
    "- `sigmoid.m` - Sigmoid function\n",
    "- `computeNumericalGradient.m` - Numerically compute gradients\n",
    "- `checkNNGradients.m` - Function to help check your gradients\n",
    "- `debugInitializeWeights.m` - Function for initializing weights\n",
    "- `predict.m` - Neural network prediction function\n",
    "\n",
    "\n",
    "Files to complete:\n",
    "\n",
    "- `sigmoidGradient.m` - Compute the gradient of the sigmoid function\n",
    "- `randInitializeWeights.m` - Randomly initialize weights\n",
    "- `nnCostFunction.m` - Neural network cost function\n",
    "- `predict.m` - Neural network prediction function\n",
    "\n",
    "Workflow:\n",
    "\n",
    "- Download latest Octave version of exercise from Coursera\n",
    "- Complete code in exercise files following `ex4.pdf`\n",
    "- Whenever an exercise part is finished\n",
    "  - Check it with `ex4` in Octave terminal\n",
    "  - Create a submission token on Coursera (exercise submission page, it lasts 30 minutes)\n",
    "  - Execute `submit` in Octave terminal\n",
    "  - Introduce email and token\n",
    "  - Results appear\n",
    "\n",
    "**Overview of contents:**\n",
    "\n",
    "0. Setup: `gnuplot`\n",
    "1. A\n",
    "\n"
   ]
  },
  {
   "cell_type": "markdown",
   "id": "232abbd1-9d70-4b62-83ec-fc7855fd58e4",
   "metadata": {},
   "source": [
    "## 0. Setup: `gnuplot`"
   ]
  },
  {
   "cell_type": "code",
   "execution_count": 1,
   "id": "d78fb4db-bbb2-4c14-b23c-deb7b526983e",
   "metadata": {},
   "outputs": [],
   "source": [
    "graphics_toolkit (\"gnuplot\");"
   ]
  },
  {
   "cell_type": "code",
   "execution_count": 2,
   "id": "906c4d80-85a0-4d04-a342-7af15e6f5d8e",
   "metadata": {},
   "outputs": [],
   "source": [
    "%plot -b inline:gnuplot"
   ]
  },
  {
   "cell_type": "markdown",
   "id": "07bb9831-2c73-4167-8375-d893a7ea574e",
   "metadata": {},
   "source": [
    "## 1. Dataset Loading & Visualization"
   ]
  },
  {
   "cell_type": "code",
   "execution_count": 5,
   "id": "047e0ff7-1088-42df-8e3c-e4b9f55f7e09",
   "metadata": {},
   "outputs": [],
   "source": [
    "% Load saved matrices from file\n",
    "load('ex4data1.mat');\n",
    "% The matrices X and y will now be in your Octave environment"
   ]
  },
  {
   "cell_type": "code",
   "execution_count": 6,
   "id": "80f15950-b599-4dd9-a645-56d153f2ea57",
   "metadata": {},
   "outputs": [
    {
     "name": "stdout",
     "output_type": "stream",
     "text": [
      "Variables visible from the current scope:\n",
      "\n",
      "X    ans  y\n",
      "\n"
     ]
    }
   ],
   "source": [
    "who"
   ]
  },
  {
   "cell_type": "code",
   "execution_count": 9,
   "id": "d796a402-3c54-4a6e-a382-4a7da686a470",
   "metadata": {},
   "outputs": [
    {
     "name": "stdout",
     "output_type": "stream",
     "text": [
      "ans =\n",
      "\n",
      "   5000    400\n",
      "\n"
     ]
    }
   ],
   "source": [
    "% X: 5000 examples of unrolled 20x20 pixel images containing hand-written digits\n",
    "% pixels contain grayscale intensities\n",
    "size(X)"
   ]
  },
  {
   "cell_type": "code",
   "execution_count": 10,
   "id": "24030b32-8113-4802-9dec-adc52f38c23d",
   "metadata": {},
   "outputs": [
    {
     "name": "stdout",
     "output_type": "stream",
     "text": [
      "ans =\n",
      "\n",
      "   5000      1\n",
      "\n"
     ]
    }
   ],
   "source": [
    "% y: true label for each example: 1-9, 10:0 (label 10 means digit 0)\n",
    "size(y)"
   ]
  },
  {
   "cell_type": "code",
   "execution_count": 11,
   "id": "c12217c8-5898-4097-8c6a-95aacb437c58",
   "metadata": {},
   "outputs": [
    {
     "name": "stdout",
     "output_type": "stream",
     "text": [
      "   1.047483  -0.057515\n",
      "   10    1\n"
     ]
    }
   ],
   "source": [
    "% Check min and max values\n",
    "disp([max(X(1,:)),min(X(1,:))])\n",
    "disp([max(y(:)),min(y(:))])"
   ]
  },
  {
   "cell_type": "code",
   "execution_count": 12,
   "id": "6864ffbe-6878-43c5-a035-114803e04ef9",
   "metadata": {},
   "outputs": [],
   "source": [
    "% Randomly select 100 data points to display\n",
    "m = size(X, 1);\n",
    "rand_indices = randperm(m);\n",
    "num = 10; % num^2 images are visualized in a tiled canvas\n",
    "sel = X(rand_indices(1:num^2), :);"
   ]
  },
  {
   "cell_type": "code",
   "execution_count": 13,
   "id": "12ab266d-b935-4cb7-8cf1-7dc8aa8883a4",
   "metadata": {},
   "outputs": [
    {
     "data": {
      "image/png": "[encoded data removed]",
      "text/plain": [
       "<IPython.core.display.Image object>"
      ]
     },
     "metadata": {},
     "output_type": "display_data"
    }
   ],
   "source": [
    "% Function provided in the course\n",
    "% See how sel is created\n",
    "% Otherwise, the numer of tiles in the image width can be passed as param (see function)\n",
    "displayData(sel);"
   ]
  },
  {
   "cell_type": "markdown",
   "id": "9d34e464-d275-49d6-bb90-39106652e84a",
   "metadata": {},
   "source": [
    "## 2. Model"
   ]
  },
  {
   "cell_type": "code",
   "execution_count": 14,
   "id": "855c17f6-2835-4dad-bcad-3c336de98f39",
   "metadata": {},
   "outputs": [],
   "source": [
    "% Load saved matrices from file\n",
    "load('ex4weights.mat');\n",
    "% The matrices Theta1 and Theta2 will now be in your workspace\n",
    "% Theta1 has size 25 x 401\n",
    "% Theta2 has size 10 x 26"
   ]
  },
  {
   "cell_type": "code",
   "execution_count": 15,
   "id": "4cae8a63-b049-4c49-b707-a88de78b30d5",
   "metadata": {},
   "outputs": [
    {
     "name": "stdout",
     "output_type": "stream",
     "text": [
      "Variables visible from the current scope:\n",
      "\n",
      "Theta1        X             m             rand_indices  y\n",
      "Theta2        ans           num           sel\n",
      "\n"
     ]
    }
   ],
   "source": [
    "who"
   ]
  },
  {
   "cell_type": "code",
   "execution_count": 18,
   "id": "d1a9d30a-72f3-489b-b5ef-ee7331bf87a2",
   "metadata": {},
   "outputs": [
    {
     "name": "stdout",
     "output_type": "stream",
     "text": [
      "ans =\n",
      "\n",
      "    25   401\n",
      "\n"
     ]
    }
   ],
   "source": [
    "% input = 400 + 1 (bias)\n",
    "% out = 25\n",
    "size(Theta1)"
   ]
  },
  {
   "cell_type": "code",
   "execution_count": 19,
   "id": "2d633f5f-cffa-4b62-9465-9674ea382616",
   "metadata": {},
   "outputs": [
    {
     "name": "stdout",
     "output_type": "stream",
     "text": [
      "ans =\n",
      "\n",
      "   10   26\n",
      "\n"
     ]
    }
   ],
   "source": [
    "% in = 25 + 1 (bias)\n",
    "% output = 10 (classes)\n",
    "size(Theta2)"
   ]
  },
  {
   "cell_type": "markdown",
   "id": "bb7fd7b7-83c9-4ea2-ae52-5016c0cc4cc7",
   "metadata": {},
   "source": [
    "![Neural network model](./neural_network.png)"
   ]
  },
  {
   "cell_type": "markdown",
   "id": "c85e78cf-1a94-4096-9184-f4a7fe9b123c",
   "metadata": {},
   "source": [
    "## 3. Feedforward and Cost Function: `nnCostFunction.m`"
   ]
  },
  {
   "cell_type": "markdown",
   "id": "61aeac83-c1e5-427f-babf-d2b403fa8218",
   "metadata": {},
   "source": [
    "### 3.1 Feedforward"
   ]
  },
  {
   "cell_type": "code",
   "execution_count": 20,
   "id": "c8cfc051-9515-488d-83dc-a40155ff5058",
   "metadata": {},
   "outputs": [],
   "source": [
    "function p = infer(Theta1, Theta2, X)\n",
    "    % Sizes\n",
    "    m = size(X, 1);\n",
    "    num_labels = size(Theta2, 1);\n",
    "    % Initialize return variable: predictions\n",
    "    p = zeros(size(X, 1), 1);\n",
    "    % Layer 1\n",
    "    a1 = [ones(size(X,1),1), X]; % 5000 x 401\n",
    "    % Layer 1 -> Layer 2\n",
    "    z2 = a1*Theta1'; % (5000 x 401) x (401 x 25) -> (5000 x 25)\n",
    "    a2 = sigmoid(z2);\n",
    "    a2 = [ones(size(a2,1),1), a2]; % bias -> (5000 x 26)\n",
    "    % Layer 2 -> Layer 3\n",
    "    z3 = a2*Theta2'; % (5000 x 26) x (26 x 10) -> (5000 x 10)\n",
    "    a3 = sigmoid(z3);\n",
    "    % Select class\n",
    "    [v, p] = max(a3,[],2); % maximum column-value (v) and column-index (p) for each row\n",
    "end"
   ]
  },
  {
   "cell_type": "code",
   "execution_count": 21,
   "id": "cf18bf36-6025-4dc8-ae39-6d0d8e19ae27",
   "metadata": {},
   "outputs": [],
   "source": [
    "p = infer(Theta1, Theta2, X);"
   ]
  },
  {
   "cell_type": "code",
   "execution_count": 23,
   "id": "89e01e4e-8617-44f9-9c30-1d27d9531ccd",
   "metadata": {},
   "outputs": [
    {
     "name": "stdout",
     "output_type": "stream",
     "text": [
      "ans = 0.9752\n"
     ]
    }
   ],
   "source": [
    "% Accuracy\n",
    "matches = y == p;\n",
    "sum(matches)/length(matches)"
   ]
  },
  {
   "cell_type": "markdown",
   "id": "7d09053c-d99c-4846-9a1b-827fe612bd26",
   "metadata": {},
   "source": [
    "### 3.2 Cost Function"
   ]
  },
  {
   "cell_type": "markdown",
   "id": "c9fb9c19-d1e5-4a3e-91d0-b2de9cabf4b2",
   "metadata": {},
   "source": [
    "$$ J(\\theta) = \\frac{1}{m} \\sum_{i=1}^{m}\\sum_{k=1}^{K} \\left[ - y_k^{(i)} \\log \\left( \\left( h_\\theta \\left( x^{(i)} \\right) \\right)_k \\right) - \\left( 1 - y_k^{(i)} \\right) \\log \\left( 1 - \\left( h_\\theta \\left( x^{(i)} \\right) \\right)_k \\right) \\right]$$\n",
    "\n",
    "$$y = [y_1, ..., y_k, ..., y_K]^T, \\,\\, y_k \\in \\{0,1\\}$$\n",
    "\n",
    "$$h = [h_1, ..., h_k, ..., h_K]^T, \\,\\, h_k \\in [0,1]$$\n",
    "\n",
    "$$h_k = a^{(L)}_k$$"
   ]
  },
  {
   "cell_type": "code",
   "execution_count": 24,
   "id": "70be0293-f0a1-4c6e-95d5-f4180875af0a",
   "metadata": {},
   "outputs": [],
   "source": [
    "function g = sigmoid(z)\n",
    "    g = 1.0 ./ (1.0 + exp(-z));\n",
    "end"
   ]
  },
  {
   "cell_type": "code",
   "execution_count": 26,
   "id": "12f599ce-266b-47a5-af7e-cd16962cf01b",
   "metadata": {},
   "outputs": [],
   "source": [
    "function h = feedForward(Theta1, Theta2, X)\n",
    "    % Sizes\n",
    "    m = size(X, 1);\n",
    "    num_labels = size(Theta2, 1);\n",
    "    % Initialize return variable: predictions\n",
    "    h = zeros(size(X, 1), 1);\n",
    "    % Layer 1\n",
    "    a1 = [ones(size(X,1),1), X]; % 5000 x 401\n",
    "    % Layer 1 -> Layer 2\n",
    "    z2 = a1*Theta1'; % (5000 x 401) x (401 x 25) -> (5000 x 25)\n",
    "    a2 = sigmoid(z2);\n",
    "    a2 = [ones(size(a2,1),1), a2]; % bias -> (5000 x 26)\n",
    "    % Layer 2 -> Layer 3\n",
    "    z3 = a2*Theta2'; % (5000 x 26) x (26 x 10) -> (5000 x 10)\n",
    "    h = sigmoid(z3);\n",
    "end"
   ]
  },
  {
   "cell_type": "code",
   "execution_count": 42,
   "id": "dfd6e0ec-3a94-411e-86dd-c80e1d050ded",
   "metadata": {},
   "outputs": [],
   "source": [
    "function [J, grad] = costFunction(nn_params, input_layer_size, hidden_layer_size, num_labels, X, y, lambda)\n",
    "    % Theta vector: nn_params\n",
    "    % Parameters are introduced unrolled, so we need to reshape the vector\n",
    "    % using input_layer_size, hidden_layer_size, num_labels\n",
    "    \n",
    "    % 25 x 401: hidden_layer_size x (input_layer_size + 1)\n",
    "    Theta1 = rreshape(nn_params(1:hidden_layer_size * (input_layer_size + 1)), hidden_layer_size, (input_layer_size + 1));\n",
    "    % 10 x 26: num_labels x (hidden_layer_size + 1)\n",
    "    Theta2 = reshape(nn_params((1 + (hidden_layer_size * (input_layer_size + 1))):end), num_labels, (hidden_layer_size + 1));\n",
    "                 \n",
    "    % Number of examples\n",
    "    m = size(X,1);\n",
    "    \n",
    "    % Initialize return variables\n",
    "    J = 0;\n",
    "    Theta1_grad = zeros(size(Theta1));\n",
    "    Theta2_grad = zeros(size(Theta2));\n",
    "    grad = [Theta1_grad(:) ; Theta2_grad(:)];\n",
    "    \n",
    "    %%% Feedforward\n",
    "    % h: 5000 x 10\n",
    "    h = feedForward(Theta1, Theta2, X);\n",
    "    \n",
    "    %%% Part 1: Cost\n",
    "    \n",
    "    % Re-arrange y: one-hot encoding\n",
    "    yh = zeros(size(y, 1), num_labels); % 5000 x 10\n",
    "    for k = 1:num_labels\n",
    "        yh(:,k) = y == k;\n",
    "    end\n",
    "    \n",
    "    % Error: for each class, then sum\n",
    "    e = zeros(1, num_labels);\n",
    "    for k = 1:num_labels\n",
    "        e(k) = -yh(:,k)'*log(h(:,k)) - (1 .- yh(:,k))'*log(1 .- h(:,k));\n",
    "    end\n",
    "    E = sum(e);\n",
    "    J = (1.0/m)*E;\n",
    "    \n",
    "    %%% Part 2: Regularization of the Cost Function\n",
    "    % TBD\n",
    "\n",
    "    %%% Part 3: Backpropagation & Gradient Computation\n",
    "    % TBD\n",
    "    \n",
    "    % Unroll gradients\n",
    "    grad = [Theta1_grad(:) ; Theta2_grad(:)];\n",
    "\n",
    "end"
   ]
  },
  {
   "cell_type": "markdown",
   "id": "9de30691-62ac-497f-afdf-a383403589c6",
   "metadata": {},
   "source": [
    "### 3.3 Regularized Cost Function"
   ]
  },
  {
   "cell_type": "markdown",
   "id": "c109c072-0eed-4c25-b98b-4cd8997698cf",
   "metadata": {},
   "source": [
    "$$ J(\\theta) = \\frac{1}{m} \\sum_{i=1}^{m}\\sum_{k=1}^{K} \\left[ - y_k^{(i)} \\log \\left( \\left( h_\\theta \\left( x^{(i)} \\right) \\right)_k \\right) - \\left( 1 - y_k^{(i)} \\right) \\log \\left( 1 - \\left( h_\\theta \\left( x^{(i)} \\right) \\right)_k \\right) \\right] + \\frac{\\lambda}{2 m} \\left[ \\sum_{j=1}^{25} \\sum_{k=1}^{400} \\left( \\Theta_{j,k}^{(1)} \\right)^2 + \\sum_{j=1}^{10} \\sum_{k=1}^{25} \\left( \\Theta_{j,k}^{(2)} \\right)^2 \\right] $$"
   ]
  },
  {
   "cell_type": "code",
   "execution_count": 48,
   "id": "a5bd671e-1c89-4cb5-928f-810f21e14c91",
   "metadata": {},
   "outputs": [],
   "source": [
    "function [J, grad] = costFunction(nn_params, input_layer_size, hidden_layer_size, num_labels, X, y, lambda)\n",
    "    % Theta vector: nn_params\n",
    "    % Parameters are introduced unrolled, so we need to reshape the vector\n",
    "    % using input_layer_size, hidden_layer_size, num_labels\n",
    "    \n",
    "    % 25 x 401: hidden_layer_size x (input_layer_size + 1)\n",
    "    Theta1 = reshape(nn_params(1:hidden_layer_size * (input_layer_size + 1)), hidden_layer_size, (input_layer_size + 1));\n",
    "    % 10 x 26: num_labels x (hidden_layer_size + 1)\n",
    "    Theta2 = reshape(nn_params((1 + (hidden_layer_size * (input_layer_size + 1))):end), num_labels, (hidden_layer_size + 1));\n",
    "                 \n",
    "    % Number of examples\n",
    "    m = size(X,1);\n",
    "    \n",
    "    % Initialize return variables\n",
    "    J = 0;\n",
    "    Theta1_grad = zeros(size(Theta1));\n",
    "    Theta2_grad = zeros(size(Theta2));\n",
    "    grad = [Theta1_grad(:) ; Theta2_grad(:)];\n",
    "    \n",
    "    %%% Feedforward\n",
    "    % h: 5000 x 10\n",
    "    h = zeros(size(X, 1), 1);\n",
    "    % Layer 1\n",
    "    a1 = [ones(size(X,1),1), X]; % 5000 x 401\n",
    "    % Layer 1 -> Layer 2\n",
    "    z2 = a1*Theta1'; % (5000 x 401) x (401 x 25) -> (5000 x 25)\n",
    "    a2 = sigmoid(z2);\n",
    "    a2 = [ones(size(a2,1),1), a2]; % bias -> (5000 x 26)\n",
    "    % Layer 2 -> Layer 3\n",
    "    z3 = a2*Theta2'; % (5000 x 26) x (26 x 10) -> (5000 x 10)\n",
    "    h = sigmoid(z3);\n",
    "    \n",
    "    %%% Part 1: Cost\n",
    "    \n",
    "    % Re-arrange y: one-hot encoding\n",
    "    yh = zeros(size(y, 1), num_labels); % 5000 x 10\n",
    "    for k = 1:num_labels\n",
    "        yh(:,k) = y == k;\n",
    "    end\n",
    "    \n",
    "    % Error: for each class, then sum\n",
    "    e = zeros(1, num_labels);\n",
    "    for k = 1:num_labels\n",
    "        e(k) = -yh(:,k)'*log(h(:,k)) - (1 .- yh(:,k))'*log(1 .- h(:,k));\n",
    "    end\n",
    "    E = sum(e);\n",
    "    J = (1.0/m)*E;\n",
    "    \n",
    "    %%% Part 2: Regularization of the Cost Function\n",
    "    t1 = Theta1(:,2:end)(:); % remove bias weight and unroll to column vector\n",
    "    t2 = Theta2(:,2:end)(:); % remove bias weight and unroll to column vector\n",
    "    R = (0.5*lambda/m) * (t1'*t1 + t2'*t2);\n",
    "    J = J + R;\n",
    "    \n",
    "    %%% Part 3: Backpropagation & Gradient Computation\n",
    "    % TBD\n",
    "\n",
    "    % Unroll gradients\n",
    "    grad = [Theta1_grad(:) ; Theta2_grad(:)];\n",
    "\n",
    "end"
   ]
  },
  {
   "cell_type": "code",
   "execution_count": null,
   "id": "1f44325a-0914-4955-a22d-f99c8313a8bd",
   "metadata": {},
   "outputs": [],
   "source": []
  }
 ],
 "metadata": {
  "kernelspec": {
   "display_name": "Octave",
   "language": "octave",
   "name": "octave"
  },
  "language_info": {
   "file_extension": ".m",
   "help_links": [
    {
     "text": "GNU Octave",
     "url": "https://www.gnu.org/software/octave/support.html"
    },
    {
     "text": "Octave Kernel",
     "url": "https://github.com/Calysto/octave_kernel"
    },
    {
     "text": "MetaKernel Magics",
     "url": "https://metakernel.readthedocs.io/en/latest/source/README.html"
    }
   ],
   "mimetype": "text/x-octave",
   "name": "octave",
   "version": "6.3.0"
  }
 },
 "nbformat": 4,
 "nbformat_minor": 5
}
