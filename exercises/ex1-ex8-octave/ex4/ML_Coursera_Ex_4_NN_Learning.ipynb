{
 "cells": [
  {
   "cell_type": "markdown",
   "id": "0815080d-02c0-46d5-9dd9-792cd8dabfef",
   "metadata": {},
   "source": [
    "# Exercise 4: Neural Networks Learning"
   ]
  },
  {
   "cell_type": "markdown",
   "id": "c49bf597-e654-40bf-9239-14518f2c0903",
   "metadata": {},
   "source": [
    "Hand-written digits recognition with neural networks, focussing on the backpropagation algorithm for gradient computation and learning. The digits are a subset of the [MNIST dataset](http://yann.lecun.com/exdb/mnist/) by Yann LeCun.\n",
    "\n",
    "Files provided by Coursera, located under `../exercises/ex1-ex8-octave/ex4`\n",
    "\n",
    "- `ex4.m` - Octave/MATLAB script that steps you through the exercise\n",
    "- `ex4data1.mat` - Training set of hand-written digits\n",
    "- `ex4weights.mat` - Initial weights for the neural network\n",
    "- `submit.m` - Submission script that sends your solutions to our servers\n",
    "- `displayData.m` - Function to help visualize the dataset\n",
    "- `fmincg.m` - Function minimization routine (similar to `fminunc`)\n",
    "- `sigmoid.m` - Sigmoid function\n",
    "- `computeNumericalGradient.m` - Numerically compute gradients\n",
    "- `checkNNGradients.m` - Function to help check your gradients\n",
    "- `debugInitializeWeights.m` - Function for initializing weights\n",
    "- `predict.m` - Neural network prediction function\n",
    "\n",
    "\n",
    "Files to complete:\n",
    "\n",
    "- `sigmoidGradient.m` - Compute the gradient of the sigmoid function\n",
    "- `randInitializeWeights.m` - Randomly initialize weights\n",
    "- `nnCostFunction.m` - Neural network cost function\n",
    "- `predict.m` - Neural network prediction function\n",
    "\n",
    "Workflow:\n",
    "\n",
    "- Download latest Octave version of exercise from Coursera\n",
    "- Complete code in exercise files following `ex4.pdf`\n",
    "- Whenever an exercise part is finished\n",
    "  - Check it with `ex4` in Octave terminal\n",
    "  - Create a submission token on Coursera (exercise submission page, it lasts 30 minutes)\n",
    "  - Execute `submit` in Octave terminal\n",
    "  - Introduce email and token\n",
    "  - Results appear\n",
    "\n",
    "**Overview of contents:**\n",
    "\n",
    "0. Setup: `gnuplot`\n",
    "1. A\n",
    "\n"
   ]
  },
  {
   "cell_type": "markdown",
   "id": "232abbd1-9d70-4b62-83ec-fc7855fd58e4",
   "metadata": {},
   "source": [
    "## 0. Setup: `gnuplot`"
   ]
  },
  {
   "cell_type": "code",
   "execution_count": 89,
   "id": "d78fb4db-bbb2-4c14-b23c-deb7b526983e",
   "metadata": {},
   "outputs": [],
   "source": [
    "graphics_toolkit (\"gnuplot\");"
   ]
  },
  {
   "cell_type": "code",
   "execution_count": 90,
   "id": "906c4d80-85a0-4d04-a342-7af15e6f5d8e",
   "metadata": {},
   "outputs": [],
   "source": [
    "%plot -b inline:gnuplot"
   ]
  },
  {
   "cell_type": "markdown",
   "id": "07bb9831-2c73-4167-8375-d893a7ea574e",
   "metadata": {},
   "source": [
    "## 1. Dataset Loading & Visualization"
   ]
  },
  {
   "cell_type": "code",
   "execution_count": 91,
   "id": "047e0ff7-1088-42df-8e3c-e4b9f55f7e09",
   "metadata": {},
   "outputs": [],
   "source": [
    "% Load saved matrices from file\n",
    "load('ex4data1.mat');\n",
    "% The matrices X and y will now be in your Octave environment"
   ]
  },
  {
   "cell_type": "code",
   "execution_count": 92,
   "id": "80f15950-b599-4dd9-a645-56d153f2ea57",
   "metadata": {},
   "outputs": [
    {
     "name": "stdout",
     "output_type": "stream",
     "text": [
      "Variables visible from the current scope:\n",
      "\n",
      "J                  ans                lambda             rand_indices\n",
      "Theta1             e                  m                  sel\n",
      "Theta1_grad        grad               matches            t1\n",
      "Theta2             h                  nn_params          t2\n",
      "Theta2_grad        hidden_layer_size  num                y\n",
      "X                  input_layer_size   num_labels         yh\n",
      "a                  k                  p\n",
      "\n"
     ]
    }
   ],
   "source": [
    "who"
   ]
  },
  {
   "cell_type": "code",
   "execution_count": 93,
   "id": "d796a402-3c54-4a6e-a382-4a7da686a470",
   "metadata": {},
   "outputs": [
    {
     "name": "stdout",
     "output_type": "stream",
     "text": [
      "ans =\n",
      "\n",
      "   5000    400\n",
      "\n"
     ]
    }
   ],
   "source": [
    "% X: 5000 examples of unrolled 20x20 pixel images containing hand-written digits\n",
    "% pixels contain grayscale intensities\n",
    "size(X)"
   ]
  },
  {
   "cell_type": "code",
   "execution_count": 94,
   "id": "24030b32-8113-4802-9dec-adc52f38c23d",
   "metadata": {},
   "outputs": [
    {
     "name": "stdout",
     "output_type": "stream",
     "text": [
      "ans =\n",
      "\n",
      "   5000      1\n",
      "\n"
     ]
    }
   ],
   "source": [
    "% y: true label for each example: 1-9, 10:0 (label 10 means digit 0)\n",
    "size(y)"
   ]
  },
  {
   "cell_type": "code",
   "execution_count": 95,
   "id": "c12217c8-5898-4097-8c6a-95aacb437c58",
   "metadata": {},
   "outputs": [
    {
     "name": "stdout",
     "output_type": "stream",
     "text": [
      "   1.047483  -0.057515\n",
      "   10    1\n"
     ]
    }
   ],
   "source": [
    "% Check min and max values\n",
    "disp([max(X(1,:)),min(X(1,:))])\n",
    "disp([max(y(:)),min(y(:))])"
   ]
  },
  {
   "cell_type": "code",
   "execution_count": 96,
   "id": "6864ffbe-6878-43c5-a035-114803e04ef9",
   "metadata": {},
   "outputs": [],
   "source": [
    "% Randomly select 100 data points to display\n",
    "m = size(X, 1);\n",
    "rand_indices = randperm(m);\n",
    "num = 10; % num^2 images are visualized in a tiled canvas\n",
    "sel = X(rand_indices(1:num^2), :);"
   ]
  },
  {
   "cell_type": "code",
   "execution_count": 97,
   "id": "12ab266d-b935-4cb7-8cf1-7dc8aa8883a4",
   "metadata": {},
   "outputs": [
    {
     "data": {
      "image/png": "[encoded data removed]",
      "text/plain": [
       "<IPython.core.display.Image object>"
      ]
     },
     "metadata": {},
     "output_type": "display_data"
    }
   ],
   "source": [
    "% Function provided in the course\n",
    "% See how sel is created\n",
    "% Otherwise, the numer of tiles in the image width can be passed as param (see function)\n",
    "displayData(sel);"
   ]
  },
  {
   "cell_type": "markdown",
   "id": "9d34e464-d275-49d6-bb90-39106652e84a",
   "metadata": {},
   "source": [
    "## 2. Model"
   ]
  },
  {
   "cell_type": "code",
   "execution_count": 98,
   "id": "855c17f6-2835-4dad-bcad-3c336de98f39",
   "metadata": {},
   "outputs": [],
   "source": [
    "% Load saved matrices from file\n",
    "load('ex4weights.mat');\n",
    "% The matrices Theta1 and Theta2 will now be in your workspace\n",
    "% Theta1 has size 25 x 401\n",
    "% Theta2 has size 10 x 26"
   ]
  },
  {
   "cell_type": "code",
   "execution_count": 99,
   "id": "4cae8a63-b049-4c49-b707-a88de78b30d5",
   "metadata": {},
   "outputs": [
    {
     "name": "stdout",
     "output_type": "stream",
     "text": [
      "Variables visible from the current scope:\n",
      "\n",
      "J                  ans                lambda             rand_indices\n",
      "Theta1             e                  m                  sel\n",
      "Theta1_grad        grad               matches            t1\n",
      "Theta2             h                  nn_params          t2\n",
      "Theta2_grad        hidden_layer_size  num                y\n",
      "X                  input_layer_size   num_labels         yh\n",
      "a                  k                  p\n",
      "\n"
     ]
    }
   ],
   "source": [
    "who"
   ]
  },
  {
   "cell_type": "code",
   "execution_count": 100,
   "id": "d1a9d30a-72f3-489b-b5ef-ee7331bf87a2",
   "metadata": {},
   "outputs": [
    {
     "name": "stdout",
     "output_type": "stream",
     "text": [
      "ans =\n",
      "\n",
      "    25   401\n",
      "\n"
     ]
    }
   ],
   "source": [
    "% input = 400 + 1 (bias)\n",
    "% out = 25\n",
    "size(Theta1)"
   ]
  },
  {
   "cell_type": "code",
   "execution_count": 101,
   "id": "2d633f5f-cffa-4b62-9465-9674ea382616",
   "metadata": {},
   "outputs": [
    {
     "name": "stdout",
     "output_type": "stream",
     "text": [
      "ans =\n",
      "\n",
      "   10   26\n",
      "\n"
     ]
    }
   ],
   "source": [
    "% in = 25 + 1 (bias)\n",
    "% output = 10 (classes)\n",
    "size(Theta2)"
   ]
  },
  {
   "cell_type": "markdown",
   "id": "bb7fd7b7-83c9-4ea2-ae52-5016c0cc4cc7",
   "metadata": {},
   "source": [
    "![Neural network model](./neural_network.png)"
   ]
  },
  {
   "cell_type": "markdown",
   "id": "c85e78cf-1a94-4096-9184-f4a7fe9b123c",
   "metadata": {},
   "source": [
    "## 3. Feedforward and Cost Function: `nnCostFunction.m`"
   ]
  },
  {
   "cell_type": "markdown",
   "id": "61aeac83-c1e5-427f-babf-d2b403fa8218",
   "metadata": {},
   "source": [
    "### 3.1 Feedforward"
   ]
  },
  {
   "cell_type": "code",
   "execution_count": 102,
   "id": "c8cfc051-9515-488d-83dc-a40155ff5058",
   "metadata": {},
   "outputs": [],
   "source": [
    "function p = infer(Theta1, Theta2, X)\n",
    "    % Sizes\n",
    "    m = size(X, 1);\n",
    "    num_labels = size(Theta2, 1);\n",
    "    % Initialize return variable: predictions\n",
    "    p = zeros(size(X, 1), 1);\n",
    "    % Layer 1\n",
    "    a1 = [ones(size(X,1),1), X]; % 5000 x 401\n",
    "    % Layer 1 -> Layer 2\n",
    "    z2 = a1*Theta1'; % (5000 x 401) x (401 x 25) -> (5000 x 25)\n",
    "    a2 = sigmoid(z2);\n",
    "    a2 = [ones(size(a2,1),1), a2]; % bias -> (5000 x 26)\n",
    "    % Layer 2 -> Layer 3\n",
    "    z3 = a2*Theta2'; % (5000 x 26) x (26 x 10) -> (5000 x 10)\n",
    "    a3 = sigmoid(z3);\n",
    "    % Select class\n",
    "    [v, p] = max(a3,[],2); % maximum column-value (v) and column-index (p) for each row\n",
    "end"
   ]
  },
  {
   "cell_type": "code",
   "execution_count": 103,
   "id": "cf18bf36-6025-4dc8-ae39-6d0d8e19ae27",
   "metadata": {},
   "outputs": [],
   "source": [
    "p = infer(Theta1, Theta2, X);"
   ]
  },
  {
   "cell_type": "code",
   "execution_count": 104,
   "id": "89e01e4e-8617-44f9-9c30-1d27d9531ccd",
   "metadata": {},
   "outputs": [
    {
     "name": "stdout",
     "output_type": "stream",
     "text": [
      "ans = 0.9752\n"
     ]
    }
   ],
   "source": [
    "% Accuracy\n",
    "matches = y == p;\n",
    "sum(matches)/length(matches)"
   ]
  },
  {
   "cell_type": "markdown",
   "id": "7d09053c-d99c-4846-9a1b-827fe612bd26",
   "metadata": {},
   "source": [
    "### 3.2 Cost Function"
   ]
  },
  {
   "cell_type": "markdown",
   "id": "c9fb9c19-d1e5-4a3e-91d0-b2de9cabf4b2",
   "metadata": {},
   "source": [
    "$$ J(\\theta) = \\frac{1}{m} \\sum_{i=1}^{m}\\sum_{k=1}^{K} \\left[ - y_k^{(i)} \\log \\left( \\left( h_\\theta \\left( x^{(i)} \\right) \\right)_k \\right) - \\left( 1 - y_k^{(i)} \\right) \\log \\left( 1 - \\left( h_\\theta \\left( x^{(i)} \\right) \\right)_k \\right) \\right]$$\n",
    "\n",
    "$$y = [y_1, ..., y_k, ..., y_K]^T, \\,\\, y_k \\in \\{0,1\\}$$\n",
    "\n",
    "$$h = [h_1, ..., h_k, ..., h_K]^T, \\,\\, h_k \\in [0,1]$$\n",
    "\n",
    "$$h_k = a^{(L)}_k$$"
   ]
  },
  {
   "cell_type": "code",
   "execution_count": 105,
   "id": "70be0293-f0a1-4c6e-95d5-f4180875af0a",
   "metadata": {},
   "outputs": [],
   "source": [
    "function g = sigmoid(z)\n",
    "    g = 1.0 ./ (1.0 + exp(-z));\n",
    "end"
   ]
  },
  {
   "cell_type": "code",
   "execution_count": 106,
   "id": "12f599ce-266b-47a5-af7e-cd16962cf01b",
   "metadata": {},
   "outputs": [],
   "source": [
    "function h = feedForward(Theta1, Theta2, X)\n",
    "    % Sizes\n",
    "    m = size(X, 1);\n",
    "    num_labels = size(Theta2, 1);\n",
    "    % Initialize return variable: predictions\n",
    "    h = zeros(size(X, 1), 1);\n",
    "    % Layer 1\n",
    "    a1 = [ones(size(X,1),1), X]; % 5000 x 401\n",
    "    % Layer 1 -> Layer 2\n",
    "    z2 = a1*Theta1'; % (5000 x 401) x (401 x 25) -> (5000 x 25)\n",
    "    a2 = sigmoid(z2);\n",
    "    a2 = [ones(size(a2,1),1), a2]; % bias -> (5000 x 26)\n",
    "    % Layer 2 -> Layer 3\n",
    "    z3 = a2*Theta2'; % (5000 x 26) x (26 x 10) -> (5000 x 10)\n",
    "    h = sigmoid(z3);\n",
    "end"
   ]
  },
  {
   "cell_type": "code",
   "execution_count": 107,
   "id": "dfd6e0ec-3a94-411e-86dd-c80e1d050ded",
   "metadata": {},
   "outputs": [],
   "source": [
    "function [J, grad] = costFunction(nn_params, input_layer_size, hidden_layer_size, num_labels, X, y, lambda)\n",
    "    % Theta vector: nn_params\n",
    "    % Parameters are introduced unrolled, so we need to reshape the vector\n",
    "    % using input_layer_size, hidden_layer_size, num_labels\n",
    "    \n",
    "    % 25 x 401: hidden_layer_size x (input_layer_size + 1)\n",
    "    Theta1 = reshape(nn_params(1:hidden_layer_size * (input_layer_size + 1)), hidden_layer_size, (input_layer_size + 1));\n",
    "    % 10 x 26: num_labels x (hidden_layer_size + 1)\n",
    "    Theta2 = reshape(nn_params((1 + (hidden_layer_size * (input_layer_size + 1))):end), num_labels, (hidden_layer_size + 1));\n",
    "                 \n",
    "    % Number of examples\n",
    "    m = size(X,1);\n",
    "    \n",
    "    % Initialize return variables\n",
    "    J = 0;\n",
    "    Theta1_grad = zeros(size(Theta1));\n",
    "    Theta2_grad = zeros(size(Theta2));\n",
    "    grad = [Theta1_grad(:) ; Theta2_grad(:)];\n",
    "    \n",
    "    %%% Feedforward\n",
    "    % h: 5000 x 10\n",
    "    h = feedForward(Theta1, Theta2, X);\n",
    "    \n",
    "    %%% Part 1: Cost\n",
    "    \n",
    "    % Re-arrange y: one-hot encoding\n",
    "    yh = zeros(size(y, 1), num_labels); % 5000 x 10\n",
    "    for k = 1:num_labels\n",
    "        yh(:,k) = y == k;\n",
    "    end\n",
    "    \n",
    "    % Error: for each class, then sum\n",
    "    e = zeros(1, num_labels);\n",
    "    for k = 1:num_labels\n",
    "        e(k) = -yh(:,k)'*log(h(:,k)) - (1 .- yh(:,k))'*log(1 .- h(:,k));\n",
    "    end\n",
    "    E = sum(e);\n",
    "    J = (1.0/m)*E;\n",
    "    \n",
    "    %%% Part 2: Regularization of the Cost Function\n",
    "    % TBD\n",
    "\n",
    "    %%% Part 3: Backpropagation & Gradient Computation\n",
    "    % TBD\n",
    "    \n",
    "    %%% Part 4: Regularization Component of the Gradient\n",
    "    % TBD\n",
    "    \n",
    "    % Unroll gradients\n",
    "    grad = [Theta1_grad(:) ; Theta2_grad(:)];\n",
    "\n",
    "end"
   ]
  },
  {
   "cell_type": "code",
   "execution_count": 108,
   "id": "016ef86b-edb6-4268-860e-3e72a511d9a6",
   "metadata": {},
   "outputs": [
    {
     "name": "stdout",
     "output_type": "stream",
     "text": [
      "0.2876\n"
     ]
    }
   ],
   "source": [
    "nn_params = [Theta1(:) ; Theta2(:)];\n",
    "input_layer_size  = 400;  % 20x20 Input Images of Digits\n",
    "hidden_layer_size = 25;   % 25 hidden units\n",
    "num_labels = 10;          % 10 labels, from 1 to 10 \n",
    "lambda = 3;\n",
    "[J, grad] = costFunction(nn_params, input_layer_size, hidden_layer_size, num_labels, X, y, lambda);\n",
    "disp(J);"
   ]
  },
  {
   "cell_type": "markdown",
   "id": "9de30691-62ac-497f-afdf-a383403589c6",
   "metadata": {},
   "source": [
    "### 3.3 Regularized Cost Function"
   ]
  },
  {
   "cell_type": "markdown",
   "id": "c109c072-0eed-4c25-b98b-4cd8997698cf",
   "metadata": {},
   "source": [
    "$$ J(\\theta) = \\frac{1}{m} \\sum_{i=1}^{m}\\sum_{k=1}^{K} \\left[ - y_k^{(i)} \\log \\left( \\left( h_\\theta \\left( x^{(i)} \\right) \\right)_k \\right) - \\left( 1 - y_k^{(i)} \\right) \\log \\left( 1 - \\left( h_\\theta \\left( x^{(i)} \\right) \\right)_k \\right) \\right] + \\frac{\\lambda}{2 m} \\left[ \\sum_{j=1}^{25} \\sum_{k=1}^{400} \\left( \\Theta_{j,k}^{(1)} \\right)^2 + \\sum_{j=1}^{10} \\sum_{k=1}^{25} \\left( \\Theta_{j,k}^{(2)} \\right)^2 \\right] $$"
   ]
  },
  {
   "cell_type": "markdown",
   "id": "1a656409-6055-41c5-8f71-be08a54fc14b",
   "metadata": {},
   "source": [
    "Same function `costFunction` as before, but extended with regularization."
   ]
  },
  {
   "cell_type": "code",
   "execution_count": 109,
   "id": "a5bd671e-1c89-4cb5-928f-810f21e14c91",
   "metadata": {},
   "outputs": [],
   "source": [
    "function [J, grad] = costFunction(nn_params, input_layer_size, hidden_layer_size, num_labels, X, y, lambda)\n",
    "    % Theta vector: nn_params\n",
    "    % Parameters are introduced unrolled, so we need to reshape the vector\n",
    "    % using input_layer_size, hidden_layer_size, num_labels\n",
    "    \n",
    "    % 25 x 401: hidden_layer_size x (input_layer_size + 1)\n",
    "    Theta1 = reshape(nn_params(1:hidden_layer_size * (input_layer_size + 1)), hidden_layer_size, (input_layer_size + 1));\n",
    "    % 10 x 26: num_labels x (hidden_layer_size + 1)\n",
    "    Theta2 = reshape(nn_params((1 + (hidden_layer_size * (input_layer_size + 1))):end), num_labels, (hidden_layer_size + 1));\n",
    "                 \n",
    "    % Number of examples\n",
    "    m = size(X,1);\n",
    "    \n",
    "    % Initialize return variables\n",
    "    J = 0;\n",
    "    Theta1_grad = zeros(size(Theta1));\n",
    "    Theta2_grad = zeros(size(Theta2));\n",
    "    grad = [Theta1_grad(:) ; Theta2_grad(:)];\n",
    "    \n",
    "    %%% Feedforward\n",
    "    % h: 5000 x 10\n",
    "    h = zeros(size(X, 1), 1);\n",
    "    % Layer 1\n",
    "    a1 = [ones(size(X,1),1), X]; % 5000 x 401\n",
    "    % Layer 1 -> Layer 2\n",
    "    z2 = a1*Theta1'; % (5000 x 401) x (401 x 25) -> (5000 x 25)\n",
    "    a2 = sigmoid(z2);\n",
    "    a2 = [ones(size(a2,1),1), a2]; % bias -> (5000 x 26)\n",
    "    % Layer 2 -> Layer 3\n",
    "    z3 = a2*Theta2'; % (5000 x 26) x (26 x 10) -> (5000 x 10)\n",
    "    h = sigmoid(z3);\n",
    "    \n",
    "    %%% Part 1: Cost\n",
    "    \n",
    "    % Re-arrange y: one-hot encoding\n",
    "    yh = zeros(size(y, 1), num_labels); % 5000 x 10\n",
    "    for k = 1:num_labels\n",
    "        yh(:,k) = y == k;\n",
    "    end\n",
    "    \n",
    "    % Error: for each class, then sum\n",
    "    e = zeros(1, num_labels);\n",
    "    for k = 1:num_labels\n",
    "        e(k) = -yh(:,k)'*log(h(:,k)) - (1 .- yh(:,k))'*log(1 .- h(:,k));\n",
    "    end\n",
    "    E = sum(e);\n",
    "    J = (1.0/m)*E;\n",
    "    \n",
    "    %%% Part 2: Regularization of the Cost Function\n",
    "    t1 = Theta1(:,2:end)(:); % remove bias weight and unroll to column vector\n",
    "    t2 = Theta2(:,2:end)(:); % remove bias weight and unroll to column vector\n",
    "    R = (0.5*lambda/m) * (t1'*t1 + t2'*t2);\n",
    "    J = J + R;\n",
    "    \n",
    "    %%% Part 3: Backpropagation & Gradient Computation\n",
    "    % TBD\n",
    "\n",
    "    %%% Part 4: Regularization Component of the Gradient\n",
    "    % TBD\n",
    "    \n",
    "    % Unroll gradients\n",
    "    grad = [Theta1_grad(:) ; Theta2_grad(:)];\n",
    "\n",
    "end"
   ]
  },
  {
   "cell_type": "code",
   "execution_count": 110,
   "id": "5d09a79e-a302-455c-b9a6-3786d15a5d5c",
   "metadata": {},
   "outputs": [
    {
     "name": "stdout",
     "output_type": "stream",
     "text": [
      "0.5761\n"
     ]
    }
   ],
   "source": [
    "nn_params = [Theta1(:) ; Theta2(:)];\n",
    "input_layer_size  = 400;  % 20x20 Input Images of Digits\n",
    "hidden_layer_size = 25;   % 25 hidden units\n",
    "num_labels = 10;          % 10 labels, from 1 to 10 \n",
    "lambda = 3;\n",
    "[J, grad] = costFunction(nn_params, input_layer_size, hidden_layer_size, num_labels, X, y, lambda);\n",
    "disp(J);"
   ]
  },
  {
   "cell_type": "markdown",
   "id": "02bf3ea1-8ca3-4eac-b566-3c557c4198eb",
   "metadata": {},
   "source": [
    "## 4. Backpropagation: `nnCostFunction.m`"
   ]
  },
  {
   "cell_type": "markdown",
   "id": "1f06a596-2bcb-4edd-80ac-792a4b9ee9dc",
   "metadata": {},
   "source": [
    "In this part, the same file `nnCostFunction.m` from the exercise folder needs to be edited/extended.\n",
    "Similarly, the same notebook function `costFunction` will be extended."
   ]
  },
  {
   "cell_type": "markdown",
   "id": "5d37381e-eff0-4d3f-ac6f-6c37c0cb43ce",
   "metadata": {},
   "source": [
    "### 4.1 Sigmoid Gradient: `sigmoidGradient.m`"
   ]
  },
  {
   "cell_type": "markdown",
   "id": "71ada6d3-4606-480a-972b-6e9b66f5fed2",
   "metadata": {},
   "source": [
    "$$ g'(z) = \\frac{d}{dz} g(z) = g(z)\\left(1-g(z)\\right) $$\n",
    "\n",
    "$$ \\text{sigmoid}(z) = g(z) = \\frac{1}{1 + e^{-z}} $$"
   ]
  },
  {
   "cell_type": "code",
   "execution_count": 111,
   "id": "f09304a5-b7dc-4a41-bfde-cd5f2f5ede62",
   "metadata": {},
   "outputs": [],
   "source": [
    "function g = sigmoidGrad(z)\n",
    "    g = zeros(size(z));\n",
    "    g = sigmoid(z).*(1 .- sigmoid(z));\n",
    "end"
   ]
  },
  {
   "cell_type": "markdown",
   "id": "5777ef06-8d17-4e9b-a778-4a7a0d54bc82",
   "metadata": {},
   "source": [
    "### 4.2 Random Initialization: `randInitializeWeights.m`"
   ]
  },
  {
   "cell_type": "markdown",
   "id": "466f5ba3-a252-4e57-9573-da6b87aaef02",
   "metadata": {},
   "source": [
    "**Xavier Glorot Initialization** for symmetry breaking for each layer $l$ or weight matrix $\\theta^{(l)}$ should be a uniform distrbution with the following radius $\\epsilon$, function of the number of units $s$ in adjacent layers to $\\theta^{(l)}$:\n",
    "\n",
    "$$ \\epsilon_{init} = \\frac{\\sqrt{6}}{\\sqrt{s_l + s_{l+1}}} $$\n",
    "\n",
    "$$ [-\\epsilon_{init}, \\epsilon_{init}] $$"
   ]
  },
  {
   "cell_type": "code",
   "execution_count": 112,
   "id": "4c8d4c1c-9e85-45ed-8a24-46ea9fec1e15",
   "metadata": {},
   "outputs": [],
   "source": [
    "% However, the epsilon value is fixed to 0.12 in the exercises\n",
    "function W = randInitializeWeights(L_in, L_out)\n",
    "    epsilon_init = 0.12;\n",
    "    W = rand(L_out, 1 + L_in)*2*epsilon_init;\n",
    "    W = W - epsilon_init;\n",
    "end"
   ]
  },
  {
   "cell_type": "markdown",
   "id": "ee4a9f00-6749-4234-8c67-5e2749e2ecc7",
   "metadata": {},
   "source": [
    "### 4.3 Backpropagation"
   ]
  },
  {
   "cell_type": "markdown",
   "id": "aa3ca370-4c7f-4682-9a50-1933e3586a0f",
   "metadata": {},
   "source": [
    "![Backpropagation](./ex4-backpropagation.png)"
   ]
  },
  {
   "cell_type": "markdown",
   "id": "77f1c467-46f5-4a95-8178-44d18a11b5c7",
   "metadata": {},
   "source": [
    "$$\\delta_k^{(3)} = \\left(a_k^{(3)} - y_k \\right)$$\n",
    "\n",
    "$$ \\delta^{(2)} = \\left( \\Theta^{(2)} \\right)^T \\delta^{(3)} * g'\\left(z^{(2)} \\right)$$\n",
    "\n",
    "$$ \\Delta^{(l)} = \\Delta^{(l)} + \\delta^{(l+1)} (a^{(l)})^{(T)} $$\n",
    "\n",
    "$$ \\frac{\\partial}{\\partial \\Theta_{ij}^{(l)}} J(\\Theta) = D_{ij}^{(l)} = \\frac{1}{m} \\Delta_{ij}^{(l)}$$\n",
    "\n",
    "Notes:\n",
    "- $\\delta^{(l)}$ bias component needs to be removed, if there is any.\n",
    "- $\\Delta^{(l)}$ has the same size as $\\Theta^{(l)}$, including bias weights.\n",
    "- $a$, $z$, $\\delta$, $\\Delta$ are computed in a `for`-loop iterating each example: for each example one forward pass first, then error backpropagation, gradient accumulation; after looping all examples the accumulated gradient is normalized ($M$) and the regularization component can be added.\n"
   ]
  },
  {
   "cell_type": "markdown",
   "id": "3105dc73-ccd6-47ff-98f4-497e6142d6bb",
   "metadata": {},
   "source": [
    "Same function `costFunction` as before, but extended to contain backpropagation."
   ]
  },
  {
   "cell_type": "code",
   "execution_count": 113,
   "id": "9f4245ec-c93c-4342-b265-497da4726702",
   "metadata": {},
   "outputs": [],
   "source": [
    "function [J, grad] = costFunction(nn_params, input_layer_size, hidden_layer_size, num_labels, X, y, lambda)\n",
    "    % Theta vector: nn_params\n",
    "    % Parameters are introduced unrolled, so we need to reshape the vector\n",
    "    % using input_layer_size, hidden_layer_size, num_labels\n",
    "    \n",
    "    % 25 x 401: hidden_layer_size x (input_layer_size + 1)\n",
    "    Theta1 = reshape(nn_params(1:hidden_layer_size * (input_layer_size + 1)), hidden_layer_size, (input_layer_size + 1));\n",
    "    % 10 x 26: num_labels x (hidden_layer_size + 1)\n",
    "    Theta2 = reshape(nn_params((1 + (hidden_layer_size * (input_layer_size + 1))):end), num_labels, (hidden_layer_size + 1));\n",
    "                 \n",
    "    % Number of examples\n",
    "    m = size(X,1);\n",
    "    \n",
    "    % Initialize return variables\n",
    "    J = 0;\n",
    "    Theta1_grad = zeros(size(Theta1));\n",
    "    Theta2_grad = zeros(size(Theta2));\n",
    "    grad = [Theta1_grad(:) ; Theta2_grad(:)];\n",
    "    \n",
    "    %%% Feedforward\n",
    "    % h: 5000 x 10\n",
    "    h = zeros(size(X, 1), 1);\n",
    "    % Layer 1\n",
    "    a1 = [ones(size(X,1),1), X]; % 5000 x 401\n",
    "    % Layer 1 -> Layer 2\n",
    "    z2 = a1*Theta1'; % (5000 x 401) x (401 x 25) -> (5000 x 25)\n",
    "    a2 = sigmoid(z2);\n",
    "    a2 = [ones(size(a2,1),1), a2]; % bias -> (5000 x 26)\n",
    "    % Layer 2 -> Layer 3\n",
    "    z3 = a2*Theta2'; % (5000 x 26) x (26 x 10) -> (5000 x 10)\n",
    "    h = sigmoid(z3);\n",
    "    \n",
    "    %%% Part 1: Cost\n",
    "    \n",
    "    % Re-arrange y: one-hot encoding\n",
    "    yh = zeros(size(y, 1), num_labels); % 5000 x 10\n",
    "    for k = 1:num_labels\n",
    "        yh(:,k) = y == k;\n",
    "    end\n",
    "    \n",
    "    % Error: for each class, then sum\n",
    "    e = zeros(1, num_labels);\n",
    "    for k = 1:num_labels\n",
    "        e(k) = -yh(:,k)'*log(h(:,k)) - (1 .- yh(:,k))'*log(1 .- h(:,k));\n",
    "    end\n",
    "    E = sum(e);\n",
    "    J = (1.0/m)*E;\n",
    "    \n",
    "    %%% Part 2: Regularization of the Cost Function\n",
    "    t1 = Theta1(:,2:end)(:); % remove bias weight and unroll to column vector\n",
    "    t2 = Theta2(:,2:end)(:); % remove bias weight and unroll to column vector\n",
    "    R = (0.5*lambda/m) * (t1'*t1 + t2'*t2);\n",
    "    J = J + R;\n",
    "    \n",
    "    %%% Part 3: Backpropagation & Gradient Computation\n",
    "    % We need to perform backpropagation in a for loop iterating examples\n",
    "    % Note that I use transposed vectors:\n",
    "    % in the script, column vectors are used,\n",
    "    % but I take example rows from the X matrix,\n",
    "    % and operate with them without converting them in column vectors\n",
    "    D1 = zeros(size(Theta1));\n",
    "    D2 = zeros(size(Theta2));\n",
    "    for i = 1:m\n",
    "        % Feedfoward\n",
    "        a1 = [1, X(i,:)]; % 1 x 401\n",
    "        z2 = a1*Theta1'; % (1 x 401) x (401 x 25) -> (1 x 25)\n",
    "        a2 = sigmoid(z2);\n",
    "        a2 = [ones(size(a2,1),1), a2]; % bias -> (1 x 26)\n",
    "        z3 = a2*Theta2'; % (1 x 26) x (26 x 10) -> (1 x 10)\n",
    "        h = sigmoid(z3); % 1 x 10\n",
    "        % Error backpropagation\n",
    "        d3 = h - yh(i,:); % 1 x 10\n",
    "        d2 = Theta2' * d3' .* [1, sigmoidGrad(z2)]'; % (26 x 10) x (10 x 1) .x (26, 1)-> \n",
    "        % d1: there is no such thing, because we have the inputs in layer 1\n",
    "        d2 = d2(2:end)'; % remove the bias component, transpose: 1 x 25\n",
    "        % Gradient computation: Accumulate gradients\n",
    "        D1 = D1 + d2'*a1; % (25 x 1) x (1 x 401) -> (25 x 401)\n",
    "        D2 = D2 + d3'*a2; % (10 x 1) x (1 x 26) -> (10 x 26) \n",
    "    end\n",
    "    % Normalize\n",
    "    Theta1_grad = (1 / m) * D1;\n",
    "    Theta2_grad = (1 / m) * D2;\n",
    "    \n",
    "    %%% Part 4: Regularization Component of the Gradient\n",
    "    % TBD\n",
    "\n",
    "    % Unroll gradients\n",
    "    grad = [Theta1_grad(:) ; Theta2_grad(:)];\n",
    "\n",
    "end"
   ]
  },
  {
   "cell_type": "code",
   "execution_count": 114,
   "id": "3eab207f-5a57-4a1c-a3a7-a78b04f2b02a",
   "metadata": {},
   "outputs": [
    {
     "name": "stdout",
     "output_type": "stream",
     "text": [
      "0.5761\n"
     ]
    }
   ],
   "source": [
    "nn_params = [Theta1(:) ; Theta2(:)];\n",
    "input_layer_size  = 400;  % 20x20 Input Images of Digits\n",
    "hidden_layer_size = 25;   % 25 hidden units\n",
    "num_labels = 10;          % 10 labels, from 1 to 10 \n",
    "lambda = 3;\n",
    "[J, grad] = costFunction(nn_params, input_layer_size, hidden_layer_size, num_labels, X, y, lambda);\n",
    "disp(J);"
   ]
  },
  {
   "cell_type": "markdown",
   "id": "d29deb46-ceda-4eb3-991c-0f26b47ca07e",
   "metadata": {},
   "source": [
    "### 4.4 Gradient Checking: `computeNumericalGradient.m`"
   ]
  },
  {
   "cell_type": "markdown",
   "id": "3cadb33f-5840-42fa-99f9-c809c65c5b61",
   "metadata": {},
   "source": [
    "$$ f_i\\left( \\theta \\right) \\approx \\frac{J\\left( \\theta^{(i+)}\\right) - J\\left( \\theta^{(i-)} \\right)}{2\\epsilon} $$\n",
    "\n",
    "$$ \\theta^{(i+)} = \\theta + [0, ..., \\epsilon, ..., 0] $$ \n",
    "$$ \\theta^{(i-)} = \\theta - [0, ..., \\epsilon, ..., 0] $$ \n",
    "\n",
    "$$ \\epsilon = 10^{-4} $$"
   ]
  },
  {
   "cell_type": "code",
   "execution_count": 115,
   "id": "bd4c76d7-d1c0-4f7e-a9c8-e478a5a34baa",
   "metadata": {},
   "outputs": [],
   "source": [
    "function numgrad = computeNumericalGradient(J, theta)\n",
    "    numgrad = zeros(size(theta));\n",
    "    perturb = zeros(size(theta));\n",
    "    e = 1e-4;\n",
    "    for p = 1:numel(theta)\n",
    "        % Set perturbation vector\n",
    "        perturb(p) = e;\n",
    "        loss1 = J(theta - perturb);\n",
    "        loss2 = J(theta + perturb);\n",
    "        % Compute Numerical Gradient\n",
    "        numgrad(p) = (loss2 - loss1) / (2*e);\n",
    "        perturb(p) = 0;\n",
    "    end\n",
    "end"
   ]
  },
  {
   "cell_type": "markdown",
   "id": "d31cbf17-4c35-4c78-a09e-82f18743cc32",
   "metadata": {},
   "source": [
    "### 4.5 Regularization Component of the Gradient"
   ]
  },
  {
   "cell_type": "markdown",
   "id": "905afc0f-b73a-41cc-bfd6-5ed421694e70",
   "metadata": {},
   "source": [
    "$$ \\begin{align} \n",
    "& \\frac{\\partial}{\\partial \\Theta_{ij}^{(l)}} J(\\Theta) = D_{ij}^{(l)} = \\frac{1}{m} \\Delta_{ij}^{(l)} & \\qquad \\text{for } j = 0 \\,\\, \\textrm{(bias)} \\\\\n",
    "& \\frac{\\partial}{\\partial \\Theta_{ij}^{(l)}} J(\\Theta) = D_{ij}^{(l)} = \\frac{1}{m} \\Delta_{ij}^{(l)} + \\frac{\\lambda}{m} \\Theta_{ij}^{(l)} & \\qquad \\text{for } j \\ge 1\n",
    "\\end{align}\n",
    "$$\n",
    "\n",
    "$$\n",
    "\\Theta^{(l)} = \\begin{bmatrix}\n",
    "\\Theta_{1,0}^{(i)} & \\Theta_{1,1}^{(l)} & \\cdots \\\\\n",
    "\\Theta_{2,0}^{(i)} & \\Theta_{2,1}^{(l)} & \\cdots \\\\\n",
    "\\vdots &  ~ & \\ddots\n",
    "\\end{bmatrix}\n",
    "$$"
   ]
  },
  {
   "cell_type": "markdown",
   "id": "b6d8f96a-3a19-400a-8c1a-21fc740dc0b4",
   "metadata": {},
   "source": [
    "Same function `costFunction` as before, but extended with the regularization term of the gradient."
   ]
  },
  {
   "cell_type": "code",
   "execution_count": 116,
   "id": "a7a882b5-0333-4a2c-aefe-7c70290ff6eb",
   "metadata": {},
   "outputs": [],
   "source": [
    "function [J, grad] = costFunction(nn_params, input_layer_size, hidden_layer_size, num_labels, X, y, lambda)\n",
    "    % Theta vector: nn_params\n",
    "    % Parameters are introduced unrolled, so we need to reshape the vector\n",
    "    % using input_layer_size, hidden_layer_size, num_labels\n",
    "    \n",
    "    % 25 x 401: hidden_layer_size x (input_layer_size + 1)\n",
    "    Theta1 = reshape(nn_params(1:hidden_layer_size * (input_layer_size + 1)), hidden_layer_size, (input_layer_size + 1));\n",
    "    % 10 x 26: num_labels x (hidden_layer_size + 1)\n",
    "    Theta2 = reshape(nn_params((1 + (hidden_layer_size * (input_layer_size + 1))):end), num_labels, (hidden_layer_size + 1));\n",
    "                 \n",
    "    % Number of examples\n",
    "    m = size(X,1);\n",
    "    \n",
    "    % Initialize return variables\n",
    "    J = 0;\n",
    "    Theta1_grad = zeros(size(Theta1));\n",
    "    Theta2_grad = zeros(size(Theta2));\n",
    "    grad = [Theta1_grad(:) ; Theta2_grad(:)];\n",
    "    \n",
    "    %%% Feedforward\n",
    "    % h: 5000 x 10\n",
    "    h = zeros(size(X, 1), 1);\n",
    "    % Layer 1\n",
    "    a1 = [ones(size(X,1),1), X]; % 5000 x 401\n",
    "    % Layer 1 -> Layer 2\n",
    "    z2 = a1*Theta1'; % (5000 x 401) x (401 x 25) -> (5000 x 25)\n",
    "    a2 = sigmoid(z2);\n",
    "    a2 = [ones(size(a2,1),1), a2]; % bias -> (5000 x 26)\n",
    "    % Layer 2 -> Layer 3\n",
    "    z3 = a2*Theta2'; % (5000 x 26) x (26 x 10) -> (5000 x 10)\n",
    "    h = sigmoid(z3);\n",
    "    \n",
    "    %%% Part 1: Cost\n",
    "    \n",
    "    % Re-arrange y: one-hot encoding\n",
    "    yh = zeros(size(y, 1), num_labels); % 5000 x 10\n",
    "    for k = 1:num_labels\n",
    "        yh(:,k) = y == k;\n",
    "    end\n",
    "    \n",
    "    % Error: for each class, then sum\n",
    "    e = zeros(1, num_labels);\n",
    "    for k = 1:num_labels\n",
    "        e(k) = -yh(:,k)'*log(h(:,k)) - (1 .- yh(:,k))'*log(1 .- h(:,k));\n",
    "    end\n",
    "    E = sum(e);\n",
    "    J = (1.0/m)*E;\n",
    "    \n",
    "    %%% Part 2: Regularization of the Cost Function\n",
    "    t1 = Theta1(:,2:end)(:); % remove bias weight and unroll to column vector\n",
    "    t2 = Theta2(:,2:end)(:); % remove bias weight and unroll to column vector\n",
    "    R = (0.5*lambda/m) * (t1'*t1 + t2'*t2);\n",
    "    J = J + R;\n",
    "    \n",
    "    %%% Part 3: Backpropagation & Gradient Computation\n",
    "    % We need to perform backpropagation in a for loop iterating examples\n",
    "    % Note that I use transposed vectors:\n",
    "    % in the script, column vectors are used,\n",
    "    % but I take example rows from the X matrix,\n",
    "    % and operate with them without converting them in column vectors\n",
    "    D1 = zeros(size(Theta1));\n",
    "    D2 = zeros(size(Theta2));\n",
    "    for i = 1:m\n",
    "        % Feedfoward\n",
    "        a1 = [1, X(i,:)]; % 1 x 401\n",
    "        z2 = a1*Theta1'; % (1 x 401) x (401 x 25) -> (1 x 25)\n",
    "        a2 = sigmoid(z2);\n",
    "        a2 = [ones(size(a2,1),1), a2]; % bias -> (1 x 26)\n",
    "        z3 = a2*Theta2'; % (1 x 26) x (26 x 10) -> (1 x 10)\n",
    "        h = sigmoid(z3); % 1 x 10\n",
    "        % Error backpropagation\n",
    "        d3 = h - yh(i,:); % 1 x 10\n",
    "        d2 = Theta2' * d3' .* [1, sigmoidGrad(z2)]'; % (26 x 10) x (10 x 1) .x (26, 1)-> \n",
    "        % d1: there is no such thing, because we have the inputs in layer 1\n",
    "        d2 = d2(2:end)'; % remove the bias component, transpose: 1 x 25\n",
    "        % Gradient computation: Accumulate gradients\n",
    "        D1 = D1 + d2'*a1; % (25 x 1) x (1 x 401) -> (25 x 401)\n",
    "        D2 = D2 + d3'*a2; % (10 x 1) x (1 x 26) -> (10 x 26) \n",
    "    end\n",
    "    % Normalize\n",
    "    Theta1_grad = (1 / m) * D1;\n",
    "    Theta2_grad = (1 / m) * D2;\n",
    "    \n",
    "    %%% Part 4: Regularization Component of the Gradient\n",
    "    R1 = Theta1; % (25 x 401)\n",
    "    R2 = Theta2; % (10 x 26)\n",
    "    R1(:,1) = zeros(size(Theta1, 1),1); % remove bias component: first column\n",
    "    R2(:,1) = zeros(size(Theta2, 1),1); % remove bias component: first column\n",
    "    Theta1_grad = Theta1_grad + (lambda / m)*R1;\n",
    "    Theta2_grad = Theta2_grad + (lambda / m)*R2;\n",
    "\n",
    "    % Unroll gradients\n",
    "    grad = [Theta1_grad(:) ; Theta2_grad(:)];\n",
    "\n",
    "end"
   ]
  },
  {
   "cell_type": "code",
   "execution_count": 117,
   "id": "c4b80b6b-0d2c-448c-b049-2ebfd1ccf1c4",
   "metadata": {},
   "outputs": [
    {
     "name": "stdout",
     "output_type": "stream",
     "text": [
      "0.5761\n"
     ]
    }
   ],
   "source": [
    "nn_params = [Theta1(:) ; Theta2(:)];\n",
    "input_layer_size  = 400;  % 20x20 Input Images of Digits\n",
    "hidden_layer_size = 25;   % 25 hidden units\n",
    "num_labels = 10;          % 10 labels, from 1 to 10 \n",
    "lambda = 3;\n",
    "[J, grad] = costFunction(nn_params, input_layer_size, hidden_layer_size, num_labels, X, y, lambda);\n",
    "disp(J);"
   ]
  },
  {
   "cell_type": "markdown",
   "id": "1882c1ee-5113-4986-8122-7d88393777ff",
   "metadata": {},
   "source": [
    "## 5. Training: `ex4.m`"
   ]
  },
  {
   "cell_type": "markdown",
   "id": "808ebdae-a198-4c42-9528-7bf0e0864acc",
   "metadata": {},
   "source": [
    "The optimization function is provided in `fmincg.m`.\n",
    "This code was taken from `ex4.m` and slightly modified."
   ]
  },
  {
   "cell_type": "code",
   "execution_count": 125,
   "id": "d7576afd-2a69-415e-887c-4755b1de0225",
   "metadata": {},
   "outputs": [
    {
     "name": "stdout",
     "output_type": "stream",
     "text": [
      "Iteration    50 | Cost: 4.598786e-01\n"
     ]
    }
   ],
   "source": [
    "% Try different number of iterations = epochs\n",
    "options = optimset('MaxIter', 50);\n",
    "\n",
    "% Try different values of lambda\n",
    "lambda = 1;\n",
    "\n",
    "% Architecture parameters\n",
    "input_layer_size  = 400;  % 20x20 Input Images of Digits\n",
    "hidden_layer_size = 25;   % 25 hidden units\n",
    "num_labels = 10;          % 10 labels, from 1 to 10 \n",
    "\n",
    "% Create \"short hand\" for the cost function to be minimized with one parameter: the weights\n",
    "costFunction = @(p) nnCostFunction(p, input_layer_size, hidden_layer_size, ...\n",
    "                                   num_labels, X, y, lambda);\n",
    "\n",
    "% Initial weights\n",
    "initial_Theta1 = randInitializeWeights(input_layer_size, hidden_layer_size);\n",
    "initial_Theta2 = randInitializeWeights(hidden_layer_size, num_labels);\n",
    "initial_nn_params = [initial_Theta1(:) ; initial_Theta2(:)];\n",
    "\n",
    "% Optimization\n",
    "[nn_params, cost] = fmincg(costFunction, initial_nn_params, options);\n",
    "\n",
    "% Obtain Theta1 and Theta2 back from nn_params\n",
    "Theta1 = reshape(nn_params(1:hidden_layer_size * (input_layer_size + 1)), ...\n",
    "                 hidden_layer_size, (input_layer_size + 1));\n",
    "\n",
    "Theta2 = reshape(nn_params((1 + (hidden_layer_size * (input_layer_size + 1))):end), ...\n",
    "                 num_labels, (hidden_layer_size + 1));"
   ]
  },
  {
   "cell_type": "markdown",
   "id": "b5ad0395-9afa-4a58-8764-7167e503ef41",
   "metadata": {},
   "source": [
    "## 6. Evaluation / Inference: `predict.m`"
   ]
  },
  {
   "cell_type": "code",
   "execution_count": 120,
   "id": "6908b3ed-534d-4303-9cd8-4441c5fc1106",
   "metadata": {},
   "outputs": [],
   "source": [
    "function p = predict(Theta1, Theta2, X)\n",
    "    m = size(X, 1);\n",
    "    num_labels = size(Theta2, 1);\n",
    "    p = zeros(size(X, 1), 1);\n",
    "    h1 = sigmoid([ones(m, 1) X] * Theta1');\n",
    "    h2 = sigmoid([ones(m, 1) h1] * Theta2');\n",
    "    [dummy, p] = max(h2, [], 2);\n",
    "end"
   ]
  },
  {
   "cell_type": "code",
   "execution_count": 121,
   "id": "a8e9540b-7d18-4c99-b07d-067f231211d9",
   "metadata": {},
   "outputs": [],
   "source": [
    "pred = predict(Theta1, Theta2, X);"
   ]
  },
  {
   "cell_type": "code",
   "execution_count": 123,
   "id": "47f3be25-5c15-42c5-90cf-72a3152b5e06",
   "metadata": {},
   "outputs": [
    {
     "name": "stdout",
     "output_type": "stream",
     "text": [
      "0.9566\n"
     ]
    }
   ],
   "source": [
    "% Accuracy\n",
    "disp(mean(double(pred == y)))"
   ]
  },
  {
   "cell_type": "markdown",
   "id": "042dcf92-3abd-411a-9906-524502334dd2",
   "metadata": {},
   "source": [
    "## 7. Visualization of the Weights of the Hidden Layer"
   ]
  },
  {
   "cell_type": "code",
   "execution_count": 128,
   "id": "fb82d76f-5913-4c32-8577-39357c6046db",
   "metadata": {},
   "outputs": [
    {
     "name": "stdout",
     "output_type": "stream",
     "text": [
      "ans =\n",
      "\n",
      "    25   401\n",
      "\n"
     ]
    }
   ],
   "source": [
    "size(Theta1)"
   ]
  },
  {
   "cell_type": "code",
   "execution_count": 130,
   "id": "5d0bbb03-c9c4-4d3c-86e1-4207e5e66f43",
   "metadata": {},
   "outputs": [
    {
     "data": {
      "image/png": "[encoded data removed]",
      "text/plain": [
       "<IPython.core.display.Image object>"
      ]
     },
     "metadata": {},
     "output_type": "display_data"
    }
   ],
   "source": [
    "% Theta1: 25 x 401\n",
    "% Weights related to hidden units a1 ... a25 in layer 2\n",
    "% are displayed as pictures of maps with width 20 px = sqrt(400-1)\n",
    "displayData(Theta1(:, 2:end));"
   ]
  },
  {
   "cell_type": "markdown",
   "id": "03d15351-5cc3-4e07-a9ee-6f2fe9298cfa",
   "metadata": {},
   "source": [
    "## 8. Python Notes\n",
    "\n",
    "In the following, some python implementations of selected functions are collected, taken from [ml-coursera-python-assignments](https://github.com/mxagar/ml-coursera-python-assignments). Note that the optimization function equivalent to `fmincg` is `scipy.optimize.minimize`; an example is provided in `ex2`.\n",
    "\n",
    "```python\n",
    "import numpy as np\n",
    "from matplotlib import pyplot\n",
    "\n",
    "def displayData(X, example_width=None, figsize=(10, 10)):\n",
    "    \"\"\"\n",
    "    Displays 2D data stored in X in a nice grid.\n",
    "    \"\"\"\n",
    "    # Compute rows, cols\n",
    "    if X.ndim == 2:\n",
    "        m, n = X.shape\n",
    "    elif X.ndim == 1:\n",
    "        n = X.size\n",
    "        m = 1\n",
    "        X = X[None]  # Promote to a 2 dimensional array\n",
    "    else:\n",
    "        raise IndexError('Input X should be 1 or 2 dimensional.')\n",
    "\n",
    "    example_width = example_width or int(np.round(np.sqrt(n)))\n",
    "    example_height = n / example_width\n",
    "\n",
    "    # Compute number of items to display\n",
    "    display_rows = int(np.floor(np.sqrt(m)))\n",
    "    display_cols = int(np.ceil(m / display_rows))\n",
    "\n",
    "    fig, ax_array = pyplot.subplots(display_rows, display_cols, figsize=figsize)\n",
    "    fig.subplots_adjust(wspace=0.025, hspace=0.025)\n",
    "\n",
    "    ax_array = [ax_array] if m == 1 else ax_array.ravel()\n",
    "\n",
    "    for i, ax in enumerate(ax_array):\n",
    "        # Display Image\n",
    "        h = ax.imshow(X[i].reshape(example_width, example_width, order='F'),\n",
    "                      cmap='Greys', extent=[0, 1, 0, 1])\n",
    "        ax.axis('off')\n",
    "\n",
    "\n",
    "def predict(Theta1, Theta2, X):\n",
    "    \"\"\"\n",
    "    Predict the label of an input given a trained neural network\n",
    "    Outputs the predicted label of X given the trained weights of a neural\n",
    "    network(Theta1, Theta2)\n",
    "    \"\"\"\n",
    "    # Useful values\n",
    "    m = X.shape[0]\n",
    "    num_labels = Theta2.shape[0]\n",
    "\n",
    "    # You need to return the following variables correctly\n",
    "    p = np.zeros(m)\n",
    "    h1 = sigmoid(np.dot(np.concatenate([np.ones((m, 1)), X], axis=1), Theta1.T))\n",
    "    h2 = sigmoid(np.dot(np.concatenate([np.ones((m, 1)), h1], axis=1), Theta2.T))\n",
    "    p = np.argmax(h2, axis=1)\n",
    "    return p\n",
    "\n",
    "def sigmoid(z):\n",
    "    \"\"\"\n",
    "    Computes the sigmoid of z.\n",
    "    \"\"\"\n",
    "    return 1.0 / (1.0 + np.exp(-z))\n",
    "\n",
    "```"
   ]
  },
  {
   "cell_type": "code",
   "execution_count": null,
   "id": "531a1917-791e-4037-baa5-6329e1a08815",
   "metadata": {},
   "outputs": [],
   "source": []
  }
 ],
 "metadata": {
  "kernelspec": {
   "display_name": "Octave",
   "language": "octave",
   "name": "octave"
  },
  "language_info": {
   "file_extension": ".m",
   "help_links": [
    {
     "text": "GNU Octave",
     "url": "https://www.gnu.org/software/octave/support.html"
    },
    {
     "text": "Octave Kernel",
     "url": "https://github.com/Calysto/octave_kernel"
    },
    {
     "text": "MetaKernel Magics",
     "url": "https://metakernel.readthedocs.io/en/latest/source/README.html"
    }
   ],
   "mimetype": "text/x-octave",
   "name": "octave",
   "version": "6.3.0"
  }
 },
 "nbformat": 4,
 "nbformat_minor": 5
}
