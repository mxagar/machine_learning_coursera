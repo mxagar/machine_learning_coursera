{
 "cells": [
  {
   "cell_type": "markdown",
   "id": "a6037106-5abb-44f9-883d-d0b00c3c435b",
   "metadata": {},
   "source": [
    "# Octave/Matlab Tutorial"
   ]
  },
  {
   "cell_type": "markdown",
   "id": "c6667639-1cba-4225-b895-d48d02bd789c",
   "metadata": {},
   "source": [
    "This notebook contains the most important calls needed to complete the course.\n",
    "Matlab/Octave is a nice high-level language for prototyping.\n",
    "\n",
    "Overview:\n",
    "\n",
    "0. Octave Plotting in Jupyter\n",
    "1. Basic Operations\n",
    "2. Moving Data Around\n",
    "3. Computing on Data\n",
    "4. Plotting Data\n",
    "5. Control Statements and Functions\n",
    "6. Vectorization"
   ]
  },
  {
   "cell_type": "markdown",
   "id": "ad23c017-3afc-4dc4-ad1a-57c0fba3b1a3",
   "metadata": {},
   "source": [
    "## 0. Octave Plotting in Jupyter"
   ]
  },
  {
   "cell_type": "markdown",
   "id": "311e3fd1-0c62-42c3-b84e-826b224a51c6",
   "metadata": {},
   "source": [
    "As written in the unofficial Jupyter octave kernel page [Calysto/octave_kernel](https://github.com/Calysto/octave_kernel), we need to add the following line to `~/.octaverc`:\n",
    "\n",
    "```\n",
    "vim ~/.octaverc\n",
    "# Set Qt the gnuplot terminal\n",
    "setenv(\"GNUTERM\",\"qt\");\n",
    "```\n",
    "\n",
    "Additionally, we execute in our notebook at the beginning:\n",
    "\n",
    "```\n",
    "graphics_toolkit (\"gnuplot\");\n",
    "```\n",
    "\n",
    "and if we want to have inline plots (embedded in the notebook), we execute the following magic command:\n",
    "\n",
    "```\n",
    "%plot -b inline:gnuplot\n",
    "```\n",
    "\n",
    "For more information, see the link above and check also:\n",
    "\n",
    "[Jupyter Octave Kernel Inline Graph @ Stackoverflow](https://stackoverflow.com/questions/65511187/jupyter-octave-kernel-inline-graph-windows)"
   ]
  },
  {
   "cell_type": "code",
   "execution_count": 193,
   "id": "a920fc0d-486c-4121-b5c6-3c209ac96c21",
   "metadata": {},
   "outputs": [],
   "source": [
    "graphics_toolkit (\"gnuplot\");"
   ]
  },
  {
   "cell_type": "code",
   "execution_count": 194,
   "id": "8b3cf2a6-a59e-4808-8a9f-bf6932829e4c",
   "metadata": {},
   "outputs": [],
   "source": [
    "%plot -b inline:gnuplot"
   ]
  },
  {
   "cell_type": "code",
   "execution_count": 195,
   "id": "12165eac-2412-42eb-8027-cb3128cc7602",
   "metadata": {},
   "outputs": [
    {
     "data": {
      "image/png": "[encoded data removed]",
      "text/plain": [
       "<IPython.core.display.Image object>"
      ]
     },
     "metadata": {},
     "output_type": "display_data"
    }
   ],
   "source": [
    "% Test\n",
    "fig = figure();\n",
    "plot([1,2],[3,4])"
   ]
  },
  {
   "cell_type": "code",
   "execution_count": 196,
   "id": "c2608360-6da8-4572-90d2-13442b007836",
   "metadata": {},
   "outputs": [],
   "source": [
    "% If we are not plotting inline, close the figure\n",
    "%close(fig)"
   ]
  },
  {
   "cell_type": "markdown",
   "id": "8b70506b-a1f7-41cf-ae6a-bcb8208ec403",
   "metadata": {},
   "source": [
    "## 1. Basic Operations"
   ]
  },
  {
   "cell_type": "code",
   "execution_count": 197,
   "id": "a6fb2892-c593-4e86-ab69-d986fd1e451b",
   "metadata": {},
   "outputs": [
    {
     "name": "stdout",
     "output_type": "stream",
     "text": [
      "ans = 11\n"
     ]
    }
   ],
   "source": [
    "5+6"
   ]
  },
  {
   "cell_type": "code",
   "execution_count": 198,
   "id": "0d320afb-d133-4622-bce4-a8d0c4f565f3",
   "metadata": {},
   "outputs": [
    {
     "name": "stdout",
     "output_type": "stream",
     "text": [
      "ans = 1\n"
     ]
    }
   ],
   "source": [
    "3-2"
   ]
  },
  {
   "cell_type": "code",
   "execution_count": 199,
   "id": "9f5ea10b-5c5f-4848-8aa9-ac8174f130cc",
   "metadata": {},
   "outputs": [
    {
     "name": "stdout",
     "output_type": "stream",
     "text": [
      "ans = 40\n"
     ]
    }
   ],
   "source": [
    "5*8"
   ]
  },
  {
   "cell_type": "code",
   "execution_count": 200,
   "id": "24cebcf4-e233-4acb-9696-c286d796a83b",
   "metadata": {},
   "outputs": [
    {
     "name": "stdout",
     "output_type": "stream",
     "text": [
      "ans = 0.5000\n"
     ]
    }
   ],
   "source": [
    "1/2"
   ]
  },
  {
   "cell_type": "code",
   "execution_count": 201,
   "id": "bc2ecb0d-89e1-40cd-8e87-02d0d656c9b9",
   "metadata": {},
   "outputs": [
    {
     "name": "stdout",
     "output_type": "stream",
     "text": [
      "ans = 8\n"
     ]
    }
   ],
   "source": [
    "2^3"
   ]
  },
  {
   "cell_type": "code",
   "execution_count": 202,
   "id": "6e5078f1-ee39-452e-a69f-aa87aaac8cc5",
   "metadata": {},
   "outputs": [
    {
     "name": "stdout",
     "output_type": "stream",
     "text": [
      "ans = 0\n"
     ]
    }
   ],
   "source": [
    "1 == 2"
   ]
  },
  {
   "cell_type": "code",
   "execution_count": 203,
   "id": "e4d59619-64d2-4e2e-a0c3-441e2d940c14",
   "metadata": {},
   "outputs": [
    {
     "name": "stdout",
     "output_type": "stream",
     "text": [
      "ans = 1\n"
     ]
    }
   ],
   "source": [
    "1 ~= 2"
   ]
  },
  {
   "cell_type": "code",
   "execution_count": 204,
   "id": "09d44dd6-aa8c-487c-b5ed-b0196dcacd9b",
   "metadata": {},
   "outputs": [
    {
     "name": "stdout",
     "output_type": "stream",
     "text": [
      "ans = 0\n"
     ]
    }
   ],
   "source": [
    "1 && 0"
   ]
  },
  {
   "cell_type": "code",
   "execution_count": 205,
   "id": "83aec2a1-0b2f-495e-ab61-9c739ba444da",
   "metadata": {},
   "outputs": [
    {
     "name": "stdout",
     "output_type": "stream",
     "text": [
      "ans = 1\n"
     ]
    }
   ],
   "source": [
    "1 && 1"
   ]
  },
  {
   "cell_type": "code",
   "execution_count": 206,
   "id": "a72280ec-684a-4b38-9199-ea18aea86e54",
   "metadata": {},
   "outputs": [
    {
     "name": "stdout",
     "output_type": "stream",
     "text": [
      "ans = 1\n"
     ]
    }
   ],
   "source": [
    "1 || 0"
   ]
  },
  {
   "cell_type": "code",
   "execution_count": 207,
   "id": "2251d41b-f047-45d4-8d38-8b42ebd46d39",
   "metadata": {},
   "outputs": [],
   "source": [
    "% Comments\n",
    "% ; avoids printing output\n",
    "a = 3;"
   ]
  },
  {
   "cell_type": "code",
   "execution_count": 208,
   "id": "e586e85d-21cb-42d7-ac76-f48649698285",
   "metadata": {},
   "outputs": [
    {
     "name": "stdout",
     "output_type": "stream",
     "text": [
      "b = 4\n"
     ]
    }
   ],
   "source": [
    "b = 4"
   ]
  },
  {
   "cell_type": "code",
   "execution_count": 209,
   "id": "062a2056-54b5-4dc5-a233-936e3f0d76f4",
   "metadata": {},
   "outputs": [
    {
     "name": "stdout",
     "output_type": "stream",
     "text": [
      "c = hi there\n"
     ]
    }
   ],
   "source": [
    "c = 'hi there'"
   ]
  },
  {
   "cell_type": "code",
   "execution_count": 210,
   "id": "4687f55d-9d61-4e18-8b2a-eca75b7290e5",
   "metadata": {},
   "outputs": [],
   "source": [
    "a = pi;"
   ]
  },
  {
   "cell_type": "code",
   "execution_count": 211,
   "id": "acc8e98a-73d2-4d60-b3ec-dabbe16e8c85",
   "metadata": {},
   "outputs": [
    {
     "name": "stdout",
     "output_type": "stream",
     "text": [
      "3.1416\n"
     ]
    }
   ],
   "source": [
    "disp(a)"
   ]
  },
  {
   "cell_type": "code",
   "execution_count": 212,
   "id": "68a90207-0855-4751-8051-8793c09b2265",
   "metadata": {},
   "outputs": [
    {
     "name": "stdout",
     "output_type": "stream",
     "text": [
      "2 decimals: 3.14\n"
     ]
    }
   ],
   "source": [
    "disp(sprintf('2 decimals: %0.2f',a))"
   ]
  },
  {
   "cell_type": "code",
   "execution_count": 213,
   "id": "9bee169a-acce-408f-b865-ac9ee449afb3",
   "metadata": {},
   "outputs": [
    {
     "name": "stdout",
     "output_type": "stream",
     "text": [
      "6 decimals: 3.141593\n"
     ]
    }
   ],
   "source": [
    "disp(sprintf('6 decimals: %0.6f',a))"
   ]
  },
  {
   "cell_type": "code",
   "execution_count": 214,
   "id": "ee814c60-b106-466c-9055-4f7430be27f3",
   "metadata": {},
   "outputs": [],
   "source": [
    "% extand decimals\n",
    "format long"
   ]
  },
  {
   "cell_type": "code",
   "execution_count": 215,
   "id": "38992cdb-50a2-493e-97e9-57b0869e0a25",
   "metadata": {},
   "outputs": [
    {
     "name": "stdout",
     "output_type": "stream",
     "text": [
      "a = 3.141592653589793\n"
     ]
    }
   ],
   "source": [
    "a"
   ]
  },
  {
   "cell_type": "code",
   "execution_count": 216,
   "id": "33e8356d-01d5-4aea-a235-78c95e542184",
   "metadata": {},
   "outputs": [],
   "source": [
    "% less decimals, default\n",
    "format short"
   ]
  },
  {
   "cell_type": "code",
   "execution_count": 217,
   "id": "5cec06c5-79a9-4a4a-b76b-0f32b79e11dd",
   "metadata": {},
   "outputs": [
    {
     "name": "stdout",
     "output_type": "stream",
     "text": [
      "a = 3.1416\n"
     ]
    }
   ],
   "source": [
    "a"
   ]
  },
  {
   "cell_type": "code",
   "execution_count": 218,
   "id": "da821088-f317-45ee-b7e6-8f6142e31aef",
   "metadata": {},
   "outputs": [
    {
     "name": "stdout",
     "output_type": "stream",
     "text": [
      "A =\n",
      "\n",
      "   1   2\n",
      "   3   4\n",
      "   5   6\n",
      "\n"
     ]
    }
   ],
   "source": [
    "% 3x2 matrix\n",
    "A = [1 2; 3 4; 5 6]"
   ]
  },
  {
   "cell_type": "code",
   "execution_count": 219,
   "id": "58b418ed-a0b4-418d-86c8-22c8d171366c",
   "metadata": {},
   "outputs": [
    {
     "name": "stdout",
     "output_type": "stream",
     "text": [
      "v =\n",
      "\n",
      "   1   2   3\n",
      "\n"
     ]
    }
   ],
   "source": [
    "% 1x3 vector, row\n",
    "v = [1 2 3]"
   ]
  },
  {
   "cell_type": "code",
   "execution_count": 220,
   "id": "a6ca974a-b3ce-46ea-98cb-f7768d72fc07",
   "metadata": {},
   "outputs": [
    {
     "name": "stdout",
     "output_type": "stream",
     "text": [
      "v =\n",
      "\n",
      "   1\n",
      "   2\n",
      "   3\n",
      "\n"
     ]
    }
   ],
   "source": [
    "% 3x1 vector, column\n",
    "v = [1; 2; 3]"
   ]
  },
  {
   "cell_type": "code",
   "execution_count": 221,
   "id": "b8c0ad2d-1202-4d74-9879-b9753d17d5ad",
   "metadata": {},
   "outputs": [
    {
     "name": "stdout",
     "output_type": "stream",
     "text": [
      "v =\n",
      "\n",
      " Columns 1 through 8:\n",
      "\n",
      "    1.0000    1.1000    1.2000    1.3000    1.4000    1.5000    1.6000    1.7000\n",
      "\n",
      " Columns 9 through 11:\n",
      "\n",
      "    1.8000    1.9000    2.0000\n",
      "\n"
     ]
    }
   ],
   "source": [
    "% Generate a row vector\n",
    "v = 1:0.1:2"
   ]
  },
  {
   "cell_type": "code",
   "execution_count": 222,
   "id": "b176f5bd-fe55-4cfc-8f38-1bc411a033f2",
   "metadata": {},
   "outputs": [
    {
     "name": "stdout",
     "output_type": "stream",
     "text": [
      "ans =\n",
      "\n",
      "   1   1   1\n",
      "   1   1   1\n",
      "\n"
     ]
    }
   ],
   "source": [
    "ones(2,3)"
   ]
  },
  {
   "cell_type": "code",
   "execution_count": 223,
   "id": "e03866f3-554b-40d5-ae83-901df132d451",
   "metadata": {},
   "outputs": [
    {
     "name": "stdout",
     "output_type": "stream",
     "text": [
      "C =\n",
      "\n",
      "   2   2   2\n",
      "   2   2   2\n",
      "\n"
     ]
    }
   ],
   "source": [
    "C = 2*ones(2,3)"
   ]
  },
  {
   "cell_type": "code",
   "execution_count": 224,
   "id": "26efe0f1-7b2b-462b-a5d1-068e1cf9f0e0",
   "metadata": {},
   "outputs": [
    {
     "name": "stdout",
     "output_type": "stream",
     "text": [
      "w =\n",
      "\n",
      "   1   1   1\n",
      "\n"
     ]
    }
   ],
   "source": [
    "w = ones(1,3)"
   ]
  },
  {
   "cell_type": "code",
   "execution_count": 225,
   "id": "a0ee54fd-0958-4dc2-9974-c3ffb5042a48",
   "metadata": {},
   "outputs": [
    {
     "name": "stdout",
     "output_type": "stream",
     "text": [
      "w =\n",
      "\n",
      "  0  0  0\n",
      "\n"
     ]
    }
   ],
   "source": [
    "w = zeros(1,3)"
   ]
  },
  {
   "cell_type": "code",
   "execution_count": 226,
   "id": "83a151de-e676-406b-bbce-67637a35c32e",
   "metadata": {},
   "outputs": [
    {
     "name": "stdout",
     "output_type": "stream",
     "text": [
      "w =\n",
      "\n",
      "   0.8984   0.3647   0.1689\n",
      "\n"
     ]
    }
   ],
   "source": [
    "% Random uniform distribution\n",
    "w = rand(1,3)"
   ]
  },
  {
   "cell_type": "code",
   "execution_count": 227,
   "id": "36ce4957-da53-4501-92ca-c907c3c87d77",
   "metadata": {},
   "outputs": [
    {
     "name": "stdout",
     "output_type": "stream",
     "text": [
      "ans =\n",
      "\n",
      "   0.4495  -0.7809  -0.4204\n",
      "  -0.1620  -1.0929   0.1154\n",
      "  -2.1690   0.2970  -0.3119\n",
      "\n"
     ]
    }
   ],
   "source": [
    "% Random gaussian/normal/standard distribution (mean 0, std 1)\n",
    "randn(3,3)"
   ]
  },
  {
   "cell_type": "code",
   "execution_count": 228,
   "id": "5edd9a4b-cffd-4e63-9a23-8346ab5d4dcd",
   "metadata": {},
   "outputs": [],
   "source": [
    "w = -6 + sqrt(10)*(randn(1,10000));"
   ]
  },
  {
   "cell_type": "code",
   "execution_count": 229,
   "id": "454b8c38-965d-4f2d-a5a6-14bbaee6668c",
   "metadata": {},
   "outputs": [
    {
     "name": "stdout",
     "output_type": "stream",
     "text": [
      "fig = 1\n"
     ]
    },
    {
     "data": {
      "image/png": "[encoded data removed]",
      "text/plain": [
       "<IPython.core.display.Image object>"
      ]
     },
     "metadata": {},
     "output_type": "display_data"
    }
   ],
   "source": [
    "fig = figure()\n",
    "hist(w,100)"
   ]
  },
  {
   "cell_type": "code",
   "execution_count": 230,
   "id": "589a2421-027a-424c-88de-a9c68eac9bd9",
   "metadata": {},
   "outputs": [],
   "source": [
    "%close(fig)"
   ]
  },
  {
   "cell_type": "code",
   "execution_count": 231,
   "id": "0ad9ee2b-d814-44ef-b3a8-fce8e07a70d2",
   "metadata": {},
   "outputs": [
    {
     "name": "stdout",
     "output_type": "stream",
     "text": [
      "ans =\n",
      "\n",
      "Diagonal Matrix\n",
      "\n",
      "   1   0   0   0\n",
      "   0   1   0   0\n",
      "   0   0   1   0\n",
      "   0   0   0   1\n",
      "\n"
     ]
    }
   ],
   "source": [
    "eye(4)"
   ]
  },
  {
   "cell_type": "code",
   "execution_count": 232,
   "id": "3f22d9da-98ae-403a-855c-cc6da1b79a78",
   "metadata": {},
   "outputs": [
    {
     "name": "stdout",
     "output_type": "stream",
     "text": [
      "'eye' is a built-in function from the file libinterp/corefcn/data.cc\n",
      "\n",
      " -- eye (N)\n",
      " -- eye (M, N)\n",
      " -- eye ([M N])\n",
      " -- eye (..., CLASS)\n",
      "     Return an identity matrix.\n",
      "\n",
      "     If invoked with a single scalar argument N, return a square NxN\n",
      "     identity matrix.\n",
      "\n",
      "     If supplied two scalar arguments (M, N), 'eye' takes them to be the\n",
      "     number of rows and columns.  If given a vector with two elements,\n",
      "     'eye' uses the values of the elements as the number of rows and\n",
      "     columns, respectively.  For example:\n",
      "\n",
      "          eye (3)\n",
      "           =>  1  0  0\n",
      "               0  1  0\n",
      "               0  0  1\n",
      "\n",
      "     The following expressions all produce the same result:\n",
      "\n",
      "          eye (2)\n",
      "          ==\n",
      "          eye (2, 2)\n",
      "          ==\n",
      "          eye (size ([1, 2; 3, 4]))\n",
      "\n",
      "     The optional argument CLASS, allows 'eye' to return an array of the\n",
      "     specified type, like\n",
      "\n",
      "          val = zeros (n,m, \"uint8\")\n",
      "\n",
      "     Calling 'eye' with no arguments is equivalent to calling it with an\n",
      "     argument of 1.  Any negative dimensions are treated as zero.  These\n",
      "     odd definitions are for compatibility with MATLAB.\n",
      "\n",
      "     See also: speye, ones, zeros.\n",
      "\n",
      "Additional help for built-in functions and operators is\n",
      "available in the online version of the manual.  Use the command\n",
      "'doc <topic>' to search the manual index.\n",
      "\n",
      "Help and information about Octave is also available on the WWW\n",
      "at https://www.octave.org and via the help@octave.org\n",
      "mailing list.\n"
     ]
    }
   ],
   "source": [
    "help eye"
   ]
  },
  {
   "cell_type": "markdown",
   "id": "f9a6c1ab-a503-40a1-b924-2195ab7fe5f6",
   "metadata": {},
   "source": [
    "## 2. Moving Data Around"
   ]
  },
  {
   "cell_type": "code",
   "execution_count": 233,
   "id": "e620f067-b482-4333-99b1-01bb8714f8dc",
   "metadata": {},
   "outputs": [
    {
     "name": "stdout",
     "output_type": "stream",
     "text": [
      "A =\n",
      "\n",
      "   1   2\n",
      "   3   4\n",
      "   5   6\n",
      "\n"
     ]
    }
   ],
   "source": [
    "A = [1 2; 3 4; 5 6]"
   ]
  },
  {
   "cell_type": "code",
   "execution_count": 234,
   "id": "ffae4e07-6102-41b0-872c-aa5d83b8d3e7",
   "metadata": {},
   "outputs": [
    {
     "name": "stdout",
     "output_type": "stream",
     "text": [
      "ans =\n",
      "\n",
      "   3   2\n",
      "\n"
     ]
    }
   ],
   "source": [
    "% dimensions of A\n",
    "size(A)"
   ]
  },
  {
   "cell_type": "code",
   "execution_count": 235,
   "id": "3f7b34fd-975d-49ef-884b-55aa4c68b4a6",
   "metadata": {},
   "outputs": [
    {
     "name": "stdout",
     "output_type": "stream",
     "text": [
      "sz =\n",
      "\n",
      "   3   2\n",
      "\n"
     ]
    }
   ],
   "source": [
    "% We can store it as a variable\n",
    "sz = size(A)"
   ]
  },
  {
   "cell_type": "code",
   "execution_count": 236,
   "id": "5b2e0e09-5af7-4b3a-92fe-9dfd4d36683c",
   "metadata": {},
   "outputs": [
    {
     "name": "stdout",
     "output_type": "stream",
     "text": [
      "ans = 3\n"
     ]
    }
   ],
   "source": [
    "% rows\n",
    "size(A,1)"
   ]
  },
  {
   "cell_type": "code",
   "execution_count": 237,
   "id": "9e30b19a-a4a3-4623-bfd6-129e62c8f6c2",
   "metadata": {},
   "outputs": [
    {
     "name": "stdout",
     "output_type": "stream",
     "text": [
      "ans = 2\n"
     ]
    }
   ],
   "source": [
    "% columns\n",
    "size(A,2)"
   ]
  },
  {
   "cell_type": "code",
   "execution_count": 238,
   "id": "ff177800-aaea-415e-8947-a554a5ba1414",
   "metadata": {},
   "outputs": [
    {
     "name": "stdout",
     "output_type": "stream",
     "text": [
      "ans = 3\n"
     ]
    }
   ],
   "source": [
    "% longest dimension\n",
    "length(A)"
   ]
  },
  {
   "cell_type": "code",
   "execution_count": 239,
   "id": "db8bbcbf-8470-4a7d-a71f-37657b186615",
   "metadata": {},
   "outputs": [
    {
     "name": "stdout",
     "output_type": "stream",
     "text": [
      "ans = /Users/mxagar/nexo/git_repositories/machine_learning_coursera/01_LinearRegression\n"
     ]
    }
   ],
   "source": [
    "pwd"
   ]
  },
  {
   "cell_type": "code",
   "execution_count": 240,
   "id": "4036ce03-022f-42f0-b833-3b1307c8ec6d",
   "metadata": {},
   "outputs": [
    {
     "name": "stdout",
     "output_type": "stream",
     "text": [
      "01_0_LinearAlgebra.ipynb\tML_LinearRegression.md\n",
      "01_1_Octave_Tutorial.ipynb\tREADME.md\n",
      "ML_Coursera_Lecture1.pdf\tfeaturesX.dat\n",
      "ML_Coursera_Lecture2.pdf\tpics\n",
      "ML_Coursera_Lecture3.pdf\ttargetY.dat\n",
      "ML_Coursera_Lecture4.pdf\n"
     ]
    }
   ],
   "source": [
    "ls"
   ]
  },
  {
   "cell_type": "code",
   "execution_count": 241,
   "id": "5db4dbd1-bcc3-421b-94e0-aba9cfc1052b",
   "metadata": {},
   "outputs": [],
   "source": [
    "X = [ones(100,1),randn(100,2)];"
   ]
  },
  {
   "cell_type": "code",
   "execution_count": 242,
   "id": "a56fba65-0feb-466e-b558-896c54f35490",
   "metadata": {},
   "outputs": [],
   "source": [
    "y = randn(100,1);"
   ]
  },
  {
   "cell_type": "code",
   "execution_count": 243,
   "id": "87fbe508-8575-437a-a06d-f8549df2662e",
   "metadata": {},
   "outputs": [],
   "source": [
    "% help save"
   ]
  },
  {
   "cell_type": "code",
   "execution_count": 244,
   "id": "9cc59210-e53e-4b7c-bbee-85a55d8bb4fc",
   "metadata": {},
   "outputs": [],
   "source": [
    "% Save variable name + content in file\n",
    "% We can use any ending: .mat, .dat, etc.\n",
    "% Default: binary; for ASCII add: -ascii\n",
    "save featuresX.dat X"
   ]
  },
  {
   "cell_type": "code",
   "execution_count": 245,
   "id": "a8c2f8b4-3f51-4e88-a585-ec48f7d0edf2",
   "metadata": {},
   "outputs": [],
   "source": [
    "save targetY.dat y"
   ]
  },
  {
   "cell_type": "code",
   "execution_count": 246,
   "id": "556c2bc9-9a3c-4e6d-bdaa-d80c1328e12a",
   "metadata": {},
   "outputs": [],
   "source": [
    "% We delete their values\n",
    "X = 0;\n",
    "y = 0;"
   ]
  },
  {
   "cell_type": "code",
   "execution_count": 247,
   "id": "a34a6ffd-fe7c-4783-bcd6-10d2391de635",
   "metadata": {},
   "outputs": [
    {
     "name": "stdout",
     "output_type": "stream",
     "text": [
      "01_0_LinearAlgebra.ipynb\tML_LinearRegression.md\n",
      "01_1_Octave_Tutorial.ipynb\tREADME.md\n",
      "ML_Coursera_Lecture1.pdf\tfeaturesX.dat\n",
      "ML_Coursera_Lecture2.pdf\tpics\n",
      "ML_Coursera_Lecture3.pdf\ttargetY.dat\n",
      "ML_Coursera_Lecture4.pdf\n"
     ]
    }
   ],
   "source": [
    "% We have saved variables as files\n",
    "ls"
   ]
  },
  {
   "cell_type": "code",
   "execution_count": 248,
   "id": "0990fe55-cfd6-477c-90c3-f744a0c81762",
   "metadata": {},
   "outputs": [],
   "source": [
    "% We load files as variables\n",
    "load('featuresX.dat')"
   ]
  },
  {
   "cell_type": "code",
   "execution_count": 249,
   "id": "8a6d5bab-12cf-48a8-8f4a-becd842b3ed9",
   "metadata": {},
   "outputs": [
    {
     "name": "stdout",
     "output_type": "stream",
     "text": [
      "ans =\n",
      "\n",
      "   1.000000  -1.850821   0.313002\n",
      "   1.000000   0.366768  -0.784854\n",
      "   1.000000  -0.069973  -1.023048\n",
      "   1.000000  -0.301643  -1.034729\n",
      "   1.000000   1.463806  -1.108953\n",
      "\n"
     ]
    }
   ],
   "source": [
    "X(1:5,:)"
   ]
  },
  {
   "cell_type": "code",
   "execution_count": 250,
   "id": "74a78d13-f08e-4421-8d5e-3e00655c6d51",
   "metadata": {},
   "outputs": [],
   "source": [
    "load('targetY.dat')"
   ]
  },
  {
   "cell_type": "code",
   "execution_count": 251,
   "id": "b6deb9cb-698e-4a6f-a890-428dfb43975c",
   "metadata": {},
   "outputs": [
    {
     "name": "stdout",
     "output_type": "stream",
     "text": [
      "ans =\n",
      "\n",
      "  -0.8754\n",
      "  -0.6639\n",
      "   0.9027\n",
      "   0.2944\n",
      "   1.4356\n",
      "\n"
     ]
    }
   ],
   "source": [
    "y(1:5,1)"
   ]
  },
  {
   "cell_type": "code",
   "execution_count": 252,
   "id": "69e90bda-8416-4a0d-ac36-66c3686db8a3",
   "metadata": {},
   "outputs": [
    {
     "name": "stdout",
     "output_type": "stream",
     "text": [
      "Variables visible from the current scope:\n",
      "\n",
      "A    C    E    a    b    fig  r    v    w\n",
      "B    D    X    ans  c    ind  sz   val  y\n",
      "\n"
     ]
    }
   ],
   "source": [
    "% Display all variables in my workspace\n",
    "who"
   ]
  },
  {
   "cell_type": "code",
   "execution_count": 253,
   "id": "c9430224-b43c-4458-9a69-adffb563b7a0",
   "metadata": {},
   "outputs": [
    {
     "name": "stdout",
     "output_type": "stream",
     "text": [
      "Variables visible from the current scope:\n",
      "\n",
      "variables in scope: top scope\n",
      "\n",
      "   Attr Name        Size                     Bytes  Class\n",
      "   ==== ====        ====                     =====  ===== \n",
      "        A           3x2                         48  double\n",
      "        B           3x2                         48  double\n",
      "        C           2x3                         48  double\n",
      "        D           1x6                         48  double\n",
      "        E           4x6                        192  double\n",
      "        X         100x3                       2400  double\n",
      "        a           1x1                          8  double\n",
      "        ans         5x1                         40  double\n",
      "        b           1x1                          8  double\n",
      "        c           1x8                          8  char\n",
      "        fig         1x1                          8  double\n",
      "        ind         1x1                          8  double\n",
      "        r           3x1                         24  double\n",
      "        sz          1x2                         16  double\n",
      "        v           1x11                        24  double\n",
      "        val         1x1                          8  double\n",
      "        w           1x10000                  80000  double\n",
      "        y         100x1                        800  double\n",
      "\n",
      "Total is 10482 elements using 83736 bytes\n",
      "\n"
     ]
    }
   ],
   "source": [
    "% More complete who\n",
    "whos"
   ]
  },
  {
   "cell_type": "code",
   "execution_count": 254,
   "id": "996b8e74-aa39-4371-9a9f-5ade3e554f08",
   "metadata": {},
   "outputs": [],
   "source": [
    "% Delete a variable\n",
    "clear A"
   ]
  },
  {
   "cell_type": "code",
   "execution_count": 255,
   "id": "dff1ff11-1ded-4069-b02b-35642f90a347",
   "metadata": {},
   "outputs": [
    {
     "name": "stdout",
     "output_type": "stream",
     "text": [
      "error: 'A' undefined near line 1, column 1\n"
     ]
    }
   ],
   "source": [
    "A"
   ]
  },
  {
   "cell_type": "code",
   "execution_count": 256,
   "id": "7968017c-c069-43c6-88f7-b6ad957c831f",
   "metadata": {},
   "outputs": [
    {
     "name": "stdout",
     "output_type": "stream",
     "text": [
      "A =\n",
      "\n",
      "   1   2\n",
      "   3   4\n",
      "   5   6\n",
      "\n"
     ]
    }
   ],
   "source": [
    "A = [1 2; 3 4; 5 6]"
   ]
  },
  {
   "cell_type": "code",
   "execution_count": 257,
   "id": "279c7aee-2201-464d-bce5-29c879aac18e",
   "metadata": {},
   "outputs": [
    {
     "name": "stdout",
     "output_type": "stream",
     "text": [
      "ans = 6\n"
     ]
    }
   ],
   "source": [
    "% Element in row 3, col 2\n",
    "A(3,2)"
   ]
  },
  {
   "cell_type": "code",
   "execution_count": 258,
   "id": "80e82a70-f65e-4184-8219-a2c3da3dc8e9",
   "metadata": {},
   "outputs": [
    {
     "name": "stdout",
     "output_type": "stream",
     "text": [
      "ans =\n",
      "\n",
      "   3   4\n",
      "\n"
     ]
    }
   ],
   "source": [
    "% Complete row 2\n",
    "A(2,:)"
   ]
  },
  {
   "cell_type": "code",
   "execution_count": 259,
   "id": "1eed6bbd-14e2-44fd-acaf-b4fdb47e3c83",
   "metadata": {},
   "outputs": [
    {
     "name": "stdout",
     "output_type": "stream",
     "text": [
      "ans =\n",
      "\n",
      "   1   2\n",
      "   5   6\n",
      "\n"
     ]
    }
   ],
   "source": [
    "% All cols from rows 1 & 3\n",
    "A([1 3],:)"
   ]
  },
  {
   "cell_type": "code",
   "execution_count": 260,
   "id": "545b34fc-2406-4b50-90a2-03ee123290bc",
   "metadata": {},
   "outputs": [
    {
     "name": "stdout",
     "output_type": "stream",
     "text": [
      "A =\n",
      "\n",
      "   0   5\n",
      "   3   4\n",
      "  -1   3\n",
      "\n"
     ]
    }
   ],
   "source": [
    "% We can also assign\n",
    "A([1 3],:) = [0 5; -1 3]"
   ]
  },
  {
   "cell_type": "code",
   "execution_count": 261,
   "id": "0ac403db-6779-498e-83b9-9971f731d128",
   "metadata": {},
   "outputs": [
    {
     "name": "stdout",
     "output_type": "stream",
     "text": [
      "A =\n",
      "\n",
      "     0     5   100\n",
      "     3     4   101\n",
      "    -1     3   102\n",
      "\n"
     ]
    }
   ],
   "source": [
    "% Append cols/rows\n",
    "A = [A, [100, 101, 102]']"
   ]
  },
  {
   "cell_type": "code",
   "execution_count": 262,
   "id": "3c5a7e54-36f3-4573-b5bf-5903533be780",
   "metadata": {},
   "outputs": [
    {
     "name": "stdout",
     "output_type": "stream",
     "text": [
      "A =\n",
      "\n",
      "     0     5   100   200\n",
      "     3     4   101   201\n",
      "    -1     3   102   202\n",
      "\n"
     ]
    }
   ],
   "source": [
    "A = [A, [200; 201; 202]]"
   ]
  },
  {
   "cell_type": "code",
   "execution_count": 263,
   "id": "f2c172b8-f0d2-4609-a4d3-c2178ae6e4cf",
   "metadata": {},
   "outputs": [
    {
     "name": "stdout",
     "output_type": "stream",
     "text": [
      "ans =\n",
      "\n",
      "     0\n",
      "     3\n",
      "    -1\n",
      "     5\n",
      "     4\n",
      "     3\n",
      "   100\n",
      "   101\n",
      "   102\n",
      "   200\n",
      "   201\n",
      "   202\n",
      "\n"
     ]
    }
   ],
   "source": [
    "% Get all elements of a matrix concatenated in a column vector\n",
    "% Column-major\n",
    "A(:)"
   ]
  },
  {
   "cell_type": "code",
   "execution_count": 264,
   "id": "3230e8f5-fa01-4744-8a37-07b8770bf747",
   "metadata": {},
   "outputs": [
    {
     "name": "stdout",
     "output_type": "stream",
     "text": [
      "B =\n",
      "\n",
      "   1   2\n",
      "   3   4\n",
      "   5   6\n",
      "\n"
     ]
    }
   ],
   "source": [
    "B = [1, 2; 3, 4; 5, 6]"
   ]
  },
  {
   "cell_type": "code",
   "execution_count": 265,
   "id": "fac548e2-ba97-4c7b-84ff-c90aa3666eca",
   "metadata": {},
   "outputs": [
    {
     "name": "stdout",
     "output_type": "stream",
     "text": [
      "C =\n",
      "\n",
      "     0     5   100   200     1     2\n",
      "     3     4   101   201     3     4\n",
      "    -1     3   102   202     5     6\n",
      "\n"
     ]
    }
   ],
   "source": [
    "% We can concatenate matrices\n",
    "C = [A, B]"
   ]
  },
  {
   "cell_type": "code",
   "execution_count": 266,
   "id": "3a6a1222-b47f-4dd1-9214-9b13729c364f",
   "metadata": {},
   "outputs": [
    {
     "name": "stdout",
     "output_type": "stream",
     "text": [
      "D =\n",
      "\n",
      "   10   11   12   13   14   15\n",
      "\n"
     ]
    }
   ],
   "source": [
    "D = [10, 11, 12, 13, 14, 15]"
   ]
  },
  {
   "cell_type": "code",
   "execution_count": 267,
   "id": "531d21b5-5fee-4c86-845c-341edfb97e89",
   "metadata": {},
   "outputs": [
    {
     "name": "stdout",
     "output_type": "stream",
     "text": [
      "E =\n",
      "\n",
      "     0     5   100   200     1     2\n",
      "     3     4   101   201     3     4\n",
      "    -1     3   102   202     5     6\n",
      "    10    11    12    13    14    15\n",
      "\n"
     ]
    }
   ],
   "source": [
    "E = [C; D]"
   ]
  },
  {
   "cell_type": "markdown",
   "id": "eb1b26ff-ed28-4441-91c9-df1a091eb5dc",
   "metadata": {},
   "source": [
    "## 3. Computing on Data"
   ]
  },
  {
   "cell_type": "code",
   "execution_count": 268,
   "id": "23fd5580-497a-41b2-99d1-57d2c5fdd7c0",
   "metadata": {},
   "outputs": [
    {
     "name": "stdout",
     "output_type": "stream",
     "text": [
      "A =\n",
      "\n",
      "   1   2\n",
      "   3   4\n",
      "   5   6\n",
      "\n",
      "B =\n",
      "\n",
      "   11   12\n",
      "   12   14\n",
      "   15   16\n",
      "\n",
      "C =\n",
      "\n",
      "   1   1\n",
      "   2   2\n",
      "\n"
     ]
    }
   ],
   "source": [
    "A = [1, 2; 3, 4; 5, 6]\n",
    "B = [11, 12; 12, 14; 15, 16]\n",
    "C = [1, 1; 2, 2]"
   ]
  },
  {
   "cell_type": "code",
   "execution_count": 269,
   "id": "e75594ac-101e-44b5-a3d4-8774edb3d4a0",
   "metadata": {},
   "outputs": [
    {
     "name": "stdout",
     "output_type": "stream",
     "text": [
      "ans =\n",
      "\n",
      "    5    5\n",
      "   11   11\n",
      "   17   17\n",
      "\n"
     ]
    }
   ],
   "source": [
    "% Matrix multiplication\n",
    "A*C"
   ]
  },
  {
   "cell_type": "code",
   "execution_count": 270,
   "id": "ed32a036-5b90-4642-80d5-f0ccaa94ab36",
   "metadata": {},
   "outputs": [
    {
     "name": "stdout",
     "output_type": "stream",
     "text": [
      "ans =\n",
      "\n",
      "   11   24\n",
      "   36   56\n",
      "   75   96\n",
      "\n"
     ]
    }
   ],
   "source": [
    "% Element-wise operations with .\n",
    "A.*B"
   ]
  },
  {
   "cell_type": "code",
   "execution_count": 271,
   "id": "1efd3b56-4ac6-4d1c-9c73-09b4c345143d",
   "metadata": {},
   "outputs": [
    {
     "name": "stdout",
     "output_type": "stream",
     "text": [
      "ans =\n",
      "\n",
      "    1    4\n",
      "    9   16\n",
      "   25   36\n",
      "\n"
     ]
    }
   ],
   "source": [
    "A.^2"
   ]
  },
  {
   "cell_type": "code",
   "execution_count": 272,
   "id": "0dbfe6b2-15b6-4f93-8a9e-852537478a57",
   "metadata": {},
   "outputs": [
    {
     "name": "stdout",
     "output_type": "stream",
     "text": [
      "v =\n",
      "\n",
      "   1   2   3\n",
      "\n"
     ]
    }
   ],
   "source": [
    "v = [1, 2, 3]"
   ]
  },
  {
   "cell_type": "code",
   "execution_count": 273,
   "id": "27b1af5b-f90e-405d-8cd3-e33668c4028f",
   "metadata": {},
   "outputs": [
    {
     "name": "stdout",
     "output_type": "stream",
     "text": [
      "ans =\n",
      "\n",
      "   1.0000   0.5000   0.3333\n",
      "\n"
     ]
    }
   ],
   "source": [
    "1./v"
   ]
  },
  {
   "cell_type": "code",
   "execution_count": 274,
   "id": "ca799d8c-037f-43cb-80d9-af916878077d",
   "metadata": {},
   "outputs": [
    {
     "name": "stdout",
     "output_type": "stream",
     "text": [
      "ans =\n",
      "\n",
      "        0   0.6931\n",
      "   1.0986   1.3863\n",
      "   1.6094   1.7918\n",
      "\n"
     ]
    }
   ],
   "source": [
    "% Element-wise applied functions\n",
    "log(A)"
   ]
  },
  {
   "cell_type": "code",
   "execution_count": 275,
   "id": "6cea0b1b-0105-48e3-a39c-6b9a2ad0a70c",
   "metadata": {},
   "outputs": [
    {
     "name": "stdout",
     "output_type": "stream",
     "text": [
      "ans =\n",
      "\n",
      "   1   2\n",
      "   3   4\n",
      "   5   6\n",
      "\n"
     ]
    }
   ],
   "source": [
    "abs(A)"
   ]
  },
  {
   "cell_type": "code",
   "execution_count": 276,
   "id": "ff4c9ba0-d918-41c9-bb82-4126f76fa892",
   "metadata": {},
   "outputs": [
    {
     "name": "stdout",
     "output_type": "stream",
     "text": [
      "ans =\n",
      "\n",
      "  -1  -2\n",
      "  -3  -4\n",
      "  -5  -6\n",
      "\n"
     ]
    }
   ],
   "source": [
    "-A"
   ]
  },
  {
   "cell_type": "code",
   "execution_count": 277,
   "id": "f2ab2d59-dcad-4f0e-a428-360a098c98dc",
   "metadata": {},
   "outputs": [
    {
     "name": "stdout",
     "output_type": "stream",
     "text": [
      "ans =\n",
      "\n",
      "   2   3\n",
      "   4   5\n",
      "   6   7\n",
      "\n"
     ]
    }
   ],
   "source": [
    "% Add one unit to each element\n",
    "A + ones(size(A))"
   ]
  },
  {
   "cell_type": "code",
   "execution_count": 278,
   "id": "2dd15e09-651d-4fd5-91ac-b9bb710530f4",
   "metadata": {},
   "outputs": [
    {
     "name": "stdout",
     "output_type": "stream",
     "text": [
      "ans =\n",
      "\n",
      "   2   3   4\n",
      "\n"
     ]
    }
   ],
   "source": [
    "v + ones(1,length(v))"
   ]
  },
  {
   "cell_type": "code",
   "execution_count": 279,
   "id": "61d5bb48-e867-49e9-8067-93d685f4f2d6",
   "metadata": {},
   "outputs": [
    {
     "name": "stdout",
     "output_type": "stream",
     "text": [
      "ans =\n",
      "\n",
      "   1   3\n",
      "\n"
     ]
    }
   ],
   "source": [
    "size(v)"
   ]
  },
  {
   "cell_type": "code",
   "execution_count": 280,
   "id": "2584b31f-fb60-4db4-943f-ffc3fc43af86",
   "metadata": {},
   "outputs": [
    {
     "name": "stdout",
     "output_type": "stream",
     "text": [
      "ans =\n",
      "\n",
      "   2   3   4\n",
      "\n"
     ]
    }
   ],
   "source": [
    "% But, if a scalar is added, it's element-wise!\n",
    "v + 1"
   ]
  },
  {
   "cell_type": "code",
   "execution_count": 281,
   "id": "da3bcf0c-c6e0-44f1-a51b-edbff11b73ea",
   "metadata": {},
   "outputs": [
    {
     "name": "stdout",
     "output_type": "stream",
     "text": [
      "ans =\n",
      "\n",
      "   1   3   5\n",
      "   2   4   6\n",
      "\n"
     ]
    }
   ],
   "source": [
    "% Transpose\n",
    "A'"
   ]
  },
  {
   "cell_type": "code",
   "execution_count": 282,
   "id": "6d053dbb-a1d6-4a5e-834f-80ec7c6848c7",
   "metadata": {},
   "outputs": [
    {
     "name": "stdout",
     "output_type": "stream",
     "text": [
      "ans =\n",
      "\n",
      "   1   2\n",
      "   3   4\n",
      "   5   6\n",
      "\n"
     ]
    }
   ],
   "source": [
    "(A')'"
   ]
  },
  {
   "cell_type": "code",
   "execution_count": 283,
   "id": "5b25b4a1-a9a0-4ce0-8160-68cf4463ae50",
   "metadata": {},
   "outputs": [
    {
     "name": "stdout",
     "output_type": "stream",
     "text": [
      "a =\n",
      "\n",
      "    1.0000   15.0000    2.0000    0.5000\n",
      "\n"
     ]
    }
   ],
   "source": [
    "a = [1 15 2 0.5]"
   ]
  },
  {
   "cell_type": "code",
   "execution_count": 284,
   "id": "5e208453-46b7-458c-9660-542d96e2b688",
   "metadata": {},
   "outputs": [
    {
     "name": "stdout",
     "output_type": "stream",
     "text": [
      "ans = 15\n"
     ]
    }
   ],
   "source": [
    "max(a)"
   ]
  },
  {
   "cell_type": "code",
   "execution_count": 285,
   "id": "3cf16a60-47ee-4dde-9841-36b0bcb2f383",
   "metadata": {},
   "outputs": [
    {
     "name": "stdout",
     "output_type": "stream",
     "text": [
      "val = 15\n",
      "ind = 2\n"
     ]
    }
   ],
   "source": [
    "% Value and index\n",
    "[val ind] = max(a)"
   ]
  },
  {
   "cell_type": "code",
   "execution_count": 286,
   "id": "373f7b35-5218-4c0b-964b-4935af8d87fa",
   "metadata": {},
   "outputs": [
    {
     "name": "stdout",
     "output_type": "stream",
     "text": [
      "ans =\n",
      "\n",
      "  1  0  1  1\n",
      "\n"
     ]
    }
   ],
   "source": [
    "% Element-wise comparison\n",
    "a < 3"
   ]
  },
  {
   "cell_type": "code",
   "execution_count": 287,
   "id": "d6920f90-03c1-4053-975b-64668f105e57",
   "metadata": {},
   "outputs": [
    {
     "name": "stdout",
     "output_type": "stream",
     "text": [
      "ans =\n",
      "\n",
      "   1   3   4\n",
      "\n"
     ]
    }
   ],
   "source": [
    "% Indices of a which contain values < 3\n",
    "find(a < 3)"
   ]
  },
  {
   "cell_type": "code",
   "execution_count": 288,
   "id": "f37b69b9-18b0-43c1-b03f-51c4d5249612",
   "metadata": {},
   "outputs": [
    {
     "name": "stdout",
     "output_type": "stream",
     "text": [
      "A =\n",
      "\n",
      "   8   1   6\n",
      "   3   5   7\n",
      "   4   9   2\n",
      "\n"
     ]
    }
   ],
   "source": [
    "% All rows and cols sum up the same value\n",
    "% Not really useful in ML\n",
    "A = magic(3)"
   ]
  },
  {
   "cell_type": "code",
   "execution_count": 289,
   "id": "59cc5010-4009-4cbf-922e-f5fa3b39df5a",
   "metadata": {},
   "outputs": [
    {
     "name": "stdout",
     "output_type": "stream",
     "text": [
      "r =\n",
      "\n",
      "   1\n",
      "   3\n",
      "   2\n",
      "\n",
      "c =\n",
      "\n",
      "   1\n",
      "   2\n",
      "   3\n",
      "\n"
     ]
    }
   ],
   "source": [
    "% Row & Column coordinates of all values in A which are >= 7\n",
    "% We have 3 values -> 3 r&c pairs\n",
    "[r,c] = find(A >= 7)"
   ]
  },
  {
   "cell_type": "code",
   "execution_count": 290,
   "id": "aafd0fd8-8da3-47e3-8791-c8a7f8115916",
   "metadata": {},
   "outputs": [
    {
     "name": "stdout",
     "output_type": "stream",
     "text": [
      "a =\n",
      "\n",
      "    1.0000   15.0000    2.0000    0.5000\n",
      "\n"
     ]
    }
   ],
   "source": [
    "a"
   ]
  },
  {
   "cell_type": "code",
   "execution_count": 291,
   "id": "e7d4657c-4ffe-4203-9668-5aa0ac2ca436",
   "metadata": {},
   "outputs": [
    {
     "name": "stdout",
     "output_type": "stream",
     "text": [
      "ans = 18.500\n"
     ]
    }
   ],
   "source": [
    "sum(a)"
   ]
  },
  {
   "cell_type": "code",
   "execution_count": 292,
   "id": "9d8b7789-ec5d-4fe8-918e-e568aa85f67b",
   "metadata": {},
   "outputs": [
    {
     "name": "stdout",
     "output_type": "stream",
     "text": [
      "ans = 15\n"
     ]
    }
   ],
   "source": [
    "prod(a)"
   ]
  },
  {
   "cell_type": "code",
   "execution_count": 293,
   "id": "8176e8a5-58fd-428a-bf65-e98e612d65b5",
   "metadata": {},
   "outputs": [
    {
     "name": "stdout",
     "output_type": "stream",
     "text": [
      "ans =\n",
      "\n",
      "    1   15    2    0\n",
      "\n"
     ]
    }
   ],
   "source": [
    "floor(a)"
   ]
  },
  {
   "cell_type": "code",
   "execution_count": 294,
   "id": "f4cb626e-4cc6-4f26-a5a4-374e4bb26479",
   "metadata": {},
   "outputs": [
    {
     "name": "stdout",
     "output_type": "stream",
     "text": [
      "ans =\n",
      "\n",
      "    1   15    2    1\n",
      "\n"
     ]
    }
   ],
   "source": [
    "ceil(a)"
   ]
  },
  {
   "cell_type": "code",
   "execution_count": 295,
   "id": "c5bb535d-a13b-4094-b0ad-1df3e6e63c1a",
   "metadata": {},
   "outputs": [
    {
     "name": "stdout",
     "output_type": "stream",
     "text": [
      "ans =\n",
      "\n",
      "   0.186117   0.979460   0.114744\n",
      "   0.025034   0.765490   0.218396\n",
      "   0.401402   0.599526   0.356361\n",
      "\n"
     ]
    }
   ],
   "source": [
    "rand(3)"
   ]
  },
  {
   "cell_type": "code",
   "execution_count": 296,
   "id": "5364b81b-0aaa-4114-9d60-5be61fbe652f",
   "metadata": {},
   "outputs": [
    {
     "name": "stdout",
     "output_type": "stream",
     "text": [
      "ans =\n",
      "\n",
      "   0.7393   0.2787   0.7978\n",
      "   0.9198   0.1151   0.6420\n",
      "   0.7709   0.7994   0.8958\n",
      "\n"
     ]
    }
   ],
   "source": [
    "% Element-wise max of two randomly generated matrices\n",
    "max(rand(3),rand(3))"
   ]
  },
  {
   "cell_type": "code",
   "execution_count": 297,
   "id": "25715245-cfd0-4c1a-afad-620c5d32f25b",
   "metadata": {},
   "outputs": [
    {
     "name": "stdout",
     "output_type": "stream",
     "text": [
      "A =\n",
      "\n",
      "   8   1   6\n",
      "   3   5   7\n",
      "   4   9   2\n",
      "\n"
     ]
    }
   ],
   "source": [
    "A"
   ]
  },
  {
   "cell_type": "code",
   "execution_count": 298,
   "id": "abf04364-ce7a-4271-bda0-7b00a7e83664",
   "metadata": {},
   "outputs": [
    {
     "name": "stdout",
     "output_type": "stream",
     "text": [
      "ans =\n",
      "\n",
      "   8   9   7\n",
      "\n"
     ]
    }
   ],
   "source": [
    "% Maximum in each column\n",
    "max(A,[],1)"
   ]
  },
  {
   "cell_type": "code",
   "execution_count": 299,
   "id": "fd7c4522-7db4-45f1-95bc-9efd7ee1b4b5",
   "metadata": {},
   "outputs": [
    {
     "name": "stdout",
     "output_type": "stream",
     "text": [
      "ans =\n",
      "\n",
      "   8\n",
      "   7\n",
      "   9\n",
      "\n"
     ]
    }
   ],
   "source": [
    "% Maximum in each row\n",
    "max(A,[],2)"
   ]
  },
  {
   "cell_type": "code",
   "execution_count": 300,
   "id": "634e7dd8-acd9-4b46-9d1c-eaa00c2eb729",
   "metadata": {},
   "outputs": [
    {
     "name": "stdout",
     "output_type": "stream",
     "text": [
      "ans =\n",
      "\n",
      "   8   9   7\n",
      "\n"
     ]
    }
   ],
   "source": [
    "% Maximum in each column\n",
    "max(A)"
   ]
  },
  {
   "cell_type": "code",
   "execution_count": 301,
   "id": "ec05fcaf-c067-4809-808c-ce05dc800aaa",
   "metadata": {},
   "outputs": [
    {
     "name": "stdout",
     "output_type": "stream",
     "text": [
      "ans = 9\n"
     ]
    }
   ],
   "source": [
    "% Maximum element\n",
    "max(max(A))"
   ]
  },
  {
   "cell_type": "code",
   "execution_count": 302,
   "id": "c4330673-54f8-405b-92bb-ad943c2d462a",
   "metadata": {},
   "outputs": [
    {
     "name": "stdout",
     "output_type": "stream",
     "text": [
      "A =\n",
      "\n",
      "   47   58   69   80    1   12   23   34   45\n",
      "   57   68   79    9   11   22   33   44   46\n",
      "   67   78    8   10   21   32   43   54   56\n",
      "   77    7   18   20   31   42   53   55   66\n",
      "    6   17   19   30   41   52   63   65   76\n",
      "   16   27   29   40   51   62   64   75    5\n",
      "   26   28   39   50   61   72   74    4   15\n",
      "   36   38   49   60   71   73    3   14   25\n",
      "   37   48   59   70   81    2   13   24   35\n",
      "\n"
     ]
    }
   ],
   "source": [
    "A = magic(9)"
   ]
  },
  {
   "cell_type": "code",
   "execution_count": 303,
   "id": "ae051b8f-a3a3-499a-9166-22e1ece1b26c",
   "metadata": {},
   "outputs": [
    {
     "name": "stdout",
     "output_type": "stream",
     "text": [
      "ans =\n",
      "\n",
      "   369   369   369   369   369   369   369   369   369\n",
      "\n"
     ]
    }
   ],
   "source": [
    "% Sum columns\n",
    "sum(A,1)"
   ]
  },
  {
   "cell_type": "code",
   "execution_count": 304,
   "id": "c1c90c84-aac6-4e06-89b5-8de1135f1884",
   "metadata": {},
   "outputs": [
    {
     "name": "stdout",
     "output_type": "stream",
     "text": [
      "ans =\n",
      "\n",
      "   369\n",
      "   369\n",
      "   369\n",
      "   369\n",
      "   369\n",
      "   369\n",
      "   369\n",
      "   369\n",
      "   369\n",
      "\n"
     ]
    }
   ],
   "source": [
    "% Sum rows\n",
    "sum(A,2)"
   ]
  },
  {
   "cell_type": "code",
   "execution_count": 305,
   "id": "9dc5bab9-2698-43da-af20-13f8602878b5",
   "metadata": {},
   "outputs": [
    {
     "name": "stdout",
     "output_type": "stream",
     "text": [
      "ans =\n",
      "\n",
      "   47    0    0    0    0    0    0    0    0\n",
      "    0   68    0    0    0    0    0    0    0\n",
      "    0    0    8    0    0    0    0    0    0\n",
      "    0    0    0   20    0    0    0    0    0\n",
      "    0    0    0    0   41    0    0    0    0\n",
      "    0    0    0    0    0   62    0    0    0\n",
      "    0    0    0    0    0    0   74    0    0\n",
      "    0    0    0    0    0    0    0   14    0\n",
      "    0    0    0    0    0    0    0    0   35\n",
      "\n"
     ]
    }
   ],
   "source": [
    "% Diagonal of A\n",
    "A.*eye(9)"
   ]
  },
  {
   "cell_type": "code",
   "execution_count": 306,
   "id": "ac406eba-10a5-4d3d-96dc-9aafab2cb511",
   "metadata": {},
   "outputs": [
    {
     "name": "stdout",
     "output_type": "stream",
     "text": [
      "ans = 369\n"
     ]
    }
   ],
   "source": [
    "% Sum of the diagonal\n",
    "sum(sum(A.*eye(9)))"
   ]
  },
  {
   "cell_type": "code",
   "execution_count": 307,
   "id": "98369980-0051-4df1-9221-f4f21fbb53d3",
   "metadata": {},
   "outputs": [
    {
     "name": "stdout",
     "output_type": "stream",
     "text": [
      "A =\n",
      "\n",
      "   8   1   6\n",
      "   3   5   7\n",
      "   4   9   2\n",
      "\n"
     ]
    }
   ],
   "source": [
    "A = magic(3)"
   ]
  },
  {
   "cell_type": "code",
   "execution_count": 308,
   "id": "00c8d87d-3b32-48a6-be6d-0ddfd5cce15c",
   "metadata": {},
   "outputs": [
    {
     "name": "stdout",
     "output_type": "stream",
     "text": [
      "ans =\n",
      "\n",
      "   0.147222  -0.144444   0.063889\n",
      "  -0.061111   0.022222   0.105556\n",
      "  -0.019444   0.188889  -0.102778\n",
      "\n"
     ]
    }
   ],
   "source": [
    "% Pseudo-inverse of A, or inverse it it exists\n",
    "pinv(A)"
   ]
  },
  {
   "cell_type": "code",
   "execution_count": 309,
   "id": "c82fef68-6bbe-43f7-9261-32af2a0d049d",
   "metadata": {},
   "outputs": [
    {
     "name": "stdout",
     "output_type": "stream",
     "text": [
      "ans =\n",
      "\n",
      "   1.0000e+00  -1.2379e-14   6.1340e-15\n",
      "   3.1225e-16   1.0000e+00  -1.5266e-16\n",
      "  -5.8287e-15   1.2268e-14   1.0000e+00\n",
      "\n"
     ]
    }
   ],
   "source": [
    "A*pinv(A)"
   ]
  },
  {
   "cell_type": "markdown",
   "id": "b5162956-2f00-41a0-a3c3-94a38ce54b9d",
   "metadata": {},
   "source": [
    "## 4. Plotting Data"
   ]
  },
  {
   "cell_type": "code",
   "execution_count": 460,
   "id": "4081c83a-ee08-43c8-96c5-42e0534b566a",
   "metadata": {},
   "outputs": [],
   "source": [
    "t = [0:0.01:0.98];"
   ]
  },
  {
   "cell_type": "code",
   "execution_count": 461,
   "id": "fd6e39f4-0da0-4822-b83e-44e6dcc965a8",
   "metadata": {},
   "outputs": [
    {
     "name": "stdout",
     "output_type": "stream",
     "text": [
      "ans =\n",
      "\n",
      "    1   99\n",
      "\n"
     ]
    }
   ],
   "source": [
    "size(t)"
   ]
  },
  {
   "cell_type": "code",
   "execution_count": 462,
   "id": "a23cc4a4-235d-48df-80b5-b7210bcfe0de",
   "metadata": {},
   "outputs": [],
   "source": [
    "y1 = sin(2*pi*4*t);"
   ]
  },
  {
   "cell_type": "code",
   "execution_count": 463,
   "id": "fb5592ea-f06b-4fb2-b885-27b68121e5bd",
   "metadata": {},
   "outputs": [],
   "source": [
    "y2 = cos(2*pi*4*t);"
   ]
  },
  {
   "cell_type": "code",
   "execution_count": 464,
   "id": "a3113e95-ca66-43b6-aa70-560ad6958bdb",
   "metadata": {},
   "outputs": [
    {
     "name": "stdout",
     "output_type": "stream",
     "text": [
      "fig = 1\n"
     ]
    },
    {
     "data": {
      "image/png": "[encoded data removed]",
      "text/plain": [
       "<IPython.core.display.Image object>"
      ]
     },
     "metadata": {},
     "output_type": "display_data"
    }
   ],
   "source": [
    "fig = figure()\n",
    "plot(t,y1)"
   ]
  },
  {
   "cell_type": "code",
   "execution_count": 465,
   "id": "b81df734-c977-41f8-a6da-3e47e2e99c71",
   "metadata": {},
   "outputs": [
    {
     "name": "stdout",
     "output_type": "stream",
     "text": [
      "fig = 1\n",
      "ans = -212.14\n",
      "Fontconfig warning: ignoring UTF-8: not a valid region tag\n"
     ]
    },
    {
     "data": {
      "image/png": "[encoded data removed]",
      "text/plain": [
       "<IPython.core.display.Image object>"
      ]
     },
     "metadata": {},
     "output_type": "display_data"
    }
   ],
   "source": [
    "fig = figure()\n",
    "plot(t,y1)\n",
    "% keep plots on same figure\n",
    "hold on\n",
    "% line color and style\n",
    "plot(t,y2,'r*')\n",
    "% labels\n",
    "xlabel('time')\n",
    "ylabel('value')\n",
    "legend('sin','cos')\n",
    "title('My plot')\n",
    "% save plot as PNG; see help plot for further formats\n",
    "% it takes some seconds\n",
    "print -dpng 'my_test_plot.png'\n",
    "% close figure if we are not plotting inline \n",
    "% close(fig)"
   ]
  },
  {
   "cell_type": "code",
   "execution_count": 466,
   "id": "6b3600a3-ff3f-48de-b8cf-35e74177cb1a",
   "metadata": {},
   "outputs": [
    {
     "data": {
      "image/png": "[encoded data removed]",
      "text/plain": [
       "<IPython.core.display.Image object>"
      ]
     },
     "metadata": {},
     "output_type": "display_data"
    },
    {
     "data": {
      "image/png": "[encoded data removed]",
      "text/plain": [
       "<IPython.core.display.Image object>"
      ]
     },
     "metadata": {},
     "output_type": "display_data"
    }
   ],
   "source": [
    "% We can specify different figure pannels with a number\n",
    "% If we are not plotting inline, two windoes appear\n",
    "figure(1); plot(t,y1);\n",
    "figure(2); plot(t,y2);"
   ]
  },
  {
   "cell_type": "code",
   "execution_count": 467,
   "id": "19754538-8e14-46c0-b0fe-34a790fde7b2",
   "metadata": {},
   "outputs": [
    {
     "data": {
      "image/png": "[encoded data removed]",
      "text/plain": [
       "<IPython.core.display.Image object>"
      ]
     },
     "metadata": {},
     "output_type": "display_data"
    }
   ],
   "source": [
    "% Divide the plotting canvas into a 1x2 grid\n",
    "% and go to first area/element\n",
    "subplot(2,1,1);\n",
    "plot(t,y1)\n",
    "% Second area/element\n",
    "subplot(2,1,2);\n",
    "plot(t,y2,'g')\n",
    "% Change the axis range/scale of the 2nd area: xmin xmax ymin ymax\n",
    "axis([0.5 1 -1 1])"
   ]
  },
  {
   "cell_type": "code",
   "execution_count": 341,
   "id": "ee095a50-91fb-40b4-aade-8fafb25be2d6",
   "metadata": {},
   "outputs": [],
   "source": [
    "% Clear a figure, if not inline/embedded\n",
    "%clf;"
   ]
  },
  {
   "cell_type": "code",
   "execution_count": 348,
   "id": "fa21cd5f-b818-459f-a27d-16787d2efc9f",
   "metadata": {},
   "outputs": [],
   "source": [
    "A = magic(15);"
   ]
  },
  {
   "cell_type": "code",
   "execution_count": 349,
   "id": "56159a5f-dc35-46c4-abb3-0a11f98ef16b",
   "metadata": {},
   "outputs": [
    {
     "data": {
      "image/png": "[encoded data removed]",
      "text/plain": [
       "<IPython.core.display.Image object>"
      ]
     },
     "metadata": {},
     "output_type": "display_data"
    }
   ],
   "source": [
    "% Heatmap of a matrix\n",
    "imagesc(A)"
   ]
  },
  {
   "cell_type": "code",
   "execution_count": 351,
   "id": "325f7e4c-b738-4d1e-ba47-abda905266cd",
   "metadata": {},
   "outputs": [
    {
     "data": {
      "image/png": "[encoded data removed]",
      "text/plain": [
       "<IPython.core.display.Image object>"
      ]
     },
     "metadata": {},
     "output_type": "display_data"
    }
   ],
   "source": [
    "% Heatmap of a matrix\n",
    "% Add colorbar and change colormap to gray\n",
    "% Comma-chaining: put several commands in a line separated with commas\n",
    "imagesc(A), colorbar, colormap gray"
   ]
  },
  {
   "cell_type": "markdown",
   "id": "4e3a139b-e3e3-4c0f-be2a-e104c33b3dff",
   "metadata": {},
   "source": [
    "## 5. Control Statements and Functions"
   ]
  },
  {
   "cell_type": "code",
   "execution_count": 376,
   "id": "3c872ef9-0336-4bb8-9181-220e8b128d93",
   "metadata": {},
   "outputs": [
    {
     "name": "stdout",
     "output_type": "stream",
     "text": [
      "v =\n",
      "\n",
      "   0\n",
      "   0\n",
      "   0\n",
      "   0\n",
      "   0\n",
      "   0\n",
      "   0\n",
      "   0\n",
      "   0\n",
      "   0\n",
      "\n"
     ]
    }
   ],
   "source": [
    "v = zeros(10,1)"
   ]
  },
  {
   "cell_type": "code",
   "execution_count": 377,
   "id": "1d240d3f-7c99-4c53-9b77-e2b53578c624",
   "metadata": {},
   "outputs": [],
   "source": [
    "for i = 1:10\n",
    "    v(i) = 2^i;\n",
    "end"
   ]
  },
  {
   "cell_type": "code",
   "execution_count": 378,
   "id": "af896a8f-8bee-48bc-bba2-1f4b6fd326ea",
   "metadata": {},
   "outputs": [
    {
     "name": "stdout",
     "output_type": "stream",
     "text": [
      "v =\n",
      "\n",
      "      2\n",
      "      4\n",
      "      8\n",
      "     16\n",
      "     32\n",
      "     64\n",
      "    128\n",
      "    256\n",
      "    512\n",
      "   1024\n",
      "\n"
     ]
    }
   ],
   "source": [
    "v"
   ]
  },
  {
   "cell_type": "code",
   "execution_count": 379,
   "id": "7856ec94-cf29-45f2-b68e-8a5cea7704f7",
   "metadata": {},
   "outputs": [],
   "source": [
    "i = 1;\n",
    "while true\n",
    "    v(i) = -v(i);\n",
    "    if i == 5\n",
    "        break\n",
    "    end\n",
    "    i = i + 1;\n",
    "end"
   ]
  },
  {
   "cell_type": "code",
   "execution_count": 380,
   "id": "78cee9b7-0834-43b8-8369-94ef5b7b806b",
   "metadata": {},
   "outputs": [
    {
     "name": "stdout",
     "output_type": "stream",
     "text": [
      "v =\n",
      "\n",
      "     -2\n",
      "     -4\n",
      "     -8\n",
      "    -16\n",
      "    -32\n",
      "     64\n",
      "    128\n",
      "    256\n",
      "    512\n",
      "   1024\n",
      "\n"
     ]
    }
   ],
   "source": [
    "v"
   ]
  },
  {
   "cell_type": "code",
   "execution_count": 386,
   "id": "aef3b695-839f-4f5f-9a7d-d28e9cb2d528",
   "metadata": {},
   "outputs": [
    {
     "name": "stdout",
     "output_type": "stream",
     "text": [
      "The value is -2\n"
     ]
    }
   ],
   "source": [
    "if v(1) == -2\n",
    "    disp('The value is -2')\n",
    "elseif v(1) == 2\n",
    "    disp('The value is 2')\n",
    "else\n",
    "    disp('The value is other than 2 or -2')\n",
    "end"
   ]
  },
  {
   "cell_type": "markdown",
   "id": "311f532b-c615-43ba-9032-e19f96e5b4b0",
   "metadata": {},
   "source": [
    "### Functions\n",
    "\n",
    "For writing a function, we need to create a file with the same name of the function in our working directory; if the function file is in another directory, we use the `addpath('path/to/file')` command.\n",
    "\n",
    "For example:\n",
    "\n",
    "`./squareThisNumber.n`\n",
    "```octave\n",
    "function y = squareThisNumber(x)\n",
    "y = x^2;\n",
    "```\n",
    "\n",
    "Then, in another `*.m` file or in the `octave` kernel/terminal:\n",
    "\n",
    "```octave\n",
    "addpath('.')\n",
    "a = 2;\n",
    "s = squareThisNumber(a); % 4\n",
    "```"
   ]
  },
  {
   "cell_type": "code",
   "execution_count": 397,
   "id": "bce57187-b40c-4200-a4a2-a9b1865b054a",
   "metadata": {},
   "outputs": [
    {
     "name": "stdout",
     "output_type": "stream",
     "text": [
      "ans = /Users/mxagar/nexo/git_repositories/machine_learning_coursera/01_LinearRegression\n"
     ]
    }
   ],
   "source": [
    "% Print working directory\n",
    "pwd"
   ]
  },
  {
   "cell_type": "code",
   "execution_count": 398,
   "id": "290732d0-5ddf-44a3-99d7-ba33c3ab79ed",
   "metadata": {},
   "outputs": [],
   "source": [
    "% Add directories where functions should be looked for\n",
    "% In our case it is redundant\n",
    "addpath('.')"
   ]
  },
  {
   "cell_type": "code",
   "execution_count": 399,
   "id": "a4e7ce7f-36d4-4e5f-8d0d-30f0d75b750e",
   "metadata": {},
   "outputs": [
    {
     "name": "stdout",
     "output_type": "stream",
     "text": [
      "ans = 4\n"
     ]
    }
   ],
   "source": [
    "squareThisNumber(2)"
   ]
  },
  {
   "cell_type": "markdown",
   "id": "a8cf74d2-9a13-472d-b0d3-76e9163e6e27",
   "metadata": {},
   "source": [
    "For multiple variables to be returned, just create a vector:\n",
    "\n",
    "`squareAndCubeThisNumber.m`\n",
    "```octave\n",
    "function [y1,y2] = squareAndCubeThisNumber(x)\n",
    "y1 = x^2;\n",
    "y2 = x^3;\n",
    "```"
   ]
  },
  {
   "cell_type": "code",
   "execution_count": 402,
   "id": "eba673e7-fd3b-4944-9710-82e89743c174",
   "metadata": {},
   "outputs": [
    {
     "name": "stdout",
     "output_type": "stream",
     "text": [
      "r1 = 4\n",
      "r2 = 8\n"
     ]
    }
   ],
   "source": [
    "[r1, r2] = squareAndCubeThisNumber(2)"
   ]
  },
  {
   "cell_type": "markdown",
   "id": "274ac422-6665-4b57-9d96-6d00d7a84dad",
   "metadata": {},
   "source": [
    "### Example: Cost Function"
   ]
  },
  {
   "cell_type": "markdown",
   "id": "2dc507b4-7982-449d-a949-f2c2a41d4287",
   "metadata": {},
   "source": [
    "`costFunction.m`:\n",
    "\n",
    "```octave\n",
    "function cost = costFunction(X,y,theta)\n",
    "% Watch out: select order depending on size/dimensions\n",
    "% predictions = theta'*X;\n",
    "predictions = X*theta; % column\n",
    "cost = (1/(2*length(y)))*sum((predictions - y).^2);\n",
    "```"
   ]
  },
  {
   "cell_type": "code",
   "execution_count": 450,
   "id": "d6559883-8e50-4405-9041-66faa197cef6",
   "metadata": {},
   "outputs": [
    {
     "name": "stdout",
     "output_type": "stream",
     "text": [
      "X =\n",
      "\n",
      "   1   1\n",
      "   1   2\n",
      "   1   3\n",
      "\n",
      "theta =\n",
      "\n",
      "   1\n",
      "   1\n",
      "\n",
      "y =\n",
      "\n",
      "   1\n",
      "   2\n",
      "   3\n",
      "\n"
     ]
    }
   ],
   "source": [
    "% Our dataset\n",
    "% Look at the dimensions:\n",
    "% they need to match with the ones in function\n",
    "X = [1 1; 1 2; 1 3]\n",
    "theta = [1 1]'\n",
    "y = [1 2 3]'"
   ]
  },
  {
   "cell_type": "code",
   "execution_count": 454,
   "id": "1686f75c-7d9b-4be7-949f-172548dfb035",
   "metadata": {},
   "outputs": [
    {
     "data": {
      "image/png": "[encoded data removed]",
      "text/plain": [
       "<IPython.core.display.Image object>"
      ]
     },
     "metadata": {},
     "output_type": "display_data"
    }
   ],
   "source": [
    "% Plot data\n",
    "% We see that the theta of the line should be [t0,t1] = [0,1]\n",
    "plot(X(:,2),y,'r*')"
   ]
  },
  {
   "cell_type": "code",
   "execution_count": 455,
   "id": "812e171a-ca44-4159-a122-f0e6aefaa7a1",
   "metadata": {},
   "outputs": [
    {
     "name": "stdout",
     "output_type": "stream",
     "text": [
      "j = 0.5000\n"
     ]
    }
   ],
   "source": [
    "j = costFunction(X,y,theta)"
   ]
  },
  {
   "cell_type": "code",
   "execution_count": 456,
   "id": "6e9ab3f0-b641-4690-9674-b4807c8249a7",
   "metadata": {},
   "outputs": [],
   "source": [
    "theta = [0 1]';"
   ]
  },
  {
   "cell_type": "code",
   "execution_count": 457,
   "id": "fa6861f1-de06-4a82-bc23-739b170f2935",
   "metadata": {},
   "outputs": [
    {
     "name": "stdout",
     "output_type": "stream",
     "text": [
      "j = 0\n"
     ]
    }
   ],
   "source": [
    "j = costFunction(X,y,theta)"
   ]
  },
  {
   "cell_type": "markdown",
   "id": "bd0a43b2-662d-41c8-87ba-9d7b6bf93469",
   "metadata": {},
   "source": [
    "## 6. Vectorization"
   ]
  },
  {
   "cell_type": "code",
   "execution_count": null,
   "id": "081c3a00-2dd1-4968-8e6d-03b96984ac0e",
   "metadata": {},
   "outputs": [],
   "source": []
  }
 ],
 "metadata": {
  "kernelspec": {
   "display_name": "Octave",
   "language": "octave",
   "name": "octave"
  },
  "language_info": {
   "file_extension": ".m",
   "help_links": [
    {
     "text": "GNU Octave",
     "url": "https://www.gnu.org/software/octave/support.html"
    },
    {
     "text": "Octave Kernel",
     "url": "https://github.com/Calysto/octave_kernel"
    },
    {
     "text": "MetaKernel Magics",
     "url": "https://metakernel.readthedocs.io/en/latest/source/README.html"
    }
   ],
   "mimetype": "text/x-octave",
   "name": "octave",
   "version": "6.3.0"
  }
 },
 "nbformat": 4,
 "nbformat_minor": 5
}
