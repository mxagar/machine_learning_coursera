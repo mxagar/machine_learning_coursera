{
 "cells": [
  {
   "cell_type": "markdown",
   "id": "a6037106-5abb-44f9-883d-d0b00c3c435b",
   "metadata": {},
   "source": [
    "# Octave/Matlab Tutorial"
   ]
  },
  {
   "cell_type": "markdown",
   "id": "c6667639-1cba-4225-b895-d48d02bd789c",
   "metadata": {},
   "source": [
    "This notebook contains the most important calls needed to complete the course.\n",
    "Matlab/Octave is a nice high-level language for prototyping.\n",
    "\n",
    "Overview:\n",
    "\n",
    "0. Octave Plotting in Jupyter\n",
    "1. Basic Operations\n",
    "2. Moving Data Around\n",
    "3. Computing on Data\n",
    "4. Plotting Data\n",
    "5. Control Statements\n",
    "6. Vectorization"
   ]
  },
  {
   "cell_type": "markdown",
   "id": "ad23c017-3afc-4dc4-ad1a-57c0fba3b1a3",
   "metadata": {},
   "source": [
    "## 0. Octave Plotting in Jupyter"
   ]
  },
  {
   "cell_type": "markdown",
   "id": "311e3fd1-0c62-42c3-b84e-826b224a51c6",
   "metadata": {},
   "source": [
    "As written in the unofficial Jupyter octave kernel page [Calysto/octave_kernel](https://github.com/Calysto/octave_kernel), we need to add the following line to `~/.octaverc`:\n",
    "\n",
    "```\n",
    "vim ~/.octaverc\n",
    "# Set Qt the gnuplot terminal\n",
    "setenv(\"GNUTERM\",\"qt\");\n",
    "```\n",
    "\n",
    "Additionally, we execute in our notebook at the beginning:\n",
    "\n",
    "```\n",
    "graphics_toolkit (\"gnuplot\");\n",
    "```\n",
    "\n",
    "and if we want to have inline plots (embedded in the notebook), we execute the following magic command:\n",
    "\n",
    "```\n",
    "%plot -b inline:gnuplot\n",
    "```\n",
    "\n",
    "For more information, see the link above and check also:\n",
    "\n",
    "[Jupyter Octave Kernel Inline Graph @ Stackoverflow](https://stackoverflow.com/questions/65511187/jupyter-octave-kernel-inline-graph-windows)"
   ]
  },
  {
   "cell_type": "code",
   "execution_count": 51,
   "id": "a920fc0d-486c-4121-b5c6-3c209ac96c21",
   "metadata": {},
   "outputs": [],
   "source": [
    "graphics_toolkit (\"gnuplot\");"
   ]
  },
  {
   "cell_type": "code",
   "execution_count": 52,
   "id": "8b3cf2a6-a59e-4808-8a9f-bf6932829e4c",
   "metadata": {},
   "outputs": [],
   "source": [
    "%plot -b inline:gnuplot"
   ]
  },
  {
   "cell_type": "code",
   "execution_count": 53,
   "id": "12165eac-2412-42eb-8027-cb3128cc7602",
   "metadata": {},
   "outputs": [
    {
     "name": "stdout",
     "output_type": "stream",
     "text": [
      "fig = 1\n"
     ]
    },
    {
     "data": {
      "image/png": "[encoded data removed]",
      "text/plain": [
       "<IPython.core.display.Image object>"
      ]
     },
     "metadata": {},
     "output_type": "display_data"
    }
   ],
   "source": [
    "% Test\n",
    "fig = figure()\n",
    "plot([1,2],[3,4])"
   ]
  },
  {
   "cell_type": "code",
   "execution_count": 54,
   "id": "c2608360-6da8-4572-90d2-13442b007836",
   "metadata": {},
   "outputs": [],
   "source": [
    "% If we are not plotting inline, close the figure\n",
    "%close(fig)"
   ]
  },
  {
   "cell_type": "markdown",
   "id": "8b70506b-a1f7-41cf-ae6a-bcb8208ec403",
   "metadata": {},
   "source": [
    "## 1. Basic Operations"
   ]
  },
  {
   "cell_type": "code",
   "execution_count": 55,
   "id": "a6fb2892-c593-4e86-ab69-d986fd1e451b",
   "metadata": {},
   "outputs": [
    {
     "name": "stdout",
     "output_type": "stream",
     "text": [
      "ans = 11\n"
     ]
    }
   ],
   "source": [
    "5+6"
   ]
  },
  {
   "cell_type": "code",
   "execution_count": 56,
   "id": "0d320afb-d133-4622-bce4-a8d0c4f565f3",
   "metadata": {},
   "outputs": [
    {
     "name": "stdout",
     "output_type": "stream",
     "text": [
      "ans = 1\n"
     ]
    }
   ],
   "source": [
    "3-2"
   ]
  },
  {
   "cell_type": "code",
   "execution_count": 57,
   "id": "9f5ea10b-5c5f-4848-8aa9-ac8174f130cc",
   "metadata": {},
   "outputs": [
    {
     "name": "stdout",
     "output_type": "stream",
     "text": [
      "ans = 40\n"
     ]
    }
   ],
   "source": [
    "5*8"
   ]
  },
  {
   "cell_type": "code",
   "execution_count": 58,
   "id": "24cebcf4-e233-4acb-9696-c286d796a83b",
   "metadata": {},
   "outputs": [
    {
     "name": "stdout",
     "output_type": "stream",
     "text": [
      "ans = 0.5000\n"
     ]
    }
   ],
   "source": [
    "1/2"
   ]
  },
  {
   "cell_type": "code",
   "execution_count": 59,
   "id": "bc2ecb0d-89e1-40cd-8e87-02d0d656c9b9",
   "metadata": {},
   "outputs": [
    {
     "name": "stdout",
     "output_type": "stream",
     "text": [
      "ans = 8\n"
     ]
    }
   ],
   "source": [
    "2^3"
   ]
  },
  {
   "cell_type": "code",
   "execution_count": 60,
   "id": "6e5078f1-ee39-452e-a69f-aa87aaac8cc5",
   "metadata": {},
   "outputs": [
    {
     "name": "stdout",
     "output_type": "stream",
     "text": [
      "ans = 0\n"
     ]
    }
   ],
   "source": [
    "1 == 2"
   ]
  },
  {
   "cell_type": "code",
   "execution_count": 61,
   "id": "e4d59619-64d2-4e2e-a0c3-441e2d940c14",
   "metadata": {},
   "outputs": [
    {
     "name": "stdout",
     "output_type": "stream",
     "text": [
      "ans = 1\n"
     ]
    }
   ],
   "source": [
    "1 ~= 2"
   ]
  },
  {
   "cell_type": "code",
   "execution_count": 62,
   "id": "09d44dd6-aa8c-487c-b5ed-b0196dcacd9b",
   "metadata": {},
   "outputs": [
    {
     "name": "stdout",
     "output_type": "stream",
     "text": [
      "ans = 0\n"
     ]
    }
   ],
   "source": [
    "1 && 0"
   ]
  },
  {
   "cell_type": "code",
   "execution_count": 63,
   "id": "83aec2a1-0b2f-495e-ab61-9c739ba444da",
   "metadata": {},
   "outputs": [
    {
     "name": "stdout",
     "output_type": "stream",
     "text": [
      "ans = 1\n"
     ]
    }
   ],
   "source": [
    "1 && 1"
   ]
  },
  {
   "cell_type": "code",
   "execution_count": 64,
   "id": "a72280ec-684a-4b38-9199-ea18aea86e54",
   "metadata": {},
   "outputs": [
    {
     "name": "stdout",
     "output_type": "stream",
     "text": [
      "ans = 1\n"
     ]
    }
   ],
   "source": [
    "1 || 0"
   ]
  },
  {
   "cell_type": "code",
   "execution_count": 65,
   "id": "2251d41b-f047-45d4-8d38-8b42ebd46d39",
   "metadata": {},
   "outputs": [],
   "source": [
    "% Comments\n",
    "% ; avoids printing output\n",
    "a = 3;"
   ]
  },
  {
   "cell_type": "code",
   "execution_count": 66,
   "id": "e586e85d-21cb-42d7-ac76-f48649698285",
   "metadata": {},
   "outputs": [
    {
     "name": "stdout",
     "output_type": "stream",
     "text": [
      "b = 4\n"
     ]
    }
   ],
   "source": [
    "b = 4"
   ]
  },
  {
   "cell_type": "code",
   "execution_count": 67,
   "id": "062a2056-54b5-4dc5-a233-936e3f0d76f4",
   "metadata": {},
   "outputs": [
    {
     "name": "stdout",
     "output_type": "stream",
     "text": [
      "c = hi there\n"
     ]
    }
   ],
   "source": [
    "c = 'hi there'"
   ]
  },
  {
   "cell_type": "code",
   "execution_count": 68,
   "id": "4687f55d-9d61-4e18-8b2a-eca75b7290e5",
   "metadata": {},
   "outputs": [],
   "source": [
    "a = pi;"
   ]
  },
  {
   "cell_type": "code",
   "execution_count": 69,
   "id": "acc8e98a-73d2-4d60-b3ec-dabbe16e8c85",
   "metadata": {},
   "outputs": [
    {
     "name": "stdout",
     "output_type": "stream",
     "text": [
      "3.1416\n"
     ]
    }
   ],
   "source": [
    "disp(a)"
   ]
  },
  {
   "cell_type": "code",
   "execution_count": 70,
   "id": "68a90207-0855-4751-8051-8793c09b2265",
   "metadata": {},
   "outputs": [
    {
     "name": "stdout",
     "output_type": "stream",
     "text": [
      "2 decimals: 3.14\n"
     ]
    }
   ],
   "source": [
    "disp(sprintf('2 decimals: %0.2f',a))"
   ]
  },
  {
   "cell_type": "code",
   "execution_count": 71,
   "id": "9bee169a-acce-408f-b865-ac9ee449afb3",
   "metadata": {},
   "outputs": [
    {
     "name": "stdout",
     "output_type": "stream",
     "text": [
      "6 decimals: 3.141593\n"
     ]
    }
   ],
   "source": [
    "disp(sprintf('6 decimals: %0.6f',a))"
   ]
  },
  {
   "cell_type": "code",
   "execution_count": 72,
   "id": "ee814c60-b106-466c-9055-4f7430be27f3",
   "metadata": {},
   "outputs": [],
   "source": [
    "% extand decimals\n",
    "format long"
   ]
  },
  {
   "cell_type": "code",
   "execution_count": 73,
   "id": "38992cdb-50a2-493e-97e9-57b0869e0a25",
   "metadata": {},
   "outputs": [
    {
     "name": "stdout",
     "output_type": "stream",
     "text": [
      "a = 3.141592653589793\n"
     ]
    }
   ],
   "source": [
    "a"
   ]
  },
  {
   "cell_type": "code",
   "execution_count": 74,
   "id": "33e8356d-01d5-4aea-a235-78c95e542184",
   "metadata": {},
   "outputs": [],
   "source": [
    "% less decimals, default\n",
    "format short"
   ]
  },
  {
   "cell_type": "code",
   "execution_count": 75,
   "id": "5cec06c5-79a9-4a4a-b76b-0f32b79e11dd",
   "metadata": {},
   "outputs": [
    {
     "name": "stdout",
     "output_type": "stream",
     "text": [
      "a = 3.1416\n"
     ]
    }
   ],
   "source": [
    "a"
   ]
  },
  {
   "cell_type": "code",
   "execution_count": 76,
   "id": "da821088-f317-45ee-b7e6-8f6142e31aef",
   "metadata": {},
   "outputs": [
    {
     "name": "stdout",
     "output_type": "stream",
     "text": [
      "A =\n",
      "\n",
      "   1   2\n",
      "   3   4\n",
      "   5   6\n",
      "\n"
     ]
    }
   ],
   "source": [
    "% 3x2 matrix\n",
    "A = [1 2; 3 4; 5 6]"
   ]
  },
  {
   "cell_type": "code",
   "execution_count": 77,
   "id": "58b418ed-a0b4-418d-86c8-22c8d171366c",
   "metadata": {},
   "outputs": [
    {
     "name": "stdout",
     "output_type": "stream",
     "text": [
      "v =\n",
      "\n",
      "   1   2   3\n",
      "\n"
     ]
    }
   ],
   "source": [
    "% 1x3 vector, row\n",
    "v = [1 2 3]"
   ]
  },
  {
   "cell_type": "code",
   "execution_count": 78,
   "id": "a6ca974a-b3ce-46ea-98cb-f7768d72fc07",
   "metadata": {},
   "outputs": [
    {
     "name": "stdout",
     "output_type": "stream",
     "text": [
      "v =\n",
      "\n",
      "   1\n",
      "   2\n",
      "   3\n",
      "\n"
     ]
    }
   ],
   "source": [
    "% 3x1 vector, column\n",
    "v = [1; 2; 3]"
   ]
  },
  {
   "cell_type": "code",
   "execution_count": 79,
   "id": "b8c0ad2d-1202-4d74-9879-b9753d17d5ad",
   "metadata": {},
   "outputs": [
    {
     "name": "stdout",
     "output_type": "stream",
     "text": [
      "v =\n",
      "\n",
      " Columns 1 through 8:\n",
      "\n",
      "    1.0000    1.1000    1.2000    1.3000    1.4000    1.5000    1.6000    1.7000\n",
      "\n",
      " Columns 9 through 11:\n",
      "\n",
      "    1.8000    1.9000    2.0000\n",
      "\n"
     ]
    }
   ],
   "source": [
    "% Generate a row vector\n",
    "v = 1:0.1:2"
   ]
  },
  {
   "cell_type": "code",
   "execution_count": 80,
   "id": "b176f5bd-fe55-4cfc-8f38-1bc411a033f2",
   "metadata": {},
   "outputs": [
    {
     "name": "stdout",
     "output_type": "stream",
     "text": [
      "ans =\n",
      "\n",
      "   1   1   1\n",
      "   1   1   1\n",
      "\n"
     ]
    }
   ],
   "source": [
    "ones(2,3)"
   ]
  },
  {
   "cell_type": "code",
   "execution_count": 81,
   "id": "e03866f3-554b-40d5-ae83-901df132d451",
   "metadata": {},
   "outputs": [
    {
     "name": "stdout",
     "output_type": "stream",
     "text": [
      "C =\n",
      "\n",
      "   2   2   2\n",
      "   2   2   2\n",
      "\n"
     ]
    }
   ],
   "source": [
    "C = 2*ones(2,3)"
   ]
  },
  {
   "cell_type": "code",
   "execution_count": 82,
   "id": "26efe0f1-7b2b-462b-a5d1-068e1cf9f0e0",
   "metadata": {},
   "outputs": [
    {
     "name": "stdout",
     "output_type": "stream",
     "text": [
      "w =\n",
      "\n",
      "   1   1   1\n",
      "\n"
     ]
    }
   ],
   "source": [
    "w = ones(1,3)"
   ]
  },
  {
   "cell_type": "code",
   "execution_count": 83,
   "id": "a0ee54fd-0958-4dc2-9974-c3ffb5042a48",
   "metadata": {},
   "outputs": [
    {
     "name": "stdout",
     "output_type": "stream",
     "text": [
      "w =\n",
      "\n",
      "  0  0  0\n",
      "\n"
     ]
    }
   ],
   "source": [
    "w = zeros(1,3)"
   ]
  },
  {
   "cell_type": "code",
   "execution_count": 84,
   "id": "83a151de-e676-406b-bbce-67637a35c32e",
   "metadata": {},
   "outputs": [
    {
     "name": "stdout",
     "output_type": "stream",
     "text": [
      "w =\n",
      "\n",
      "   0.6298   0.8363   0.3921\n",
      "\n"
     ]
    }
   ],
   "source": [
    "% Random uniform distribution\n",
    "w = rand(1,3)"
   ]
  },
  {
   "cell_type": "code",
   "execution_count": 85,
   "id": "36ce4957-da53-4501-92ca-c907c3c87d77",
   "metadata": {},
   "outputs": [
    {
     "name": "stdout",
     "output_type": "stream",
     "text": [
      "ans =\n",
      "\n",
      "  -2.1230   0.1363  -0.6604\n",
      "  -0.8687   1.0702  -2.0706\n",
      "  -0.3303   0.7168   0.4769\n",
      "\n"
     ]
    }
   ],
   "source": [
    "% Random gaussian/normal/standard distribution (mean 0, std 1)\n",
    "randn(3,3)"
   ]
  },
  {
   "cell_type": "code",
   "execution_count": 86,
   "id": "5edd9a4b-cffd-4e63-9a23-8346ab5d4dcd",
   "metadata": {},
   "outputs": [],
   "source": [
    "w = -6 + sqrt(10)*(randn(1,10000));"
   ]
  },
  {
   "cell_type": "code",
   "execution_count": 87,
   "id": "454b8c38-965d-4f2d-a5a6-14bbaee6668c",
   "metadata": {},
   "outputs": [
    {
     "name": "stdout",
     "output_type": "stream",
     "text": [
      "fig = 1\n"
     ]
    },
    {
     "data": {
      "image/png": "[encoded data removed]",
      "text/plain": [
       "<IPython.core.display.Image object>"
      ]
     },
     "metadata": {},
     "output_type": "display_data"
    }
   ],
   "source": [
    "fig = figure()\n",
    "hist(w,100)"
   ]
  },
  {
   "cell_type": "code",
   "execution_count": 88,
   "id": "589a2421-027a-424c-88de-a9c68eac9bd9",
   "metadata": {},
   "outputs": [],
   "source": [
    "%close(fig)"
   ]
  },
  {
   "cell_type": "code",
   "execution_count": 89,
   "id": "0ad9ee2b-d814-44ef-b3a8-fce8e07a70d2",
   "metadata": {},
   "outputs": [
    {
     "name": "stdout",
     "output_type": "stream",
     "text": [
      "ans =\n",
      "\n",
      "Diagonal Matrix\n",
      "\n",
      "   1   0   0   0\n",
      "   0   1   0   0\n",
      "   0   0   1   0\n",
      "   0   0   0   1\n",
      "\n"
     ]
    }
   ],
   "source": [
    "eye(4)"
   ]
  },
  {
   "cell_type": "code",
   "execution_count": 90,
   "id": "3f22d9da-98ae-403a-855c-cc6da1b79a78",
   "metadata": {},
   "outputs": [
    {
     "name": "stdout",
     "output_type": "stream",
     "text": [
      "'eye' is a built-in function from the file libinterp/corefcn/data.cc\n",
      "\n",
      " -- eye (N)\n",
      " -- eye (M, N)\n",
      " -- eye ([M N])\n",
      " -- eye (..., CLASS)\n",
      "     Return an identity matrix.\n",
      "\n",
      "     If invoked with a single scalar argument N, return a square NxN\n",
      "     identity matrix.\n",
      "\n",
      "     If supplied two scalar arguments (M, N), 'eye' takes them to be the\n",
      "     number of rows and columns.  If given a vector with two elements,\n",
      "     'eye' uses the values of the elements as the number of rows and\n",
      "     columns, respectively.  For example:\n",
      "\n",
      "          eye (3)\n",
      "           =>  1  0  0\n",
      "               0  1  0\n",
      "               0  0  1\n",
      "\n",
      "     The following expressions all produce the same result:\n",
      "\n",
      "          eye (2)\n",
      "          ==\n",
      "          eye (2, 2)\n",
      "          ==\n",
      "          eye (size ([1, 2; 3, 4]))\n",
      "\n",
      "     The optional argument CLASS, allows 'eye' to return an array of the\n",
      "     specified type, like\n",
      "\n",
      "          val = zeros (n,m, \"uint8\")\n",
      "\n",
      "     Calling 'eye' with no arguments is equivalent to calling it with an\n",
      "     argument of 1.  Any negative dimensions are treated as zero.  These\n",
      "     odd definitions are for compatibility with MATLAB.\n",
      "\n",
      "     See also: speye, ones, zeros.\n",
      "\n",
      "Additional help for built-in functions and operators is\n",
      "available in the online version of the manual.  Use the command\n",
      "'doc <topic>' to search the manual index.\n",
      "\n",
      "Help and information about Octave is also available on the WWW\n",
      "at https://www.octave.org and via the help@octave.org\n",
      "mailing list.\n"
     ]
    }
   ],
   "source": [
    "help eye"
   ]
  },
  {
   "cell_type": "markdown",
   "id": "f9a6c1ab-a503-40a1-b924-2195ab7fe5f6",
   "metadata": {},
   "source": [
    "## 2. Moving Data Around"
   ]
  },
  {
   "cell_type": "code",
   "execution_count": 91,
   "id": "e620f067-b482-4333-99b1-01bb8714f8dc",
   "metadata": {},
   "outputs": [
    {
     "name": "stdout",
     "output_type": "stream",
     "text": [
      "A =\n",
      "\n",
      "   1   2\n",
      "   3   4\n",
      "   5   6\n",
      "\n"
     ]
    }
   ],
   "source": [
    "A = [1 2; 3 4; 5 6]"
   ]
  },
  {
   "cell_type": "code",
   "execution_count": 92,
   "id": "ffae4e07-6102-41b0-872c-aa5d83b8d3e7",
   "metadata": {},
   "outputs": [
    {
     "name": "stdout",
     "output_type": "stream",
     "text": [
      "ans =\n",
      "\n",
      "   3   2\n",
      "\n"
     ]
    }
   ],
   "source": [
    "% dimensions of A\n",
    "size(A)"
   ]
  },
  {
   "cell_type": "code",
   "execution_count": 93,
   "id": "3f7b34fd-975d-49ef-884b-55aa4c68b4a6",
   "metadata": {},
   "outputs": [
    {
     "name": "stdout",
     "output_type": "stream",
     "text": [
      "sz =\n",
      "\n",
      "   3   2\n",
      "\n"
     ]
    }
   ],
   "source": [
    "% We can store it as a variable\n",
    "sz = size(A)"
   ]
  },
  {
   "cell_type": "code",
   "execution_count": 94,
   "id": "5b2e0e09-5af7-4b3a-92fe-9dfd4d36683c",
   "metadata": {},
   "outputs": [
    {
     "name": "stdout",
     "output_type": "stream",
     "text": [
      "ans = 3\n"
     ]
    }
   ],
   "source": [
    "% rows\n",
    "size(A,1)"
   ]
  },
  {
   "cell_type": "code",
   "execution_count": 95,
   "id": "9e30b19a-a4a3-4623-bfd6-129e62c8f6c2",
   "metadata": {},
   "outputs": [
    {
     "name": "stdout",
     "output_type": "stream",
     "text": [
      "ans = 2\n"
     ]
    }
   ],
   "source": [
    "% columns\n",
    "size(A,2)"
   ]
  },
  {
   "cell_type": "code",
   "execution_count": 96,
   "id": "ff177800-aaea-415e-8947-a554a5ba1414",
   "metadata": {},
   "outputs": [
    {
     "name": "stdout",
     "output_type": "stream",
     "text": [
      "ans = 3\n"
     ]
    }
   ],
   "source": [
    "% longest dimension\n",
    "length(A)"
   ]
  },
  {
   "cell_type": "code",
   "execution_count": 97,
   "id": "db8bbcbf-8470-4a7d-a71f-37657b186615",
   "metadata": {},
   "outputs": [
    {
     "name": "stdout",
     "output_type": "stream",
     "text": [
      "ans = /Users/mxagar/nexo/git_repositories/machine_learning_coursera/01_LinearRegression\n"
     ]
    }
   ],
   "source": [
    "pwd"
   ]
  },
  {
   "cell_type": "code",
   "execution_count": 98,
   "id": "4036ce03-022f-42f0-b833-3b1307c8ec6d",
   "metadata": {},
   "outputs": [
    {
     "name": "stdout",
     "output_type": "stream",
     "text": [
      "01_0_LinearAlgebra.ipynb\tML_LinearRegression.md\n",
      "01_1_Octave_Tutorial.ipynb\tREADME.md\n",
      "ML_Coursera_Lecture1.pdf\tfeaturesX.dat\n",
      "ML_Coursera_Lecture2.pdf\tpics\n",
      "ML_Coursera_Lecture3.pdf\ttargetY.dat\n",
      "ML_Coursera_Lecture4.pdf\n"
     ]
    }
   ],
   "source": [
    "ls"
   ]
  },
  {
   "cell_type": "code",
   "execution_count": 99,
   "id": "5db4dbd1-bcc3-421b-94e0-aba9cfc1052b",
   "metadata": {},
   "outputs": [],
   "source": [
    "X = [ones(100,1),randn(100,2)];"
   ]
  },
  {
   "cell_type": "code",
   "execution_count": 100,
   "id": "a56fba65-0feb-466e-b558-896c54f35490",
   "metadata": {},
   "outputs": [],
   "source": [
    "y = randn(100,1);"
   ]
  },
  {
   "cell_type": "code",
   "execution_count": 101,
   "id": "87fbe508-8575-437a-a06d-f8549df2662e",
   "metadata": {},
   "outputs": [],
   "source": [
    "% help save"
   ]
  },
  {
   "cell_type": "code",
   "execution_count": 102,
   "id": "9cc59210-e53e-4b7c-bbee-85a55d8bb4fc",
   "metadata": {},
   "outputs": [],
   "source": [
    "% Save variable name + content in file\n",
    "% We can use any ending: .mat, .dat, etc.\n",
    "% Default: binary; for ASCII add: -ascii\n",
    "save featuresX.dat X"
   ]
  },
  {
   "cell_type": "code",
   "execution_count": 103,
   "id": "a8c2f8b4-3f51-4e88-a585-ec48f7d0edf2",
   "metadata": {},
   "outputs": [],
   "source": [
    "save targetY.dat y"
   ]
  },
  {
   "cell_type": "code",
   "execution_count": 104,
   "id": "556c2bc9-9a3c-4e6d-bdaa-d80c1328e12a",
   "metadata": {},
   "outputs": [],
   "source": [
    "% We delete their values\n",
    "X = 0;\n",
    "y = 0;"
   ]
  },
  {
   "cell_type": "code",
   "execution_count": 105,
   "id": "a34a6ffd-fe7c-4783-bcd6-10d2391de635",
   "metadata": {},
   "outputs": [
    {
     "name": "stdout",
     "output_type": "stream",
     "text": [
      "01_0_LinearAlgebra.ipynb\tML_LinearRegression.md\n",
      "01_1_Octave_Tutorial.ipynb\tREADME.md\n",
      "ML_Coursera_Lecture1.pdf\tfeaturesX.dat\n",
      "ML_Coursera_Lecture2.pdf\tpics\n",
      "ML_Coursera_Lecture3.pdf\ttargetY.dat\n",
      "ML_Coursera_Lecture4.pdf\n"
     ]
    }
   ],
   "source": [
    "% We have saved variables as files\n",
    "ls"
   ]
  },
  {
   "cell_type": "code",
   "execution_count": 106,
   "id": "0990fe55-cfd6-477c-90c3-f744a0c81762",
   "metadata": {},
   "outputs": [],
   "source": [
    "% We load files as variables\n",
    "load('featuresX.dat')"
   ]
  },
  {
   "cell_type": "code",
   "execution_count": 107,
   "id": "8a6d5bab-12cf-48a8-8f4a-becd842b3ed9",
   "metadata": {},
   "outputs": [
    {
     "name": "stdout",
     "output_type": "stream",
     "text": [
      "ans =\n",
      "\n",
      "   1.0000e+00  -3.1863e-01  -2.6531e+00\n",
      "   1.0000e+00   1.3809e+00   1.5638e+00\n",
      "   1.0000e+00   4.2286e-01  -1.9937e-03\n",
      "   1.0000e+00  -1.6579e+00   7.9344e-01\n",
      "   1.0000e+00   7.9553e-01   9.0422e-01\n",
      "\n"
     ]
    }
   ],
   "source": [
    "X(1:5,:)"
   ]
  },
  {
   "cell_type": "code",
   "execution_count": 108,
   "id": "74a78d13-f08e-4421-8d5e-3e00655c6d51",
   "metadata": {},
   "outputs": [],
   "source": [
    "load('targetY.dat')"
   ]
  },
  {
   "cell_type": "code",
   "execution_count": 109,
   "id": "b6deb9cb-698e-4a6f-a890-428dfb43975c",
   "metadata": {},
   "outputs": [
    {
     "name": "stdout",
     "output_type": "stream",
     "text": [
      "ans =\n",
      "\n",
      "  -0.052718\n",
      "  -0.942855\n",
      "   1.659311\n",
      "  -0.478934\n",
      "   0.364202\n",
      "\n"
     ]
    }
   ],
   "source": [
    "y(1:5,1)"
   ]
  },
  {
   "cell_type": "code",
   "execution_count": 110,
   "id": "69e90bda-8416-4a0d-ac36-66c3686db8a3",
   "metadata": {},
   "outputs": [
    {
     "name": "stdout",
     "output_type": "stream",
     "text": [
      "Variables visible from the current scope:\n",
      "\n",
      "A    C    X    a    ans  b    c    fig  sz   v    w    y\n",
      "\n"
     ]
    }
   ],
   "source": [
    "% Display all variables in my workspace\n",
    "who"
   ]
  },
  {
   "cell_type": "code",
   "execution_count": 111,
   "id": "c9430224-b43c-4458-9a69-adffb563b7a0",
   "metadata": {},
   "outputs": [
    {
     "name": "stdout",
     "output_type": "stream",
     "text": [
      "Variables visible from the current scope:\n",
      "\n",
      "variables in scope: top scope\n",
      "\n",
      "   Attr Name        Size                     Bytes  Class\n",
      "   ==== ====        ====                     =====  ===== \n",
      "        A           3x2                         48  double\n",
      "        C           2x3                         48  double\n",
      "        X         100x3                       2400  double\n",
      "        a           1x1                          8  double\n",
      "        ans         5x1                         40  double\n",
      "        b           1x1                          8  double\n",
      "        c           1x8                          8  char\n",
      "        fig         1x1                          8  double\n",
      "        sz          1x2                         16  double\n",
      "        v           1x11                        24  double\n",
      "        w           1x10000                  80000  double\n",
      "        y         100x1                        800  double\n",
      "\n",
      "Total is 10441 elements using 83408 bytes\n",
      "\n"
     ]
    }
   ],
   "source": [
    "% More complete who\n",
    "whos"
   ]
  },
  {
   "cell_type": "code",
   "execution_count": 112,
   "id": "996b8e74-aa39-4371-9a9f-5ade3e554f08",
   "metadata": {},
   "outputs": [],
   "source": [
    "% Delete a variable\n",
    "clear A"
   ]
  },
  {
   "cell_type": "code",
   "execution_count": 113,
   "id": "dff1ff11-1ded-4069-b02b-35642f90a347",
   "metadata": {},
   "outputs": [
    {
     "name": "stdout",
     "output_type": "stream",
     "text": [
      "error: 'A' undefined near line 1, column 1\n"
     ]
    }
   ],
   "source": [
    "A"
   ]
  },
  {
   "cell_type": "code",
   "execution_count": 114,
   "id": "7968017c-c069-43c6-88f7-b6ad957c831f",
   "metadata": {},
   "outputs": [
    {
     "name": "stdout",
     "output_type": "stream",
     "text": [
      "A =\n",
      "\n",
      "   1   2\n",
      "   3   4\n",
      "   5   6\n",
      "\n"
     ]
    }
   ],
   "source": [
    "A = [1 2; 3 4; 5 6]"
   ]
  },
  {
   "cell_type": "code",
   "execution_count": 115,
   "id": "279c7aee-2201-464d-bce5-29c879aac18e",
   "metadata": {},
   "outputs": [
    {
     "name": "stdout",
     "output_type": "stream",
     "text": [
      "ans = 6\n"
     ]
    }
   ],
   "source": [
    "% Element in row 3, col 2\n",
    "A(3,2)"
   ]
  },
  {
   "cell_type": "code",
   "execution_count": 116,
   "id": "80e82a70-f65e-4184-8219-a2c3da3dc8e9",
   "metadata": {},
   "outputs": [
    {
     "name": "stdout",
     "output_type": "stream",
     "text": [
      "ans =\n",
      "\n",
      "   3   4\n",
      "\n"
     ]
    }
   ],
   "source": [
    "% Complete row 2\n",
    "A(2,:)"
   ]
  },
  {
   "cell_type": "code",
   "execution_count": 117,
   "id": "1eed6bbd-14e2-44fd-acaf-b4fdb47e3c83",
   "metadata": {},
   "outputs": [
    {
     "name": "stdout",
     "output_type": "stream",
     "text": [
      "ans =\n",
      "\n",
      "   1   2\n",
      "   5   6\n",
      "\n"
     ]
    }
   ],
   "source": [
    "% All cols from rows 1 & 3\n",
    "A([1 3],:)"
   ]
  },
  {
   "cell_type": "code",
   "execution_count": 118,
   "id": "545b34fc-2406-4b50-90a2-03ee123290bc",
   "metadata": {},
   "outputs": [
    {
     "name": "stdout",
     "output_type": "stream",
     "text": [
      "A =\n",
      "\n",
      "   0   5\n",
      "   3   4\n",
      "  -1   3\n",
      "\n"
     ]
    }
   ],
   "source": [
    "% We can also assign\n",
    "A([1 3],:) = [0 5; -1 3]"
   ]
  },
  {
   "cell_type": "code",
   "execution_count": 119,
   "id": "0ac403db-6779-498e-83b9-9971f731d128",
   "metadata": {},
   "outputs": [
    {
     "name": "stdout",
     "output_type": "stream",
     "text": [
      "A =\n",
      "\n",
      "     0     5   100\n",
      "     3     4   101\n",
      "    -1     3   102\n",
      "\n"
     ]
    }
   ],
   "source": [
    "% Append cols/rows\n",
    "A = [A, [100, 101, 102]']"
   ]
  },
  {
   "cell_type": "code",
   "execution_count": 120,
   "id": "3c5a7e54-36f3-4573-b5bf-5903533be780",
   "metadata": {},
   "outputs": [
    {
     "name": "stdout",
     "output_type": "stream",
     "text": [
      "A =\n",
      "\n",
      "     0     5   100   200\n",
      "     3     4   101   201\n",
      "    -1     3   102   202\n",
      "\n"
     ]
    }
   ],
   "source": [
    "A = [A, [200; 201; 202]]"
   ]
  },
  {
   "cell_type": "code",
   "execution_count": 122,
   "id": "f2c172b8-f0d2-4609-a4d3-c2178ae6e4cf",
   "metadata": {},
   "outputs": [
    {
     "name": "stdout",
     "output_type": "stream",
     "text": [
      "ans =\n",
      "\n",
      "     0\n",
      "     3\n",
      "    -1\n",
      "     5\n",
      "     4\n",
      "     3\n",
      "   100\n",
      "   101\n",
      "   102\n",
      "   200\n",
      "   201\n",
      "   202\n",
      "\n"
     ]
    }
   ],
   "source": [
    "% Get all elements of a matrix concatenated in a column vector\n",
    "% Column-major\n",
    "A(:)"
   ]
  },
  {
   "cell_type": "code",
   "execution_count": 123,
   "id": "3230e8f5-fa01-4744-8a37-07b8770bf747",
   "metadata": {},
   "outputs": [
    {
     "name": "stdout",
     "output_type": "stream",
     "text": [
      "B =\n",
      "\n",
      "   1   2\n",
      "   3   4\n",
      "   5   6\n",
      "\n"
     ]
    }
   ],
   "source": [
    "B = [1, 2; 3, 4; 5, 6]"
   ]
  },
  {
   "cell_type": "code",
   "execution_count": 128,
   "id": "fac548e2-ba97-4c7b-84ff-c90aa3666eca",
   "metadata": {},
   "outputs": [
    {
     "name": "stdout",
     "output_type": "stream",
     "text": [
      "C =\n",
      "\n",
      "     0     5   100   200     1     2\n",
      "     3     4   101   201     3     4\n",
      "    -1     3   102   202     5     6\n",
      "\n"
     ]
    }
   ],
   "source": [
    "% We can concatenate matrices\n",
    "C = [A, B]"
   ]
  },
  {
   "cell_type": "code",
   "execution_count": 129,
   "id": "3a6a1222-b47f-4dd1-9214-9b13729c364f",
   "metadata": {},
   "outputs": [
    {
     "name": "stdout",
     "output_type": "stream",
     "text": [
      "D =\n",
      "\n",
      "   10   11   12   13   14   15\n",
      "\n"
     ]
    }
   ],
   "source": [
    "D = [10, 11, 12, 13, 14, 15]"
   ]
  },
  {
   "cell_type": "code",
   "execution_count": 130,
   "id": "531d21b5-5fee-4c86-845c-341edfb97e89",
   "metadata": {},
   "outputs": [
    {
     "name": "stdout",
     "output_type": "stream",
     "text": [
      "E =\n",
      "\n",
      "     0     5   100   200     1     2\n",
      "     3     4   101   201     3     4\n",
      "    -1     3   102   202     5     6\n",
      "    10    11    12    13    14    15\n",
      "\n"
     ]
    }
   ],
   "source": [
    "E = [C; D]"
   ]
  },
  {
   "cell_type": "markdown",
   "id": "eb1b26ff-ed28-4441-91c9-df1a091eb5dc",
   "metadata": {},
   "source": [
    "## 3. Computing on Data"
   ]
  },
  {
   "cell_type": "code",
   "execution_count": 131,
   "id": "23fd5580-497a-41b2-99d1-57d2c5fdd7c0",
   "metadata": {},
   "outputs": [
    {
     "name": "stdout",
     "output_type": "stream",
     "text": [
      "A =\n",
      "\n",
      "   1   2\n",
      "   3   4\n",
      "   5   6\n",
      "\n",
      "B =\n",
      "\n",
      "   11   12\n",
      "   12   14\n",
      "   15   16\n",
      "\n",
      "C =\n",
      "\n",
      "   1   1\n",
      "   2   2\n",
      "\n"
     ]
    }
   ],
   "source": [
    "A = [1, 2; 3, 4; 5, 6]\n",
    "B = [11, 12; 12, 14; 15, 16]\n",
    "C = [1, 1; 2, 2]"
   ]
  },
  {
   "cell_type": "code",
   "execution_count": 133,
   "id": "e75594ac-101e-44b5-a3d4-8774edb3d4a0",
   "metadata": {},
   "outputs": [
    {
     "name": "stdout",
     "output_type": "stream",
     "text": [
      "ans =\n",
      "\n",
      "    5    5\n",
      "   11   11\n",
      "   17   17\n",
      "\n"
     ]
    }
   ],
   "source": [
    "% Matrix multiplication\n",
    "A*C"
   ]
  },
  {
   "cell_type": "code",
   "execution_count": 134,
   "id": "ed32a036-5b90-4642-80d5-f0ccaa94ab36",
   "metadata": {},
   "outputs": [
    {
     "name": "stdout",
     "output_type": "stream",
     "text": [
      "ans =\n",
      "\n",
      "   11   24\n",
      "   36   56\n",
      "   75   96\n",
      "\n"
     ]
    }
   ],
   "source": [
    "% Element-wise operations with .\n",
    "A.*B"
   ]
  },
  {
   "cell_type": "code",
   "execution_count": 135,
   "id": "1efd3b56-4ac6-4d1c-9c73-09b4c345143d",
   "metadata": {},
   "outputs": [
    {
     "name": "stdout",
     "output_type": "stream",
     "text": [
      "ans =\n",
      "\n",
      "    1    4\n",
      "    9   16\n",
      "   25   36\n",
      "\n"
     ]
    }
   ],
   "source": [
    "A.^2"
   ]
  },
  {
   "cell_type": "code",
   "execution_count": 136,
   "id": "0dbfe6b2-15b6-4f93-8a9e-852537478a57",
   "metadata": {},
   "outputs": [
    {
     "name": "stdout",
     "output_type": "stream",
     "text": [
      "v =\n",
      "\n",
      "   1   2   3\n",
      "\n"
     ]
    }
   ],
   "source": [
    "v = [1, 2, 3]"
   ]
  },
  {
   "cell_type": "code",
   "execution_count": 137,
   "id": "27b1af5b-f90e-405d-8cd3-e33668c4028f",
   "metadata": {},
   "outputs": [
    {
     "name": "stdout",
     "output_type": "stream",
     "text": [
      "ans =\n",
      "\n",
      "   1.0000   0.5000   0.3333\n",
      "\n"
     ]
    }
   ],
   "source": [
    "1./v"
   ]
  },
  {
   "cell_type": "code",
   "execution_count": 139,
   "id": "ca799d8c-037f-43cb-80d9-af916878077d",
   "metadata": {},
   "outputs": [
    {
     "name": "stdout",
     "output_type": "stream",
     "text": [
      "ans =\n",
      "\n",
      "        0   0.6931\n",
      "   1.0986   1.3863\n",
      "   1.6094   1.7918\n",
      "\n"
     ]
    }
   ],
   "source": [
    "% Element-wise applied functions\n",
    "log(A)"
   ]
  },
  {
   "cell_type": "code",
   "execution_count": 140,
   "id": "6cea0b1b-0105-48e3-a39c-6b9a2ad0a70c",
   "metadata": {},
   "outputs": [
    {
     "name": "stdout",
     "output_type": "stream",
     "text": [
      "ans =\n",
      "\n",
      "   1   2\n",
      "   3   4\n",
      "   5   6\n",
      "\n"
     ]
    }
   ],
   "source": [
    "abs(A)"
   ]
  },
  {
   "cell_type": "code",
   "execution_count": 141,
   "id": "ff4c9ba0-d918-41c9-bb82-4126f76fa892",
   "metadata": {},
   "outputs": [
    {
     "name": "stdout",
     "output_type": "stream",
     "text": [
      "ans =\n",
      "\n",
      "  -1  -2\n",
      "  -3  -4\n",
      "  -5  -6\n",
      "\n"
     ]
    }
   ],
   "source": [
    "-A"
   ]
  },
  {
   "cell_type": "code",
   "execution_count": 142,
   "id": "f2ab2d59-dcad-4f0e-a428-360a098c98dc",
   "metadata": {},
   "outputs": [
    {
     "name": "stdout",
     "output_type": "stream",
     "text": [
      "ans =\n",
      "\n",
      "   2   3\n",
      "   4   5\n",
      "   6   7\n",
      "\n"
     ]
    }
   ],
   "source": [
    "% Add one unit to each element\n",
    "A + ones(size(A))"
   ]
  },
  {
   "cell_type": "code",
   "execution_count": 143,
   "id": "2dd15e09-651d-4fd5-91ac-b9bb710530f4",
   "metadata": {},
   "outputs": [
    {
     "name": "stdout",
     "output_type": "stream",
     "text": [
      "ans =\n",
      "\n",
      "   2   3   4\n",
      "\n"
     ]
    }
   ],
   "source": [
    "v + ones(1,length(v))"
   ]
  },
  {
   "cell_type": "code",
   "execution_count": 144,
   "id": "61d5bb48-e867-49e9-8067-93d685f4f2d6",
   "metadata": {},
   "outputs": [
    {
     "name": "stdout",
     "output_type": "stream",
     "text": [
      "ans =\n",
      "\n",
      "   1   3\n",
      "\n"
     ]
    }
   ],
   "source": [
    "size(v)"
   ]
  },
  {
   "cell_type": "code",
   "execution_count": 145,
   "id": "2584b31f-fb60-4db4-943f-ffc3fc43af86",
   "metadata": {},
   "outputs": [
    {
     "name": "stdout",
     "output_type": "stream",
     "text": [
      "ans =\n",
      "\n",
      "   2   3   4\n",
      "\n"
     ]
    }
   ],
   "source": [
    "% But, if a scalar is added, it's element-wise!\n",
    "v + 1"
   ]
  },
  {
   "cell_type": "code",
   "execution_count": 146,
   "id": "da3bcf0c-c6e0-44f1-a51b-edbff11b73ea",
   "metadata": {},
   "outputs": [
    {
     "name": "stdout",
     "output_type": "stream",
     "text": [
      "ans =\n",
      "\n",
      "   1   3   5\n",
      "   2   4   6\n",
      "\n"
     ]
    }
   ],
   "source": [
    "% Transpose\n",
    "A'"
   ]
  },
  {
   "cell_type": "code",
   "execution_count": 147,
   "id": "6d053dbb-a1d6-4a5e-834f-80ec7c6848c7",
   "metadata": {},
   "outputs": [
    {
     "name": "stdout",
     "output_type": "stream",
     "text": [
      "ans =\n",
      "\n",
      "   1   2\n",
      "   3   4\n",
      "   5   6\n",
      "\n"
     ]
    }
   ],
   "source": [
    "(A')'"
   ]
  },
  {
   "cell_type": "code",
   "execution_count": 148,
   "id": "5b25b4a1-a9a0-4ce0-8160-68cf4463ae50",
   "metadata": {},
   "outputs": [
    {
     "name": "stdout",
     "output_type": "stream",
     "text": [
      "a =\n",
      "\n",
      "    1.0000   15.0000    2.0000    0.5000\n",
      "\n"
     ]
    }
   ],
   "source": [
    "a = [1 15 2 0.5]"
   ]
  },
  {
   "cell_type": "code",
   "execution_count": 149,
   "id": "5e208453-46b7-458c-9660-542d96e2b688",
   "metadata": {},
   "outputs": [
    {
     "name": "stdout",
     "output_type": "stream",
     "text": [
      "ans = 15\n"
     ]
    }
   ],
   "source": [
    "max(a)"
   ]
  },
  {
   "cell_type": "code",
   "execution_count": 151,
   "id": "3cf16a60-47ee-4dde-9841-36b0bcb2f383",
   "metadata": {},
   "outputs": [
    {
     "name": "stdout",
     "output_type": "stream",
     "text": [
      "val = 15\n",
      "ind = 2\n"
     ]
    }
   ],
   "source": [
    "% Value and index\n",
    "[val ind] = max(a)"
   ]
  },
  {
   "cell_type": "code",
   "execution_count": 152,
   "id": "373f7b35-5218-4c0b-964b-4935af8d87fa",
   "metadata": {},
   "outputs": [
    {
     "name": "stdout",
     "output_type": "stream",
     "text": [
      "ans =\n",
      "\n",
      "  1  0  1  1\n",
      "\n"
     ]
    }
   ],
   "source": [
    "% Element-wise comparison\n",
    "a < 3"
   ]
  },
  {
   "cell_type": "code",
   "execution_count": 154,
   "id": "d6920f90-03c1-4053-975b-64668f105e57",
   "metadata": {},
   "outputs": [
    {
     "name": "stdout",
     "output_type": "stream",
     "text": [
      "ans =\n",
      "\n",
      "   1   3   4\n",
      "\n"
     ]
    }
   ],
   "source": [
    "% Indices of a which contain values < 3\n",
    "find(a < 3)"
   ]
  },
  {
   "cell_type": "code",
   "execution_count": 156,
   "id": "f37b69b9-18b0-43c1-b03f-51c4d5249612",
   "metadata": {},
   "outputs": [
    {
     "name": "stdout",
     "output_type": "stream",
     "text": [
      "A =\n",
      "\n",
      "   8   1   6\n",
      "   3   5   7\n",
      "   4   9   2\n",
      "\n"
     ]
    }
   ],
   "source": [
    "% All rows and cols sum up the same value\n",
    "% Not really useful in ML\n",
    "A = magic(3)"
   ]
  },
  {
   "cell_type": "code",
   "execution_count": 161,
   "id": "59cc5010-4009-4cbf-922e-f5fa3b39df5a",
   "metadata": {},
   "outputs": [
    {
     "name": "stdout",
     "output_type": "stream",
     "text": [
      "r =\n",
      "\n",
      "   1\n",
      "   3\n",
      "   2\n",
      "\n",
      "c =\n",
      "\n",
      "   1\n",
      "   2\n",
      "   3\n",
      "\n"
     ]
    }
   ],
   "source": [
    "% Row & Column coordinates of all values in A which are >= 7\n",
    "% We have 3 values -> 3 r&c pairs\n",
    "[r,c] = find(A >= 7)"
   ]
  },
  {
   "cell_type": "code",
   "execution_count": 162,
   "id": "aafd0fd8-8da3-47e3-8791-c8a7f8115916",
   "metadata": {},
   "outputs": [
    {
     "name": "stdout",
     "output_type": "stream",
     "text": [
      "a =\n",
      "\n",
      "    1.0000   15.0000    2.0000    0.5000\n",
      "\n"
     ]
    }
   ],
   "source": [
    "a"
   ]
  },
  {
   "cell_type": "code",
   "execution_count": 158,
   "id": "e7d4657c-4ffe-4203-9668-5aa0ac2ca436",
   "metadata": {},
   "outputs": [
    {
     "name": "stdout",
     "output_type": "stream",
     "text": [
      "ans = 18.500\n"
     ]
    }
   ],
   "source": [
    "sum(a)"
   ]
  },
  {
   "cell_type": "code",
   "execution_count": 159,
   "id": "9d8b7789-ec5d-4fe8-918e-e568aa85f67b",
   "metadata": {},
   "outputs": [
    {
     "name": "stdout",
     "output_type": "stream",
     "text": [
      "ans = 15\n"
     ]
    }
   ],
   "source": [
    "prod(a)"
   ]
  },
  {
   "cell_type": "code",
   "execution_count": 160,
   "id": "8176e8a5-58fd-428a-bf65-e98e612d65b5",
   "metadata": {},
   "outputs": [
    {
     "name": "stdout",
     "output_type": "stream",
     "text": [
      "ans =\n",
      "\n",
      "    1   15    2    0\n",
      "\n"
     ]
    }
   ],
   "source": [
    "floor(a)"
   ]
  },
  {
   "cell_type": "code",
   "execution_count": 165,
   "id": "f4cb626e-4cc6-4f26-a5a4-374e4bb26479",
   "metadata": {},
   "outputs": [
    {
     "name": "stdout",
     "output_type": "stream",
     "text": [
      "ans =\n",
      "\n",
      "    1   15    2    1\n",
      "\n"
     ]
    }
   ],
   "source": [
    "ceil(a)"
   ]
  },
  {
   "cell_type": "code",
   "execution_count": 166,
   "id": "c5bb535d-a13b-4094-b0ad-1df3e6e63c1a",
   "metadata": {},
   "outputs": [
    {
     "name": "stdout",
     "output_type": "stream",
     "text": [
      "ans =\n",
      "\n",
      "   0.601091   0.529724   0.730543\n",
      "   0.461301   0.534362   0.486191\n",
      "   0.210523   0.710643   0.072373\n",
      "\n"
     ]
    }
   ],
   "source": [
    "rand(3)"
   ]
  },
  {
   "cell_type": "code",
   "execution_count": 169,
   "id": "5364b81b-0aaa-4114-9d60-5be61fbe652f",
   "metadata": {},
   "outputs": [
    {
     "name": "stdout",
     "output_type": "stream",
     "text": [
      "ans =\n",
      "\n",
      "   0.8424   0.6100   0.6254\n",
      "   0.6328   0.5087   0.7206\n",
      "   0.5443   0.5144   0.6765\n",
      "\n"
     ]
    }
   ],
   "source": [
    "% Element-wise max of two randomly generated matrices\n",
    "max(rand(3),rand(3))"
   ]
  },
  {
   "cell_type": "code",
   "execution_count": 170,
   "id": "25715245-cfd0-4c1a-afad-620c5d32f25b",
   "metadata": {},
   "outputs": [
    {
     "name": "stdout",
     "output_type": "stream",
     "text": [
      "A =\n",
      "\n",
      "   8   1   6\n",
      "   3   5   7\n",
      "   4   9   2\n",
      "\n"
     ]
    }
   ],
   "source": [
    "A"
   ]
  },
  {
   "cell_type": "code",
   "execution_count": 171,
   "id": "abf04364-ce7a-4271-bda0-7b00a7e83664",
   "metadata": {},
   "outputs": [
    {
     "name": "stdout",
     "output_type": "stream",
     "text": [
      "ans =\n",
      "\n",
      "   8   9   7\n",
      "\n"
     ]
    }
   ],
   "source": [
    "% Maximum in each column\n",
    "max(A,[],1)"
   ]
  },
  {
   "cell_type": "code",
   "execution_count": 172,
   "id": "fd7c4522-7db4-45f1-95bc-9efd7ee1b4b5",
   "metadata": {},
   "outputs": [
    {
     "name": "stdout",
     "output_type": "stream",
     "text": [
      "ans =\n",
      "\n",
      "   8\n",
      "   7\n",
      "   9\n",
      "\n"
     ]
    }
   ],
   "source": [
    "% Maximum in each row\n",
    "max(A,[],2)"
   ]
  },
  {
   "cell_type": "code",
   "execution_count": null,
   "id": "634e7dd8-acd9-4b46-9d1c-eaa00c2eb729",
   "metadata": {},
   "outputs": [],
   "source": []
  }
 ],
 "metadata": {
  "kernelspec": {
   "display_name": "Octave",
   "language": "octave",
   "name": "octave"
  },
  "language_info": {
   "file_extension": ".m",
   "help_links": [
    {
     "text": "GNU Octave",
     "url": "https://www.gnu.org/software/octave/support.html"
    },
    {
     "text": "Octave Kernel",
     "url": "https://github.com/Calysto/octave_kernel"
    },
    {
     "text": "MetaKernel Magics",
     "url": "https://metakernel.readthedocs.io/en/latest/source/README.html"
    }
   ],
   "mimetype": "text/x-octave",
   "name": "octave",
   "version": "6.3.0"
  }
 },
 "nbformat": 4,
 "nbformat_minor": 5
}
