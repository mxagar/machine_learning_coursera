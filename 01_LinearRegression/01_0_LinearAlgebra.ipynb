{
 "cells": [
  {
   "cell_type": "markdown",
   "id": "4e02495e-1cbf-435f-b086-d0d8e01da360",
   "metadata": {},
   "source": [
    "# Linear Algebra"
   ]
  },
  {
   "cell_type": "markdown",
   "id": "297d0029-f5a6-44dc-8374-4bca8945c8bf",
   "metadata": {},
   "source": [
    "This notebook uses the Octave kernel, which can be installed with\n",
    "\n",
    "```bash\n",
    "brew install octave\n",
    "conda config --add channels conda-forge\n",
    "conda install -c conda-forge octave_kernel\n",
    "# shift-tab doc\n",
    "conda install texinfo\n",
    "```\n",
    "\n",
    "The lines collected in this notebook were taken from the Coursera lecture. I hav enot added almost any comments, since it is very basic high school algebra.\n",
    "\n",
    "Overview of contents:\n",
    "1. Matrices and Vectors\n",
    "2. Addition and Scalar Multiplication\n",
    "3. Matrix Vector Multiplication\n",
    "4. Matrix Matrix Multiplication\n",
    "5. Matrix Multiplication Properties\n",
    "6. Inverse and Transpose"
   ]
  },
  {
   "cell_type": "markdown",
   "id": "e86709aa-bad6-4afe-8ae7-f12d159adf94",
   "metadata": {},
   "source": [
    "## 1. Matrices and Vectors"
   ]
  },
  {
   "cell_type": "code",
   "execution_count": 1,
   "id": "d2f395ab-da46-4898-a1dd-5a6c2a61273d",
   "metadata": {},
   "outputs": [
    {
     "name": "stdout",
     "output_type": "stream",
     "text": [
      "A =\n",
      "\n",
      "    1    2    3\n",
      "    4    5    6\n",
      "    7    8    9\n",
      "   10   11   12\n",
      "\n",
      "v =\n",
      "\n",
      "   1\n",
      "   2\n",
      "   3\n",
      "\n",
      "m = 4\n",
      "n = 3\n",
      "dim_A =\n",
      "\n",
      "   4   3\n",
      "\n",
      "dim_v =\n",
      "\n",
      "   3   1\n",
      "\n",
      "A_23 = 6\n"
     ]
    }
   ],
   "source": [
    "% The ; denotes we are going back to a new row.\n",
    "A = [1, 2, 3; 4, 5, 6; 7, 8, 9; 10, 11, 12]\n",
    "\n",
    "% Initialize a vector \n",
    "v = [1;2;3] \n",
    "\n",
    "% Get the dimension of the matrix A where m = rows and n = columns\n",
    "[m,n] = size(A)\n",
    "\n",
    "% You could also store it this way\n",
    "dim_A = size(A)\n",
    "\n",
    "% Get the dimension of the vector v \n",
    "dim_v = size(v)\n",
    "\n",
    "% Now let's index into the 2nd row 3rd column of matrix A\n",
    "A_23 = A(2,3)"
   ]
  },
  {
   "cell_type": "markdown",
   "id": "bc5eb459-27f6-4c70-8782-ca8d7d6c740b",
   "metadata": {},
   "source": [
    "## 2. Addition and Scalar Multiplication"
   ]
  },
  {
   "cell_type": "code",
   "execution_count": 5,
   "id": "58ff2019-85bb-41ae-b696-7ee9eaf30617",
   "metadata": {},
   "outputs": [
    {
     "name": "stdout",
     "output_type": "stream",
     "text": [
      "A =\n",
      "\n",
      "   1   2   4\n",
      "   5   3   2\n",
      "\n",
      "B =\n",
      "\n",
      "   1   3   4\n",
      "   1   1   1\n",
      "\n",
      "s = 2\n",
      "add_AB =\n",
      "\n",
      "   2   5   8\n",
      "   6   4   3\n",
      "\n",
      "sub_AB =\n",
      "\n",
      "   0  -1   0\n",
      "   4   2   1\n",
      "\n",
      "mult_As =\n",
      "\n",
      "    2    4    8\n",
      "   10    6    4\n",
      "\n",
      "div_As =\n",
      "\n",
      "   0.5000   1.0000   2.0000\n",
      "   2.5000   1.5000   1.0000\n",
      "\n",
      "add_As =\n",
      "\n",
      "   3   4   6\n",
      "   7   5   4\n",
      "\n"
     ]
    }
   ],
   "source": [
    "% Initialize matrix A and B \n",
    "A = [1, 2, 4; 5, 3, 2]\n",
    "B = [1, 3, 4; 1, 1, 1]\n",
    "\n",
    "% Initialize constant s \n",
    "s = 2\n",
    "\n",
    "% See how element-wise addition works\n",
    "add_AB = A + B \n",
    "\n",
    "% See how element-wise subtraction works\n",
    "sub_AB = A - B\n",
    "\n",
    "% See how scalar multiplication works\n",
    "mult_As = A * s\n",
    "\n",
    "% Divide A by s\n",
    "div_As = A / s\n",
    "\n",
    "% What happens if we have a Matrix + scalar?\n",
    "add_As = A + s"
   ]
  },
  {
   "cell_type": "markdown",
   "id": "d0c05ac5-092b-4e26-bf43-bae713509983",
   "metadata": {},
   "source": [
    "## 3. Matrix Vector Multiplication"
   ]
  },
  {
   "cell_type": "code",
   "execution_count": 7,
   "id": "7e078058-ffa7-4c81-a045-7033a3eddcd9",
   "metadata": {},
   "outputs": [
    {
     "name": "stdout",
     "output_type": "stream",
     "text": [
      "A =\n",
      "\n",
      "   1   2   3\n",
      "   4   5   6\n",
      "   7   8   9\n",
      "\n",
      "v =\n",
      "\n",
      "   1\n",
      "   1\n",
      "   1\n",
      "\n",
      "Av =\n",
      "\n",
      "    6\n",
      "   15\n",
      "   24\n",
      "\n"
     ]
    }
   ],
   "source": [
    "% Initialize matrix A \n",
    "A = [1, 2, 3; 4, 5, 6;7, 8, 9] \n",
    "\n",
    "% Initialize vector v \n",
    "v = [1; 1; 1] \n",
    "\n",
    "% Multiply A * v\n",
    "Av = A * v"
   ]
  },
  {
   "cell_type": "markdown",
   "id": "a73f5499-b8ed-4d5b-896e-b62cd63258cd",
   "metadata": {},
   "source": [
    "## 4. Matrix Matrix Multiplication"
   ]
  },
  {
   "cell_type": "code",
   "execution_count": 8,
   "id": "ddd07fb5-d6fd-4168-b8ba-4da63f3489ce",
   "metadata": {},
   "outputs": [
    {
     "name": "stdout",
     "output_type": "stream",
     "text": [
      "A =\n",
      "\n",
      "   1   2\n",
      "   3   4\n",
      "   5   6\n",
      "\n",
      "B =\n",
      "\n",
      "   1\n",
      "   2\n",
      "\n",
      "mult_AB =\n",
      "\n",
      "    5\n",
      "   11\n",
      "   17\n",
      "\n"
     ]
    }
   ],
   "source": [
    "% Initialize a 3 by 2 matrix \n",
    "A = [1, 2; 3, 4;5, 6]\n",
    "\n",
    "% Initialize a 2 by 1 matrix \n",
    "B = [1; 2] \n",
    "\n",
    "% We expect a resulting matrix of (3 by 2)*(2 by 1) = (3 by 1) \n",
    "mult_AB = A*B\n",
    "\n",
    "% Make sure you understand why we got that result"
   ]
  },
  {
   "cell_type": "markdown",
   "id": "39eeb516-c27d-43ba-97b9-1b5efd73289f",
   "metadata": {},
   "source": [
    "## 5. Matrix Multiplication Properties"
   ]
  },
  {
   "cell_type": "code",
   "execution_count": 9,
   "id": "caf81b5b-c7d7-4487-8df8-9fcfa4fb6ca4",
   "metadata": {},
   "outputs": [
    {
     "name": "stdout",
     "output_type": "stream",
     "text": [
      "A =\n",
      "\n",
      "   1   2\n",
      "   4   5\n",
      "\n",
      "B =\n",
      "\n",
      "   1   1\n",
      "   0   2\n",
      "\n",
      "I =\n",
      "\n",
      "Diagonal Matrix\n",
      "\n",
      "   1   0\n",
      "   0   1\n",
      "\n",
      "IA =\n",
      "\n",
      "   1   2\n",
      "   4   5\n",
      "\n",
      "AI =\n",
      "\n",
      "   1   2\n",
      "   4   5\n",
      "\n",
      "AB =\n",
      "\n",
      "    1    5\n",
      "    4   14\n",
      "\n",
      "BA =\n",
      "\n",
      "    5    7\n",
      "    8   10\n",
      "\n"
     ]
    }
   ],
   "source": [
    "% Initialize random matrices A and B \n",
    "A = [1,2;4,5]\n",
    "B = [1,1;0,2]\n",
    "\n",
    "% Initialize a 2 by 2 identity matrix\n",
    "I = eye(2)\n",
    "\n",
    "% The above notation is the same as I = [1,0;0,1]\n",
    "\n",
    "% What happens when we multiply I*A ? \n",
    "IA = I*A \n",
    "\n",
    "% How about A*I ? \n",
    "AI = A*I \n",
    "\n",
    "% Compute A*B \n",
    "AB = A*B \n",
    "\n",
    "% Is it equal to B*A? \n",
    "BA = B*A \n",
    "\n",
    "% Note that IA = AI but AB != BA"
   ]
  },
  {
   "cell_type": "markdown",
   "id": "60286f01-0770-4e5d-a770-c74a76c269e4",
   "metadata": {},
   "source": [
    "## 6. Inverse and Transpose"
   ]
  },
  {
   "cell_type": "code",
   "execution_count": 10,
   "id": "dd280361-5673-4a2e-9ab5-fc183556f6e5",
   "metadata": {},
   "outputs": [
    {
     "name": "stdout",
     "output_type": "stream",
     "text": [
      "A =\n",
      "\n",
      "   1   2   0\n",
      "   0   5   6\n",
      "   7   0   9\n",
      "\n",
      "A_trans =\n",
      "\n",
      "   1   0   7\n",
      "   2   5   0\n",
      "   0   6   9\n",
      "\n",
      "A_inv =\n",
      "\n",
      "   0.348837  -0.139535   0.093023\n",
      "   0.325581   0.069767  -0.046512\n",
      "  -0.271318   0.108527   0.038760\n",
      "\n",
      "A_invA =\n",
      "\n",
      "   1.0000e+00  -8.3267e-17   5.5511e-17\n",
      "   2.7756e-17   1.0000e+00  -2.7756e-17\n",
      "  -3.4694e-17   2.7756e-17   1.0000e+00\n",
      "\n"
     ]
    }
   ],
   "source": [
    "% Initialize matrix A \n",
    "A = [1,2,0;0,5,6;7,0,9]\n",
    "\n",
    "% Transpose A \n",
    "A_trans = A' \n",
    "\n",
    "% Take the inverse of A \n",
    "A_inv = inv(A)\n",
    "\n",
    "% What is A^(-1)*A? \n",
    "A_invA = inv(A)*A"
   ]
  },
  {
   "cell_type": "code",
   "execution_count": null,
   "id": "c627a343-c5c9-4908-bae3-85a8807a0589",
   "metadata": {},
   "outputs": [],
   "source": []
  }
 ],
 "metadata": {
  "kernelspec": {
   "display_name": "Octave",
   "language": "octave",
   "name": "octave"
  },
  "language_info": {
   "file_extension": ".m",
   "help_links": [
    {
     "text": "GNU Octave",
     "url": "https://www.gnu.org/software/octave/support.html"
    },
    {
     "text": "Octave Kernel",
     "url": "https://github.com/Calysto/octave_kernel"
    },
    {
     "text": "MetaKernel Magics",
     "url": "https://metakernel.readthedocs.io/en/latest/source/README.html"
    }
   ],
   "mimetype": "text/x-octave",
   "name": "octave",
   "version": "6.3.0"
  }
 },
 "nbformat": 4,
 "nbformat_minor": 5
}
